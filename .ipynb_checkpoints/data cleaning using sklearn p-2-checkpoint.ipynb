{
 "cells": [
  {
   "cell_type": "markdown",
   "id": "b30338fc",
   "metadata": {},
   "source": [
    "# in this notebook we will clean the house prediction dataset"
   ]
  },
  {
   "cell_type": "markdown",
   "id": "a0f21964",
   "metadata": {},
   "source": [
    "## and we will fill mean ,median,global constant simultaneously using pipeline\n",
    "<ul>\n",
    "    <li><b>STEPS OF THIS METHOD </b> </li>\n",
    "    <li>first create Pipeline object</li>\n",
    "    <p>syntex:- Pipeline(steps=[('name',strategy')])</p>\n",
    "    <li>object=ColumnTransformer(transformers=[('name',object of Pipeline,column name)],remainder='drop' or 'passthrough' )</li>\n",
    "    <li>ColumnTransformer object.fit(dataframe)</li>\n",
    "    <li>obj of ColumnTransformer.transform</li>\n",
    "    <p>for identifieng what strategy is applieng here</p>\n",
    "    <li>objof_ColumnTransformer.named_transformers_['mean_imputer'].named_steps['imputer'].statistics_</li>\n",
    "    <p>for know about what value is putting in my these columns</p>\n",
    "    <li>objct.transform(dataframe)</li>\n",
    "    <li>object.transformers_</li>\n",
    "    <p> for know about deply what stategy applied on what columns</p>\n",
    "    <li>create ,concate or update dataframe with the help of ndarray of transform<li>\n",
    "    </ul>\n",
    "    \n",
    "    \n",
    "    \n",
    "    \n",
    "    "
   ]
  },
  {
   "cell_type": "code",
   "execution_count": 1,
   "id": "805f6298",
   "metadata": {},
   "outputs": [
    {
     "name": "stdout",
     "output_type": "stream",
     "text": [
      "libraries has imported\n"
     ]
    }
   ],
   "source": [
    "import numpy as np\n",
    "import pandas as pd\n",
    "from sklearn.impute import SimpleImputer\n",
    "from sklearn.compose import ColumnTransformer\n",
    "from sklearn.pipeline import Pipeline \n",
    "print('libraries has imported')"
   ]
  },
  {
   "cell_type": "code",
   "execution_count": 29,
   "id": "723a4a82",
   "metadata": {},
   "outputs": [],
   "source": [
    "train=pd.read_csv('train.csv')\n",
    "test=pd.read_csv('test.csv')"
   ]
  },
  {
   "cell_type": "code",
   "execution_count": 30,
   "id": "2955b283",
   "metadata": {},
   "outputs": [
    {
     "name": "stdout",
     "output_type": "stream",
     "text": [
      "shape of the train:-  (1460, 81)\n",
      "shape of the test:- (1459, 80)\n"
     ]
    }
   ],
   "source": [
    "print('shape of the train:- ',train.shape)\n",
    "print('shape of the test:-',test.shape)"
   ]
  },
  {
   "cell_type": "markdown",
   "id": "9ae4aeb3",
   "metadata": {},
   "source": [
    "## remove the salesprice target variable from the train dataset\n",
    "### and create the x_train,y_train,x_test dataset"
   ]
  },
  {
   "cell_type": "code",
   "execution_count": 31,
   "id": "830ac0a0",
   "metadata": {},
   "outputs": [],
   "source": [
    "x_train=train.drop(columns='SalePrice')\n",
    "y_train=train['SalePrice']\n",
    "x_test=test.copy()"
   ]
  },
  {
   "cell_type": "code",
   "execution_count": 32,
   "id": "12f68a7b",
   "metadata": {},
   "outputs": [
    {
     "name": "stdout",
     "output_type": "stream",
     "text": [
      "shape of the x_train :- (1460, 80)\n",
      "shape of the y_train :- (1460,)\n",
      "shape of the test :- (1459, 80)\n"
     ]
    }
   ],
   "source": [
    "print('shape of the x_train :-',x_train.shape)\n",
    "print('shape of the y_train :-',y_train.shape)\n",
    "print('shape of the test :-',test.shape)"
   ]
  },
  {
   "cell_type": "markdown",
   "id": "5e9efdef",
   "metadata": {},
   "source": [
    "# missing value imputation"
   ]
  },
  {
   "cell_type": "code",
   "execution_count": 33,
   "id": "2564c98d",
   "metadata": {},
   "outputs": [
    {
     "data": {
      "text/plain": [
       "6965"
      ]
     },
     "execution_count": 33,
     "metadata": {},
     "output_type": "execute_result"
    }
   ],
   "source": [
    "train.isnull().sum().sum()"
   ]
  },
  {
   "cell_type": "code",
   "execution_count": 34,
   "id": "4733b57f",
   "metadata": {},
   "outputs": [
    {
     "data": {
      "text/plain": [
       "7000"
      ]
     },
     "execution_count": 34,
     "metadata": {},
     "output_type": "execute_result"
    }
   ],
   "source": [
    "test.isnull().sum().sum()"
   ]
  },
  {
   "cell_type": "code",
   "execution_count": 35,
   "id": "df1f1ac9",
   "metadata": {},
   "outputs": [
    {
     "data": {
      "text/plain": [
       "['LotFrontage', 'MasVnrArea', 'GarageYrBlt']"
      ]
     },
     "execution_count": 35,
     "metadata": {},
     "output_type": "execute_result"
    }
   ],
   "source": [
    "num_var=x_train.select_dtypes(include=['int64','float64']).keys()\n",
    "missing_num_var=[var for var in num_var if x_train[var].isnull().sum()>0]\n",
    "missing_num_var"
   ]
  },
  {
   "cell_type": "code",
   "execution_count": 36,
   "id": "0731aefa",
   "metadata": {},
   "outputs": [
    {
     "data": {
      "text/plain": [
       "['Alley',\n",
       " 'MasVnrType',\n",
       " 'BsmtQual',\n",
       " 'BsmtCond',\n",
       " 'BsmtExposure',\n",
       " 'BsmtFinType1',\n",
       " 'BsmtFinType2',\n",
       " 'Electrical',\n",
       " 'FireplaceQu',\n",
       " 'GarageType',\n",
       " 'GarageFinish',\n",
       " 'GarageQual',\n",
       " 'GarageCond',\n",
       " 'PoolQC',\n",
       " 'Fence',\n",
       " 'MiscFeature']"
      ]
     },
     "execution_count": 36,
     "metadata": {},
     "output_type": "execute_result"
    }
   ],
   "source": [
    "cat_var=x_train.select_dtypes(include=['O']).keys()\n",
    "missing_cat_var=[var for var in cat_var if x_train[var].isnull().sum()>0]\n",
    "missing_cat_var"
   ]
  },
  {
   "cell_type": "code",
   "execution_count": 37,
   "id": "ee7a0035",
   "metadata": {},
   "outputs": [],
   "source": [
    "num_var_mean=['LotFrontage']\n",
    "num_var_median=['MasVnrArea', 'GarageYrBlt']\n",
    "cat_var_mode=['Alley',\n",
    " 'MasVnrType',\n",
    " 'BsmtQual',\n",
    " 'BsmtCond',\n",
    " 'BsmtExposure',\n",
    " 'BsmtFinType1',\n",
    " 'BsmtFinType2',\n",
    " 'Electrical',\n",
    " 'FireplaceQu']\n",
    "cat_var_constant=['GarageType',\n",
    " 'GarageFinish',\n",
    " 'GarageQual',\n",
    " 'GarageCond',\n",
    " 'PoolQC',\n",
    " 'Fence',\n",
    " 'MiscFeature']"
   ]
  },
  {
   "cell_type": "markdown",
   "id": "a7a86762",
   "metadata": {},
   "source": [
    "# create Pipeline"
   ]
  },
  {
   "cell_type": "code",
   "execution_count": 40,
   "id": "85e65302",
   "metadata": {},
   "outputs": [
    {
     "name": "stdout",
     "output_type": "stream",
     "text": [
      "Pipeline has been created @@ or we can say that all strategy is created\n"
     ]
    }
   ],
   "source": [
    "num_var_mean_imputer=Pipeline(steps=[('imputer',SimpleImputer(strategy='mean'))])\n",
    "num_var_median_imputer=Pipeline(steps=[('imputer',SimpleImputer(strategy='median'))])\n",
    "cat_var_mode_imputer=Pipeline(steps=[('imputer',SimpleImputer(strategy='most_frequent'))])\n",
    "cat_var_constant_imputer=Pipeline(steps=[('imputer',SimpleImputer(strategy='constant',fill_value='missing'))])\n",
    "print('Pipeline has been created @@ or we can say that all strategy is created')"
   ]
  },
  {
   "cell_type": "markdown",
   "id": "d2c89011",
   "metadata": {},
   "source": [
    "# we will define what strategy will be applied on what columns"
   ]
  },
  {
   "cell_type": "markdown",
   "id": "df95e36a",
   "metadata": {},
   "source": [
    "## ColumnTransformer(transformer=[(name,pipline_imputer_strategy,column_names)])"
   ]
  },
  {
   "cell_type": "code",
   "execution_count": 41,
   "id": "928ec4a2",
   "metadata": {},
   "outputs": [],
   "source": [
    "refr=ColumnTransformer(transformers=[('mean_imputer',num_var_mean_imputer,num_var_mean),\n",
    "                              ('median_imputer',num_var_median_imputer,num_var_median),\n",
    "                              ('mode_imputer',cat_var_mode_imputer,cat_var_mode),\n",
    "                              ('constant_imputer',cat_var_constant_imputer,cat_var_constant)])\n",
    "# you can see below what all strategey and pipline has been applied"
   ]
  },
  {
   "cell_type": "code",
   "execution_count": 42,
   "id": "872ca842",
   "metadata": {},
   "outputs": [
    {
     "data": {
      "text/plain": [
       "ColumnTransformer(transformers=[('mean_imputer',\n",
       "                                 Pipeline(steps=[('imputer', SimpleImputer())]),\n",
       "                                 ['LotFrontage']),\n",
       "                                ('median_imputer',\n",
       "                                 Pipeline(steps=[('imputer',\n",
       "                                                  SimpleImputer(strategy='median'))]),\n",
       "                                 ['MasVnrArea', 'GarageYrBlt']),\n",
       "                                ('mode_imputer',\n",
       "                                 Pipeline(steps=[('imputer',\n",
       "                                                  SimpleImputer(strategy='most_frequent'))]),\n",
       "                                 ['Alley', 'MasVnrType', 'BsmtQual', 'BsmtCond',\n",
       "                                  'BsmtExposure', 'BsmtFinType1',\n",
       "                                  'BsmtFinType2', 'Electrical',\n",
       "                                  'FireplaceQu']),\n",
       "                                ('constant_imputer',\n",
       "                                 Pipeline(steps=[('imputer',\n",
       "                                                  SimpleImputer(fill_value='missing',\n",
       "                                                                strategy='constant'))]),\n",
       "                                 ['GarageType', 'GarageFinish', 'GarageQual',\n",
       "                                  'GarageCond', 'PoolQC', 'Fence',\n",
       "                                  'MiscFeature'])])"
      ]
     },
     "execution_count": 42,
     "metadata": {},
     "output_type": "execute_result"
    }
   ],
   "source": [
    "# and now i has created the pipeline and we defined the Columntransformer\n",
    "# and now , we will we go to fit the r\n",
    "refr"
   ]
  },
  {
   "cell_type": "code",
   "execution_count": 43,
   "id": "f47a3f1d",
   "metadata": {},
   "outputs": [
    {
     "data": {
      "text/plain": [
       "ColumnTransformer(transformers=[('mean_imputer',\n",
       "                                 Pipeline(steps=[('imputer', SimpleImputer())]),\n",
       "                                 ['LotFrontage']),\n",
       "                                ('median_imputer',\n",
       "                                 Pipeline(steps=[('imputer',\n",
       "                                                  SimpleImputer(strategy='median'))]),\n",
       "                                 ['MasVnrArea', 'GarageYrBlt']),\n",
       "                                ('mode_imputer',\n",
       "                                 Pipeline(steps=[('imputer',\n",
       "                                                  SimpleImputer(strategy='most_frequent'))]),\n",
       "                                 ['Alley', 'MasVnrType', 'BsmtQual', 'BsmtCond',\n",
       "                                  'BsmtExposure', 'BsmtFinType1',\n",
       "                                  'BsmtFinType2', 'Electrical',\n",
       "                                  'FireplaceQu']),\n",
       "                                ('constant_imputer',\n",
       "                                 Pipeline(steps=[('imputer',\n",
       "                                                  SimpleImputer(fill_value='missing',\n",
       "                                                                strategy='constant'))]),\n",
       "                                 ['GarageType', 'GarageFinish', 'GarageQual',\n",
       "                                  'GarageCond', 'PoolQC', 'Fence',\n",
       "                                  'MiscFeature'])])"
      ]
     },
     "execution_count": 43,
     "metadata": {},
     "output_type": "execute_result"
    }
   ],
   "source": [
    "refr.fit(x_train)"
   ]
  },
  {
   "cell_type": "code",
   "execution_count": 45,
   "id": "ad8e49cd",
   "metadata": {},
   "outputs": [
    {
     "data": {
      "text/plain": [
       "<bound method ColumnTransformer.transform of ColumnTransformer(transformers=[('mean_imputer',\n",
       "                                 Pipeline(steps=[('imputer', SimpleImputer())]),\n",
       "                                 ['LotFrontage']),\n",
       "                                ('median_imputer',\n",
       "                                 Pipeline(steps=[('imputer',\n",
       "                                                  SimpleImputer(strategy='median'))]),\n",
       "                                 ['MasVnrArea', 'GarageYrBlt']),\n",
       "                                ('mode_imputer',\n",
       "                                 Pipeline(steps=[('imputer',\n",
       "                                                  SimpleImputer(strategy='most_frequent'))]),\n",
       "                                 ['Alley', 'MasVnrType', 'BsmtQual', 'BsmtCond',\n",
       "                                  'BsmtExposure', 'BsmtFinType1',\n",
       "                                  'BsmtFinType2', 'Electrical',\n",
       "                                  'FireplaceQu']),\n",
       "                                ('constant_imputer',\n",
       "                                 Pipeline(steps=[('imputer',\n",
       "                                                  SimpleImputer(fill_value='missing',\n",
       "                                                                strategy='constant'))]),\n",
       "                                 ['GarageType', 'GarageFinish', 'GarageQual',\n",
       "                                  'GarageCond', 'PoolQC', 'Fence',\n",
       "                                  'MiscFeature'])])>"
      ]
     },
     "execution_count": 45,
     "metadata": {},
     "output_type": "execute_result"
    }
   ],
   "source": [
    "refr.transform                   # for identifieng that what strategy we putted"
   ]
  },
  {
   "cell_type": "markdown",
   "id": "b03f41e9",
   "metadata": {},
   "source": [
    "# for indentifing what value has putted in our columns by using this syntex\n",
    "<ul>\n",
    "    <li>object of columntransformer.named_transformers['name of transformer].named_steps['name of pipeline step'].statistics_</li>\n",
    "    </ul>"
   ]
  },
  {
   "cell_type": "code",
   "execution_count": 49,
   "id": "cd0ba3e2",
   "metadata": {},
   "outputs": [
    {
     "data": {
      "text/plain": [
       "array([70.04995837])"
      ]
     },
     "execution_count": 49,
     "metadata": {},
     "output_type": "execute_result"
    }
   ],
   "source": [
    "refr.named_transformers_['mean_imputer'].named_steps['imputer'].statistics_"
   ]
  },
  {
   "cell_type": "code",
   "execution_count": 53,
   "id": "4465e3ef",
   "metadata": {},
   "outputs": [
    {
     "data": {
      "text/plain": [
       "70.04995836802665"
      ]
     },
     "execution_count": 53,
     "metadata": {},
     "output_type": "execute_result"
    }
   ],
   "source": [
    "x_train['LotFrontage'].mean()"
   ]
  },
  {
   "cell_type": "code",
   "execution_count": 56,
   "id": "9de8f362",
   "metadata": {},
   "outputs": [
    {
     "data": {
      "text/plain": [
       "array([   0., 1980.])"
      ]
     },
     "execution_count": 56,
     "metadata": {},
     "output_type": "execute_result"
    }
   ],
   "source": [
    "refr.named_transformers_['median_imputer'].named_steps['imputer'].statistics_\n",
    "# median value that are putted in my columns\n",
    "# here it is showing two value because , there we have two coumns"
   ]
  },
  {
   "cell_type": "code",
   "execution_count": 58,
   "id": "8bfde35e",
   "metadata": {},
   "outputs": [
    {
     "data": {
      "text/plain": [
       "MasVnrArea        0.0\n",
       "GarageYrBlt    1980.0\n",
       "dtype: float64"
      ]
     },
     "execution_count": 58,
     "metadata": {},
     "output_type": "execute_result"
    }
   ],
   "source": [
    "x_train[num_var_median].median()\n",
    "# you can see result is correct"
   ]
  },
  {
   "cell_type": "markdown",
   "id": "e99692da",
   "metadata": {},
   "source": [
    "# and now we are going to transform our strategy that are created , "
   ]
  },
  {
   "cell_type": "code",
   "execution_count": 63,
   "id": "e92dc9fc",
   "metadata": {},
   "outputs": [],
   "source": [
    "x_train_clean=refr.transform(x_train)\n",
    "x_test_clean=refr.transform(x_test)"
   ]
  },
  {
   "cell_type": "code",
   "execution_count": 64,
   "id": "c0343020",
   "metadata": {},
   "outputs": [
    {
     "data": {
      "text/plain": [
       "array([[65.0, 196.0, 2003.0, ..., 'missing', 'missing', 'missing'],\n",
       "       [80.0, 0.0, 1976.0, ..., 'missing', 'missing', 'missing'],\n",
       "       [68.0, 162.0, 2001.0, ..., 'missing', 'missing', 'missing'],\n",
       "       ...,\n",
       "       [66.0, 0.0, 1941.0, ..., 'missing', 'GdPrv', 'Shed'],\n",
       "       [68.0, 0.0, 1950.0, ..., 'missing', 'missing', 'missing'],\n",
       "       [75.0, 0.0, 1965.0, ..., 'missing', 'missing', 'missing']],\n",
       "      dtype=object)"
      ]
     },
     "execution_count": 64,
     "metadata": {},
     "output_type": "execute_result"
    }
   ],
   "source": [
    "x_train_clean"
   ]
  },
  {
   "cell_type": "code",
   "execution_count": 65,
   "id": "eba688b0",
   "metadata": {},
   "outputs": [
    {
     "data": {
      "text/plain": [
       "array([[80.0, 0.0, 1961.0, ..., 'missing', 'MnPrv', 'missing'],\n",
       "       [81.0, 108.0, 1958.0, ..., 'missing', 'missing', 'Gar2'],\n",
       "       [74.0, 0.0, 1997.0, ..., 'missing', 'MnPrv', 'missing'],\n",
       "       ...,\n",
       "       [160.0, 0.0, 1960.0, ..., 'missing', 'missing', 'missing'],\n",
       "       [62.0, 0.0, 1980.0, ..., 'missing', 'MnPrv', 'Shed'],\n",
       "       [74.0, 94.0, 1993.0, ..., 'missing', 'missing', 'missing']],\n",
       "      dtype=object)"
      ]
     },
     "execution_count": 65,
     "metadata": {},
     "output_type": "execute_result"
    }
   ],
   "source": [
    "x_test_clean"
   ]
  },
  {
   "cell_type": "markdown",
   "id": "64c66064",
   "metadata": {},
   "source": [
    "# it will tell you what function or strategy and what your coumns that are using in this process"
   ]
  },
  {
   "cell_type": "code",
   "execution_count": 67,
   "id": "5c1d1219",
   "metadata": {},
   "outputs": [
    {
     "data": {
      "text/plain": [
       "[('mean_imputer',\n",
       "  Pipeline(steps=[('imputer', SimpleImputer())]),\n",
       "  ['LotFrontage']),\n",
       " ('median_imputer',\n",
       "  Pipeline(steps=[('imputer', SimpleImputer(strategy='median'))]),\n",
       "  ['MasVnrArea', 'GarageYrBlt']),\n",
       " ('mode_imputer',\n",
       "  Pipeline(steps=[('imputer', SimpleImputer(strategy='most_frequent'))]),\n",
       "  ['Alley',\n",
       "   'MasVnrType',\n",
       "   'BsmtQual',\n",
       "   'BsmtCond',\n",
       "   'BsmtExposure',\n",
       "   'BsmtFinType1',\n",
       "   'BsmtFinType2',\n",
       "   'Electrical',\n",
       "   'FireplaceQu']),\n",
       " ('constant_imputer',\n",
       "  Pipeline(steps=[('imputer',\n",
       "                   SimpleImputer(fill_value='missing', strategy='constant'))]),\n",
       "  ['GarageType',\n",
       "   'GarageFinish',\n",
       "   'GarageQual',\n",
       "   'GarageCond',\n",
       "   'PoolQC',\n",
       "   'Fence',\n",
       "   'MiscFeature']),\n",
       " ('remainder',\n",
       "  'drop',\n",
       "  [0,\n",
       "   1,\n",
       "   2,\n",
       "   4,\n",
       "   5,\n",
       "   7,\n",
       "   8,\n",
       "   9,\n",
       "   10,\n",
       "   11,\n",
       "   12,\n",
       "   13,\n",
       "   14,\n",
       "   15,\n",
       "   16,\n",
       "   17,\n",
       "   18,\n",
       "   19,\n",
       "   20,\n",
       "   21,\n",
       "   22,\n",
       "   23,\n",
       "   24,\n",
       "   27,\n",
       "   28,\n",
       "   29,\n",
       "   34,\n",
       "   36,\n",
       "   37,\n",
       "   38,\n",
       "   39,\n",
       "   40,\n",
       "   41,\n",
       "   43,\n",
       "   44,\n",
       "   45,\n",
       "   46,\n",
       "   47,\n",
       "   48,\n",
       "   49,\n",
       "   50,\n",
       "   51,\n",
       "   52,\n",
       "   53,\n",
       "   54,\n",
       "   55,\n",
       "   56,\n",
       "   61,\n",
       "   62,\n",
       "   65,\n",
       "   66,\n",
       "   67,\n",
       "   68,\n",
       "   69,\n",
       "   70,\n",
       "   71,\n",
       "   75,\n",
       "   76,\n",
       "   77,\n",
       "   78,\n",
       "   79])]"
      ]
     },
     "execution_count": 67,
     "metadata": {},
     "output_type": "execute_result"
    }
   ],
   "source": [
    "refr.transformers_"
   ]
  },
  {
   "cell_type": "code",
   "execution_count": 78,
   "id": "437e3894",
   "metadata": {},
   "outputs": [
    {
     "name": "stdout",
     "output_type": "stream",
     "text": [
      "total shape of our dataset :- (1460, 80)\n",
      "total mising columns 19\n",
      "our fit dataset have only :- 19 columns beacuse reaminder by defualt drop\n"
     ]
    }
   ],
   "source": [
    "print('total shape of our dataset :-',x_train.shape)\n",
    "print('total mising columns',len([var for var in t if x_train[var].isnull().sum()>0]))\n",
    "print('our fit dataset have only :-',x_train_clean.shape[1],'columns beacuse reaminder by defualt drop')"
   ]
  },
  {
   "cell_type": "code",
   "execution_count": null,
   "id": "7e52aad5",
   "metadata": {},
   "outputs": [],
   "source": [
    "# by the just now leave it shape of data and remainder columns and now we will have to create a dataframe by usnig\n",
    "# our fit value because sklearn returning a two dimension ndarray"
   ]
  },
  {
   "cell_type": "code",
   "execution_count": null,
   "id": "682da856",
   "metadata": {},
   "outputs": [],
   "source": [
    "# just now i have that columns in a dataframe that contains a mising value"
   ]
  },
  {
   "cell_type": "code",
   "execution_count": 79,
   "id": "8a448427",
   "metadata": {},
   "outputs": [
    {
     "data": {
      "text/html": [
       "<div>\n",
       "<style scoped>\n",
       "    .dataframe tbody tr th:only-of-type {\n",
       "        vertical-align: middle;\n",
       "    }\n",
       "\n",
       "    .dataframe tbody tr th {\n",
       "        vertical-align: top;\n",
       "    }\n",
       "\n",
       "    .dataframe thead th {\n",
       "        text-align: right;\n",
       "    }\n",
       "</style>\n",
       "<table border=\"1\" class=\"dataframe\">\n",
       "  <thead>\n",
       "    <tr style=\"text-align: right;\">\n",
       "      <th></th>\n",
       "      <th>LotFrontage</th>\n",
       "      <th>MasVnrArea</th>\n",
       "      <th>GarageYrBlt</th>\n",
       "      <th>Alley</th>\n",
       "      <th>MasVnrType</th>\n",
       "      <th>BsmtQual</th>\n",
       "      <th>BsmtCond</th>\n",
       "      <th>BsmtExposure</th>\n",
       "      <th>BsmtFinType1</th>\n",
       "      <th>BsmtFinType2</th>\n",
       "      <th>Electrical</th>\n",
       "      <th>FireplaceQu</th>\n",
       "      <th>GarageType</th>\n",
       "      <th>GarageFinish</th>\n",
       "      <th>GarageQual</th>\n",
       "      <th>GarageCond</th>\n",
       "      <th>PoolQC</th>\n",
       "      <th>Fence</th>\n",
       "      <th>MiscFeature</th>\n",
       "    </tr>\n",
       "  </thead>\n",
       "  <tbody>\n",
       "    <tr>\n",
       "      <th>0</th>\n",
       "      <td>65.0</td>\n",
       "      <td>196.0</td>\n",
       "      <td>2003.0</td>\n",
       "      <td>Grvl</td>\n",
       "      <td>BrkFace</td>\n",
       "      <td>Gd</td>\n",
       "      <td>TA</td>\n",
       "      <td>No</td>\n",
       "      <td>GLQ</td>\n",
       "      <td>Unf</td>\n",
       "      <td>SBrkr</td>\n",
       "      <td>Gd</td>\n",
       "      <td>Attchd</td>\n",
       "      <td>RFn</td>\n",
       "      <td>TA</td>\n",
       "      <td>TA</td>\n",
       "      <td>missing</td>\n",
       "      <td>missing</td>\n",
       "      <td>missing</td>\n",
       "    </tr>\n",
       "    <tr>\n",
       "      <th>1</th>\n",
       "      <td>80.0</td>\n",
       "      <td>0.0</td>\n",
       "      <td>1976.0</td>\n",
       "      <td>Grvl</td>\n",
       "      <td>None</td>\n",
       "      <td>Gd</td>\n",
       "      <td>TA</td>\n",
       "      <td>Gd</td>\n",
       "      <td>ALQ</td>\n",
       "      <td>Unf</td>\n",
       "      <td>SBrkr</td>\n",
       "      <td>TA</td>\n",
       "      <td>Attchd</td>\n",
       "      <td>RFn</td>\n",
       "      <td>TA</td>\n",
       "      <td>TA</td>\n",
       "      <td>missing</td>\n",
       "      <td>missing</td>\n",
       "      <td>missing</td>\n",
       "    </tr>\n",
       "    <tr>\n",
       "      <th>2</th>\n",
       "      <td>68.0</td>\n",
       "      <td>162.0</td>\n",
       "      <td>2001.0</td>\n",
       "      <td>Grvl</td>\n",
       "      <td>BrkFace</td>\n",
       "      <td>Gd</td>\n",
       "      <td>TA</td>\n",
       "      <td>Mn</td>\n",
       "      <td>GLQ</td>\n",
       "      <td>Unf</td>\n",
       "      <td>SBrkr</td>\n",
       "      <td>TA</td>\n",
       "      <td>Attchd</td>\n",
       "      <td>RFn</td>\n",
       "      <td>TA</td>\n",
       "      <td>TA</td>\n",
       "      <td>missing</td>\n",
       "      <td>missing</td>\n",
       "      <td>missing</td>\n",
       "    </tr>\n",
       "    <tr>\n",
       "      <th>3</th>\n",
       "      <td>60.0</td>\n",
       "      <td>0.0</td>\n",
       "      <td>1998.0</td>\n",
       "      <td>Grvl</td>\n",
       "      <td>None</td>\n",
       "      <td>TA</td>\n",
       "      <td>Gd</td>\n",
       "      <td>No</td>\n",
       "      <td>ALQ</td>\n",
       "      <td>Unf</td>\n",
       "      <td>SBrkr</td>\n",
       "      <td>Gd</td>\n",
       "      <td>Detchd</td>\n",
       "      <td>Unf</td>\n",
       "      <td>TA</td>\n",
       "      <td>TA</td>\n",
       "      <td>missing</td>\n",
       "      <td>missing</td>\n",
       "      <td>missing</td>\n",
       "    </tr>\n",
       "    <tr>\n",
       "      <th>4</th>\n",
       "      <td>84.0</td>\n",
       "      <td>350.0</td>\n",
       "      <td>2000.0</td>\n",
       "      <td>Grvl</td>\n",
       "      <td>BrkFace</td>\n",
       "      <td>Gd</td>\n",
       "      <td>TA</td>\n",
       "      <td>Av</td>\n",
       "      <td>GLQ</td>\n",
       "      <td>Unf</td>\n",
       "      <td>SBrkr</td>\n",
       "      <td>TA</td>\n",
       "      <td>Attchd</td>\n",
       "      <td>RFn</td>\n",
       "      <td>TA</td>\n",
       "      <td>TA</td>\n",
       "      <td>missing</td>\n",
       "      <td>missing</td>\n",
       "      <td>missing</td>\n",
       "    </tr>\n",
       "  </tbody>\n",
       "</table>\n",
       "</div>"
      ],
      "text/plain": [
       "  LotFrontage MasVnrArea GarageYrBlt Alley MasVnrType BsmtQual BsmtCond  \\\n",
       "0        65.0      196.0      2003.0  Grvl    BrkFace       Gd       TA   \n",
       "1        80.0        0.0      1976.0  Grvl       None       Gd       TA   \n",
       "2        68.0      162.0      2001.0  Grvl    BrkFace       Gd       TA   \n",
       "3        60.0        0.0      1998.0  Grvl       None       TA       Gd   \n",
       "4        84.0      350.0      2000.0  Grvl    BrkFace       Gd       TA   \n",
       "\n",
       "  BsmtExposure BsmtFinType1 BsmtFinType2 Electrical FireplaceQu GarageType  \\\n",
       "0           No          GLQ          Unf      SBrkr          Gd     Attchd   \n",
       "1           Gd          ALQ          Unf      SBrkr          TA     Attchd   \n",
       "2           Mn          GLQ          Unf      SBrkr          TA     Attchd   \n",
       "3           No          ALQ          Unf      SBrkr          Gd     Detchd   \n",
       "4           Av          GLQ          Unf      SBrkr          TA     Attchd   \n",
       "\n",
       "  GarageFinish GarageQual GarageCond   PoolQC    Fence MiscFeature  \n",
       "0          RFn         TA         TA  missing  missing     missing  \n",
       "1          RFn         TA         TA  missing  missing     missing  \n",
       "2          RFn         TA         TA  missing  missing     missing  \n",
       "3          Unf         TA         TA  missing  missing     missing  \n",
       "4          RFn         TA         TA  missing  missing     missing  "
      ]
     },
     "execution_count": 79,
     "metadata": {},
     "output_type": "execute_result"
    }
   ],
   "source": [
    "clean_dataset=pd.DataFrame(x_train_clean,columns=num_var_mean+num_var_median+cat_var_mode+cat_var_constant)\n",
    "clean_dataset.head()"
   ]
  },
  {
   "cell_type": "code",
   "execution_count": 80,
   "id": "9bb7ac7c",
   "metadata": {},
   "outputs": [
    {
     "data": {
      "text/plain": [
       "0"
      ]
     },
     "execution_count": 80,
     "metadata": {},
     "output_type": "execute_result"
    }
   ],
   "source": [
    "clean_dataset.isnull().sum().sum()"
   ]
  },
  {
   "cell_type": "code",
   "execution_count": 81,
   "id": "11a40521",
   "metadata": {},
   "outputs": [
    {
     "data": {
      "text/plain": [
       "Grvl    50\n",
       "Pave    41\n",
       "Name: Alley, dtype: int64"
      ]
     },
     "execution_count": 81,
     "metadata": {},
     "output_type": "execute_result"
    }
   ],
   "source": [
    "x_train['Alley'].value_counts()"
   ]
  },
  {
   "cell_type": "code",
   "execution_count": 82,
   "id": "c0c314ed",
   "metadata": {},
   "outputs": [
    {
     "data": {
      "text/plain": [
       "Grvl    1419\n",
       "Pave      41\n",
       "Name: Alley, dtype: int64"
      ]
     },
     "execution_count": 82,
     "metadata": {},
     "output_type": "execute_result"
    }
   ],
   "source": [
    "clean_dataset['Alley'].value_counts()"
   ]
  },
  {
   "cell_type": "code",
   "execution_count": 83,
   "id": "6de8b476",
   "metadata": {},
   "outputs": [
    {
     "data": {
      "text/plain": [
       "Shed    49\n",
       "Gar2     2\n",
       "Othr     2\n",
       "TenC     1\n",
       "Name: MiscFeature, dtype: int64"
      ]
     },
     "execution_count": 83,
     "metadata": {},
     "output_type": "execute_result"
    }
   ],
   "source": [
    "x_train['MiscFeature'].value_counts()"
   ]
  },
  {
   "cell_type": "code",
   "execution_count": 84,
   "id": "dd514d3c",
   "metadata": {},
   "outputs": [
    {
     "data": {
      "text/plain": [
       "missing    1406\n",
       "Shed         49\n",
       "Gar2          2\n",
       "Othr          2\n",
       "TenC          1\n",
       "Name: MiscFeature, dtype: int64"
      ]
     },
     "execution_count": 84,
     "metadata": {},
     "output_type": "execute_result"
    }
   ],
   "source": [
    "clean_dataset['MiscFeature'].value_counts()"
   ]
  },
  {
   "cell_type": "code",
   "execution_count": 85,
   "id": "1aa15144",
   "metadata": {},
   "outputs": [],
   "source": [
    "clean_dataset.to_csv('allmising_col_fixed_by_sklearn.csv')"
   ]
  }
 ],
 "metadata": {
  "kernelspec": {
   "display_name": "Python 3",
   "language": "python",
   "name": "python3"
  },
  "language_info": {
   "codemirror_mode": {
    "name": "ipython",
    "version": 3
   },
   "file_extension": ".py",
   "mimetype": "text/x-python",
   "name": "python",
   "nbconvert_exporter": "python",
   "pygments_lexer": "ipython3",
   "version": "3.9.2"
  }
 },
 "nbformat": 4,
 "nbformat_minor": 5
}
