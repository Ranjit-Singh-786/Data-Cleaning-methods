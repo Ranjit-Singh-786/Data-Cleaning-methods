{
 "cells": [
  {
   "cell_type": "markdown",
   "id": "31ae57ca",
   "metadata": {},
   "source": [
    "# feature scaling methods in one notebook"
   ]
  },
  {
   "cell_type": "code",
   "execution_count": 3,
   "id": "e00ab3de",
   "metadata": {},
   "outputs": [],
   "source": [
    "import pandas as pd\n",
    "import numpy as np\n",
    "import matplotlib.pyplot as plt\n",
    "import seaborn as sns\n",
    "from sklearn.preprocessing import StandardScaler    # for standardisation\n",
    "from sklearn.preprocessing import MinMaxScaler      # for normalization"
   ]
  },
  {
   "cell_type": "markdown",
   "id": "d7c86869",
   "metadata": {},
   "source": [
    "# Standard scaler or Z-score normalization method"
   ]
  },
  {
   "cell_type": "code",
   "execution_count": 6,
   "id": "cee56e39",
   "metadata": {},
   "outputs": [
    {
     "data": {
      "text/html": [
       "<div>\n",
       "<style scoped>\n",
       "    .dataframe tbody tr th:only-of-type {\n",
       "        vertical-align: middle;\n",
       "    }\n",
       "\n",
       "    .dataframe tbody tr th {\n",
       "        vertical-align: top;\n",
       "    }\n",
       "\n",
       "    .dataframe thead th {\n",
       "        text-align: right;\n",
       "    }\n",
       "</style>\n",
       "<table border=\"1\" class=\"dataframe\">\n",
       "  <thead>\n",
       "    <tr style=\"text-align: right;\">\n",
       "      <th></th>\n",
       "      <th>survived</th>\n",
       "      <th>pclass</th>\n",
       "      <th>sex</th>\n",
       "      <th>age</th>\n",
       "      <th>sibsp</th>\n",
       "      <th>parch</th>\n",
       "      <th>fare</th>\n",
       "      <th>embarked</th>\n",
       "      <th>class</th>\n",
       "      <th>who</th>\n",
       "      <th>adult_male</th>\n",
       "      <th>deck</th>\n",
       "      <th>embark_town</th>\n",
       "      <th>alive</th>\n",
       "      <th>alone</th>\n",
       "    </tr>\n",
       "  </thead>\n",
       "  <tbody>\n",
       "    <tr>\n",
       "      <th>0</th>\n",
       "      <td>0</td>\n",
       "      <td>3</td>\n",
       "      <td>male</td>\n",
       "      <td>22.0</td>\n",
       "      <td>1</td>\n",
       "      <td>0</td>\n",
       "      <td>7.2500</td>\n",
       "      <td>S</td>\n",
       "      <td>Third</td>\n",
       "      <td>man</td>\n",
       "      <td>True</td>\n",
       "      <td>NaN</td>\n",
       "      <td>Southampton</td>\n",
       "      <td>no</td>\n",
       "      <td>False</td>\n",
       "    </tr>\n",
       "    <tr>\n",
       "      <th>1</th>\n",
       "      <td>1</td>\n",
       "      <td>1</td>\n",
       "      <td>female</td>\n",
       "      <td>38.0</td>\n",
       "      <td>1</td>\n",
       "      <td>0</td>\n",
       "      <td>71.2833</td>\n",
       "      <td>C</td>\n",
       "      <td>First</td>\n",
       "      <td>woman</td>\n",
       "      <td>False</td>\n",
       "      <td>C</td>\n",
       "      <td>Cherbourg</td>\n",
       "      <td>yes</td>\n",
       "      <td>False</td>\n",
       "    </tr>\n",
       "    <tr>\n",
       "      <th>2</th>\n",
       "      <td>1</td>\n",
       "      <td>3</td>\n",
       "      <td>female</td>\n",
       "      <td>26.0</td>\n",
       "      <td>0</td>\n",
       "      <td>0</td>\n",
       "      <td>7.9250</td>\n",
       "      <td>S</td>\n",
       "      <td>Third</td>\n",
       "      <td>woman</td>\n",
       "      <td>False</td>\n",
       "      <td>NaN</td>\n",
       "      <td>Southampton</td>\n",
       "      <td>yes</td>\n",
       "      <td>True</td>\n",
       "    </tr>\n",
       "    <tr>\n",
       "      <th>3</th>\n",
       "      <td>1</td>\n",
       "      <td>1</td>\n",
       "      <td>female</td>\n",
       "      <td>35.0</td>\n",
       "      <td>1</td>\n",
       "      <td>0</td>\n",
       "      <td>53.1000</td>\n",
       "      <td>S</td>\n",
       "      <td>First</td>\n",
       "      <td>woman</td>\n",
       "      <td>False</td>\n",
       "      <td>C</td>\n",
       "      <td>Southampton</td>\n",
       "      <td>yes</td>\n",
       "      <td>False</td>\n",
       "    </tr>\n",
       "    <tr>\n",
       "      <th>4</th>\n",
       "      <td>0</td>\n",
       "      <td>3</td>\n",
       "      <td>male</td>\n",
       "      <td>35.0</td>\n",
       "      <td>0</td>\n",
       "      <td>0</td>\n",
       "      <td>8.0500</td>\n",
       "      <td>S</td>\n",
       "      <td>Third</td>\n",
       "      <td>man</td>\n",
       "      <td>True</td>\n",
       "      <td>NaN</td>\n",
       "      <td>Southampton</td>\n",
       "      <td>no</td>\n",
       "      <td>True</td>\n",
       "    </tr>\n",
       "  </tbody>\n",
       "</table>\n",
       "</div>"
      ],
      "text/plain": [
       "   survived  pclass     sex   age  sibsp  parch     fare embarked  class  \\\n",
       "0         0       3    male  22.0      1      0   7.2500        S  Third   \n",
       "1         1       1  female  38.0      1      0  71.2833        C  First   \n",
       "2         1       3  female  26.0      0      0   7.9250        S  Third   \n",
       "3         1       1  female  35.0      1      0  53.1000        S  First   \n",
       "4         0       3    male  35.0      0      0   8.0500        S  Third   \n",
       "\n",
       "     who  adult_male deck  embark_town alive  alone  \n",
       "0    man        True  NaN  Southampton    no  False  \n",
       "1  woman       False    C    Cherbourg   yes  False  \n",
       "2  woman       False  NaN  Southampton   yes   True  \n",
       "3  woman       False    C  Southampton   yes  False  \n",
       "4    man        True  NaN  Southampton    no   True  "
      ]
     },
     "execution_count": 6,
     "metadata": {},
     "output_type": "execute_result"
    }
   ],
   "source": [
    "df=sns.load_dataset('titanic')\n",
    "df.head()"
   ]
  },
  {
   "cell_type": "code",
   "execution_count": 63,
   "id": "f614b578",
   "metadata": {},
   "outputs": [
    {
     "data": {
      "text/html": [
       "<div>\n",
       "<style scoped>\n",
       "    .dataframe tbody tr th:only-of-type {\n",
       "        vertical-align: middle;\n",
       "    }\n",
       "\n",
       "    .dataframe tbody tr th {\n",
       "        vertical-align: top;\n",
       "    }\n",
       "\n",
       "    .dataframe thead th {\n",
       "        text-align: right;\n",
       "    }\n",
       "</style>\n",
       "<table border=\"1\" class=\"dataframe\">\n",
       "  <thead>\n",
       "    <tr style=\"text-align: right;\">\n",
       "      <th></th>\n",
       "      <th>survived</th>\n",
       "      <th>pclass</th>\n",
       "      <th>age</th>\n",
       "      <th>parch</th>\n",
       "    </tr>\n",
       "  </thead>\n",
       "  <tbody>\n",
       "    <tr>\n",
       "      <th>0</th>\n",
       "      <td>0</td>\n",
       "      <td>3</td>\n",
       "      <td>22.0</td>\n",
       "      <td>0</td>\n",
       "    </tr>\n",
       "    <tr>\n",
       "      <th>1</th>\n",
       "      <td>1</td>\n",
       "      <td>1</td>\n",
       "      <td>38.0</td>\n",
       "      <td>0</td>\n",
       "    </tr>\n",
       "    <tr>\n",
       "      <th>2</th>\n",
       "      <td>1</td>\n",
       "      <td>3</td>\n",
       "      <td>26.0</td>\n",
       "      <td>0</td>\n",
       "    </tr>\n",
       "    <tr>\n",
       "      <th>3</th>\n",
       "      <td>1</td>\n",
       "      <td>1</td>\n",
       "      <td>35.0</td>\n",
       "      <td>0</td>\n",
       "    </tr>\n",
       "    <tr>\n",
       "      <th>4</th>\n",
       "      <td>0</td>\n",
       "      <td>3</td>\n",
       "      <td>35.0</td>\n",
       "      <td>0</td>\n",
       "    </tr>\n",
       "  </tbody>\n",
       "</table>\n",
       "</div>"
      ],
      "text/plain": [
       "   survived  pclass   age  parch\n",
       "0         0       3  22.0      0\n",
       "1         1       1  38.0      0\n",
       "2         1       3  26.0      0\n",
       "3         1       1  35.0      0\n",
       "4         0       3  35.0      0"
      ]
     },
     "execution_count": 63,
     "metadata": {},
     "output_type": "execute_result"
    }
   ],
   "source": [
    "df2=df[['survived','pclass','age','parch']]\n",
    "df2.head()"
   ]
  },
  {
   "cell_type": "code",
   "execution_count": 25,
   "id": "110a635b",
   "metadata": {},
   "outputs": [
    {
     "data": {
      "text/plain": [
       "0    549\n",
       "1    342\n",
       "Name: survived, dtype: int64"
      ]
     },
     "execution_count": 25,
     "metadata": {},
     "output_type": "execute_result"
    }
   ],
   "source": [
    "pd.value_counts(df2['survived'])"
   ]
  },
  {
   "cell_type": "code",
   "execution_count": 26,
   "id": "2f8e8a82",
   "metadata": {},
   "outputs": [
    {
     "data": {
      "text/plain": [
       "0    678\n",
       "1    118\n",
       "2     80\n",
       "3      5\n",
       "5      5\n",
       "4      4\n",
       "6      1\n",
       "Name: parch, dtype: int64"
      ]
     },
     "execution_count": 26,
     "metadata": {},
     "output_type": "execute_result"
    }
   ],
   "source": [
    "df2['parch'].value_counts()"
   ]
  },
  {
   "cell_type": "code",
   "execution_count": 27,
   "id": "c85543ad",
   "metadata": {},
   "outputs": [
    {
     "data": {
      "text/plain": [
       "24.00    30\n",
       "22.00    27\n",
       "18.00    26\n",
       "28.00    25\n",
       "19.00    25\n",
       "         ..\n",
       "55.50     1\n",
       "74.00     1\n",
       "0.92      1\n",
       "70.50     1\n",
       "12.00     1\n",
       "Name: age, Length: 88, dtype: int64"
      ]
     },
     "execution_count": 27,
     "metadata": {},
     "output_type": "execute_result"
    }
   ],
   "source": [
    "df2['age'].value_counts()"
   ]
  },
  {
   "cell_type": "code",
   "execution_count": 28,
   "id": "72472114",
   "metadata": {},
   "outputs": [
    {
     "data": {
      "text/plain": [
       "survived      0\n",
       "parch         0\n",
       "age         177\n",
       "pclass        0\n",
       "dtype: int64"
      ]
     },
     "execution_count": 28,
     "metadata": {},
     "output_type": "execute_result"
    }
   ],
   "source": [
    "df2.isnull().sum()"
   ]
  },
  {
   "cell_type": "code",
   "execution_count": 29,
   "id": "157e590e",
   "metadata": {},
   "outputs": [],
   "source": [
    "df3=df2.fillna(df2.mean())"
   ]
  },
  {
   "cell_type": "code",
   "execution_count": 30,
   "id": "6f042b2f",
   "metadata": {},
   "outputs": [
    {
     "data": {
      "text/plain": [
       "survived    0\n",
       "parch       0\n",
       "age         0\n",
       "pclass      0\n",
       "dtype: int64"
      ]
     },
     "execution_count": 30,
     "metadata": {},
     "output_type": "execute_result"
    }
   ],
   "source": [
    "df3.isnull().sum()"
   ]
  },
  {
   "cell_type": "code",
   "execution_count": 84,
   "id": "bd18a79f",
   "metadata": {},
   "outputs": [
    {
     "data": {
      "text/html": [
       "<div>\n",
       "<style scoped>\n",
       "    .dataframe tbody tr th:only-of-type {\n",
       "        vertical-align: middle;\n",
       "    }\n",
       "\n",
       "    .dataframe tbody tr th {\n",
       "        vertical-align: top;\n",
       "    }\n",
       "\n",
       "    .dataframe thead th {\n",
       "        text-align: right;\n",
       "    }\n",
       "</style>\n",
       "<table border=\"1\" class=\"dataframe\">\n",
       "  <thead>\n",
       "    <tr style=\"text-align: right;\">\n",
       "      <th></th>\n",
       "      <th>survived</th>\n",
       "      <th>parch</th>\n",
       "      <th>age</th>\n",
       "      <th>pclass</th>\n",
       "    </tr>\n",
       "  </thead>\n",
       "  <tbody>\n",
       "    <tr>\n",
       "      <th>0</th>\n",
       "      <td>0</td>\n",
       "      <td>0</td>\n",
       "      <td>22.000000</td>\n",
       "      <td>3</td>\n",
       "    </tr>\n",
       "    <tr>\n",
       "      <th>1</th>\n",
       "      <td>1</td>\n",
       "      <td>0</td>\n",
       "      <td>38.000000</td>\n",
       "      <td>1</td>\n",
       "    </tr>\n",
       "    <tr>\n",
       "      <th>2</th>\n",
       "      <td>1</td>\n",
       "      <td>0</td>\n",
       "      <td>26.000000</td>\n",
       "      <td>3</td>\n",
       "    </tr>\n",
       "    <tr>\n",
       "      <th>3</th>\n",
       "      <td>1</td>\n",
       "      <td>0</td>\n",
       "      <td>35.000000</td>\n",
       "      <td>1</td>\n",
       "    </tr>\n",
       "    <tr>\n",
       "      <th>4</th>\n",
       "      <td>0</td>\n",
       "      <td>0</td>\n",
       "      <td>35.000000</td>\n",
       "      <td>3</td>\n",
       "    </tr>\n",
       "    <tr>\n",
       "      <th>...</th>\n",
       "      <td>...</td>\n",
       "      <td>...</td>\n",
       "      <td>...</td>\n",
       "      <td>...</td>\n",
       "    </tr>\n",
       "    <tr>\n",
       "      <th>886</th>\n",
       "      <td>0</td>\n",
       "      <td>0</td>\n",
       "      <td>27.000000</td>\n",
       "      <td>2</td>\n",
       "    </tr>\n",
       "    <tr>\n",
       "      <th>887</th>\n",
       "      <td>1</td>\n",
       "      <td>0</td>\n",
       "      <td>19.000000</td>\n",
       "      <td>1</td>\n",
       "    </tr>\n",
       "    <tr>\n",
       "      <th>888</th>\n",
       "      <td>0</td>\n",
       "      <td>2</td>\n",
       "      <td>29.699118</td>\n",
       "      <td>3</td>\n",
       "    </tr>\n",
       "    <tr>\n",
       "      <th>889</th>\n",
       "      <td>1</td>\n",
       "      <td>0</td>\n",
       "      <td>26.000000</td>\n",
       "      <td>1</td>\n",
       "    </tr>\n",
       "    <tr>\n",
       "      <th>890</th>\n",
       "      <td>0</td>\n",
       "      <td>0</td>\n",
       "      <td>32.000000</td>\n",
       "      <td>3</td>\n",
       "    </tr>\n",
       "  </tbody>\n",
       "</table>\n",
       "<p>891 rows × 4 columns</p>\n",
       "</div>"
      ],
      "text/plain": [
       "     survived  parch        age  pclass\n",
       "0           0      0  22.000000       3\n",
       "1           1      0  38.000000       1\n",
       "2           1      0  26.000000       3\n",
       "3           1      0  35.000000       1\n",
       "4           0      0  35.000000       3\n",
       "..        ...    ...        ...     ...\n",
       "886         0      0  27.000000       2\n",
       "887         1      0  19.000000       1\n",
       "888         0      2  29.699118       3\n",
       "889         1      0  26.000000       1\n",
       "890         0      0  32.000000       3\n",
       "\n",
       "[891 rows x 4 columns]"
      ]
     },
     "execution_count": 84,
     "metadata": {},
     "output_type": "execute_result"
    }
   ],
   "source": [
    "df3"
   ]
  },
  {
   "cell_type": "code",
   "execution_count": 88,
   "id": "47a352fa",
   "metadata": {},
   "outputs": [
    {
     "data": {
      "text/html": [
       "<div>\n",
       "<style scoped>\n",
       "    .dataframe tbody tr th:only-of-type {\n",
       "        vertical-align: middle;\n",
       "    }\n",
       "\n",
       "    .dataframe tbody tr th {\n",
       "        vertical-align: top;\n",
       "    }\n",
       "\n",
       "    .dataframe thead th {\n",
       "        text-align: right;\n",
       "    }\n",
       "</style>\n",
       "<table border=\"1\" class=\"dataframe\">\n",
       "  <thead>\n",
       "    <tr style=\"text-align: right;\">\n",
       "      <th></th>\n",
       "      <th>parch</th>\n",
       "      <th>age</th>\n",
       "      <th>pclass</th>\n",
       "    </tr>\n",
       "  </thead>\n",
       "  <tbody>\n",
       "    <tr>\n",
       "      <th>count</th>\n",
       "      <td>712.000000</td>\n",
       "      <td>712.000000</td>\n",
       "      <td>712.000000</td>\n",
       "    </tr>\n",
       "    <tr>\n",
       "      <th>mean</th>\n",
       "      <td>0.391854</td>\n",
       "      <td>29.554091</td>\n",
       "      <td>2.306180</td>\n",
       "    </tr>\n",
       "    <tr>\n",
       "      <th>std</th>\n",
       "      <td>0.797035</td>\n",
       "      <td>13.000763</td>\n",
       "      <td>0.844651</td>\n",
       "    </tr>\n",
       "    <tr>\n",
       "      <th>min</th>\n",
       "      <td>0.000000</td>\n",
       "      <td>0.420000</td>\n",
       "      <td>1.000000</td>\n",
       "    </tr>\n",
       "    <tr>\n",
       "      <th>25%</th>\n",
       "      <td>0.000000</td>\n",
       "      <td>22.000000</td>\n",
       "      <td>1.750000</td>\n",
       "    </tr>\n",
       "    <tr>\n",
       "      <th>50%</th>\n",
       "      <td>0.000000</td>\n",
       "      <td>29.699118</td>\n",
       "      <td>3.000000</td>\n",
       "    </tr>\n",
       "    <tr>\n",
       "      <th>75%</th>\n",
       "      <td>0.000000</td>\n",
       "      <td>35.000000</td>\n",
       "      <td>3.000000</td>\n",
       "    </tr>\n",
       "    <tr>\n",
       "      <th>max</th>\n",
       "      <td>5.000000</td>\n",
       "      <td>71.000000</td>\n",
       "      <td>3.000000</td>\n",
       "    </tr>\n",
       "  </tbody>\n",
       "</table>\n",
       "</div>"
      ],
      "text/plain": [
       "            parch         age      pclass\n",
       "count  712.000000  712.000000  712.000000\n",
       "mean     0.391854   29.554091    2.306180\n",
       "std      0.797035   13.000763    0.844651\n",
       "min      0.000000    0.420000    1.000000\n",
       "25%      0.000000   22.000000    1.750000\n",
       "50%      0.000000   29.699118    3.000000\n",
       "75%      0.000000   35.000000    3.000000\n",
       "max      5.000000   71.000000    3.000000"
      ]
     },
     "execution_count": 88,
     "metadata": {},
     "output_type": "execute_result"
    }
   ],
   "source": [
    "x_train.describe()"
   ]
  },
  {
   "cell_type": "code",
   "execution_count": 85,
   "id": "bc5421f4",
   "metadata": {},
   "outputs": [
    {
     "data": {
      "text/html": [
       "<div>\n",
       "<style scoped>\n",
       "    .dataframe tbody tr th:only-of-type {\n",
       "        vertical-align: middle;\n",
       "    }\n",
       "\n",
       "    .dataframe tbody tr th {\n",
       "        vertical-align: top;\n",
       "    }\n",
       "\n",
       "    .dataframe thead th {\n",
       "        text-align: right;\n",
       "    }\n",
       "</style>\n",
       "<table border=\"1\" class=\"dataframe\">\n",
       "  <thead>\n",
       "    <tr style=\"text-align: right;\">\n",
       "      <th></th>\n",
       "      <th>survived</th>\n",
       "      <th>parch</th>\n",
       "      <th>age</th>\n",
       "      <th>pclass</th>\n",
       "    </tr>\n",
       "  </thead>\n",
       "  <tbody>\n",
       "    <tr>\n",
       "      <th>count</th>\n",
       "      <td>891.000000</td>\n",
       "      <td>891.000000</td>\n",
       "      <td>891.000000</td>\n",
       "      <td>891.000000</td>\n",
       "    </tr>\n",
       "    <tr>\n",
       "      <th>mean</th>\n",
       "      <td>0.383838</td>\n",
       "      <td>0.381594</td>\n",
       "      <td>29.699118</td>\n",
       "      <td>2.308642</td>\n",
       "    </tr>\n",
       "    <tr>\n",
       "      <th>std</th>\n",
       "      <td>0.486592</td>\n",
       "      <td>0.806057</td>\n",
       "      <td>13.002015</td>\n",
       "      <td>0.836071</td>\n",
       "    </tr>\n",
       "    <tr>\n",
       "      <th>min</th>\n",
       "      <td>0.000000</td>\n",
       "      <td>0.000000</td>\n",
       "      <td>0.420000</td>\n",
       "      <td>1.000000</td>\n",
       "    </tr>\n",
       "    <tr>\n",
       "      <th>25%</th>\n",
       "      <td>0.000000</td>\n",
       "      <td>0.000000</td>\n",
       "      <td>22.000000</td>\n",
       "      <td>2.000000</td>\n",
       "    </tr>\n",
       "    <tr>\n",
       "      <th>50%</th>\n",
       "      <td>0.000000</td>\n",
       "      <td>0.000000</td>\n",
       "      <td>29.699118</td>\n",
       "      <td>3.000000</td>\n",
       "    </tr>\n",
       "    <tr>\n",
       "      <th>75%</th>\n",
       "      <td>1.000000</td>\n",
       "      <td>0.000000</td>\n",
       "      <td>35.000000</td>\n",
       "      <td>3.000000</td>\n",
       "    </tr>\n",
       "    <tr>\n",
       "      <th>max</th>\n",
       "      <td>1.000000</td>\n",
       "      <td>6.000000</td>\n",
       "      <td>80.000000</td>\n",
       "      <td>3.000000</td>\n",
       "    </tr>\n",
       "  </tbody>\n",
       "</table>\n",
       "</div>"
      ],
      "text/plain": [
       "         survived       parch         age      pclass\n",
       "count  891.000000  891.000000  891.000000  891.000000\n",
       "mean     0.383838    0.381594   29.699118    2.308642\n",
       "std      0.486592    0.806057   13.002015    0.836071\n",
       "min      0.000000    0.000000    0.420000    1.000000\n",
       "25%      0.000000    0.000000   22.000000    2.000000\n",
       "50%      0.000000    0.000000   29.699118    3.000000\n",
       "75%      1.000000    0.000000   35.000000    3.000000\n",
       "max      1.000000    6.000000   80.000000    3.000000"
      ]
     },
     "execution_count": 85,
     "metadata": {},
     "output_type": "execute_result"
    }
   ],
   "source": [
    "df3.describe()"
   ]
  },
  {
   "cell_type": "code",
   "execution_count": 64,
   "id": "351e1f9c",
   "metadata": {},
   "outputs": [],
   "source": [
    "x= df3.drop('survived',axis=1)\n",
    "y=df3['survived']"
   ]
  },
  {
   "cell_type": "code",
   "execution_count": 65,
   "id": "9421ba70",
   "metadata": {},
   "outputs": [
    {
     "name": "stdout",
     "output_type": "stream",
     "text": [
      "shape of the x (891, 3)\n",
      "shape of the y (891,)\n"
     ]
    }
   ],
   "source": [
    "print('shape of the x',x.shape)\n",
    "print('shape of the y',y.shape)"
   ]
  },
  {
   "cell_type": "code",
   "execution_count": 66,
   "id": "20645900",
   "metadata": {},
   "outputs": [
    {
     "data": {
      "text/html": [
       "<div>\n",
       "<style scoped>\n",
       "    .dataframe tbody tr th:only-of-type {\n",
       "        vertical-align: middle;\n",
       "    }\n",
       "\n",
       "    .dataframe tbody tr th {\n",
       "        vertical-align: top;\n",
       "    }\n",
       "\n",
       "    .dataframe thead th {\n",
       "        text-align: right;\n",
       "    }\n",
       "</style>\n",
       "<table border=\"1\" class=\"dataframe\">\n",
       "  <thead>\n",
       "    <tr style=\"text-align: right;\">\n",
       "      <th></th>\n",
       "      <th>parch</th>\n",
       "      <th>age</th>\n",
       "      <th>pclass</th>\n",
       "    </tr>\n",
       "  </thead>\n",
       "  <tbody>\n",
       "    <tr>\n",
       "      <th>0</th>\n",
       "      <td>0</td>\n",
       "      <td>22.000000</td>\n",
       "      <td>3</td>\n",
       "    </tr>\n",
       "    <tr>\n",
       "      <th>1</th>\n",
       "      <td>0</td>\n",
       "      <td>38.000000</td>\n",
       "      <td>1</td>\n",
       "    </tr>\n",
       "    <tr>\n",
       "      <th>2</th>\n",
       "      <td>0</td>\n",
       "      <td>26.000000</td>\n",
       "      <td>3</td>\n",
       "    </tr>\n",
       "    <tr>\n",
       "      <th>3</th>\n",
       "      <td>0</td>\n",
       "      <td>35.000000</td>\n",
       "      <td>1</td>\n",
       "    </tr>\n",
       "    <tr>\n",
       "      <th>4</th>\n",
       "      <td>0</td>\n",
       "      <td>35.000000</td>\n",
       "      <td>3</td>\n",
       "    </tr>\n",
       "    <tr>\n",
       "      <th>...</th>\n",
       "      <td>...</td>\n",
       "      <td>...</td>\n",
       "      <td>...</td>\n",
       "    </tr>\n",
       "    <tr>\n",
       "      <th>886</th>\n",
       "      <td>0</td>\n",
       "      <td>27.000000</td>\n",
       "      <td>2</td>\n",
       "    </tr>\n",
       "    <tr>\n",
       "      <th>887</th>\n",
       "      <td>0</td>\n",
       "      <td>19.000000</td>\n",
       "      <td>1</td>\n",
       "    </tr>\n",
       "    <tr>\n",
       "      <th>888</th>\n",
       "      <td>2</td>\n",
       "      <td>29.699118</td>\n",
       "      <td>3</td>\n",
       "    </tr>\n",
       "    <tr>\n",
       "      <th>889</th>\n",
       "      <td>0</td>\n",
       "      <td>26.000000</td>\n",
       "      <td>1</td>\n",
       "    </tr>\n",
       "    <tr>\n",
       "      <th>890</th>\n",
       "      <td>0</td>\n",
       "      <td>32.000000</td>\n",
       "      <td>3</td>\n",
       "    </tr>\n",
       "  </tbody>\n",
       "</table>\n",
       "<p>891 rows × 3 columns</p>\n",
       "</div>"
      ],
      "text/plain": [
       "     parch        age  pclass\n",
       "0        0  22.000000       3\n",
       "1        0  38.000000       1\n",
       "2        0  26.000000       3\n",
       "3        0  35.000000       1\n",
       "4        0  35.000000       3\n",
       "..     ...        ...     ...\n",
       "886      0  27.000000       2\n",
       "887      0  19.000000       1\n",
       "888      2  29.699118       3\n",
       "889      0  26.000000       1\n",
       "890      0  32.000000       3\n",
       "\n",
       "[891 rows x 3 columns]"
      ]
     },
     "execution_count": 66,
     "metadata": {},
     "output_type": "execute_result"
    }
   ],
   "source": [
    "x"
   ]
  },
  {
   "cell_type": "code",
   "execution_count": 67,
   "id": "01a1626b",
   "metadata": {},
   "outputs": [
    {
     "data": {
      "text/plain": [
       "0      0\n",
       "1      1\n",
       "2      1\n",
       "3      1\n",
       "4      0\n",
       "      ..\n",
       "886    0\n",
       "887    1\n",
       "888    0\n",
       "889    1\n",
       "890    0\n",
       "Name: survived, Length: 891, dtype: int64"
      ]
     },
     "execution_count": 67,
     "metadata": {},
     "output_type": "execute_result"
    }
   ],
   "source": [
    "y"
   ]
  },
  {
   "cell_type": "code",
   "execution_count": 41,
   "id": "373fc5a0",
   "metadata": {},
   "outputs": [],
   "source": [
    "from sklearn.model_selection import train_test_split"
   ]
  },
  {
   "cell_type": "code",
   "execution_count": 68,
   "id": "d4490301",
   "metadata": {},
   "outputs": [],
   "source": [
    "x_train,x_test,y_train,y_test=train_test_split(x,y,random_state=51,test_size=0.2)"
   ]
  },
  {
   "cell_type": "code",
   "execution_count": 69,
   "id": "602e6fdb",
   "metadata": {},
   "outputs": [
    {
     "name": "stdout",
     "output_type": "stream",
     "text": [
      "(712, 3)\n",
      "(712,)\n",
      "(179, 3)\n",
      "(179,)\n"
     ]
    }
   ],
   "source": [
    "print(x_train.shape)\n",
    "print(y_train.shape)\n",
    "print(x_test.shape)\n",
    "print(y_test.shape)"
   ]
  },
  {
   "cell_type": "code",
   "execution_count": 70,
   "id": "d0063063",
   "metadata": {},
   "outputs": [],
   "source": [
    "sc=StandardScaler()"
   ]
  },
  {
   "cell_type": "code",
   "execution_count": 72,
   "id": "5c5e3c27",
   "metadata": {},
   "outputs": [
    {
     "data": {
      "text/plain": [
       "StandardScaler()"
      ]
     },
     "execution_count": 72,
     "metadata": {},
     "output_type": "execute_result"
    }
   ],
   "source": [
    "sc.fit(x_train)"
   ]
  },
  {
   "cell_type": "code",
   "execution_count": 73,
   "id": "36cd2766",
   "metadata": {},
   "outputs": [
    {
     "data": {
      "text/plain": [
       "array([ 0.39185393, 29.55409121,  2.30617978])"
      ]
     },
     "execution_count": 73,
     "metadata": {},
     "output_type": "execute_result"
    }
   ],
   "source": [
    "sc.mean_"
   ]
  },
  {
   "cell_type": "code",
   "execution_count": 74,
   "id": "f645e4a3",
   "metadata": {},
   "outputs": [
    {
     "data": {
      "text/plain": [
       "array([ 0.79647463, 12.99162985,  0.84405789])"
      ]
     },
     "execution_count": 74,
     "metadata": {},
     "output_type": "execute_result"
    }
   ],
   "source": [
    "sc.scale_\n"
   ]
  },
  {
   "cell_type": "code",
   "execution_count": 75,
   "id": "397b9ccd",
   "metadata": {},
   "outputs": [
    {
     "data": {
      "text/html": [
       "<div>\n",
       "<style scoped>\n",
       "    .dataframe tbody tr th:only-of-type {\n",
       "        vertical-align: middle;\n",
       "    }\n",
       "\n",
       "    .dataframe tbody tr th {\n",
       "        vertical-align: top;\n",
       "    }\n",
       "\n",
       "    .dataframe thead th {\n",
       "        text-align: right;\n",
       "    }\n",
       "</style>\n",
       "<table border=\"1\" class=\"dataframe\">\n",
       "  <thead>\n",
       "    <tr style=\"text-align: right;\">\n",
       "      <th></th>\n",
       "      <th>parch</th>\n",
       "      <th>age</th>\n",
       "      <th>pclass</th>\n",
       "    </tr>\n",
       "  </thead>\n",
       "  <tbody>\n",
       "    <tr>\n",
       "      <th>count</th>\n",
       "      <td>712.000000</td>\n",
       "      <td>712.000000</td>\n",
       "      <td>712.000000</td>\n",
       "    </tr>\n",
       "    <tr>\n",
       "      <th>mean</th>\n",
       "      <td>0.391854</td>\n",
       "      <td>29.554091</td>\n",
       "      <td>2.306180</td>\n",
       "    </tr>\n",
       "    <tr>\n",
       "      <th>std</th>\n",
       "      <td>0.797035</td>\n",
       "      <td>13.000763</td>\n",
       "      <td>0.844651</td>\n",
       "    </tr>\n",
       "    <tr>\n",
       "      <th>min</th>\n",
       "      <td>0.000000</td>\n",
       "      <td>0.420000</td>\n",
       "      <td>1.000000</td>\n",
       "    </tr>\n",
       "    <tr>\n",
       "      <th>25%</th>\n",
       "      <td>0.000000</td>\n",
       "      <td>22.000000</td>\n",
       "      <td>1.750000</td>\n",
       "    </tr>\n",
       "    <tr>\n",
       "      <th>50%</th>\n",
       "      <td>0.000000</td>\n",
       "      <td>29.699118</td>\n",
       "      <td>3.000000</td>\n",
       "    </tr>\n",
       "    <tr>\n",
       "      <th>75%</th>\n",
       "      <td>0.000000</td>\n",
       "      <td>35.000000</td>\n",
       "      <td>3.000000</td>\n",
       "    </tr>\n",
       "    <tr>\n",
       "      <th>max</th>\n",
       "      <td>5.000000</td>\n",
       "      <td>71.000000</td>\n",
       "      <td>3.000000</td>\n",
       "    </tr>\n",
       "  </tbody>\n",
       "</table>\n",
       "</div>"
      ],
      "text/plain": [
       "            parch         age      pclass\n",
       "count  712.000000  712.000000  712.000000\n",
       "mean     0.391854   29.554091    2.306180\n",
       "std      0.797035   13.000763    0.844651\n",
       "min      0.000000    0.420000    1.000000\n",
       "25%      0.000000   22.000000    1.750000\n",
       "50%      0.000000   29.699118    3.000000\n",
       "75%      0.000000   35.000000    3.000000\n",
       "max      5.000000   71.000000    3.000000"
      ]
     },
     "execution_count": 75,
     "metadata": {},
     "output_type": "execute_result"
    }
   ],
   "source": [
    "x_train.describe()"
   ]
  },
  {
   "cell_type": "code",
   "execution_count": 97,
   "id": "cfc526cf",
   "metadata": {},
   "outputs": [],
   "source": [
    "x_train1=sc.transform(x_train)\n",
    "x_test1=sc.transform(x_test)"
   ]
  },
  {
   "cell_type": "code",
   "execution_count": 99,
   "id": "5feff999",
   "metadata": {},
   "outputs": [
    {
     "data": {
      "text/plain": [
       "array([[-0.49198545, -0.42751304,  0.8220055 ],\n",
       "       [-0.49198545,  1.997125  ,  0.8220055 ],\n",
       "       [-0.49198545, -1.42815732,  0.8220055 ],\n",
       "       ...,\n",
       "       [ 3.27461284,  1.41983023,  0.8220055 ],\n",
       "       [ 0.76354731,  0.01116307,  0.8220055 ],\n",
       "       [-0.49198545, -0.08113618,  0.8220055 ]])"
      ]
     },
     "execution_count": 99,
     "metadata": {},
     "output_type": "execute_result"
    }
   ],
   "source": [
    "x_train1"
   ]
  },
  {
   "cell_type": "code",
   "execution_count": 100,
   "id": "7d92fd66",
   "metadata": {},
   "outputs": [
    {
     "data": {
      "text/plain": [
       "array([[-0.49198545,  0.80404914, -1.54750023],\n",
       "       [-0.49198545,  0.18826805,  0.8220055 ],\n",
       "       [-0.49198545,  0.03432278,  0.8220055 ],\n",
       "       [-0.49198545,  0.01116307, -1.54750023],\n",
       "       [ 0.76354731,  0.34221332, -0.36274737],\n",
       "       [-0.49198545,  0.18826805,  0.8220055 ],\n",
       "       [-0.49198545,  1.34285759, -1.54750023],\n",
       "       [-0.49198545, -1.04329413,  0.8220055 ],\n",
       "       [-0.49198545,  2.80533768, -0.36274737],\n",
       "       [ 0.76354731, -1.12026677, -1.54750023],\n",
       "       [-0.49198545,  0.11129541, -0.36274737],\n",
       "       [-0.49198545, -0.1196225 , -0.36274737],\n",
       "       [-0.49198545,  1.18891232, -1.54750023],\n",
       "       [-0.49198545, -0.50448568,  0.8220055 ],\n",
       "       [ 5.78567837,  0.88102177,  0.8220055 ],\n",
       "       [-0.49198545, -0.35054041, -0.36274737],\n",
       "       [ 2.01908008,  0.49615859, -0.36274737],\n",
       "       [-0.49198545,  0.01116307,  0.8220055 ],\n",
       "       [-0.49198545,  0.01116307,  0.8220055 ],\n",
       "       [-0.49198545, -0.81237622, -0.36274737],\n",
       "       [-0.49198545,  0.01116307,  0.8220055 ],\n",
       "       [-0.49198545, -0.88934886, -0.36274737],\n",
       "       [-0.49198545, -0.65843095,  0.8220055 ],\n",
       "       [-0.49198545,  0.11129541, -1.54750023],\n",
       "       [-0.49198545, -0.9663215 ,  0.8220055 ],\n",
       "       [-0.49198545, -0.42751304, -1.54750023],\n",
       "       [-0.49198545,  0.88102177,  0.8220055 ],\n",
       "       [-0.49198545,  0.01116307, -1.54750023],\n",
       "       [ 0.76354731,  0.41918596,  0.8220055 ],\n",
       "       [ 0.76354731, -1.04329413, -1.54750023],\n",
       "       [-0.49198545,  0.01116307,  0.8220055 ],\n",
       "       [ 2.01908008,  2.18955659, -1.54750023],\n",
       "       [-0.49198545,  1.34285759, -1.54750023],\n",
       "       [-0.49198545,  0.11129541,  0.8220055 ],\n",
       "       [-0.49198545,  0.34221332, -0.36274737],\n",
       "       [-0.49198545,  0.01116307, -0.36274737],\n",
       "       [-0.49198545,  0.18826805, -0.36274737],\n",
       "       [-0.49198545,  0.03432278,  0.8220055 ],\n",
       "       [ 0.76354731, -0.58145832, -0.36274737],\n",
       "       [-0.49198545,  3.42111877,  0.8220055 ],\n",
       "       [-0.49198545, -0.1196225 , -0.36274737],\n",
       "       [-0.49198545, -0.65843095,  0.8220055 ],\n",
       "       [-0.49198545,  0.84253546,  0.8220055 ],\n",
       "       [ 2.01908008, -1.88999313, -0.36274737],\n",
       "       [ 2.01908008, -1.96696577,  0.8220055 ],\n",
       "       [-0.49198545,  0.49615859, -0.36274737],\n",
       "       [-0.49198545, -0.04264986, -0.36274737],\n",
       "       [-0.49198545, -1.04329413,  0.8220055 ],\n",
       "       [-0.49198545, -0.1196225 , -1.54750023],\n",
       "       [-0.49198545, -0.35054041,  0.8220055 ],\n",
       "       [-0.49198545,  0.01116307,  0.8220055 ],\n",
       "       [-0.49198545,  0.49615859, -1.54750023],\n",
       "       [-0.49198545,  1.65074814,  0.8220055 ],\n",
       "       [-0.49198545,  0.01116307,  0.8220055 ],\n",
       "       [-0.49198545, -0.42751304, -0.36274737],\n",
       "       [-0.49198545,  1.5737755 , -1.54750023],\n",
       "       [-0.49198545, -0.27356777, -1.54750023],\n",
       "       [-0.49198545,  0.95799441,  0.8220055 ],\n",
       "       [-0.49198545, -1.19723941,  0.8220055 ],\n",
       "       [-0.49198545, -0.65843095,  0.8220055 ],\n",
       "       [-0.49198545,  1.18891232,  0.8220055 ],\n",
       "       [-0.49198545,  1.18891232,  0.8220055 ],\n",
       "       [-0.49198545,  0.95799441, -1.54750023],\n",
       "       [-0.49198545, -0.04264986,  0.8220055 ],\n",
       "       [-0.49198545, -0.1196225 ,  0.8220055 ],\n",
       "       [-0.49198545, -1.04329413,  0.8220055 ],\n",
       "       [-0.49198545, -0.50448568, -0.36274737],\n",
       "       [ 0.76354731, -1.19723941,  0.8220055 ],\n",
       "       [-0.49198545,  0.95799441, -0.36274737],\n",
       "       [-0.49198545, -0.19659513, -0.36274737],\n",
       "       [-0.49198545,  0.18826805, -1.54750023],\n",
       "       [-0.49198545, -0.88934886,  0.8220055 ],\n",
       "       [ 0.76354731, -2.04393841, -0.36274737],\n",
       "       [-0.49198545,  0.01116307,  0.8220055 ],\n",
       "       [-0.49198545,  2.03561132, -1.54750023],\n",
       "       [ 0.76354731, -2.12091104, -0.36274737],\n",
       "       [-0.49198545, -0.1196225 , -0.36274737],\n",
       "       [-0.49198545,  0.65010387, -1.54750023],\n",
       "       [-0.49198545,  0.01116307,  0.8220055 ],\n",
       "       [-0.49198545,  0.01116307,  0.8220055 ],\n",
       "       [-0.49198545, -0.88934886, -0.36274737],\n",
       "       [-0.49198545, -0.1196225 ,  0.8220055 ],\n",
       "       [-0.49198545,  0.03432278, -0.36274737],\n",
       "       [-0.49198545,  0.03432278, -1.54750023],\n",
       "       [-0.49198545,  1.26588496, -0.36274737],\n",
       "       [ 0.76354731, -1.58210259,  0.8220055 ],\n",
       "       [-0.49198545,  0.80404914, -1.54750023],\n",
       "       [-0.49198545,  0.01116307,  0.8220055 ],\n",
       "       [ 2.01908008, -2.12091104,  0.8220055 ],\n",
       "       [-0.49198545,  0.01116307,  0.8220055 ],\n",
       "       [-0.49198545,  1.03496705,  0.8220055 ],\n",
       "       [-0.49198545,  1.88166605, -0.36274737],\n",
       "       [-0.49198545,  0.01116307,  0.8220055 ],\n",
       "       [ 0.76354731, -0.35054041, -0.36274737],\n",
       "       [-0.49198545,  0.11129541, -1.54750023],\n",
       "       [-0.49198545,  0.01116307,  0.8220055 ],\n",
       "       [-0.49198545, -0.04264986, -0.36274737],\n",
       "       [ 0.76354731, -1.04329413,  0.8220055 ],\n",
       "       [-0.49198545, -0.04264986, -1.54750023],\n",
       "       [ 0.76354731,  0.95799441,  0.8220055 ],\n",
       "       [-0.49198545,  2.49744714, -0.36274737],\n",
       "       [ 0.76354731,  0.01116307,  0.8220055 ],\n",
       "       [-0.49198545,  0.26524068,  0.8220055 ],\n",
       "       [-0.49198545, -0.19659513, -0.36274737],\n",
       "       [-0.49198545,  0.01116307,  0.8220055 ],\n",
       "       [ 7.04121114,  1.03496705,  0.8220055 ],\n",
       "       [-0.49198545,  0.11129541,  0.8220055 ],\n",
       "       [-0.49198545, -0.35054041,  0.8220055 ],\n",
       "       [ 0.76354731,  0.49615859,  0.8220055 ],\n",
       "       [-0.49198545,  0.18826805,  0.8220055 ],\n",
       "       [-0.49198545,  0.01116307,  0.8220055 ],\n",
       "       [ 2.01908008, -0.35054041, -0.36274737],\n",
       "       [-0.49198545,  3.88295459, -1.54750023],\n",
       "       [-0.49198545,  0.41918596,  0.8220055 ],\n",
       "       [-0.49198545, -0.81237622, -0.36274737],\n",
       "       [-0.49198545,  0.18826805,  0.8220055 ],\n",
       "       [-0.49198545, -0.9663215 , -0.36274737],\n",
       "       [ 4.53014561,  2.65139241, -1.54750023],\n",
       "       [-0.49198545, -0.81237622,  0.8220055 ],\n",
       "       [-0.49198545, -1.15875309,  0.8220055 ],\n",
       "       [-0.49198545,  0.95799441,  0.8220055 ],\n",
       "       [-0.49198545,  2.49744714, -1.54750023],\n",
       "       [-0.49198545,  0.01116307,  0.8220055 ],\n",
       "       [-0.49198545, -0.81237622,  0.8220055 ],\n",
       "       [ 0.76354731, -0.27356777, -0.36274737],\n",
       "       [-0.49198545, -1.04329413,  0.8220055 ],\n",
       "       [-0.49198545, -0.1196225 ,  0.8220055 ],\n",
       "       [ 0.76354731,  1.11193968, -1.54750023],\n",
       "       [-0.49198545,  0.01116307,  0.8220055 ],\n",
       "       [-0.49198545,  0.01116307,  0.8220055 ],\n",
       "       [-0.49198545,  0.03432278, -0.36274737],\n",
       "       [-0.49198545, -0.27356777,  0.8220055 ],\n",
       "       [-0.49198545,  0.49615859,  0.8220055 ],\n",
       "       [-0.49198545,  2.34350187, -1.54750023],\n",
       "       [-0.49198545, -0.88934886,  0.8220055 ],\n",
       "       [-0.49198545,  0.01116307,  0.8220055 ],\n",
       "       [-0.49198545,  0.01116307, -0.36274737],\n",
       "       [ 0.76354731, -1.04329413,  0.8220055 ],\n",
       "       [ 2.01908008, -2.21096903, -0.36274737],\n",
       "       [-0.49198545,  0.01116307,  0.8220055 ],\n",
       "       [-0.49198545, -0.58145832, -1.54750023],\n",
       "       [-0.49198545, -0.04264986, -0.36274737],\n",
       "       [-0.49198545,  1.22739864, -1.54750023],\n",
       "       [-0.49198545,  0.34221332, -0.36274737],\n",
       "       [ 0.76354731, -0.9663215 ,  0.8220055 ],\n",
       "       [ 0.76354731,  0.26524068,  0.8220055 ],\n",
       "       [-0.49198545, -0.19659513,  0.8220055 ],\n",
       "       [-0.49198545,  0.41918596, -0.36274737],\n",
       "       [-0.49198545,  0.01116307,  0.8220055 ],\n",
       "       [-0.49198545,  0.01116307,  0.8220055 ],\n",
       "       [-0.49198545,  0.01116307,  0.8220055 ],\n",
       "       [ 0.76354731,  1.88166605, -1.54750023],\n",
       "       [ 2.01908008, -1.58210259,  0.8220055 ],\n",
       "       [ 2.01908008, -0.65843095, -1.54750023],\n",
       "       [ 0.76354731, -0.1196225 ,  0.8220055 ],\n",
       "       [-0.49198545,  0.01116307,  0.8220055 ],\n",
       "       [-0.49198545, -1.04329413,  0.8220055 ],\n",
       "       [-0.49198545, -0.65843095, -0.36274737],\n",
       "       [ 0.76354731,  0.01116307,  0.8220055 ],\n",
       "       [ 2.01908008, -1.58210259,  0.8220055 ],\n",
       "       [-0.49198545,  0.57313123,  0.8220055 ],\n",
       "       [ 2.01908008, -2.12091104, -1.54750023],\n",
       "       [-0.49198545, -0.81237622,  0.8220055 ],\n",
       "       [-0.49198545,  1.11193968, -0.36274737],\n",
       "       [-0.49198545, -0.81237622, -1.54750023],\n",
       "       [-0.49198545, -0.1196225 ,  0.8220055 ],\n",
       "       [-0.49198545, -0.04264986,  0.8220055 ],\n",
       "       [-0.49198545,  0.34221332, -0.36274737],\n",
       "       [-0.49198545,  0.49615859, -0.36274737],\n",
       "       [-0.49198545, -0.65843095,  0.8220055 ],\n",
       "       [-0.49198545,  0.01116307,  0.8220055 ],\n",
       "       [-0.49198545,  0.01116307, -1.54750023],\n",
       "       [-0.49198545,  1.95863868, -1.54750023],\n",
       "       [-0.49198545,  0.11129541,  0.8220055 ],\n",
       "       [ 2.01908008,  0.01116307,  0.8220055 ],\n",
       "       [-0.49198545, -0.27356777,  0.8220055 ],\n",
       "       [-0.49198545, -0.42751304, -0.36274737],\n",
       "       [-0.49198545,  0.11129541, -1.54750023],\n",
       "       [-0.49198545,  0.57313123, -1.54750023]])"
      ]
     },
     "execution_count": 100,
     "metadata": {},
     "output_type": "execute_result"
    }
   ],
   "source": [
    "x_test1"
   ]
  },
  {
   "cell_type": "code",
   "execution_count": 158,
   "id": "4c2ce81f",
   "metadata": {},
   "outputs": [],
   "source": [
    "x_train_sc=pd.DataFrame(x_train1,columns=['parch','age','pclass'])"
   ]
  },
  {
   "cell_type": "code",
   "execution_count": 159,
   "id": "400911d7",
   "metadata": {},
   "outputs": [],
   "source": [
    "x_test_sc=pd.DataFrame(x_test1,columns=['parch','age','pclass'])"
   ]
  },
  {
   "cell_type": "code",
   "execution_count": 160,
   "id": "0d87a0a6",
   "metadata": {},
   "outputs": [
    {
     "data": {
      "text/html": [
       "<div>\n",
       "<style scoped>\n",
       "    .dataframe tbody tr th:only-of-type {\n",
       "        vertical-align: middle;\n",
       "    }\n",
       "\n",
       "    .dataframe tbody tr th {\n",
       "        vertical-align: top;\n",
       "    }\n",
       "\n",
       "    .dataframe thead th {\n",
       "        text-align: right;\n",
       "    }\n",
       "</style>\n",
       "<table border=\"1\" class=\"dataframe\">\n",
       "  <thead>\n",
       "    <tr style=\"text-align: right;\">\n",
       "      <th></th>\n",
       "      <th>parch</th>\n",
       "      <th>age</th>\n",
       "      <th>pclass</th>\n",
       "    </tr>\n",
       "  </thead>\n",
       "  <tbody>\n",
       "    <tr>\n",
       "      <th>0</th>\n",
       "      <td>-0.491985</td>\n",
       "      <td>-0.427513</td>\n",
       "      <td>0.822005</td>\n",
       "    </tr>\n",
       "    <tr>\n",
       "      <th>1</th>\n",
       "      <td>-0.491985</td>\n",
       "      <td>1.997125</td>\n",
       "      <td>0.822005</td>\n",
       "    </tr>\n",
       "    <tr>\n",
       "      <th>2</th>\n",
       "      <td>-0.491985</td>\n",
       "      <td>-1.428157</td>\n",
       "      <td>0.822005</td>\n",
       "    </tr>\n",
       "    <tr>\n",
       "      <th>3</th>\n",
       "      <td>-0.491985</td>\n",
       "      <td>-0.889349</td>\n",
       "      <td>0.822005</td>\n",
       "    </tr>\n",
       "    <tr>\n",
       "      <th>4</th>\n",
       "      <td>2.019080</td>\n",
       "      <td>0.011163</td>\n",
       "      <td>0.822005</td>\n",
       "    </tr>\n",
       "    <tr>\n",
       "      <th>...</th>\n",
       "      <td>...</td>\n",
       "      <td>...</td>\n",
       "      <td>...</td>\n",
       "    </tr>\n",
       "    <tr>\n",
       "      <th>707</th>\n",
       "      <td>-0.491985</td>\n",
       "      <td>0.727077</td>\n",
       "      <td>0.822005</td>\n",
       "    </tr>\n",
       "    <tr>\n",
       "      <th>708</th>\n",
       "      <td>0.763547</td>\n",
       "      <td>0.011163</td>\n",
       "      <td>0.822005</td>\n",
       "    </tr>\n",
       "    <tr>\n",
       "      <th>709</th>\n",
       "      <td>3.274613</td>\n",
       "      <td>1.419830</td>\n",
       "      <td>0.822005</td>\n",
       "    </tr>\n",
       "    <tr>\n",
       "      <th>710</th>\n",
       "      <td>0.763547</td>\n",
       "      <td>0.011163</td>\n",
       "      <td>0.822005</td>\n",
       "    </tr>\n",
       "    <tr>\n",
       "      <th>711</th>\n",
       "      <td>-0.491985</td>\n",
       "      <td>-0.081136</td>\n",
       "      <td>0.822005</td>\n",
       "    </tr>\n",
       "  </tbody>\n",
       "</table>\n",
       "<p>712 rows × 3 columns</p>\n",
       "</div>"
      ],
      "text/plain": [
       "        parch       age    pclass\n",
       "0   -0.491985 -0.427513  0.822005\n",
       "1   -0.491985  1.997125  0.822005\n",
       "2   -0.491985 -1.428157  0.822005\n",
       "3   -0.491985 -0.889349  0.822005\n",
       "4    2.019080  0.011163  0.822005\n",
       "..        ...       ...       ...\n",
       "707 -0.491985  0.727077  0.822005\n",
       "708  0.763547  0.011163  0.822005\n",
       "709  3.274613  1.419830  0.822005\n",
       "710  0.763547  0.011163  0.822005\n",
       "711 -0.491985 -0.081136  0.822005\n",
       "\n",
       "[712 rows x 3 columns]"
      ]
     },
     "execution_count": 160,
     "metadata": {},
     "output_type": "execute_result"
    }
   ],
   "source": [
    "x_train_sc"
   ]
  },
  {
   "cell_type": "code",
   "execution_count": 161,
   "id": "bdde127d",
   "metadata": {},
   "outputs": [
    {
     "data": {
      "text/plain": [
       "6.237208003512116e-17"
      ]
     },
     "execution_count": 161,
     "metadata": {},
     "output_type": "execute_result"
    }
   ],
   "source": [
    "x_train_sc['parch'].mean()"
   ]
  },
  {
   "cell_type": "code",
   "execution_count": 162,
   "id": "f8147a82",
   "metadata": {},
   "outputs": [
    {
     "data": {
      "text/html": [
       "<div>\n",
       "<style scoped>\n",
       "    .dataframe tbody tr th:only-of-type {\n",
       "        vertical-align: middle;\n",
       "    }\n",
       "\n",
       "    .dataframe tbody tr th {\n",
       "        vertical-align: top;\n",
       "    }\n",
       "\n",
       "    .dataframe thead th {\n",
       "        text-align: right;\n",
       "    }\n",
       "</style>\n",
       "<table border=\"1\" class=\"dataframe\">\n",
       "  <thead>\n",
       "    <tr style=\"text-align: right;\">\n",
       "      <th></th>\n",
       "      <th>parch</th>\n",
       "      <th>age</th>\n",
       "      <th>pclass</th>\n",
       "    </tr>\n",
       "  </thead>\n",
       "  <tbody>\n",
       "    <tr>\n",
       "      <th>count</th>\n",
       "      <td>7.120000e+02</td>\n",
       "      <td>7.120000e+02</td>\n",
       "      <td>7.120000e+02</td>\n",
       "    </tr>\n",
       "    <tr>\n",
       "      <th>mean</th>\n",
       "      <td>6.237208e-17</td>\n",
       "      <td>1.521879e-16</td>\n",
       "      <td>1.160121e-16</td>\n",
       "    </tr>\n",
       "    <tr>\n",
       "      <th>std</th>\n",
       "      <td>1.000703e+00</td>\n",
       "      <td>1.000703e+00</td>\n",
       "      <td>1.000703e+00</td>\n",
       "    </tr>\n",
       "    <tr>\n",
       "      <th>min</th>\n",
       "      <td>-4.919855e-01</td>\n",
       "      <td>-2.242528e+00</td>\n",
       "      <td>-1.547500e+00</td>\n",
       "    </tr>\n",
       "    <tr>\n",
       "      <th>25%</th>\n",
       "      <td>-4.919855e-01</td>\n",
       "      <td>-5.814583e-01</td>\n",
       "      <td>-6.589356e-01</td>\n",
       "    </tr>\n",
       "    <tr>\n",
       "      <th>50%</th>\n",
       "      <td>-4.919855e-01</td>\n",
       "      <td>1.116307e-02</td>\n",
       "      <td>8.220055e-01</td>\n",
       "    </tr>\n",
       "    <tr>\n",
       "      <th>75%</th>\n",
       "      <td>-4.919855e-01</td>\n",
       "      <td>4.191860e-01</td>\n",
       "      <td>8.220055e-01</td>\n",
       "    </tr>\n",
       "    <tr>\n",
       "      <th>max</th>\n",
       "      <td>5.785678e+00</td>\n",
       "      <td>3.190201e+00</td>\n",
       "      <td>8.220055e-01</td>\n",
       "    </tr>\n",
       "  </tbody>\n",
       "</table>\n",
       "</div>"
      ],
      "text/plain": [
       "              parch           age        pclass\n",
       "count  7.120000e+02  7.120000e+02  7.120000e+02\n",
       "mean   6.237208e-17  1.521879e-16  1.160121e-16\n",
       "std    1.000703e+00  1.000703e+00  1.000703e+00\n",
       "min   -4.919855e-01 -2.242528e+00 -1.547500e+00\n",
       "25%   -4.919855e-01 -5.814583e-01 -6.589356e-01\n",
       "50%   -4.919855e-01  1.116307e-02  8.220055e-01\n",
       "75%   -4.919855e-01  4.191860e-01  8.220055e-01\n",
       "max    5.785678e+00  3.190201e+00  8.220055e-01"
      ]
     },
     "execution_count": 162,
     "metadata": {},
     "output_type": "execute_result"
    }
   ],
   "source": [
    "x_train_sc.describe()"
   ]
  },
  {
   "cell_type": "code",
   "execution_count": 163,
   "id": "0b59f8df",
   "metadata": {},
   "outputs": [
    {
     "data": {
      "text/html": [
       "<div>\n",
       "<style scoped>\n",
       "    .dataframe tbody tr th:only-of-type {\n",
       "        vertical-align: middle;\n",
       "    }\n",
       "\n",
       "    .dataframe tbody tr th {\n",
       "        vertical-align: top;\n",
       "    }\n",
       "\n",
       "    .dataframe thead th {\n",
       "        text-align: right;\n",
       "    }\n",
       "</style>\n",
       "<table border=\"1\" class=\"dataframe\">\n",
       "  <thead>\n",
       "    <tr style=\"text-align: right;\">\n",
       "      <th></th>\n",
       "      <th>index</th>\n",
       "      <th>parch</th>\n",
       "      <th>age</th>\n",
       "      <th>pclass</th>\n",
       "    </tr>\n",
       "  </thead>\n",
       "  <tbody>\n",
       "    <tr>\n",
       "      <th>0</th>\n",
       "      <td>count</td>\n",
       "      <td>712.00</td>\n",
       "      <td>712.00</td>\n",
       "      <td>712.00</td>\n",
       "    </tr>\n",
       "    <tr>\n",
       "      <th>1</th>\n",
       "      <td>mean</td>\n",
       "      <td>0.00</td>\n",
       "      <td>0.00</td>\n",
       "      <td>0.00</td>\n",
       "    </tr>\n",
       "    <tr>\n",
       "      <th>2</th>\n",
       "      <td>std</td>\n",
       "      <td>1.00</td>\n",
       "      <td>1.00</td>\n",
       "      <td>1.00</td>\n",
       "    </tr>\n",
       "    <tr>\n",
       "      <th>3</th>\n",
       "      <td>min</td>\n",
       "      <td>-0.49</td>\n",
       "      <td>-2.24</td>\n",
       "      <td>-1.55</td>\n",
       "    </tr>\n",
       "    <tr>\n",
       "      <th>4</th>\n",
       "      <td>25%</td>\n",
       "      <td>-0.49</td>\n",
       "      <td>-0.58</td>\n",
       "      <td>-0.66</td>\n",
       "    </tr>\n",
       "    <tr>\n",
       "      <th>5</th>\n",
       "      <td>50%</td>\n",
       "      <td>-0.49</td>\n",
       "      <td>0.01</td>\n",
       "      <td>0.82</td>\n",
       "    </tr>\n",
       "    <tr>\n",
       "      <th>6</th>\n",
       "      <td>75%</td>\n",
       "      <td>-0.49</td>\n",
       "      <td>0.42</td>\n",
       "      <td>0.82</td>\n",
       "    </tr>\n",
       "    <tr>\n",
       "      <th>7</th>\n",
       "      <td>max</td>\n",
       "      <td>5.79</td>\n",
       "      <td>3.19</td>\n",
       "      <td>0.82</td>\n",
       "    </tr>\n",
       "  </tbody>\n",
       "</table>\n",
       "</div>"
      ],
      "text/plain": [
       "   index   parch     age  pclass\n",
       "0  count  712.00  712.00  712.00\n",
       "1   mean    0.00    0.00    0.00\n",
       "2    std    1.00    1.00    1.00\n",
       "3    min   -0.49   -2.24   -1.55\n",
       "4    25%   -0.49   -0.58   -0.66\n",
       "5    50%   -0.49    0.01    0.82\n",
       "6    75%   -0.49    0.42    0.82\n",
       "7    max    5.79    3.19    0.82"
      ]
     },
     "execution_count": 163,
     "metadata": {},
     "output_type": "execute_result"
    }
   ],
   "source": [
    "x_train_scl=x_train_sc.describe().round(2).reset_index()\n",
    "x_train_scl\n",
    "# u can see now mean and median -0 and -1"
   ]
  },
  {
   "cell_type": "code",
   "execution_count": 164,
   "id": "ae49c4cf",
   "metadata": {},
   "outputs": [
    {
     "data": {
      "text/html": [
       "<div>\n",
       "<style scoped>\n",
       "    .dataframe tbody tr th:only-of-type {\n",
       "        vertical-align: middle;\n",
       "    }\n",
       "\n",
       "    .dataframe tbody tr th {\n",
       "        vertical-align: top;\n",
       "    }\n",
       "\n",
       "    .dataframe thead th {\n",
       "        text-align: right;\n",
       "    }\n",
       "</style>\n",
       "<table border=\"1\" class=\"dataframe\">\n",
       "  <thead>\n",
       "    <tr style=\"text-align: right;\">\n",
       "      <th></th>\n",
       "      <th>index</th>\n",
       "      <th>parch</th>\n",
       "      <th>age</th>\n",
       "      <th>pclass</th>\n",
       "    </tr>\n",
       "  </thead>\n",
       "  <tbody>\n",
       "    <tr>\n",
       "      <th>0</th>\n",
       "      <td>count</td>\n",
       "      <td>179.00</td>\n",
       "      <td>179.00</td>\n",
       "      <td>179.00</td>\n",
       "    </tr>\n",
       "    <tr>\n",
       "      <th>1</th>\n",
       "      <td>mean</td>\n",
       "      <td>-0.06</td>\n",
       "      <td>0.06</td>\n",
       "      <td>0.01</td>\n",
       "    </tr>\n",
       "    <tr>\n",
       "      <th>2</th>\n",
       "      <td>std</td>\n",
       "      <td>1.06</td>\n",
       "      <td>1.00</td>\n",
       "      <td>0.95</td>\n",
       "    </tr>\n",
       "    <tr>\n",
       "      <th>3</th>\n",
       "      <td>min</td>\n",
       "      <td>-0.49</td>\n",
       "      <td>-2.21</td>\n",
       "      <td>-1.55</td>\n",
       "    </tr>\n",
       "    <tr>\n",
       "      <th>4</th>\n",
       "      <td>25%</td>\n",
       "      <td>-0.49</td>\n",
       "      <td>-0.47</td>\n",
       "      <td>-0.36</td>\n",
       "    </tr>\n",
       "    <tr>\n",
       "      <th>5</th>\n",
       "      <td>50%</td>\n",
       "      <td>-0.49</td>\n",
       "      <td>0.01</td>\n",
       "      <td>0.82</td>\n",
       "    </tr>\n",
       "    <tr>\n",
       "      <th>6</th>\n",
       "      <td>75%</td>\n",
       "      <td>-0.49</td>\n",
       "      <td>0.42</td>\n",
       "      <td>0.82</td>\n",
       "    </tr>\n",
       "    <tr>\n",
       "      <th>7</th>\n",
       "      <td>max</td>\n",
       "      <td>7.04</td>\n",
       "      <td>3.88</td>\n",
       "      <td>0.82</td>\n",
       "    </tr>\n",
       "  </tbody>\n",
       "</table>\n",
       "</div>"
      ],
      "text/plain": [
       "   index   parch     age  pclass\n",
       "0  count  179.00  179.00  179.00\n",
       "1   mean   -0.06    0.06    0.01\n",
       "2    std    1.06    1.00    0.95\n",
       "3    min   -0.49   -2.21   -1.55\n",
       "4    25%   -0.49   -0.47   -0.36\n",
       "5    50%   -0.49    0.01    0.82\n",
       "6    75%   -0.49    0.42    0.82\n",
       "7    max    7.04    3.88    0.82"
      ]
     },
     "execution_count": 164,
     "metadata": {},
     "output_type": "execute_result"
    }
   ],
   "source": [
    "x_test_scl=x_test_sc.describe().round(2).reset_index()\n",
    "x_test_scl"
   ]
  },
  {
   "cell_type": "code",
   "execution_count": 165,
   "id": "69ddac72",
   "metadata": {},
   "outputs": [
    {
     "data": {
      "text/html": [
       "<div>\n",
       "<style scoped>\n",
       "    .dataframe tbody tr th:only-of-type {\n",
       "        vertical-align: middle;\n",
       "    }\n",
       "\n",
       "    .dataframe tbody tr th {\n",
       "        vertical-align: top;\n",
       "    }\n",
       "\n",
       "    .dataframe thead th {\n",
       "        text-align: right;\n",
       "    }\n",
       "</style>\n",
       "<table border=\"1\" class=\"dataframe\">\n",
       "  <thead>\n",
       "    <tr style=\"text-align: right;\">\n",
       "      <th></th>\n",
       "      <th>index</th>\n",
       "      <th>parch</th>\n",
       "      <th>age</th>\n",
       "      <th>pclass</th>\n",
       "    </tr>\n",
       "  </thead>\n",
       "  <tbody>\n",
       "    <tr>\n",
       "      <th>0</th>\n",
       "      <td>count</td>\n",
       "      <td>179.00</td>\n",
       "      <td>179.00</td>\n",
       "      <td>179.00</td>\n",
       "    </tr>\n",
       "    <tr>\n",
       "      <th>1</th>\n",
       "      <td>mean</td>\n",
       "      <td>0.34</td>\n",
       "      <td>30.28</td>\n",
       "      <td>2.32</td>\n",
       "    </tr>\n",
       "    <tr>\n",
       "      <th>2</th>\n",
       "      <td>std</td>\n",
       "      <td>0.84</td>\n",
       "      <td>13.03</td>\n",
       "      <td>0.80</td>\n",
       "    </tr>\n",
       "    <tr>\n",
       "      <th>3</th>\n",
       "      <td>min</td>\n",
       "      <td>0.00</td>\n",
       "      <td>0.83</td>\n",
       "      <td>1.00</td>\n",
       "    </tr>\n",
       "    <tr>\n",
       "      <th>4</th>\n",
       "      <td>25%</td>\n",
       "      <td>0.00</td>\n",
       "      <td>23.50</td>\n",
       "      <td>2.00</td>\n",
       "    </tr>\n",
       "    <tr>\n",
       "      <th>5</th>\n",
       "      <td>50%</td>\n",
       "      <td>0.00</td>\n",
       "      <td>29.70</td>\n",
       "      <td>3.00</td>\n",
       "    </tr>\n",
       "    <tr>\n",
       "      <th>6</th>\n",
       "      <td>75%</td>\n",
       "      <td>0.00</td>\n",
       "      <td>35.00</td>\n",
       "      <td>3.00</td>\n",
       "    </tr>\n",
       "    <tr>\n",
       "      <th>7</th>\n",
       "      <td>max</td>\n",
       "      <td>6.00</td>\n",
       "      <td>80.00</td>\n",
       "      <td>3.00</td>\n",
       "    </tr>\n",
       "  </tbody>\n",
       "</table>\n",
       "</div>"
      ],
      "text/plain": [
       "   index   parch     age  pclass\n",
       "0  count  179.00  179.00  179.00\n",
       "1   mean    0.34   30.28    2.32\n",
       "2    std    0.84   13.03    0.80\n",
       "3    min    0.00    0.83    1.00\n",
       "4    25%    0.00   23.50    2.00\n",
       "5    50%    0.00   29.70    3.00\n",
       "6    75%    0.00   35.00    3.00\n",
       "7    max    6.00   80.00    3.00"
      ]
     },
     "execution_count": 165,
     "metadata": {},
     "output_type": "execute_result"
    }
   ],
   "source": [
    "x_test_org=x_test.describe().round(2).reset_index()\n",
    "x_test_org"
   ]
  },
  {
   "cell_type": "code",
   "execution_count": 166,
   "id": "61ea3d7f",
   "metadata": {},
   "outputs": [
    {
     "data": {
      "text/html": [
       "<div>\n",
       "<style scoped>\n",
       "    .dataframe tbody tr th:only-of-type {\n",
       "        vertical-align: middle;\n",
       "    }\n",
       "\n",
       "    .dataframe tbody tr th {\n",
       "        vertical-align: top;\n",
       "    }\n",
       "\n",
       "    .dataframe thead th {\n",
       "        text-align: right;\n",
       "    }\n",
       "</style>\n",
       "<table border=\"1\" class=\"dataframe\">\n",
       "  <thead>\n",
       "    <tr style=\"text-align: right;\">\n",
       "      <th></th>\n",
       "      <th>index</th>\n",
       "      <th>parch</th>\n",
       "      <th>age</th>\n",
       "      <th>pclass</th>\n",
       "    </tr>\n",
       "  </thead>\n",
       "  <tbody>\n",
       "    <tr>\n",
       "      <th>0</th>\n",
       "      <td>count</td>\n",
       "      <td>712.00</td>\n",
       "      <td>712.00</td>\n",
       "      <td>712.00</td>\n",
       "    </tr>\n",
       "    <tr>\n",
       "      <th>1</th>\n",
       "      <td>mean</td>\n",
       "      <td>0.39</td>\n",
       "      <td>29.55</td>\n",
       "      <td>2.31</td>\n",
       "    </tr>\n",
       "    <tr>\n",
       "      <th>2</th>\n",
       "      <td>std</td>\n",
       "      <td>0.80</td>\n",
       "      <td>13.00</td>\n",
       "      <td>0.84</td>\n",
       "    </tr>\n",
       "    <tr>\n",
       "      <th>3</th>\n",
       "      <td>min</td>\n",
       "      <td>0.00</td>\n",
       "      <td>0.42</td>\n",
       "      <td>1.00</td>\n",
       "    </tr>\n",
       "    <tr>\n",
       "      <th>4</th>\n",
       "      <td>25%</td>\n",
       "      <td>0.00</td>\n",
       "      <td>22.00</td>\n",
       "      <td>1.75</td>\n",
       "    </tr>\n",
       "    <tr>\n",
       "      <th>5</th>\n",
       "      <td>50%</td>\n",
       "      <td>0.00</td>\n",
       "      <td>29.70</td>\n",
       "      <td>3.00</td>\n",
       "    </tr>\n",
       "    <tr>\n",
       "      <th>6</th>\n",
       "      <td>75%</td>\n",
       "      <td>0.00</td>\n",
       "      <td>35.00</td>\n",
       "      <td>3.00</td>\n",
       "    </tr>\n",
       "    <tr>\n",
       "      <th>7</th>\n",
       "      <td>max</td>\n",
       "      <td>5.00</td>\n",
       "      <td>71.00</td>\n",
       "      <td>3.00</td>\n",
       "    </tr>\n",
       "  </tbody>\n",
       "</table>\n",
       "</div>"
      ],
      "text/plain": [
       "   index   parch     age  pclass\n",
       "0  count  712.00  712.00  712.00\n",
       "1   mean    0.39   29.55    2.31\n",
       "2    std    0.80   13.00    0.84\n",
       "3    min    0.00    0.42    1.00\n",
       "4    25%    0.00   22.00    1.75\n",
       "5    50%    0.00   29.70    3.00\n",
       "6    75%    0.00   35.00    3.00\n",
       "7    max    5.00   71.00    3.00"
      ]
     },
     "execution_count": 166,
     "metadata": {},
     "output_type": "execute_result"
    }
   ],
   "source": [
    "x_train_org=x_train.describe().round(2).reset_index()\n",
    "x_train_org"
   ]
  },
  {
   "cell_type": "code",
   "execution_count": 144,
   "id": "dc4a7a61",
   "metadata": {},
   "outputs": [
    {
     "data": {
      "text/html": [
       "<div>\n",
       "<style scoped>\n",
       "    .dataframe tbody tr th:only-of-type {\n",
       "        vertical-align: middle;\n",
       "    }\n",
       "\n",
       "    .dataframe tbody tr th {\n",
       "        vertical-align: top;\n",
       "    }\n",
       "\n",
       "    .dataframe thead th {\n",
       "        text-align: right;\n",
       "    }\n",
       "</style>\n",
       "<table border=\"1\" class=\"dataframe\">\n",
       "  <thead>\n",
       "    <tr style=\"text-align: right;\">\n",
       "      <th></th>\n",
       "      <th>index</th>\n",
       "      <th>parch</th>\n",
       "      <th>age</th>\n",
       "      <th>pclass</th>\n",
       "      <th>index</th>\n",
       "      <th>parch</th>\n",
       "      <th>age</th>\n",
       "      <th>pclass</th>\n",
       "      <th>index</th>\n",
       "      <th>parch</th>\n",
       "      <th>age</th>\n",
       "      <th>pclass</th>\n",
       "      <th>index</th>\n",
       "      <th>parch</th>\n",
       "      <th>age</th>\n",
       "      <th>pclass</th>\n",
       "    </tr>\n",
       "  </thead>\n",
       "  <tbody>\n",
       "    <tr>\n",
       "      <th>0</th>\n",
       "      <td>count</td>\n",
       "      <td>712.00</td>\n",
       "      <td>712.00</td>\n",
       "      <td>712.00</td>\n",
       "      <td>count</td>\n",
       "      <td>179.00</td>\n",
       "      <td>179.00</td>\n",
       "      <td>179.00</td>\n",
       "      <td>count</td>\n",
       "      <td>712.00</td>\n",
       "      <td>712.00</td>\n",
       "      <td>712.00</td>\n",
       "      <td>count</td>\n",
       "      <td>179.00</td>\n",
       "      <td>179.00</td>\n",
       "      <td>179.00</td>\n",
       "    </tr>\n",
       "    <tr>\n",
       "      <th>1</th>\n",
       "      <td>mean</td>\n",
       "      <td>0.00</td>\n",
       "      <td>0.00</td>\n",
       "      <td>0.00</td>\n",
       "      <td>mean</td>\n",
       "      <td>-0.06</td>\n",
       "      <td>0.06</td>\n",
       "      <td>0.01</td>\n",
       "      <td>mean</td>\n",
       "      <td>0.39</td>\n",
       "      <td>29.55</td>\n",
       "      <td>2.31</td>\n",
       "      <td>mean</td>\n",
       "      <td>0.34</td>\n",
       "      <td>30.28</td>\n",
       "      <td>2.32</td>\n",
       "    </tr>\n",
       "    <tr>\n",
       "      <th>2</th>\n",
       "      <td>std</td>\n",
       "      <td>1.00</td>\n",
       "      <td>1.00</td>\n",
       "      <td>1.00</td>\n",
       "      <td>std</td>\n",
       "      <td>1.06</td>\n",
       "      <td>1.00</td>\n",
       "      <td>0.95</td>\n",
       "      <td>std</td>\n",
       "      <td>0.80</td>\n",
       "      <td>13.00</td>\n",
       "      <td>0.84</td>\n",
       "      <td>std</td>\n",
       "      <td>0.84</td>\n",
       "      <td>13.03</td>\n",
       "      <td>0.80</td>\n",
       "    </tr>\n",
       "    <tr>\n",
       "      <th>3</th>\n",
       "      <td>min</td>\n",
       "      <td>-0.49</td>\n",
       "      <td>-2.24</td>\n",
       "      <td>-1.55</td>\n",
       "      <td>min</td>\n",
       "      <td>-0.49</td>\n",
       "      <td>-2.21</td>\n",
       "      <td>-1.55</td>\n",
       "      <td>min</td>\n",
       "      <td>0.00</td>\n",
       "      <td>0.42</td>\n",
       "      <td>1.00</td>\n",
       "      <td>min</td>\n",
       "      <td>0.00</td>\n",
       "      <td>0.83</td>\n",
       "      <td>1.00</td>\n",
       "    </tr>\n",
       "    <tr>\n",
       "      <th>4</th>\n",
       "      <td>25%</td>\n",
       "      <td>-0.49</td>\n",
       "      <td>-0.58</td>\n",
       "      <td>-0.66</td>\n",
       "      <td>25%</td>\n",
       "      <td>-0.49</td>\n",
       "      <td>-0.47</td>\n",
       "      <td>-0.36</td>\n",
       "      <td>25%</td>\n",
       "      <td>0.00</td>\n",
       "      <td>22.00</td>\n",
       "      <td>1.75</td>\n",
       "      <td>25%</td>\n",
       "      <td>0.00</td>\n",
       "      <td>23.50</td>\n",
       "      <td>2.00</td>\n",
       "    </tr>\n",
       "    <tr>\n",
       "      <th>5</th>\n",
       "      <td>50%</td>\n",
       "      <td>-0.49</td>\n",
       "      <td>0.01</td>\n",
       "      <td>0.82</td>\n",
       "      <td>50%</td>\n",
       "      <td>-0.49</td>\n",
       "      <td>0.01</td>\n",
       "      <td>0.82</td>\n",
       "      <td>50%</td>\n",
       "      <td>0.00</td>\n",
       "      <td>29.70</td>\n",
       "      <td>3.00</td>\n",
       "      <td>50%</td>\n",
       "      <td>0.00</td>\n",
       "      <td>29.70</td>\n",
       "      <td>3.00</td>\n",
       "    </tr>\n",
       "    <tr>\n",
       "      <th>6</th>\n",
       "      <td>75%</td>\n",
       "      <td>-0.49</td>\n",
       "      <td>0.42</td>\n",
       "      <td>0.82</td>\n",
       "      <td>75%</td>\n",
       "      <td>-0.49</td>\n",
       "      <td>0.42</td>\n",
       "      <td>0.82</td>\n",
       "      <td>75%</td>\n",
       "      <td>0.00</td>\n",
       "      <td>35.00</td>\n",
       "      <td>3.00</td>\n",
       "      <td>75%</td>\n",
       "      <td>0.00</td>\n",
       "      <td>35.00</td>\n",
       "      <td>3.00</td>\n",
       "    </tr>\n",
       "    <tr>\n",
       "      <th>7</th>\n",
       "      <td>max</td>\n",
       "      <td>5.79</td>\n",
       "      <td>3.19</td>\n",
       "      <td>0.82</td>\n",
       "      <td>max</td>\n",
       "      <td>7.04</td>\n",
       "      <td>3.88</td>\n",
       "      <td>0.82</td>\n",
       "      <td>max</td>\n",
       "      <td>5.00</td>\n",
       "      <td>71.00</td>\n",
       "      <td>3.00</td>\n",
       "      <td>max</td>\n",
       "      <td>6.00</td>\n",
       "      <td>80.00</td>\n",
       "      <td>3.00</td>\n",
       "    </tr>\n",
       "  </tbody>\n",
       "</table>\n",
       "</div>"
      ],
      "text/plain": [
       "   index   parch     age  pclass  index   parch     age  pclass  index  \\\n",
       "0  count  712.00  712.00  712.00  count  179.00  179.00  179.00  count   \n",
       "1   mean    0.00    0.00    0.00   mean   -0.06    0.06    0.01   mean   \n",
       "2    std    1.00    1.00    1.00    std    1.06    1.00    0.95    std   \n",
       "3    min   -0.49   -2.24   -1.55    min   -0.49   -2.21   -1.55    min   \n",
       "4    25%   -0.49   -0.58   -0.66    25%   -0.49   -0.47   -0.36    25%   \n",
       "5    50%   -0.49    0.01    0.82    50%   -0.49    0.01    0.82    50%   \n",
       "6    75%   -0.49    0.42    0.82    75%   -0.49    0.42    0.82    75%   \n",
       "7    max    5.79    3.19    0.82    max    7.04    3.88    0.82    max   \n",
       "\n",
       "    parch     age  pclass  index   parch     age  pclass  \n",
       "0  712.00  712.00  712.00  count  179.00  179.00  179.00  \n",
       "1    0.39   29.55    2.31   mean    0.34   30.28    2.32  \n",
       "2    0.80   13.00    0.84    std    0.84   13.03    0.80  \n",
       "3    0.00    0.42    1.00    min    0.00    0.83    1.00  \n",
       "4    0.00   22.00    1.75    25%    0.00   23.50    2.00  \n",
       "5    0.00   29.70    3.00    50%    0.00   29.70    3.00  \n",
       "6    0.00   35.00    3.00    75%    0.00   35.00    3.00  \n",
       "7    5.00   71.00    3.00    max    6.00   80.00    3.00  "
      ]
     },
     "execution_count": 144,
     "metadata": {},
     "output_type": "execute_result"
    }
   ],
   "source": [
    "concate_org_scl=pd.concat([x_train_scl,x_test_scl,x_train_org,x_test_org],axis=1)\n",
    "concate_org_scl"
   ]
  },
  {
   "cell_type": "markdown",
   "id": "4731f024",
   "metadata": {},
   "source": [
    "# function for rename name"
   ]
  },
  {
   "cell_type": "code",
   "execution_count": 155,
   "id": "b4b14d60",
   "metadata": {},
   "outputs": [],
   "source": [
    "for i, var in enumerate(concate_org_scl.columns):\n",
    "    if i <=4:\n",
    "        concate_org_scl.rename({var:var+'_train_scl'},axis='columns',inplace=True)\n",
    "    elif i>4 & i<=8:\n",
    "        concate_org_scl.rename({var:var+'_test_scl'},axis='columns',inplace=True)\n",
    "    elif i>8 & i<=12:\n",
    "        concate_org_scl.rename({var:var+'_train_org'},axis='columns',inplace=True)\n",
    "    elif i>12 & i<=16:\n",
    "        concate_org_scl.rename({var:var+'_test_org'},axis='columns',inplace=True)\n",
    "        "
   ]
  },
  {
   "cell_type": "code",
   "execution_count": 156,
   "id": "dd640e9f",
   "metadata": {},
   "outputs": [
    {
     "data": {
      "text/plain": [
       "Index(['index_train_scl_train_scl', 'parch_train_scl_train_scl',\n",
       "       'age_train_scl_train_scl', 'pclass_train_scl_train_scl',\n",
       "       'index_train_scl_train_scl', 'parch_train_scl_train_scl',\n",
       "       'age_train_scl_train_scl', 'pclass_train_scl_train_scl',\n",
       "       'index_train_scl_train_scl', 'parch_train_scl_train_scl',\n",
       "       'age_train_scl_train_scl', 'pclass_train_scl_train_scl',\n",
       "       'index_train_scl_train_scl', 'parch_train_scl_train_scl',\n",
       "       'age_train_scl_train_scl', 'pclass_train_scl_train_scl'],\n",
       "      dtype='object')"
      ]
     },
     "execution_count": 156,
     "metadata": {},
     "output_type": "execute_result"
    }
   ],
   "source": [
    "concate_org_scl.columns"
   ]
  },
  {
   "cell_type": "code",
   "execution_count": 157,
   "id": "7e7c519c",
   "metadata": {},
   "outputs": [
    {
     "data": {
      "text/html": [
       "<div>\n",
       "<style scoped>\n",
       "    .dataframe tbody tr th:only-of-type {\n",
       "        vertical-align: middle;\n",
       "    }\n",
       "\n",
       "    .dataframe tbody tr th {\n",
       "        vertical-align: top;\n",
       "    }\n",
       "\n",
       "    .dataframe thead th {\n",
       "        text-align: right;\n",
       "    }\n",
       "</style>\n",
       "<table border=\"1\" class=\"dataframe\">\n",
       "  <thead>\n",
       "    <tr style=\"text-align: right;\">\n",
       "      <th></th>\n",
       "      <th>index_train_scl_train_scl</th>\n",
       "      <th>parch_train_scl_train_scl</th>\n",
       "      <th>age_train_scl_train_scl</th>\n",
       "      <th>pclass_train_scl_train_scl</th>\n",
       "      <th>index_train_scl_train_scl</th>\n",
       "      <th>parch_train_scl_train_scl</th>\n",
       "      <th>age_train_scl_train_scl</th>\n",
       "      <th>pclass_train_scl_train_scl</th>\n",
       "      <th>index_train_scl_train_scl</th>\n",
       "      <th>parch_train_scl_train_scl</th>\n",
       "      <th>age_train_scl_train_scl</th>\n",
       "      <th>pclass_train_scl_train_scl</th>\n",
       "      <th>index_train_scl_train_scl</th>\n",
       "      <th>parch_train_scl_train_scl</th>\n",
       "      <th>age_train_scl_train_scl</th>\n",
       "      <th>pclass_train_scl_train_scl</th>\n",
       "    </tr>\n",
       "  </thead>\n",
       "  <tbody>\n",
       "    <tr>\n",
       "      <th>0</th>\n",
       "      <td>count</td>\n",
       "      <td>712.00</td>\n",
       "      <td>712.00</td>\n",
       "      <td>712.00</td>\n",
       "      <td>count</td>\n",
       "      <td>179.00</td>\n",
       "      <td>179.00</td>\n",
       "      <td>179.00</td>\n",
       "      <td>count</td>\n",
       "      <td>712.00</td>\n",
       "      <td>712.00</td>\n",
       "      <td>712.00</td>\n",
       "      <td>count</td>\n",
       "      <td>179.00</td>\n",
       "      <td>179.00</td>\n",
       "      <td>179.00</td>\n",
       "    </tr>\n",
       "    <tr>\n",
       "      <th>1</th>\n",
       "      <td>mean</td>\n",
       "      <td>0.00</td>\n",
       "      <td>0.00</td>\n",
       "      <td>0.00</td>\n",
       "      <td>mean</td>\n",
       "      <td>-0.06</td>\n",
       "      <td>0.06</td>\n",
       "      <td>0.01</td>\n",
       "      <td>mean</td>\n",
       "      <td>0.39</td>\n",
       "      <td>29.55</td>\n",
       "      <td>2.31</td>\n",
       "      <td>mean</td>\n",
       "      <td>0.34</td>\n",
       "      <td>30.28</td>\n",
       "      <td>2.32</td>\n",
       "    </tr>\n",
       "    <tr>\n",
       "      <th>2</th>\n",
       "      <td>std</td>\n",
       "      <td>1.00</td>\n",
       "      <td>1.00</td>\n",
       "      <td>1.00</td>\n",
       "      <td>std</td>\n",
       "      <td>1.06</td>\n",
       "      <td>1.00</td>\n",
       "      <td>0.95</td>\n",
       "      <td>std</td>\n",
       "      <td>0.80</td>\n",
       "      <td>13.00</td>\n",
       "      <td>0.84</td>\n",
       "      <td>std</td>\n",
       "      <td>0.84</td>\n",
       "      <td>13.03</td>\n",
       "      <td>0.80</td>\n",
       "    </tr>\n",
       "    <tr>\n",
       "      <th>3</th>\n",
       "      <td>min</td>\n",
       "      <td>-0.49</td>\n",
       "      <td>-2.24</td>\n",
       "      <td>-1.55</td>\n",
       "      <td>min</td>\n",
       "      <td>-0.49</td>\n",
       "      <td>-2.21</td>\n",
       "      <td>-1.55</td>\n",
       "      <td>min</td>\n",
       "      <td>0.00</td>\n",
       "      <td>0.42</td>\n",
       "      <td>1.00</td>\n",
       "      <td>min</td>\n",
       "      <td>0.00</td>\n",
       "      <td>0.83</td>\n",
       "      <td>1.00</td>\n",
       "    </tr>\n",
       "    <tr>\n",
       "      <th>4</th>\n",
       "      <td>25%</td>\n",
       "      <td>-0.49</td>\n",
       "      <td>-0.58</td>\n",
       "      <td>-0.66</td>\n",
       "      <td>25%</td>\n",
       "      <td>-0.49</td>\n",
       "      <td>-0.47</td>\n",
       "      <td>-0.36</td>\n",
       "      <td>25%</td>\n",
       "      <td>0.00</td>\n",
       "      <td>22.00</td>\n",
       "      <td>1.75</td>\n",
       "      <td>25%</td>\n",
       "      <td>0.00</td>\n",
       "      <td>23.50</td>\n",
       "      <td>2.00</td>\n",
       "    </tr>\n",
       "    <tr>\n",
       "      <th>5</th>\n",
       "      <td>50%</td>\n",
       "      <td>-0.49</td>\n",
       "      <td>0.01</td>\n",
       "      <td>0.82</td>\n",
       "      <td>50%</td>\n",
       "      <td>-0.49</td>\n",
       "      <td>0.01</td>\n",
       "      <td>0.82</td>\n",
       "      <td>50%</td>\n",
       "      <td>0.00</td>\n",
       "      <td>29.70</td>\n",
       "      <td>3.00</td>\n",
       "      <td>50%</td>\n",
       "      <td>0.00</td>\n",
       "      <td>29.70</td>\n",
       "      <td>3.00</td>\n",
       "    </tr>\n",
       "    <tr>\n",
       "      <th>6</th>\n",
       "      <td>75%</td>\n",
       "      <td>-0.49</td>\n",
       "      <td>0.42</td>\n",
       "      <td>0.82</td>\n",
       "      <td>75%</td>\n",
       "      <td>-0.49</td>\n",
       "      <td>0.42</td>\n",
       "      <td>0.82</td>\n",
       "      <td>75%</td>\n",
       "      <td>0.00</td>\n",
       "      <td>35.00</td>\n",
       "      <td>3.00</td>\n",
       "      <td>75%</td>\n",
       "      <td>0.00</td>\n",
       "      <td>35.00</td>\n",
       "      <td>3.00</td>\n",
       "    </tr>\n",
       "    <tr>\n",
       "      <th>7</th>\n",
       "      <td>max</td>\n",
       "      <td>5.79</td>\n",
       "      <td>3.19</td>\n",
       "      <td>0.82</td>\n",
       "      <td>max</td>\n",
       "      <td>7.04</td>\n",
       "      <td>3.88</td>\n",
       "      <td>0.82</td>\n",
       "      <td>max</td>\n",
       "      <td>5.00</td>\n",
       "      <td>71.00</td>\n",
       "      <td>3.00</td>\n",
       "      <td>max</td>\n",
       "      <td>6.00</td>\n",
       "      <td>80.00</td>\n",
       "      <td>3.00</td>\n",
       "    </tr>\n",
       "  </tbody>\n",
       "</table>\n",
       "</div>"
      ],
      "text/plain": [
       "  index_train_scl_train_scl  parch_train_scl_train_scl  \\\n",
       "0                     count                     712.00   \n",
       "1                      mean                       0.00   \n",
       "2                       std                       1.00   \n",
       "3                       min                      -0.49   \n",
       "4                       25%                      -0.49   \n",
       "5                       50%                      -0.49   \n",
       "6                       75%                      -0.49   \n",
       "7                       max                       5.79   \n",
       "\n",
       "   age_train_scl_train_scl  pclass_train_scl_train_scl  \\\n",
       "0                   712.00                      712.00   \n",
       "1                     0.00                        0.00   \n",
       "2                     1.00                        1.00   \n",
       "3                    -2.24                       -1.55   \n",
       "4                    -0.58                       -0.66   \n",
       "5                     0.01                        0.82   \n",
       "6                     0.42                        0.82   \n",
       "7                     3.19                        0.82   \n",
       "\n",
       "  index_train_scl_train_scl  parch_train_scl_train_scl  \\\n",
       "0                     count                     179.00   \n",
       "1                      mean                      -0.06   \n",
       "2                       std                       1.06   \n",
       "3                       min                      -0.49   \n",
       "4                       25%                      -0.49   \n",
       "5                       50%                      -0.49   \n",
       "6                       75%                      -0.49   \n",
       "7                       max                       7.04   \n",
       "\n",
       "   age_train_scl_train_scl  pclass_train_scl_train_scl  \\\n",
       "0                   179.00                      179.00   \n",
       "1                     0.06                        0.01   \n",
       "2                     1.00                        0.95   \n",
       "3                    -2.21                       -1.55   \n",
       "4                    -0.47                       -0.36   \n",
       "5                     0.01                        0.82   \n",
       "6                     0.42                        0.82   \n",
       "7                     3.88                        0.82   \n",
       "\n",
       "  index_train_scl_train_scl  parch_train_scl_train_scl  \\\n",
       "0                     count                     712.00   \n",
       "1                      mean                       0.39   \n",
       "2                       std                       0.80   \n",
       "3                       min                       0.00   \n",
       "4                       25%                       0.00   \n",
       "5                       50%                       0.00   \n",
       "6                       75%                       0.00   \n",
       "7                       max                       5.00   \n",
       "\n",
       "   age_train_scl_train_scl  pclass_train_scl_train_scl  \\\n",
       "0                   712.00                      712.00   \n",
       "1                    29.55                        2.31   \n",
       "2                    13.00                        0.84   \n",
       "3                     0.42                        1.00   \n",
       "4                    22.00                        1.75   \n",
       "5                    29.70                        3.00   \n",
       "6                    35.00                        3.00   \n",
       "7                    71.00                        3.00   \n",
       "\n",
       "  index_train_scl_train_scl  parch_train_scl_train_scl  \\\n",
       "0                     count                     179.00   \n",
       "1                      mean                       0.34   \n",
       "2                       std                       0.84   \n",
       "3                       min                       0.00   \n",
       "4                       25%                       0.00   \n",
       "5                       50%                       0.00   \n",
       "6                       75%                       0.00   \n",
       "7                       max                       6.00   \n",
       "\n",
       "   age_train_scl_train_scl  pclass_train_scl_train_scl  \n",
       "0                   179.00                      179.00  \n",
       "1                    30.28                        2.32  \n",
       "2                    13.03                        0.80  \n",
       "3                     0.83                        1.00  \n",
       "4                    23.50                        2.00  \n",
       "5                    29.70                        3.00  \n",
       "6                    35.00                        3.00  \n",
       "7                    80.00                        3.00  "
      ]
     },
     "execution_count": 157,
     "metadata": {},
     "output_type": "execute_result"
    }
   ],
   "source": [
    "concate_org_scl"
   ]
  },
  {
   "cell_type": "markdown",
   "id": "48c858cd",
   "metadata": {},
   "source": [
    "# now we will check the data distribution"
   ]
  },
  {
   "cell_type": "code",
   "execution_count": 169,
   "id": "7e7c2408",
   "metadata": {},
   "outputs": [
    {
     "data": {
      "text/html": [
       "<div>\n",
       "<style scoped>\n",
       "    .dataframe tbody tr th:only-of-type {\n",
       "        vertical-align: middle;\n",
       "    }\n",
       "\n",
       "    .dataframe tbody tr th {\n",
       "        vertical-align: top;\n",
       "    }\n",
       "\n",
       "    .dataframe thead th {\n",
       "        text-align: right;\n",
       "    }\n",
       "</style>\n",
       "<table border=\"1\" class=\"dataframe\">\n",
       "  <thead>\n",
       "    <tr style=\"text-align: right;\">\n",
       "      <th></th>\n",
       "      <th>parch</th>\n",
       "      <th>age</th>\n",
       "      <th>pclass</th>\n",
       "    </tr>\n",
       "  </thead>\n",
       "  <tbody>\n",
       "    <tr>\n",
       "      <th>count</th>\n",
       "      <td>712.000000</td>\n",
       "      <td>712.000000</td>\n",
       "      <td>712.000000</td>\n",
       "    </tr>\n",
       "    <tr>\n",
       "      <th>mean</th>\n",
       "      <td>0.391854</td>\n",
       "      <td>29.554091</td>\n",
       "      <td>2.306180</td>\n",
       "    </tr>\n",
       "    <tr>\n",
       "      <th>std</th>\n",
       "      <td>0.797035</td>\n",
       "      <td>13.000763</td>\n",
       "      <td>0.844651</td>\n",
       "    </tr>\n",
       "    <tr>\n",
       "      <th>min</th>\n",
       "      <td>0.000000</td>\n",
       "      <td>0.420000</td>\n",
       "      <td>1.000000</td>\n",
       "    </tr>\n",
       "    <tr>\n",
       "      <th>25%</th>\n",
       "      <td>0.000000</td>\n",
       "      <td>22.000000</td>\n",
       "      <td>1.750000</td>\n",
       "    </tr>\n",
       "    <tr>\n",
       "      <th>50%</th>\n",
       "      <td>0.000000</td>\n",
       "      <td>29.699118</td>\n",
       "      <td>3.000000</td>\n",
       "    </tr>\n",
       "    <tr>\n",
       "      <th>75%</th>\n",
       "      <td>0.000000</td>\n",
       "      <td>35.000000</td>\n",
       "      <td>3.000000</td>\n",
       "    </tr>\n",
       "    <tr>\n",
       "      <th>max</th>\n",
       "      <td>5.000000</td>\n",
       "      <td>71.000000</td>\n",
       "      <td>3.000000</td>\n",
       "    </tr>\n",
       "  </tbody>\n",
       "</table>\n",
       "</div>"
      ],
      "text/plain": [
       "            parch         age      pclass\n",
       "count  712.000000  712.000000  712.000000\n",
       "mean     0.391854   29.554091    2.306180\n",
       "std      0.797035   13.000763    0.844651\n",
       "min      0.000000    0.420000    1.000000\n",
       "25%      0.000000   22.000000    1.750000\n",
       "50%      0.000000   29.699118    3.000000\n",
       "75%      0.000000   35.000000    3.000000\n",
       "max      5.000000   71.000000    3.000000"
      ]
     },
     "execution_count": 169,
     "metadata": {},
     "output_type": "execute_result"
    }
   ],
   "source": [
    "x_train.describe()"
   ]
  },
  {
   "cell_type": "code",
   "execution_count": 171,
   "id": "3a4e450a",
   "metadata": {},
   "outputs": [
    {
     "data": {
      "text/html": [
       "<div>\n",
       "<style scoped>\n",
       "    .dataframe tbody tr th:only-of-type {\n",
       "        vertical-align: middle;\n",
       "    }\n",
       "\n",
       "    .dataframe tbody tr th {\n",
       "        vertical-align: top;\n",
       "    }\n",
       "\n",
       "    .dataframe thead th {\n",
       "        text-align: right;\n",
       "    }\n",
       "</style>\n",
       "<table border=\"1\" class=\"dataframe\">\n",
       "  <thead>\n",
       "    <tr style=\"text-align: right;\">\n",
       "      <th></th>\n",
       "      <th>parch</th>\n",
       "      <th>age</th>\n",
       "      <th>pclass</th>\n",
       "    </tr>\n",
       "  </thead>\n",
       "  <tbody>\n",
       "    <tr>\n",
       "      <th>count</th>\n",
       "      <td>712.00</td>\n",
       "      <td>712.00</td>\n",
       "      <td>712.00</td>\n",
       "    </tr>\n",
       "    <tr>\n",
       "      <th>mean</th>\n",
       "      <td>0.00</td>\n",
       "      <td>0.00</td>\n",
       "      <td>0.00</td>\n",
       "    </tr>\n",
       "    <tr>\n",
       "      <th>std</th>\n",
       "      <td>1.00</td>\n",
       "      <td>1.00</td>\n",
       "      <td>1.00</td>\n",
       "    </tr>\n",
       "    <tr>\n",
       "      <th>min</th>\n",
       "      <td>-0.49</td>\n",
       "      <td>-2.24</td>\n",
       "      <td>-1.55</td>\n",
       "    </tr>\n",
       "    <tr>\n",
       "      <th>25%</th>\n",
       "      <td>-0.49</td>\n",
       "      <td>-0.58</td>\n",
       "      <td>-0.66</td>\n",
       "    </tr>\n",
       "    <tr>\n",
       "      <th>50%</th>\n",
       "      <td>-0.49</td>\n",
       "      <td>0.01</td>\n",
       "      <td>0.82</td>\n",
       "    </tr>\n",
       "    <tr>\n",
       "      <th>75%</th>\n",
       "      <td>-0.49</td>\n",
       "      <td>0.42</td>\n",
       "      <td>0.82</td>\n",
       "    </tr>\n",
       "    <tr>\n",
       "      <th>max</th>\n",
       "      <td>5.79</td>\n",
       "      <td>3.19</td>\n",
       "      <td>0.82</td>\n",
       "    </tr>\n",
       "  </tbody>\n",
       "</table>\n",
       "</div>"
      ],
      "text/plain": [
       "        parch     age  pclass\n",
       "count  712.00  712.00  712.00\n",
       "mean     0.00    0.00    0.00\n",
       "std      1.00    1.00    1.00\n",
       "min     -0.49   -2.24   -1.55\n",
       "25%     -0.49   -0.58   -0.66\n",
       "50%     -0.49    0.01    0.82\n",
       "75%     -0.49    0.42    0.82\n",
       "max      5.79    3.19    0.82"
      ]
     },
     "execution_count": 171,
     "metadata": {},
     "output_type": "execute_result"
    }
   ],
   "source": [
    "x_train_sc.describe().round(2)"
   ]
  },
  {
   "cell_type": "markdown",
   "id": "489d2f1e",
   "metadata": {},
   "source": [
    "# in single ploting distribution is same train dataset distribution"
   ]
  },
  {
   "cell_type": "code",
   "execution_count": 172,
   "id": "ce9371bd",
   "metadata": {},
   "outputs": [
    {
     "name": "stderr",
     "output_type": "stream",
     "text": [
      "c:\\users\\dell\\appdata\\local\\programs\\python\\python39\\lib\\site-packages\\seaborn\\distributions.py:2557: FutureWarning: `distplot` is a deprecated function and will be removed in a future version. Please adapt your code to use either `displot` (a figure-level function with similar flexibility) or `histplot` (an axes-level function for histograms).\n",
      "  warnings.warn(msg, FutureWarning)\n"
     ]
    },
    {
     "data": {
      "text/plain": [
       "<AxesSubplot:xlabel='age', ylabel='Density'>"
      ]
     },
     "execution_count": 172,
     "metadata": {},
     "output_type": "execute_result"
    },
    {
     "data": {
      "image/png": "[encoded data removed]",
      "text/plain": [
       "<Figure size 432x288 with 1 Axes>"
      ]
     },
     "metadata": {
      "needs_background": "light"
     },
     "output_type": "display_data"
    }
   ],
   "source": [
    "sns.distplot(x_train['age'])"
   ]
  },
  {
   "cell_type": "code",
   "execution_count": 189,
   "id": "3b233470",
   "metadata": {},
   "outputs": [
    {
     "name": "stderr",
     "output_type": "stream",
     "text": [
      "c:\\users\\dell\\appdata\\local\\programs\\python\\python39\\lib\\site-packages\\seaborn\\distributions.py:2557: FutureWarning: `distplot` is a deprecated function and will be removed in a future version. Please adapt your code to use either `displot` (a figure-level function with similar flexibility) or `histplot` (an axes-level function for histograms).\n",
      "  warnings.warn(msg, FutureWarning)\n"
     ]
    },
    {
     "data": {
      "text/plain": [
       "<AxesSubplot:xlabel='age', ylabel='Density'>"
      ]
     },
     "execution_count": 189,
     "metadata": {},
     "output_type": "execute_result"
    },
    {
     "data": {
      "image/png": "[encoded data removed]",
      "text/plain": [
       "<Figure size 432x288 with 1 Axes>"
      ]
     },
     "metadata": {
      "needs_background": "light"
     },
     "output_type": "display_data"
    }
   ],
   "source": [
    "sns.distplot(x_train_sc['age'])\n"
   ]
  },
  {
   "cell_type": "code",
   "execution_count": 191,
   "id": "34dcea8e",
   "metadata": {},
   "outputs": [
    {
     "name": "stderr",
     "output_type": "stream",
     "text": [
      "c:\\users\\dell\\appdata\\local\\programs\\python\\python39\\lib\\site-packages\\seaborn\\distributions.py:2557: FutureWarning: `distplot` is a deprecated function and will be removed in a future version. Please adapt your code to use either `displot` (a figure-level function with similar flexibility) or `histplot` (an axes-level function for histograms).\n",
      "  warnings.warn(msg, FutureWarning)\n"
     ]
    },
    {
     "data": {
      "text/plain": [
       "<AxesSubplot:xlabel='pclass', ylabel='Density'>"
      ]
     },
     "execution_count": 191,
     "metadata": {},
     "output_type": "execute_result"
    },
    {
     "data": {
      "image/png": "[encoded data removed]",
      "text/plain": [
       "<Figure size 432x288 with 1 Axes>"
      ]
     },
     "metadata": {
      "needs_background": "light"
     },
     "output_type": "display_data"
    }
   ],
   "source": [
    "sns.distplot(x_train_sc['pclass'])\n"
   ]
  },
  {
   "cell_type": "code",
   "execution_count": 192,
   "id": "55594621",
   "metadata": {},
   "outputs": [
    {
     "name": "stderr",
     "output_type": "stream",
     "text": [
      "c:\\users\\dell\\appdata\\local\\programs\\python\\python39\\lib\\site-packages\\seaborn\\distributions.py:2557: FutureWarning: `distplot` is a deprecated function and will be removed in a future version. Please adapt your code to use either `displot` (a figure-level function with similar flexibility) or `histplot` (an axes-level function for histograms).\n",
      "  warnings.warn(msg, FutureWarning)\n"
     ]
    },
    {
     "data": {
      "text/plain": [
       "<AxesSubplot:xlabel='pclass', ylabel='Density'>"
      ]
     },
     "execution_count": 192,
     "metadata": {},
     "output_type": "execute_result"
    },
    {
     "data": {
      "image/png": "[encoded data removed]",
      "text/plain": [
       "<Figure size 432x288 with 1 Axes>"
      ]
     },
     "metadata": {
      "needs_background": "light"
     },
     "output_type": "display_data"
    }
   ],
   "source": [
    "sns.distplot(x_train['pclass'])\n"
   ]
  },
  {
   "cell_type": "code",
   "execution_count": 193,
   "id": "d1e834f1",
   "metadata": {},
   "outputs": [
    {
     "name": "stderr",
     "output_type": "stream",
     "text": [
      "c:\\users\\dell\\appdata\\local\\programs\\python\\python39\\lib\\site-packages\\seaborn\\distributions.py:2557: FutureWarning: `distplot` is a deprecated function and will be removed in a future version. Please adapt your code to use either `displot` (a figure-level function with similar flexibility) or `histplot` (an axes-level function for histograms).\n",
      "  warnings.warn(msg, FutureWarning)\n"
     ]
    },
    {
     "data": {
      "text/plain": [
       "<AxesSubplot:xlabel='parch', ylabel='Density'>"
      ]
     },
     "execution_count": 193,
     "metadata": {},
     "output_type": "execute_result"
    },
    {
     "data": {
      "image/png": "[encoded data removed]",
      "text/plain": [
       "<Figure size 432x288 with 1 Axes>"
      ]
     },
     "metadata": {
      "needs_background": "light"
     },
     "output_type": "display_data"
    }
   ],
   "source": [
    "sns.distplot(x_train_sc['parch'])\n"
   ]
  },
  {
   "cell_type": "code",
   "execution_count": 194,
   "id": "6eb4e30f",
   "metadata": {},
   "outputs": [
    {
     "name": "stderr",
     "output_type": "stream",
     "text": [
      "c:\\users\\dell\\appdata\\local\\programs\\python\\python39\\lib\\site-packages\\seaborn\\distributions.py:2557: FutureWarning: `distplot` is a deprecated function and will be removed in a future version. Please adapt your code to use either `displot` (a figure-level function with similar flexibility) or `histplot` (an axes-level function for histograms).\n",
      "  warnings.warn(msg, FutureWarning)\n"
     ]
    },
    {
     "data": {
      "text/plain": [
       "<AxesSubplot:xlabel='parch', ylabel='Density'>"
      ]
     },
     "execution_count": 194,
     "metadata": {},
     "output_type": "execute_result"
    },
    {
     "data": {
      "image/png": "[encoded data removed]",
      "text/plain": [
       "<Figure size 432x288 with 1 Axes>"
      ]
     },
     "metadata": {
      "needs_background": "light"
     },
     "output_type": "display_data"
    }
   ],
   "source": [
    "sns.distplot(x_train_sc['parch'])\n"
   ]
  },
  {
   "cell_type": "markdown",
   "id": "c4aa9532",
   "metadata": {},
   "source": [
    "# test data set distribution"
   ]
  },
  {
   "cell_type": "code",
   "execution_count": 207,
   "id": "05181625",
   "metadata": {},
   "outputs": [
    {
     "name": "stderr",
     "output_type": "stream",
     "text": [
      "c:\\users\\dell\\appdata\\local\\programs\\python\\python39\\lib\\site-packages\\seaborn\\distributions.py:2557: FutureWarning: `distplot` is a deprecated function and will be removed in a future version. Please adapt your code to use either `displot` (a figure-level function with similar flexibility) or `histplot` (an axes-level function for histograms).\n",
      "  warnings.warn(msg, FutureWarning)\n"
     ]
    },
    {
     "data": {
      "text/plain": [
       "<AxesSubplot:xlabel='age', ylabel='Density'>"
      ]
     },
     "execution_count": 207,
     "metadata": {},
     "output_type": "execute_result"
    },
    {
     "data": {
      "image/png": "[encoded data removed]",
      "text/plain": [
       "<Figure size 432x288 with 1 Axes>"
      ]
     },
     "metadata": {
      "needs_background": "light"
     },
     "output_type": "display_data"
    }
   ],
   "source": [
    "sns.distplot(x_test['age'])"
   ]
  },
  {
   "cell_type": "code",
   "execution_count": 208,
   "id": "8d367577",
   "metadata": {},
   "outputs": [
    {
     "name": "stderr",
     "output_type": "stream",
     "text": [
      "c:\\users\\dell\\appdata\\local\\programs\\python\\python39\\lib\\site-packages\\seaborn\\distributions.py:2557: FutureWarning: `distplot` is a deprecated function and will be removed in a future version. Please adapt your code to use either `displot` (a figure-level function with similar flexibility) or `histplot` (an axes-level function for histograms).\n",
      "  warnings.warn(msg, FutureWarning)\n"
     ]
    },
    {
     "data": {
      "text/plain": [
       "<AxesSubplot:xlabel='age', ylabel='Density'>"
      ]
     },
     "execution_count": 208,
     "metadata": {},
     "output_type": "execute_result"
    },
    {
     "data": {
      "image/png": "[encoded data removed]",
      "text/plain": [
       "<Figure size 432x288 with 1 Axes>"
      ]
     },
     "metadata": {
      "needs_background": "light"
     },
     "output_type": "display_data"
    }
   ],
   "source": [
    "sns.distplot(x_test_sc['age'])"
   ]
  },
  {
   "cell_type": "code",
   "execution_count": 209,
   "id": "e2f323a8",
   "metadata": {},
   "outputs": [
    {
     "name": "stderr",
     "output_type": "stream",
     "text": [
      "c:\\users\\dell\\appdata\\local\\programs\\python\\python39\\lib\\site-packages\\seaborn\\distributions.py:2557: FutureWarning: `distplot` is a deprecated function and will be removed in a future version. Please adapt your code to use either `displot` (a figure-level function with similar flexibility) or `histplot` (an axes-level function for histograms).\n",
      "  warnings.warn(msg, FutureWarning)\n",
      "c:\\users\\dell\\appdata\\local\\programs\\python\\python39\\lib\\site-packages\\seaborn\\distributions.py:2557: FutureWarning: `distplot` is a deprecated function and will be removed in a future version. Please adapt your code to use either `displot` (a figure-level function with similar flexibility) or `histplot` (an axes-level function for histograms).\n",
      "  warnings.warn(msg, FutureWarning)\n"
     ]
    },
    {
     "data": {
      "text/plain": [
       "<AxesSubplot:xlabel='age', ylabel='Density'>"
      ]
     },
     "execution_count": 209,
     "metadata": {},
     "output_type": "execute_result"
    },
    {
     "data": {
      "image/png": "[encoded data removed]",
      "text/plain": [
       "<Figure size 432x288 with 1 Axes>"
      ]
     },
     "metadata": {
      "needs_background": "light"
     },
     "output_type": "display_data"
    }
   ],
   "source": [
    "sns.distplot(x_test['age'])\n",
    "sns.distplot(x_test_sc['age'])"
   ]
  },
  {
   "cell_type": "markdown",
   "id": "0c529460",
   "metadata": {},
   "source": [
    "# but when we will ploat both chart simultaneously, i do,nt know what is doing"
   ]
  },
  {
   "cell_type": "code",
   "execution_count": 188,
   "id": "730931dc",
   "metadata": {},
   "outputs": [
    {
     "name": "stderr",
     "output_type": "stream",
     "text": [
      "c:\\users\\dell\\appdata\\local\\programs\\python\\python39\\lib\\site-packages\\seaborn\\distributions.py:2557: FutureWarning: `distplot` is a deprecated function and will be removed in a future version. Please adapt your code to use either `displot` (a figure-level function with similar flexibility) or `histplot` (an axes-level function for histograms).\n",
      "  warnings.warn(msg, FutureWarning)\n",
      "c:\\users\\dell\\appdata\\local\\programs\\python\\python39\\lib\\site-packages\\seaborn\\distributions.py:2557: FutureWarning: `distplot` is a deprecated function and will be removed in a future version. Please adapt your code to use either `displot` (a figure-level function with similar flexibility) or `histplot` (an axes-level function for histograms).\n",
      "  warnings.warn(msg, FutureWarning)\n"
     ]
    },
    {
     "data": {
      "text/plain": [
       "<AxesSubplot:xlabel='age', ylabel='Density'>"
      ]
     },
     "execution_count": 188,
     "metadata": {},
     "output_type": "execute_result"
    },
    {
     "data": {
      "image/png": "[encoded data removed]",
      "text/plain": [
       "<Figure size 432x288 with 1 Axes>"
      ]
     },
     "metadata": {
      "needs_background": "light"
     },
     "output_type": "display_data"
    }
   ],
   "source": [
    "sns.distplot(x_train_sc['age'])\n",
    "sns.distplot(x_train['age'])"
   ]
  },
  {
   "cell_type": "code",
   "execution_count": 187,
   "id": "dd014c5e",
   "metadata": {},
   "outputs": [
    {
     "name": "stderr",
     "output_type": "stream",
     "text": [
      "c:\\users\\dell\\appdata\\local\\programs\\python\\python39\\lib\\site-packages\\seaborn\\distributions.py:2557: FutureWarning: `distplot` is a deprecated function and will be removed in a future version. Please adapt your code to use either `displot` (a figure-level function with similar flexibility) or `histplot` (an axes-level function for histograms).\n",
      "  warnings.warn(msg, FutureWarning)\n",
      "c:\\users\\dell\\appdata\\local\\programs\\python\\python39\\lib\\site-packages\\seaborn\\distributions.py:2557: FutureWarning: `distplot` is a deprecated function and will be removed in a future version. Please adapt your code to use either `displot` (a figure-level function with similar flexibility) or `histplot` (an axes-level function for histograms).\n",
      "  warnings.warn(msg, FutureWarning)\n",
      "c:\\users\\dell\\appdata\\local\\programs\\python\\python39\\lib\\site-packages\\seaborn\\distributions.py:2557: FutureWarning: `distplot` is a deprecated function and will be removed in a future version. Please adapt your code to use either `displot` (a figure-level function with similar flexibility) or `histplot` (an axes-level function for histograms).\n",
      "  warnings.warn(msg, FutureWarning)\n",
      "c:\\users\\dell\\appdata\\local\\programs\\python\\python39\\lib\\site-packages\\seaborn\\distributions.py:2557: FutureWarning: `distplot` is a deprecated function and will be removed in a future version. Please adapt your code to use either `displot` (a figure-level function with similar flexibility) or `histplot` (an axes-level function for histograms).\n",
      "  warnings.warn(msg, FutureWarning)\n",
      "c:\\users\\dell\\appdata\\local\\programs\\python\\python39\\lib\\site-packages\\seaborn\\distributions.py:2557: FutureWarning: `distplot` is a deprecated function and will be removed in a future version. Please adapt your code to use either `displot` (a figure-level function with similar flexibility) or `histplot` (an axes-level function for histograms).\n",
      "  warnings.warn(msg, FutureWarning)\n",
      "c:\\users\\dell\\appdata\\local\\programs\\python\\python39\\lib\\site-packages\\seaborn\\distributions.py:2557: FutureWarning: `distplot` is a deprecated function and will be removed in a future version. Please adapt your code to use either `displot` (a figure-level function with similar flexibility) or `histplot` (an axes-level function for histograms).\n",
      "  warnings.warn(msg, FutureWarning)\n"
     ]
    },
    {
     "data": {
      "image/png": "[encoded data removed]",
      "text/plain": [
       "<Figure size 1080x720 with 3 Axes>"
      ]
     },
     "metadata": {
      "needs_background": "light"
     },
     "output_type": "display_data"
    }
   ],
   "source": [
    "plt.figure(figsize=(15,10))\n",
    "for num , var in enumerate(x_train.columns):\n",
    "    plt.subplot(2,2,num+1)\n",
    "    sns.distplot(x_train_sc[var],label='origina')\n",
    "    sns.distplot(x_train[var],label='scaled')\n",
    "    plt.legend()"
   ]
  },
  {
   "cell_type": "markdown",
   "id": "ebcee841",
   "metadata": {},
   "source": [
    "# MinMax scaller methods"
   ]
  },
  {
   "cell_type": "code",
   "execution_count": 195,
   "id": "7e1802dd",
   "metadata": {},
   "outputs": [],
   "source": [
    "from sklearn.preprocessing import MinMaxScaler"
   ]
  },
  {
   "cell_type": "code",
   "execution_count": 196,
   "id": "d32a3780",
   "metadata": {},
   "outputs": [],
   "source": [
    "obj=MinMaxScaler()"
   ]
  },
  {
   "cell_type": "code",
   "execution_count": 197,
   "id": "767d382d",
   "metadata": {},
   "outputs": [
    {
     "data": {
      "text/plain": [
       "MinMaxScaler()"
      ]
     },
     "execution_count": 197,
     "metadata": {},
     "output_type": "execute_result"
    }
   ],
   "source": [
    "obj.fit(x_train)"
   ]
  },
  {
   "cell_type": "code",
   "execution_count": 198,
   "id": "fdf92f7f",
   "metadata": {},
   "outputs": [],
   "source": [
    "x_train_mmc=obj.transform(x_train)\n",
    "x_test_mmc=obj.transform(x_test)"
   ]
  },
  {
   "cell_type": "code",
   "execution_count": 199,
   "id": "f1500190",
   "metadata": {},
   "outputs": [
    {
     "data": {
      "text/plain": [
       "array([[0.        , 0.33408898, 1.        ],\n",
       "       [0.        , 0.78039105, 1.        ],\n",
       "       [0.        , 0.14990082, 1.        ],\n",
       "       ...,\n",
       "       [0.6       , 0.67412865, 1.        ],\n",
       "       [0.2       , 0.4148359 , 1.        ],\n",
       "       [0.        , 0.39784642, 1.        ]])"
      ]
     },
     "execution_count": 199,
     "metadata": {},
     "output_type": "execute_result"
    }
   ],
   "source": [
    "x_train_mmc"
   ]
  },
  {
   "cell_type": "code",
   "execution_count": 200,
   "id": "66e0cba2",
   "metadata": {},
   "outputs": [
    {
     "data": {
      "text/plain": [
       "array([[0.        , 0.56078209, 0.        ],\n",
       "       [0.        , 0.44743553, 1.        ],\n",
       "       [0.        , 0.41909889, 1.        ],\n",
       "       [0.        , 0.4148359 , 0.        ],\n",
       "       [0.2       , 0.47577217, 0.5       ],\n",
       "       [0.        , 0.44743553, 1.        ],\n",
       "       [0.        , 0.65996033, 0.        ],\n",
       "       [0.        , 0.22074242, 1.        ],\n",
       "       [0.        , 0.9291584 , 0.5       ],\n",
       "       [0.2       , 0.2065741 , 0.        ],\n",
       "       [0.        , 0.43326721, 0.5       ],\n",
       "       [0.        , 0.39076226, 0.5       ],\n",
       "       [0.        , 0.63162369, 0.        ],\n",
       "       [0.        , 0.31992066, 1.        ],\n",
       "       [1.        , 0.57495041, 1.        ],\n",
       "       [0.        , 0.3482573 , 0.5       ],\n",
       "       [0.4       , 0.50410881, 0.5       ],\n",
       "       [0.        , 0.4148359 , 1.        ],\n",
       "       [0.        , 0.4148359 , 1.        ],\n",
       "       [0.        , 0.26324738, 0.5       ],\n",
       "       [0.        , 0.4148359 , 1.        ],\n",
       "       [0.        , 0.24907906, 0.5       ],\n",
       "       [0.        , 0.29158402, 1.        ],\n",
       "       [0.        , 0.43326721, 0.        ],\n",
       "       [0.        , 0.23491074, 1.        ],\n",
       "       [0.        , 0.33408898, 0.        ],\n",
       "       [0.        , 0.57495041, 1.        ],\n",
       "       [0.        , 0.4148359 , 0.        ],\n",
       "       [0.2       , 0.48994049, 1.        ],\n",
       "       [0.2       , 0.22074242, 0.        ],\n",
       "       [0.        , 0.4148359 , 1.        ],\n",
       "       [0.4       , 0.81581184, 0.        ],\n",
       "       [0.        , 0.65996033, 0.        ],\n",
       "       [0.        , 0.43326721, 1.        ],\n",
       "       [0.        , 0.47577217, 0.5       ],\n",
       "       [0.        , 0.4148359 , 0.5       ],\n",
       "       [0.        , 0.44743553, 0.5       ],\n",
       "       [0.        , 0.41909889, 1.        ],\n",
       "       [0.2       , 0.30575234, 0.5       ],\n",
       "       [0.        , 1.04250496, 1.        ],\n",
       "       [0.        , 0.39076226, 0.5       ],\n",
       "       [0.        , 0.29158402, 1.        ],\n",
       "       [0.        , 0.56786625, 1.        ],\n",
       "       [0.4       , 0.0648909 , 0.5       ],\n",
       "       [0.4       , 0.05072258, 1.        ],\n",
       "       [0.        , 0.50410881, 0.5       ],\n",
       "       [0.        , 0.40493058, 0.5       ],\n",
       "       [0.        , 0.22074242, 1.        ],\n",
       "       [0.        , 0.39076226, 0.        ],\n",
       "       [0.        , 0.3482573 , 1.        ],\n",
       "       [0.        , 0.4148359 , 1.        ],\n",
       "       [0.        , 0.50410881, 0.        ],\n",
       "       [0.        , 0.71663361, 1.        ],\n",
       "       [0.        , 0.4148359 , 1.        ],\n",
       "       [0.        , 0.33408898, 0.5       ],\n",
       "       [0.        , 0.70246529, 0.        ],\n",
       "       [0.        , 0.36242562, 0.        ],\n",
       "       [0.        , 0.58911873, 1.        ],\n",
       "       [0.        , 0.19240578, 1.        ],\n",
       "       [0.        , 0.29158402, 1.        ],\n",
       "       [0.        , 0.63162369, 1.        ],\n",
       "       [0.        , 0.63162369, 1.        ],\n",
       "       [0.        , 0.58911873, 0.        ],\n",
       "       [0.        , 0.40493058, 1.        ],\n",
       "       [0.        , 0.39076226, 1.        ],\n",
       "       [0.        , 0.22074242, 1.        ],\n",
       "       [0.        , 0.31992066, 0.5       ],\n",
       "       [0.2       , 0.19240578, 1.        ],\n",
       "       [0.        , 0.58911873, 0.5       ],\n",
       "       [0.        , 0.37659394, 0.5       ],\n",
       "       [0.        , 0.44743553, 0.        ],\n",
       "       [0.        , 0.24907906, 1.        ],\n",
       "       [0.2       , 0.03655426, 0.5       ],\n",
       "       [0.        , 0.4148359 , 1.        ],\n",
       "       [0.        , 0.78747521, 0.        ],\n",
       "       [0.2       , 0.02238595, 0.5       ],\n",
       "       [0.        , 0.39076226, 0.5       ],\n",
       "       [0.        , 0.53244545, 0.        ],\n",
       "       [0.        , 0.4148359 , 1.        ],\n",
       "       [0.        , 0.4148359 , 1.        ],\n",
       "       [0.        , 0.24907906, 0.5       ],\n",
       "       [0.        , 0.39076226, 1.        ],\n",
       "       [0.        , 0.41909889, 0.5       ],\n",
       "       [0.        , 0.41909889, 0.        ],\n",
       "       [0.        , 0.64579201, 0.5       ],\n",
       "       [0.2       , 0.12156418, 1.        ],\n",
       "       [0.        , 0.56078209, 0.        ],\n",
       "       [0.        , 0.4148359 , 1.        ],\n",
       "       [0.4       , 0.02238595, 1.        ],\n",
       "       [0.        , 0.4148359 , 1.        ],\n",
       "       [0.        , 0.60328705, 1.        ],\n",
       "       [0.        , 0.75913857, 0.5       ],\n",
       "       [0.        , 0.4148359 , 1.        ],\n",
       "       [0.2       , 0.3482573 , 0.5       ],\n",
       "       [0.        , 0.43326721, 0.        ],\n",
       "       [0.        , 0.4148359 , 1.        ],\n",
       "       [0.        , 0.40493058, 0.5       ],\n",
       "       [0.2       , 0.22074242, 1.        ],\n",
       "       [0.        , 0.40493058, 0.        ],\n",
       "       [0.2       , 0.58911873, 1.        ],\n",
       "       [0.        , 0.87248512, 0.5       ],\n",
       "       [0.2       , 0.4148359 , 1.        ],\n",
       "       [0.        , 0.46160385, 1.        ],\n",
       "       [0.        , 0.37659394, 0.5       ],\n",
       "       [0.        , 0.4148359 , 1.        ],\n",
       "       [1.2       , 0.60328705, 1.        ],\n",
       "       [0.        , 0.43326721, 1.        ],\n",
       "       [0.        , 0.3482573 , 1.        ],\n",
       "       [0.2       , 0.50410881, 1.        ],\n",
       "       [0.        , 0.44743553, 1.        ],\n",
       "       [0.        , 0.4148359 , 1.        ],\n",
       "       [0.4       , 0.3482573 , 0.5       ],\n",
       "       [0.        , 1.12751488, 0.        ],\n",
       "       [0.        , 0.48994049, 1.        ],\n",
       "       [0.        , 0.26324738, 0.5       ],\n",
       "       [0.        , 0.44743553, 1.        ],\n",
       "       [0.        , 0.23491074, 0.5       ],\n",
       "       [0.8       , 0.90082176, 0.        ],\n",
       "       [0.        , 0.26324738, 1.        ],\n",
       "       [0.        , 0.19948994, 1.        ],\n",
       "       [0.        , 0.58911873, 1.        ],\n",
       "       [0.        , 0.87248512, 0.        ],\n",
       "       [0.        , 0.4148359 , 1.        ],\n",
       "       [0.        , 0.26324738, 1.        ],\n",
       "       [0.2       , 0.36242562, 0.5       ],\n",
       "       [0.        , 0.22074242, 1.        ],\n",
       "       [0.        , 0.39076226, 1.        ],\n",
       "       [0.2       , 0.61745537, 0.        ],\n",
       "       [0.        , 0.4148359 , 1.        ],\n",
       "       [0.        , 0.4148359 , 1.        ],\n",
       "       [0.        , 0.41909889, 0.5       ],\n",
       "       [0.        , 0.36242562, 1.        ],\n",
       "       [0.        , 0.50410881, 1.        ],\n",
       "       [0.        , 0.84414848, 0.        ],\n",
       "       [0.        , 0.24907906, 1.        ],\n",
       "       [0.        , 0.4148359 , 1.        ],\n",
       "       [0.        , 0.4148359 , 0.5       ],\n",
       "       [0.2       , 0.22074242, 1.        ],\n",
       "       [0.4       , 0.00580901, 0.5       ],\n",
       "       [0.        , 0.4148359 , 1.        ],\n",
       "       [0.        , 0.30575234, 0.        ],\n",
       "       [0.        , 0.40493058, 0.5       ],\n",
       "       [0.        , 0.63870785, 0.        ],\n",
       "       [0.        , 0.47577217, 0.5       ],\n",
       "       [0.2       , 0.23491074, 1.        ],\n",
       "       [0.2       , 0.46160385, 1.        ],\n",
       "       [0.        , 0.37659394, 1.        ],\n",
       "       [0.        , 0.48994049, 0.5       ],\n",
       "       [0.        , 0.4148359 , 1.        ],\n",
       "       [0.        , 0.4148359 , 1.        ],\n",
       "       [0.        , 0.4148359 , 1.        ],\n",
       "       [0.2       , 0.75913857, 0.        ],\n",
       "       [0.4       , 0.12156418, 1.        ],\n",
       "       [0.4       , 0.29158402, 0.        ],\n",
       "       [0.2       , 0.39076226, 1.        ],\n",
       "       [0.        , 0.4148359 , 1.        ],\n",
       "       [0.        , 0.22074242, 1.        ],\n",
       "       [0.        , 0.29158402, 0.5       ],\n",
       "       [0.2       , 0.4148359 , 1.        ],\n",
       "       [0.4       , 0.12156418, 1.        ],\n",
       "       [0.        , 0.51827713, 1.        ],\n",
       "       [0.4       , 0.02238595, 0.        ],\n",
       "       [0.        , 0.26324738, 1.        ],\n",
       "       [0.        , 0.61745537, 0.5       ],\n",
       "       [0.        , 0.26324738, 0.        ],\n",
       "       [0.        , 0.39076226, 1.        ],\n",
       "       [0.        , 0.40493058, 1.        ],\n",
       "       [0.        , 0.47577217, 0.5       ],\n",
       "       [0.        , 0.50410881, 0.5       ],\n",
       "       [0.        , 0.29158402, 1.        ],\n",
       "       [0.        , 0.4148359 , 1.        ],\n",
       "       [0.        , 0.4148359 , 0.        ],\n",
       "       [0.        , 0.77330689, 0.        ],\n",
       "       [0.        , 0.43326721, 1.        ],\n",
       "       [0.4       , 0.4148359 , 1.        ],\n",
       "       [0.        , 0.36242562, 1.        ],\n",
       "       [0.        , 0.33408898, 0.5       ],\n",
       "       [0.        , 0.43326721, 0.        ],\n",
       "       [0.        , 0.51827713, 0.        ]])"
      ]
     },
     "execution_count": 200,
     "metadata": {},
     "output_type": "execute_result"
    }
   ],
   "source": [
    "x_test_mmc"
   ]
  },
  {
   "cell_type": "code",
   "execution_count": 203,
   "id": "15c988d9",
   "metadata": {},
   "outputs": [],
   "source": [
    "x_test_mmcdf=pd.DataFrame(x_test_mmc,columns=['parch','age','pclass'])"
   ]
  },
  {
   "cell_type": "code",
   "execution_count": 204,
   "id": "7f5bc282",
   "metadata": {},
   "outputs": [],
   "source": [
    "x_train_mmcdf=pd.DataFrame(x_train_mmc,columns=['parch','age','pclass'])"
   ]
  },
  {
   "cell_type": "code",
   "execution_count": 205,
   "id": "099caf6b",
   "metadata": {},
   "outputs": [
    {
     "data": {
      "text/html": [
       "<div>\n",
       "<style scoped>\n",
       "    .dataframe tbody tr th:only-of-type {\n",
       "        vertical-align: middle;\n",
       "    }\n",
       "\n",
       "    .dataframe tbody tr th {\n",
       "        vertical-align: top;\n",
       "    }\n",
       "\n",
       "    .dataframe thead th {\n",
       "        text-align: right;\n",
       "    }\n",
       "</style>\n",
       "<table border=\"1\" class=\"dataframe\">\n",
       "  <thead>\n",
       "    <tr style=\"text-align: right;\">\n",
       "      <th></th>\n",
       "      <th>parch</th>\n",
       "      <th>age</th>\n",
       "      <th>pclass</th>\n",
       "    </tr>\n",
       "  </thead>\n",
       "  <tbody>\n",
       "    <tr>\n",
       "      <th>0</th>\n",
       "      <td>0.0</td>\n",
       "      <td>0.560782</td>\n",
       "      <td>0.0</td>\n",
       "    </tr>\n",
       "    <tr>\n",
       "      <th>1</th>\n",
       "      <td>0.0</td>\n",
       "      <td>0.447436</td>\n",
       "      <td>1.0</td>\n",
       "    </tr>\n",
       "    <tr>\n",
       "      <th>2</th>\n",
       "      <td>0.0</td>\n",
       "      <td>0.419099</td>\n",
       "      <td>1.0</td>\n",
       "    </tr>\n",
       "    <tr>\n",
       "      <th>3</th>\n",
       "      <td>0.0</td>\n",
       "      <td>0.414836</td>\n",
       "      <td>0.0</td>\n",
       "    </tr>\n",
       "    <tr>\n",
       "      <th>4</th>\n",
       "      <td>0.2</td>\n",
       "      <td>0.475772</td>\n",
       "      <td>0.5</td>\n",
       "    </tr>\n",
       "  </tbody>\n",
       "</table>\n",
       "</div>"
      ],
      "text/plain": [
       "   parch       age  pclass\n",
       "0    0.0  0.560782     0.0\n",
       "1    0.0  0.447436     1.0\n",
       "2    0.0  0.419099     1.0\n",
       "3    0.0  0.414836     0.0\n",
       "4    0.2  0.475772     0.5"
      ]
     },
     "execution_count": 205,
     "metadata": {},
     "output_type": "execute_result"
    }
   ],
   "source": [
    "x_test_mmcdf.head()"
   ]
  },
  {
   "cell_type": "code",
   "execution_count": 206,
   "id": "79288175",
   "metadata": {},
   "outputs": [
    {
     "data": {
      "text/html": [
       "<div>\n",
       "<style scoped>\n",
       "    .dataframe tbody tr th:only-of-type {\n",
       "        vertical-align: middle;\n",
       "    }\n",
       "\n",
       "    .dataframe tbody tr th {\n",
       "        vertical-align: top;\n",
       "    }\n",
       "\n",
       "    .dataframe thead th {\n",
       "        text-align: right;\n",
       "    }\n",
       "</style>\n",
       "<table border=\"1\" class=\"dataframe\">\n",
       "  <thead>\n",
       "    <tr style=\"text-align: right;\">\n",
       "      <th></th>\n",
       "      <th>parch</th>\n",
       "      <th>age</th>\n",
       "      <th>pclass</th>\n",
       "    </tr>\n",
       "  </thead>\n",
       "  <tbody>\n",
       "    <tr>\n",
       "      <th>0</th>\n",
       "      <td>0.0</td>\n",
       "      <td>0.334089</td>\n",
       "      <td>1.0</td>\n",
       "    </tr>\n",
       "    <tr>\n",
       "      <th>1</th>\n",
       "      <td>0.0</td>\n",
       "      <td>0.780391</td>\n",
       "      <td>1.0</td>\n",
       "    </tr>\n",
       "    <tr>\n",
       "      <th>2</th>\n",
       "      <td>0.0</td>\n",
       "      <td>0.149901</td>\n",
       "      <td>1.0</td>\n",
       "    </tr>\n",
       "    <tr>\n",
       "      <th>3</th>\n",
       "      <td>0.0</td>\n",
       "      <td>0.249079</td>\n",
       "      <td>1.0</td>\n",
       "    </tr>\n",
       "    <tr>\n",
       "      <th>4</th>\n",
       "      <td>0.4</td>\n",
       "      <td>0.414836</td>\n",
       "      <td>1.0</td>\n",
       "    </tr>\n",
       "  </tbody>\n",
       "</table>\n",
       "</div>"
      ],
      "text/plain": [
       "   parch       age  pclass\n",
       "0    0.0  0.334089     1.0\n",
       "1    0.0  0.780391     1.0\n",
       "2    0.0  0.149901     1.0\n",
       "3    0.0  0.249079     1.0\n",
       "4    0.4  0.414836     1.0"
      ]
     },
     "execution_count": 206,
     "metadata": {},
     "output_type": "execute_result"
    }
   ],
   "source": [
    "x_train_mmcdf.head()"
   ]
  },
  {
   "cell_type": "markdown",
   "id": "3a309d71",
   "metadata": {},
   "source": [
    "# you can see now my data distribution we did scale our data in 0 to 1 range because min 0 and max 1 u can also see"
   ]
  },
  {
   "cell_type": "code",
   "execution_count": 228,
   "id": "93b75e7b",
   "metadata": {},
   "outputs": [
    {
     "data": {
      "text/html": [
       "<div>\n",
       "<style scoped>\n",
       "    .dataframe tbody tr th:only-of-type {\n",
       "        vertical-align: middle;\n",
       "    }\n",
       "\n",
       "    .dataframe tbody tr th {\n",
       "        vertical-align: top;\n",
       "    }\n",
       "\n",
       "    .dataframe thead th {\n",
       "        text-align: right;\n",
       "    }\n",
       "</style>\n",
       "<table border=\"1\" class=\"dataframe\">\n",
       "  <thead>\n",
       "    <tr style=\"text-align: right;\">\n",
       "      <th></th>\n",
       "      <th>parch</th>\n",
       "      <th>age</th>\n",
       "      <th>pclass</th>\n",
       "    </tr>\n",
       "  </thead>\n",
       "  <tbody>\n",
       "    <tr>\n",
       "      <th>min</th>\n",
       "      <td>0.0</td>\n",
       "      <td>0.0</td>\n",
       "      <td>0.0</td>\n",
       "    </tr>\n",
       "    <tr>\n",
       "      <th>max</th>\n",
       "      <td>1.0</td>\n",
       "      <td>1.0</td>\n",
       "      <td>1.0</td>\n",
       "    </tr>\n",
       "  </tbody>\n",
       "</table>\n",
       "</div>"
      ],
      "text/plain": [
       "     parch  age  pclass\n",
       "min    0.0  0.0     0.0\n",
       "max    1.0  1.0     1.0"
      ]
     },
     "execution_count": 228,
     "metadata": {},
     "output_type": "execute_result"
    }
   ],
   "source": [
    "x_train_mmcdf.agg({'parch':['min','max'],'age':['min','max'],'pclass':['min','max']}).round(2)"
   ]
  },
  {
   "cell_type": "code",
   "execution_count": 230,
   "id": "d4e1611f",
   "metadata": {},
   "outputs": [
    {
     "name": "stderr",
     "output_type": "stream",
     "text": [
      "c:\\users\\dell\\appdata\\local\\programs\\python\\python39\\lib\\site-packages\\seaborn\\distributions.py:2557: FutureWarning: `distplot` is a deprecated function and will be removed in a future version. Please adapt your code to use either `displot` (a figure-level function with similar flexibility) or `histplot` (an axes-level function for histograms).\n",
      "  warnings.warn(msg, FutureWarning)\n"
     ]
    },
    {
     "data": {
      "image/png": "[encoded data removed]",
      "text/plain": [
       "<Figure size 432x288 with 1 Axes>"
      ]
     },
     "metadata": {
      "needs_background": "light"
     },
     "output_type": "display_data"
    }
   ],
   "source": [
    "sns.distplot(x_train_mmcdf['age'],color='g',kde_kws={'color':'b','lw':4,'linestyle':'dotted'})\n",
    "plt.title('both are same',fontsize=20,color='r')\n",
    "plt.show()"
   ]
  },
  {
   "cell_type": "code",
   "execution_count": 223,
   "id": "9de7da0a",
   "metadata": {},
   "outputs": [
    {
     "name": "stderr",
     "output_type": "stream",
     "text": [
      "c:\\users\\dell\\appdata\\local\\programs\\python\\python39\\lib\\site-packages\\seaborn\\distributions.py:2557: FutureWarning: `distplot` is a deprecated function and will be removed in a future version. Please adapt your code to use either `displot` (a figure-level function with similar flexibility) or `histplot` (an axes-level function for histograms).\n",
      "  warnings.warn(msg, FutureWarning)\n"
     ]
    },
    {
     "data": {
      "image/png": "[encoded data removed]",
      "text/plain": [
       "<Figure size 432x288 with 1 Axes>"
      ]
     },
     "metadata": {
      "needs_background": "light"
     },
     "output_type": "display_data"
    }
   ],
   "source": [
    "sns.distplot(x_train['age'],kde_kws={'color':'r','lw':4,'linestyle':'dotted'})\n",
    "plt.title('both are same',fontsize=20,color='r')\n",
    "\n",
    "plt.show()"
   ]
  },
  {
   "cell_type": "markdown",
   "id": "cb1d08df",
   "metadata": {},
   "source": [
    "# standardisation pariplot"
   ]
  },
  {
   "cell_type": "code",
   "execution_count": 231,
   "id": "9e6282c4",
   "metadata": {},
   "outputs": [
    {
     "data": {
      "text/plain": [
       "<seaborn.axisgrid.PairGrid at 0x1ada1286c10>"
      ]
     },
     "execution_count": 231,
     "metadata": {},
     "output_type": "execute_result"
    },
    {
     "data": {
      "image/png": "[encoded data removed]",
      "text/plain": [
       "<Figure size 540x540 with 12 Axes>"
      ]
     },
     "metadata": {
      "needs_background": "light"
     },
     "output_type": "display_data"
    }
   ],
   "source": [
    "sns.pairplot(x_train)"
   ]
  },
  {
   "cell_type": "code",
   "execution_count": 232,
   "id": "9c62608b",
   "metadata": {},
   "outputs": [
    {
     "data": {
      "text/plain": [
       "<seaborn.axisgrid.PairGrid at 0x1ada0ebfbe0>"
      ]
     },
     "execution_count": 232,
     "metadata": {},
     "output_type": "execute_result"
    },
    {
     "data": {
      "image/png": "[encoded data removed]",
      "text/plain": [
       "<Figure size 540x540 with 12 Axes>"
      ]
     },
     "metadata": {
      "needs_background": "light"
     },
     "output_type": "display_data"
    }
   ],
   "source": [
    "sns.pairplot(x_train_sc)"
   ]
  },
  {
   "cell_type": "code",
   "execution_count": 233,
   "id": "cf5e7649",
   "metadata": {},
   "outputs": [
    {
     "data": {
      "text/plain": [
       "<seaborn.axisgrid.PairGrid at 0x1ada1237b20>"
      ]
     },
     "execution_count": 233,
     "metadata": {},
     "output_type": "execute_result"
    },
    {
     "data": {
      "image/png": "[encoded data removed]",
      "text/plain": [
       "<Figure size 540x540 with 12 Axes>"
      ]
     },
     "metadata": {
      "needs_background": "light"
     },
     "output_type": "display_data"
    }
   ],
   "source": [
    "sns.pairplot(x_train_mmcdf)"
   ]
  },
  {
   "cell_type": "markdown",
   "id": "d2aff79f",
   "metadata": {},
   "source": [
    "# there many other feature scaling methods we will try to cover all methods"
   ]
  }
 ],
 "metadata": {
  "kernelspec": {
   "display_name": "Python 3",
   "language": "python",
   "name": "python3"
  },
  "language_info": {
   "codemirror_mode": {
    "name": "ipython",
    "version": 3
   },
   "file_extension": ".py",
   "mimetype": "text/x-python",
   "name": "python",
   "nbconvert_exporter": "python",
   "pygments_lexer": "ipython3",
   "version": "3.9.2"
  }
 },
 "nbformat": 4,
 "nbformat_minor": 5
}
