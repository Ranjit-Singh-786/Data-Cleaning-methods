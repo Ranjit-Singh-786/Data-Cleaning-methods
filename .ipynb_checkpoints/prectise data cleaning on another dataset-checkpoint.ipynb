{
 "cells": [
  {
   "cell_type": "code",
   "execution_count": 1,
   "id": "c00c21c4",
   "metadata": {},
   "outputs": [],
   "source": [
    "import pandas as pd\n",
    "import numpy as np\n",
    "import os\n",
    "import seaborn as sns\n",
    "import matplotlib.pyplot as plt\n",
    "\n",
    "from sklearn.impute import SimpleImputer\n",
    "from sklearn.compose import ColumnTransformer\n",
    "from sklearn.pipeline import Pipeline"
   ]
  },
  {
   "cell_type": "code",
   "execution_count": 7,
   "id": "a9dc8a7c",
   "metadata": {},
   "outputs": [
    {
     "name": "stderr",
     "output_type": "stream",
     "text": [
      "c:\\users\\dell\\appdata\\local\\programs\\python\\python39\\lib\\site-packages\\IPython\\core\\interactiveshell.py:3169: DtypeWarning: Columns (22,32) have mixed types.Specify dtype option on import or set low_memory=False.\n",
      "  has_raised = await self.run_ast_nodes(code_ast.body, cell_name,\n"
     ]
    },
    {
     "data": {
      "text/html": [
       "<div>\n",
       "<style scoped>\n",
       "    .dataframe tbody tr th:only-of-type {\n",
       "        vertical-align: middle;\n",
       "    }\n",
       "\n",
       "    .dataframe tbody tr th {\n",
       "        vertical-align: top;\n",
       "    }\n",
       "\n",
       "    .dataframe thead th {\n",
       "        text-align: right;\n",
       "    }\n",
       "</style>\n",
       "<table border=\"1\" class=\"dataframe\">\n",
       "  <thead>\n",
       "    <tr style=\"text-align: right;\">\n",
       "      <th></th>\n",
       "      <th>Permit Number</th>\n",
       "      <th>Permit Type</th>\n",
       "      <th>Permit Type Definition</th>\n",
       "      <th>Permit Creation Date</th>\n",
       "      <th>Block</th>\n",
       "      <th>Lot</th>\n",
       "      <th>Street Number</th>\n",
       "      <th>Street Number Suffix</th>\n",
       "      <th>Street Name</th>\n",
       "      <th>Street Suffix</th>\n",
       "      <th>...</th>\n",
       "      <th>Existing Construction Type</th>\n",
       "      <th>Existing Construction Type Description</th>\n",
       "      <th>Proposed Construction Type</th>\n",
       "      <th>Proposed Construction Type Description</th>\n",
       "      <th>Site Permit</th>\n",
       "      <th>Supervisor District</th>\n",
       "      <th>Neighborhoods - Analysis Boundaries</th>\n",
       "      <th>Zipcode</th>\n",
       "      <th>Location</th>\n",
       "      <th>Record ID</th>\n",
       "    </tr>\n",
       "  </thead>\n",
       "  <tbody>\n",
       "    <tr>\n",
       "      <th>0</th>\n",
       "      <td>201505065519</td>\n",
       "      <td>4</td>\n",
       "      <td>sign - erect</td>\n",
       "      <td>05/06/2015</td>\n",
       "      <td>0326</td>\n",
       "      <td>023</td>\n",
       "      <td>140</td>\n",
       "      <td>NaN</td>\n",
       "      <td>Ellis</td>\n",
       "      <td>St</td>\n",
       "      <td>...</td>\n",
       "      <td>3.0</td>\n",
       "      <td>constr type 3</td>\n",
       "      <td>NaN</td>\n",
       "      <td>NaN</td>\n",
       "      <td>NaN</td>\n",
       "      <td>3.0</td>\n",
       "      <td>Tenderloin</td>\n",
       "      <td>94102.0</td>\n",
       "      <td>(37.785719256680785, -122.40852313194863)</td>\n",
       "      <td>1380611233945</td>\n",
       "    </tr>\n",
       "    <tr>\n",
       "      <th>1</th>\n",
       "      <td>201604195146</td>\n",
       "      <td>4</td>\n",
       "      <td>sign - erect</td>\n",
       "      <td>04/19/2016</td>\n",
       "      <td>0306</td>\n",
       "      <td>007</td>\n",
       "      <td>440</td>\n",
       "      <td>NaN</td>\n",
       "      <td>Geary</td>\n",
       "      <td>St</td>\n",
       "      <td>...</td>\n",
       "      <td>3.0</td>\n",
       "      <td>constr type 3</td>\n",
       "      <td>NaN</td>\n",
       "      <td>NaN</td>\n",
       "      <td>NaN</td>\n",
       "      <td>3.0</td>\n",
       "      <td>Tenderloin</td>\n",
       "      <td>94102.0</td>\n",
       "      <td>(37.78733980600732, -122.41063199757738)</td>\n",
       "      <td>1420164406718</td>\n",
       "    </tr>\n",
       "  </tbody>\n",
       "</table>\n",
       "<p>2 rows × 43 columns</p>\n",
       "</div>"
      ],
      "text/plain": [
       "  Permit Number  Permit Type Permit Type Definition Permit Creation Date  \\\n",
       "0  201505065519            4           sign - erect           05/06/2015   \n",
       "1  201604195146            4           sign - erect           04/19/2016   \n",
       "\n",
       "  Block  Lot  Street Number Street Number Suffix Street Name Street Suffix  \\\n",
       "0  0326  023            140                  NaN       Ellis            St   \n",
       "1  0306  007            440                  NaN       Geary            St   \n",
       "\n",
       "   ...  Existing Construction Type Existing Construction Type Description  \\\n",
       "0  ...                         3.0                          constr type 3   \n",
       "1  ...                         3.0                          constr type 3   \n",
       "\n",
       "  Proposed Construction Type Proposed Construction Type Description  \\\n",
       "0                        NaN                                    NaN   \n",
       "1                        NaN                                    NaN   \n",
       "\n",
       "  Site Permit Supervisor District Neighborhoods - Analysis Boundaries  \\\n",
       "0         NaN                 3.0                          Tenderloin   \n",
       "1         NaN                 3.0                          Tenderloin   \n",
       "\n",
       "   Zipcode                                   Location      Record ID  \n",
       "0  94102.0  (37.785719256680785, -122.40852313194863)  1380611233945  \n",
       "1  94102.0   (37.78733980600732, -122.41063199757738)  1420164406718  \n",
       "\n",
       "[2 rows x 43 columns]"
      ]
     },
     "execution_count": 7,
     "metadata": {},
     "output_type": "execute_result"
    }
   ],
   "source": [
    "data1=pd.read_csv('Building_Permits.csv')\n",
    "data1.head(2)\n",
    "# os.getcwd()"
   ]
  },
  {
   "cell_type": "code",
   "execution_count": 3,
   "id": "0d11194b",
   "metadata": {},
   "outputs": [
    {
     "data": {
      "text/html": [
       "<div>\n",
       "<style scoped>\n",
       "    .dataframe tbody tr th:only-of-type {\n",
       "        vertical-align: middle;\n",
       "    }\n",
       "\n",
       "    .dataframe tbody tr th {\n",
       "        vertical-align: top;\n",
       "    }\n",
       "\n",
       "    .dataframe thead th {\n",
       "        text-align: right;\n",
       "    }\n",
       "</style>\n",
       "<table border=\"1\" class=\"dataframe\">\n",
       "  <thead>\n",
       "    <tr style=\"text-align: right;\">\n",
       "      <th></th>\n",
       "      <th>Permit Number</th>\n",
       "      <th>Permit Type</th>\n",
       "      <th>Permit Type Definition</th>\n",
       "      <th>Permit Creation Date</th>\n",
       "      <th>Block</th>\n",
       "      <th>Lot</th>\n",
       "      <th>Street Number</th>\n",
       "      <th>Street Name</th>\n",
       "      <th>Street Suffix</th>\n",
       "      <th>Description</th>\n",
       "      <th>...</th>\n",
       "      <th>Plansets</th>\n",
       "      <th>Existing Construction Type</th>\n",
       "      <th>Existing Construction Type Description</th>\n",
       "      <th>Proposed Construction Type</th>\n",
       "      <th>Proposed Construction Type Description</th>\n",
       "      <th>Supervisor District</th>\n",
       "      <th>Neighborhoods - Analysis Boundaries</th>\n",
       "      <th>Zipcode</th>\n",
       "      <th>Location</th>\n",
       "      <th>Record ID</th>\n",
       "    </tr>\n",
       "  </thead>\n",
       "  <tbody>\n",
       "    <tr>\n",
       "      <th>0</th>\n",
       "      <td>201505065519</td>\n",
       "      <td>4</td>\n",
       "      <td>sign - erect</td>\n",
       "      <td>05/06/2015</td>\n",
       "      <td>0326</td>\n",
       "      <td>023</td>\n",
       "      <td>140</td>\n",
       "      <td>Ellis</td>\n",
       "      <td>St</td>\n",
       "      <td>ground fl facade: to erect illuminated, electr...</td>\n",
       "      <td>...</td>\n",
       "      <td>2.0</td>\n",
       "      <td>3.0</td>\n",
       "      <td>constr type 3</td>\n",
       "      <td>NaN</td>\n",
       "      <td>NaN</td>\n",
       "      <td>3.0</td>\n",
       "      <td>Tenderloin</td>\n",
       "      <td>94102.0</td>\n",
       "      <td>(37.785719256680785, -122.40852313194863)</td>\n",
       "      <td>1380611233945</td>\n",
       "    </tr>\n",
       "    <tr>\n",
       "      <th>1</th>\n",
       "      <td>201604195146</td>\n",
       "      <td>4</td>\n",
       "      <td>sign - erect</td>\n",
       "      <td>04/19/2016</td>\n",
       "      <td>0306</td>\n",
       "      <td>007</td>\n",
       "      <td>440</td>\n",
       "      <td>Geary</td>\n",
       "      <td>St</td>\n",
       "      <td>remove (e) awning and associated signs.</td>\n",
       "      <td>...</td>\n",
       "      <td>2.0</td>\n",
       "      <td>3.0</td>\n",
       "      <td>constr type 3</td>\n",
       "      <td>NaN</td>\n",
       "      <td>NaN</td>\n",
       "      <td>3.0</td>\n",
       "      <td>Tenderloin</td>\n",
       "      <td>94102.0</td>\n",
       "      <td>(37.78733980600732, -122.41063199757738)</td>\n",
       "      <td>1420164406718</td>\n",
       "    </tr>\n",
       "    <tr>\n",
       "      <th>2</th>\n",
       "      <td>201605278609</td>\n",
       "      <td>3</td>\n",
       "      <td>additions alterations or repairs</td>\n",
       "      <td>05/27/2016</td>\n",
       "      <td>0595</td>\n",
       "      <td>203</td>\n",
       "      <td>1647</td>\n",
       "      <td>Pacific</td>\n",
       "      <td>Av</td>\n",
       "      <td>installation of separating wall</td>\n",
       "      <td>...</td>\n",
       "      <td>2.0</td>\n",
       "      <td>1.0</td>\n",
       "      <td>constr type 1</td>\n",
       "      <td>1.0</td>\n",
       "      <td>constr type 1</td>\n",
       "      <td>3.0</td>\n",
       "      <td>Russian Hill</td>\n",
       "      <td>94109.0</td>\n",
       "      <td>(37.7946573324287, -122.42232562979227)</td>\n",
       "      <td>1424856504716</td>\n",
       "    </tr>\n",
       "    <tr>\n",
       "      <th>3</th>\n",
       "      <td>201611072166</td>\n",
       "      <td>8</td>\n",
       "      <td>otc alterations permit</td>\n",
       "      <td>11/07/2016</td>\n",
       "      <td>0156</td>\n",
       "      <td>011</td>\n",
       "      <td>1230</td>\n",
       "      <td>Pacific</td>\n",
       "      <td>Av</td>\n",
       "      <td>repair dryrot &amp; stucco at front of bldg.</td>\n",
       "      <td>...</td>\n",
       "      <td>2.0</td>\n",
       "      <td>5.0</td>\n",
       "      <td>wood frame (5)</td>\n",
       "      <td>5.0</td>\n",
       "      <td>wood frame (5)</td>\n",
       "      <td>3.0</td>\n",
       "      <td>Nob Hill</td>\n",
       "      <td>94109.0</td>\n",
       "      <td>(37.79595867909168, -122.41557405519474)</td>\n",
       "      <td>1443574295566</td>\n",
       "    </tr>\n",
       "    <tr>\n",
       "      <th>4</th>\n",
       "      <td>201611283529</td>\n",
       "      <td>6</td>\n",
       "      <td>demolitions</td>\n",
       "      <td>11/28/2016</td>\n",
       "      <td>0342</td>\n",
       "      <td>001</td>\n",
       "      <td>950</td>\n",
       "      <td>Market</td>\n",
       "      <td>St</td>\n",
       "      <td>demolish retail/office/commercial 3-story buil...</td>\n",
       "      <td>...</td>\n",
       "      <td>2.0</td>\n",
       "      <td>3.0</td>\n",
       "      <td>constr type 3</td>\n",
       "      <td>NaN</td>\n",
       "      <td>NaN</td>\n",
       "      <td>6.0</td>\n",
       "      <td>Tenderloin</td>\n",
       "      <td>94102.0</td>\n",
       "      <td>(37.78315261897309, -122.40950883997789)</td>\n",
       "      <td>144548169992</td>\n",
       "    </tr>\n",
       "  </tbody>\n",
       "</table>\n",
       "<p>5 rows × 31 columns</p>\n",
       "</div>"
      ],
      "text/plain": [
       "  Permit Number  Permit Type            Permit Type Definition  \\\n",
       "0  201505065519            4                      sign - erect   \n",
       "1  201604195146            4                      sign - erect   \n",
       "2  201605278609            3  additions alterations or repairs   \n",
       "3  201611072166            8            otc alterations permit   \n",
       "4  201611283529            6                       demolitions   \n",
       "\n",
       "  Permit Creation Date Block  Lot  Street Number Street Name Street Suffix  \\\n",
       "0           05/06/2015  0326  023            140       Ellis            St   \n",
       "1           04/19/2016  0306  007            440       Geary            St   \n",
       "2           05/27/2016  0595  203           1647     Pacific            Av   \n",
       "3           11/07/2016  0156  011           1230     Pacific            Av   \n",
       "4           11/28/2016  0342  001            950      Market            St   \n",
       "\n",
       "                                         Description  ... Plansets  \\\n",
       "0  ground fl facade: to erect illuminated, electr...  ...      2.0   \n",
       "1            remove (e) awning and associated signs.  ...      2.0   \n",
       "2                    installation of separating wall  ...      2.0   \n",
       "3           repair dryrot & stucco at front of bldg.  ...      2.0   \n",
       "4  demolish retail/office/commercial 3-story buil...  ...      2.0   \n",
       "\n",
       "  Existing Construction Type Existing Construction Type Description  \\\n",
       "0                        3.0                          constr type 3   \n",
       "1                        3.0                          constr type 3   \n",
       "2                        1.0                          constr type 1   \n",
       "3                        5.0                         wood frame (5)   \n",
       "4                        3.0                          constr type 3   \n",
       "\n",
       "  Proposed Construction Type Proposed Construction Type Description  \\\n",
       "0                        NaN                                    NaN   \n",
       "1                        NaN                                    NaN   \n",
       "2                        1.0                          constr type 1   \n",
       "3                        5.0                         wood frame (5)   \n",
       "4                        NaN                                    NaN   \n",
       "\n",
       "   Supervisor District  Neighborhoods - Analysis Boundaries  Zipcode  \\\n",
       "0                  3.0                           Tenderloin  94102.0   \n",
       "1                  3.0                           Tenderloin  94102.0   \n",
       "2                  3.0                         Russian Hill  94109.0   \n",
       "3                  3.0                             Nob Hill  94109.0   \n",
       "4                  6.0                           Tenderloin  94102.0   \n",
       "\n",
       "                                    Location      Record ID  \n",
       "0  (37.785719256680785, -122.40852313194863)  1380611233945  \n",
       "1   (37.78733980600732, -122.41063199757738)  1420164406718  \n",
       "2    (37.7946573324287, -122.42232562979227)  1424856504716  \n",
       "3   (37.79595867909168, -122.41557405519474)  1443574295566  \n",
       "4   (37.78315261897309, -122.40950883997789)   144548169992  \n",
       "\n",
       "[5 rows x 31 columns]"
      ]
     },
     "execution_count": 3,
     "metadata": {},
     "output_type": "execute_result"
    }
   ],
   "source": [
    "null_value=data.isnull().mean()*100\n",
    "drop_col=data.drop(columns=null_value[null_value>25].keys())\n",
    "drop_col.head()"
   ]
  },
  {
   "cell_type": "code",
   "execution_count": 4,
   "id": "06d1bc27",
   "metadata": {},
   "outputs": [
    {
     "name": "stdout",
     "output_type": "stream",
     "text": [
      "Permit Number\n",
      "Permit Type\n",
      "Permit Type Definition\n",
      "Permit Creation Date\n",
      "Block\n",
      "Lot\n",
      "Street Number\n",
      "Street Name\n",
      "Street Suffix\n",
      "Description\n",
      "Current Status\n",
      "Current Status Date\n",
      "Filed Date\n",
      "Issued Date\n",
      "First Construction Document Date\n",
      "Number of Existing Stories\n",
      "Number of Proposed Stories\n",
      "Estimated Cost\n",
      "Revised Cost\n",
      "Existing Use\n",
      "Proposed Use\n",
      "Plansets\n",
      "Existing Construction Type\n",
      "Existing Construction Type Description\n",
      "Proposed Construction Type\n",
      "Proposed Construction Type Description\n",
      "Supervisor District\n",
      "Neighborhoods - Analysis Boundaries\n",
      "Zipcode\n",
      "Location\n",
      "Record ID\n"
     ]
    }
   ],
   "source": [
    "for i in drop_col.columns:\n",
    "    print(i)"
   ]
  },
  {
   "cell_type": "code",
   "execution_count": 5,
   "id": "35b56c11",
   "metadata": {},
   "outputs": [
    {
     "data": {
      "text/html": [
       "<div>\n",
       "<style scoped>\n",
       "    .dataframe tbody tr th:only-of-type {\n",
       "        vertical-align: middle;\n",
       "    }\n",
       "\n",
       "    .dataframe tbody tr th {\n",
       "        vertical-align: top;\n",
       "    }\n",
       "\n",
       "    .dataframe thead th {\n",
       "        text-align: right;\n",
       "    }\n",
       "</style>\n",
       "<table border=\"1\" class=\"dataframe\">\n",
       "  <thead>\n",
       "    <tr style=\"text-align: right;\">\n",
       "      <th></th>\n",
       "      <th>Permit Type</th>\n",
       "      <th>Street Number</th>\n",
       "      <th>Number of Existing Stories</th>\n",
       "      <th>Number of Proposed Stories</th>\n",
       "      <th>Estimated Cost</th>\n",
       "      <th>Revised Cost</th>\n",
       "      <th>Plansets</th>\n",
       "      <th>Existing Construction Type</th>\n",
       "      <th>Proposed Construction Type</th>\n",
       "      <th>Supervisor District</th>\n",
       "      <th>Zipcode</th>\n",
       "      <th>Record ID</th>\n",
       "    </tr>\n",
       "  </thead>\n",
       "  <tbody>\n",
       "    <tr>\n",
       "      <th>0</th>\n",
       "      <td>4</td>\n",
       "      <td>140</td>\n",
       "      <td>6.0</td>\n",
       "      <td>NaN</td>\n",
       "      <td>4000.0</td>\n",
       "      <td>4000.0</td>\n",
       "      <td>2.0</td>\n",
       "      <td>3.0</td>\n",
       "      <td>NaN</td>\n",
       "      <td>3.0</td>\n",
       "      <td>94102.0</td>\n",
       "      <td>1380611233945</td>\n",
       "    </tr>\n",
       "    <tr>\n",
       "      <th>1</th>\n",
       "      <td>4</td>\n",
       "      <td>440</td>\n",
       "      <td>7.0</td>\n",
       "      <td>NaN</td>\n",
       "      <td>1.0</td>\n",
       "      <td>500.0</td>\n",
       "      <td>2.0</td>\n",
       "      <td>3.0</td>\n",
       "      <td>NaN</td>\n",
       "      <td>3.0</td>\n",
       "      <td>94102.0</td>\n",
       "      <td>1420164406718</td>\n",
       "    </tr>\n",
       "    <tr>\n",
       "      <th>2</th>\n",
       "      <td>3</td>\n",
       "      <td>1647</td>\n",
       "      <td>6.0</td>\n",
       "      <td>6.0</td>\n",
       "      <td>20000.0</td>\n",
       "      <td>NaN</td>\n",
       "      <td>2.0</td>\n",
       "      <td>1.0</td>\n",
       "      <td>1.0</td>\n",
       "      <td>3.0</td>\n",
       "      <td>94109.0</td>\n",
       "      <td>1424856504716</td>\n",
       "    </tr>\n",
       "    <tr>\n",
       "      <th>3</th>\n",
       "      <td>8</td>\n",
       "      <td>1230</td>\n",
       "      <td>2.0</td>\n",
       "      <td>2.0</td>\n",
       "      <td>2000.0</td>\n",
       "      <td>2000.0</td>\n",
       "      <td>2.0</td>\n",
       "      <td>5.0</td>\n",
       "      <td>5.0</td>\n",
       "      <td>3.0</td>\n",
       "      <td>94109.0</td>\n",
       "      <td>1443574295566</td>\n",
       "    </tr>\n",
       "    <tr>\n",
       "      <th>4</th>\n",
       "      <td>6</td>\n",
       "      <td>950</td>\n",
       "      <td>3.0</td>\n",
       "      <td>NaN</td>\n",
       "      <td>100000.0</td>\n",
       "      <td>100000.0</td>\n",
       "      <td>2.0</td>\n",
       "      <td>3.0</td>\n",
       "      <td>NaN</td>\n",
       "      <td>6.0</td>\n",
       "      <td>94102.0</td>\n",
       "      <td>144548169992</td>\n",
       "    </tr>\n",
       "  </tbody>\n",
       "</table>\n",
       "</div>"
      ],
      "text/plain": [
       "   Permit Type  Street Number  Number of Existing Stories  \\\n",
       "0            4            140                         6.0   \n",
       "1            4            440                         7.0   \n",
       "2            3           1647                         6.0   \n",
       "3            8           1230                         2.0   \n",
       "4            6            950                         3.0   \n",
       "\n",
       "   Number of Proposed Stories  Estimated Cost  Revised Cost  Plansets  \\\n",
       "0                         NaN          4000.0        4000.0       2.0   \n",
       "1                         NaN             1.0         500.0       2.0   \n",
       "2                         6.0         20000.0           NaN       2.0   \n",
       "3                         2.0          2000.0        2000.0       2.0   \n",
       "4                         NaN        100000.0      100000.0       2.0   \n",
       "\n",
       "   Existing Construction Type  Proposed Construction Type  \\\n",
       "0                         3.0                         NaN   \n",
       "1                         3.0                         NaN   \n",
       "2                         1.0                         1.0   \n",
       "3                         5.0                         5.0   \n",
       "4                         3.0                         NaN   \n",
       "\n",
       "   Supervisor District  Zipcode      Record ID  \n",
       "0                  3.0  94102.0  1380611233945  \n",
       "1                  3.0  94102.0  1420164406718  \n",
       "2                  3.0  94109.0  1424856504716  \n",
       "3                  3.0  94109.0  1443574295566  \n",
       "4                  6.0  94102.0   144548169992  "
      ]
     },
     "execution_count": 5,
     "metadata": {},
     "output_type": "execute_result"
    }
   ],
   "source": [
    "num_var=drop_col.select_dtypes(include=['int64','float64'])\n",
    "num_var.head()"
   ]
  },
  {
   "cell_type": "code",
   "execution_count": 6,
   "id": "76f741b8",
   "metadata": {},
   "outputs": [
    {
     "data": {
      "text/html": [
       "<div>\n",
       "<style scoped>\n",
       "    .dataframe tbody tr th:only-of-type {\n",
       "        vertical-align: middle;\n",
       "    }\n",
       "\n",
       "    .dataframe tbody tr th {\n",
       "        vertical-align: top;\n",
       "    }\n",
       "\n",
       "    .dataframe thead th {\n",
       "        text-align: right;\n",
       "    }\n",
       "</style>\n",
       "<table border=\"1\" class=\"dataframe\">\n",
       "  <thead>\n",
       "    <tr style=\"text-align: right;\">\n",
       "      <th></th>\n",
       "      <th>Permit Number</th>\n",
       "      <th>Permit Type Definition</th>\n",
       "      <th>Permit Creation Date</th>\n",
       "      <th>Block</th>\n",
       "      <th>Lot</th>\n",
       "      <th>Street Name</th>\n",
       "      <th>Street Suffix</th>\n",
       "      <th>Description</th>\n",
       "      <th>Current Status</th>\n",
       "      <th>Current Status Date</th>\n",
       "      <th>Filed Date</th>\n",
       "      <th>Issued Date</th>\n",
       "      <th>First Construction Document Date</th>\n",
       "      <th>Existing Use</th>\n",
       "      <th>Proposed Use</th>\n",
       "      <th>Existing Construction Type Description</th>\n",
       "      <th>Proposed Construction Type Description</th>\n",
       "      <th>Neighborhoods - Analysis Boundaries</th>\n",
       "      <th>Location</th>\n",
       "    </tr>\n",
       "  </thead>\n",
       "  <tbody>\n",
       "    <tr>\n",
       "      <th>0</th>\n",
       "      <td>201505065519</td>\n",
       "      <td>sign - erect</td>\n",
       "      <td>05/06/2015</td>\n",
       "      <td>0326</td>\n",
       "      <td>023</td>\n",
       "      <td>Ellis</td>\n",
       "      <td>St</td>\n",
       "      <td>ground fl facade: to erect illuminated, electr...</td>\n",
       "      <td>expired</td>\n",
       "      <td>12/21/2017</td>\n",
       "      <td>05/06/2015</td>\n",
       "      <td>11/09/2015</td>\n",
       "      <td>11/09/2015</td>\n",
       "      <td>tourist hotel/motel</td>\n",
       "      <td>NaN</td>\n",
       "      <td>constr type 3</td>\n",
       "      <td>NaN</td>\n",
       "      <td>Tenderloin</td>\n",
       "      <td>(37.785719256680785, -122.40852313194863)</td>\n",
       "    </tr>\n",
       "    <tr>\n",
       "      <th>1</th>\n",
       "      <td>201604195146</td>\n",
       "      <td>sign - erect</td>\n",
       "      <td>04/19/2016</td>\n",
       "      <td>0306</td>\n",
       "      <td>007</td>\n",
       "      <td>Geary</td>\n",
       "      <td>St</td>\n",
       "      <td>remove (e) awning and associated signs.</td>\n",
       "      <td>issued</td>\n",
       "      <td>08/03/2017</td>\n",
       "      <td>04/19/2016</td>\n",
       "      <td>08/03/2017</td>\n",
       "      <td>08/03/2017</td>\n",
       "      <td>tourist hotel/motel</td>\n",
       "      <td>NaN</td>\n",
       "      <td>constr type 3</td>\n",
       "      <td>NaN</td>\n",
       "      <td>Tenderloin</td>\n",
       "      <td>(37.78733980600732, -122.41063199757738)</td>\n",
       "    </tr>\n",
       "    <tr>\n",
       "      <th>2</th>\n",
       "      <td>201605278609</td>\n",
       "      <td>additions alterations or repairs</td>\n",
       "      <td>05/27/2016</td>\n",
       "      <td>0595</td>\n",
       "      <td>203</td>\n",
       "      <td>Pacific</td>\n",
       "      <td>Av</td>\n",
       "      <td>installation of separating wall</td>\n",
       "      <td>withdrawn</td>\n",
       "      <td>09/26/2017</td>\n",
       "      <td>05/27/2016</td>\n",
       "      <td>NaN</td>\n",
       "      <td>NaN</td>\n",
       "      <td>retail sales</td>\n",
       "      <td>retail sales</td>\n",
       "      <td>constr type 1</td>\n",
       "      <td>constr type 1</td>\n",
       "      <td>Russian Hill</td>\n",
       "      <td>(37.7946573324287, -122.42232562979227)</td>\n",
       "    </tr>\n",
       "    <tr>\n",
       "      <th>3</th>\n",
       "      <td>201611072166</td>\n",
       "      <td>otc alterations permit</td>\n",
       "      <td>11/07/2016</td>\n",
       "      <td>0156</td>\n",
       "      <td>011</td>\n",
       "      <td>Pacific</td>\n",
       "      <td>Av</td>\n",
       "      <td>repair dryrot &amp; stucco at front of bldg.</td>\n",
       "      <td>complete</td>\n",
       "      <td>07/24/2017</td>\n",
       "      <td>11/07/2016</td>\n",
       "      <td>07/18/2017</td>\n",
       "      <td>07/18/2017</td>\n",
       "      <td>1 family dwelling</td>\n",
       "      <td>1 family dwelling</td>\n",
       "      <td>wood frame (5)</td>\n",
       "      <td>wood frame (5)</td>\n",
       "      <td>Nob Hill</td>\n",
       "      <td>(37.79595867909168, -122.41557405519474)</td>\n",
       "    </tr>\n",
       "    <tr>\n",
       "      <th>4</th>\n",
       "      <td>201611283529</td>\n",
       "      <td>demolitions</td>\n",
       "      <td>11/28/2016</td>\n",
       "      <td>0342</td>\n",
       "      <td>001</td>\n",
       "      <td>Market</td>\n",
       "      <td>St</td>\n",
       "      <td>demolish retail/office/commercial 3-story buil...</td>\n",
       "      <td>issued</td>\n",
       "      <td>12/01/2017</td>\n",
       "      <td>11/28/2016</td>\n",
       "      <td>12/01/2017</td>\n",
       "      <td>11/20/2017</td>\n",
       "      <td>retail sales</td>\n",
       "      <td>NaN</td>\n",
       "      <td>constr type 3</td>\n",
       "      <td>NaN</td>\n",
       "      <td>Tenderloin</td>\n",
       "      <td>(37.78315261897309, -122.40950883997789)</td>\n",
       "    </tr>\n",
       "  </tbody>\n",
       "</table>\n",
       "</div>"
      ],
      "text/plain": [
       "  Permit Number            Permit Type Definition Permit Creation Date Block  \\\n",
       "0  201505065519                      sign - erect           05/06/2015  0326   \n",
       "1  201604195146                      sign - erect           04/19/2016  0306   \n",
       "2  201605278609  additions alterations or repairs           05/27/2016  0595   \n",
       "3  201611072166            otc alterations permit           11/07/2016  0156   \n",
       "4  201611283529                       demolitions           11/28/2016  0342   \n",
       "\n",
       "   Lot Street Name Street Suffix  \\\n",
       "0  023       Ellis            St   \n",
       "1  007       Geary            St   \n",
       "2  203     Pacific            Av   \n",
       "3  011     Pacific            Av   \n",
       "4  001      Market            St   \n",
       "\n",
       "                                         Description Current Status  \\\n",
       "0  ground fl facade: to erect illuminated, electr...        expired   \n",
       "1            remove (e) awning and associated signs.         issued   \n",
       "2                    installation of separating wall      withdrawn   \n",
       "3           repair dryrot & stucco at front of bldg.       complete   \n",
       "4  demolish retail/office/commercial 3-story buil...         issued   \n",
       "\n",
       "  Current Status Date  Filed Date Issued Date  \\\n",
       "0          12/21/2017  05/06/2015  11/09/2015   \n",
       "1          08/03/2017  04/19/2016  08/03/2017   \n",
       "2          09/26/2017  05/27/2016         NaN   \n",
       "3          07/24/2017  11/07/2016  07/18/2017   \n",
       "4          12/01/2017  11/28/2016  12/01/2017   \n",
       "\n",
       "  First Construction Document Date         Existing Use       Proposed Use  \\\n",
       "0                       11/09/2015  tourist hotel/motel                NaN   \n",
       "1                       08/03/2017  tourist hotel/motel                NaN   \n",
       "2                              NaN         retail sales       retail sales   \n",
       "3                       07/18/2017    1 family dwelling  1 family dwelling   \n",
       "4                       11/20/2017         retail sales                NaN   \n",
       "\n",
       "  Existing Construction Type Description  \\\n",
       "0                          constr type 3   \n",
       "1                          constr type 3   \n",
       "2                          constr type 1   \n",
       "3                         wood frame (5)   \n",
       "4                          constr type 3   \n",
       "\n",
       "  Proposed Construction Type Description Neighborhoods - Analysis Boundaries  \\\n",
       "0                                    NaN                          Tenderloin   \n",
       "1                                    NaN                          Tenderloin   \n",
       "2                          constr type 1                        Russian Hill   \n",
       "3                         wood frame (5)                            Nob Hill   \n",
       "4                                    NaN                          Tenderloin   \n",
       "\n",
       "                                    Location  \n",
       "0  (37.785719256680785, -122.40852313194863)  \n",
       "1   (37.78733980600732, -122.41063199757738)  \n",
       "2    (37.7946573324287, -122.42232562979227)  \n",
       "3   (37.79595867909168, -122.41557405519474)  \n",
       "4   (37.78315261897309, -122.40950883997789)  "
      ]
     },
     "execution_count": 6,
     "metadata": {},
     "output_type": "execute_result"
    }
   ],
   "source": [
    "cat_var=drop_col.select_dtypes(include=['O'])\n",
    "cat_var.head()"
   ]
  },
  {
   "cell_type": "code",
   "execution_count": 7,
   "id": "858a547a",
   "metadata": {},
   "outputs": [
    {
     "name": "stdout",
     "output_type": "stream",
     "text": [
      "shape of the num_var :- (198900, 12)\n",
      "shape of the cat_var :- (198900, 19)\n",
      "shape of the dataset :- (198900, 31)\n"
     ]
    }
   ],
   "source": [
    "print('shape of the num_var :-',num_var.shape)\n",
    "print('shape of the cat_var :-',cat_var.shape)\n",
    "print('shape of the dataset :-',drop_col.shape)"
   ]
  },
  {
   "cell_type": "markdown",
   "id": "0cfcd206",
   "metadata": {},
   "source": [
    "## find out the missing columns in num_var & cat_var"
   ]
  },
  {
   "cell_type": "code",
   "execution_count": 8,
   "id": "52d50fd2",
   "metadata": {},
   "outputs": [
    {
     "data": {
      "text/plain": [
       "['Number of Existing Stories',\n",
       " 'Number of Proposed Stories',\n",
       " 'Estimated Cost',\n",
       " 'Revised Cost',\n",
       " 'Plansets',\n",
       " 'Existing Construction Type',\n",
       " 'Proposed Construction Type',\n",
       " 'Supervisor District',\n",
       " 'Zipcode']"
      ]
     },
     "execution_count": 8,
     "metadata": {},
     "output_type": "execute_result"
    }
   ],
   "source": [
    "num_missing_col=[var for var in num_var.columns if num_var[var].isnull().sum()>0]\n",
    "num_missing_col"
   ]
  },
  {
   "cell_type": "code",
   "execution_count": 9,
   "id": "dbfb7517",
   "metadata": {},
   "outputs": [
    {
     "data": {
      "text/plain": [
       "['Street Suffix',\n",
       " 'Description',\n",
       " 'Issued Date',\n",
       " 'First Construction Document Date',\n",
       " 'Existing Use',\n",
       " 'Proposed Use',\n",
       " 'Existing Construction Type Description',\n",
       " 'Proposed Construction Type Description',\n",
       " 'Neighborhoods - Analysis Boundaries',\n",
       " 'Location']"
      ]
     },
     "execution_count": 9,
     "metadata": {},
     "output_type": "execute_result"
    }
   ],
   "source": [
    "cat_missing_col=[var for var in cat_var.columns if cat_var[var].isnull().sum()>0]\n",
    "cat_missing_col"
   ]
  },
  {
   "cell_type": "code",
   "execution_count": 10,
   "id": "554caa7e",
   "metadata": {},
   "outputs": [
    {
     "name": "stdout",
     "output_type": "stream",
     "text": [
      "shape of the num_var :- (198900, 12)\n",
      "shape of the cat_var :- (198900, 19)\n",
      "\n",
      "size of numerical missing columns :- 9\n",
      "size of categorical missing columns :- 10\n"
     ]
    }
   ],
   "source": [
    "print('shape of the num_var :-',num_var.shape)\n",
    "print('shape of the cat_var :-',cat_var.shape)\n",
    "# print('shape of the dataset :-',drop_col.shape)\n",
    "print()\n",
    "print('size of numerical missing columns :-',len(num_missing_col))\n",
    "print('size of categorical missing columns :-',len(cat_missing_col))"
   ]
  },
  {
   "cell_type": "markdown",
   "id": "0b67b1e9",
   "metadata": {},
   "source": [
    "## percentage of numerical & categorical missing columns"
   ]
  },
  {
   "cell_type": "code",
   "execution_count": 11,
   "id": "a102b6e1",
   "metadata": {},
   "outputs": [
    {
     "data": {
      "text/plain": [
       "Number of Existing Stories    21.510307\n",
       "Number of Proposed Stories    21.552539\n",
       "Estimated Cost                19.138260\n",
       "Revised Cost                   3.049774\n",
       "Plansets                      18.757667\n",
       "Existing Construction Type    21.802916\n",
       "Proposed Construction Type    21.700352\n",
       "Supervisor District            0.863248\n",
       "Zipcode                        0.862745\n",
       "dtype: float64"
      ]
     },
     "execution_count": 11,
     "metadata": {},
     "output_type": "execute_result"
    }
   ],
   "source": [
    "drop_col[num_missing_col].isnull().mean()*100"
   ]
  },
  {
   "cell_type": "code",
   "execution_count": 12,
   "id": "5f7d39e4",
   "metadata": {},
   "outputs": [
    {
     "data": {
      "text/plain": [
       "Street Suffix                              1.391654\n",
       "Description                                0.145802\n",
       "Issued Date                                7.511312\n",
       "First Construction Document Date           7.514329\n",
       "Existing Use                              20.670689\n",
       "Proposed Use                              21.336853\n",
       "Existing Construction Type Description    21.802916\n",
       "Proposed Construction Type Description    21.700352\n",
       "Neighborhoods - Analysis Boundaries        0.867270\n",
       "Location                                   0.854701\n",
       "dtype: float64"
      ]
     },
     "execution_count": 12,
     "metadata": {},
     "output_type": "execute_result"
    }
   ],
   "source": [
    "drop_col[cat_missing_col].isnull().mean()*100"
   ]
  },
  {
   "cell_type": "markdown",
   "id": "15c0c6b6",
   "metadata": {},
   "source": [
    "# first we deal with the numerical columns\n",
    "<b> numerical missing value imputation</b>"
   ]
  },
  {
   "cell_type": "code",
   "execution_count": 13,
   "id": "9938aab8",
   "metadata": {},
   "outputs": [
    {
     "data": {
      "text/html": [
       "<div>\n",
       "<style scoped>\n",
       "    .dataframe tbody tr th:only-of-type {\n",
       "        vertical-align: middle;\n",
       "    }\n",
       "\n",
       "    .dataframe tbody tr th {\n",
       "        vertical-align: top;\n",
       "    }\n",
       "\n",
       "    .dataframe thead th {\n",
       "        text-align: right;\n",
       "    }\n",
       "</style>\n",
       "<table border=\"1\" class=\"dataframe\">\n",
       "  <thead>\n",
       "    <tr style=\"text-align: right;\">\n",
       "      <th></th>\n",
       "      <th>Number of Existing Stories</th>\n",
       "      <th>Number of Proposed Stories</th>\n",
       "      <th>Estimated Cost</th>\n",
       "      <th>Revised Cost</th>\n",
       "      <th>Plansets</th>\n",
       "      <th>Existing Construction Type</th>\n",
       "      <th>Proposed Construction Type</th>\n",
       "      <th>Supervisor District</th>\n",
       "      <th>Zipcode</th>\n",
       "    </tr>\n",
       "  </thead>\n",
       "  <tbody>\n",
       "    <tr>\n",
       "      <th>0</th>\n",
       "      <td>6.0</td>\n",
       "      <td>NaN</td>\n",
       "      <td>4000.0</td>\n",
       "      <td>4000.0</td>\n",
       "      <td>2.0</td>\n",
       "      <td>3.0</td>\n",
       "      <td>NaN</td>\n",
       "      <td>3.0</td>\n",
       "      <td>94102.0</td>\n",
       "    </tr>\n",
       "    <tr>\n",
       "      <th>1</th>\n",
       "      <td>7.0</td>\n",
       "      <td>NaN</td>\n",
       "      <td>1.0</td>\n",
       "      <td>500.0</td>\n",
       "      <td>2.0</td>\n",
       "      <td>3.0</td>\n",
       "      <td>NaN</td>\n",
       "      <td>3.0</td>\n",
       "      <td>94102.0</td>\n",
       "    </tr>\n",
       "    <tr>\n",
       "      <th>2</th>\n",
       "      <td>6.0</td>\n",
       "      <td>6.0</td>\n",
       "      <td>20000.0</td>\n",
       "      <td>NaN</td>\n",
       "      <td>2.0</td>\n",
       "      <td>1.0</td>\n",
       "      <td>1.0</td>\n",
       "      <td>3.0</td>\n",
       "      <td>94109.0</td>\n",
       "    </tr>\n",
       "    <tr>\n",
       "      <th>3</th>\n",
       "      <td>2.0</td>\n",
       "      <td>2.0</td>\n",
       "      <td>2000.0</td>\n",
       "      <td>2000.0</td>\n",
       "      <td>2.0</td>\n",
       "      <td>5.0</td>\n",
       "      <td>5.0</td>\n",
       "      <td>3.0</td>\n",
       "      <td>94109.0</td>\n",
       "    </tr>\n",
       "    <tr>\n",
       "      <th>4</th>\n",
       "      <td>3.0</td>\n",
       "      <td>NaN</td>\n",
       "      <td>100000.0</td>\n",
       "      <td>100000.0</td>\n",
       "      <td>2.0</td>\n",
       "      <td>3.0</td>\n",
       "      <td>NaN</td>\n",
       "      <td>6.0</td>\n",
       "      <td>94102.0</td>\n",
       "    </tr>\n",
       "  </tbody>\n",
       "</table>\n",
       "</div>"
      ],
      "text/plain": [
       "   Number of Existing Stories  Number of Proposed Stories  Estimated Cost  \\\n",
       "0                         6.0                         NaN          4000.0   \n",
       "1                         7.0                         NaN             1.0   \n",
       "2                         6.0                         6.0         20000.0   \n",
       "3                         2.0                         2.0          2000.0   \n",
       "4                         3.0                         NaN        100000.0   \n",
       "\n",
       "   Revised Cost  Plansets  Existing Construction Type  \\\n",
       "0        4000.0       2.0                         3.0   \n",
       "1         500.0       2.0                         3.0   \n",
       "2           NaN       2.0                         1.0   \n",
       "3        2000.0       2.0                         5.0   \n",
       "4      100000.0       2.0                         3.0   \n",
       "\n",
       "   Proposed Construction Type  Supervisor District  Zipcode  \n",
       "0                         NaN                  3.0  94102.0  \n",
       "1                         NaN                  3.0  94102.0  \n",
       "2                         1.0                  3.0  94109.0  \n",
       "3                         5.0                  3.0  94109.0  \n",
       "4                         NaN                  6.0  94102.0  "
      ]
     },
     "execution_count": 13,
     "metadata": {},
     "output_type": "execute_result"
    }
   ],
   "source": [
    "drop_col[num_missing_col].head()"
   ]
  },
  {
   "cell_type": "code",
   "execution_count": 14,
   "id": "5817490e",
   "metadata": {},
   "outputs": [
    {
     "data": {
      "text/html": [
       "<div>\n",
       "<style scoped>\n",
       "    .dataframe tbody tr th:only-of-type {\n",
       "        vertical-align: middle;\n",
       "    }\n",
       "\n",
       "    .dataframe tbody tr th {\n",
       "        vertical-align: top;\n",
       "    }\n",
       "\n",
       "    .dataframe thead th {\n",
       "        text-align: right;\n",
       "    }\n",
       "</style>\n",
       "<table border=\"1\" class=\"dataframe\">\n",
       "  <thead>\n",
       "    <tr style=\"text-align: right;\">\n",
       "      <th></th>\n",
       "      <th>Street Suffix</th>\n",
       "      <th>Description</th>\n",
       "      <th>Issued Date</th>\n",
       "      <th>First Construction Document Date</th>\n",
       "      <th>Existing Use</th>\n",
       "      <th>Proposed Use</th>\n",
       "      <th>Existing Construction Type Description</th>\n",
       "      <th>Proposed Construction Type Description</th>\n",
       "      <th>Neighborhoods - Analysis Boundaries</th>\n",
       "      <th>Location</th>\n",
       "    </tr>\n",
       "  </thead>\n",
       "  <tbody>\n",
       "    <tr>\n",
       "      <th>0</th>\n",
       "      <td>St</td>\n",
       "      <td>ground fl facade: to erect illuminated, electr...</td>\n",
       "      <td>11/09/2015</td>\n",
       "      <td>11/09/2015</td>\n",
       "      <td>tourist hotel/motel</td>\n",
       "      <td>NaN</td>\n",
       "      <td>constr type 3</td>\n",
       "      <td>NaN</td>\n",
       "      <td>Tenderloin</td>\n",
       "      <td>(37.785719256680785, -122.40852313194863)</td>\n",
       "    </tr>\n",
       "    <tr>\n",
       "      <th>1</th>\n",
       "      <td>St</td>\n",
       "      <td>remove (e) awning and associated signs.</td>\n",
       "      <td>08/03/2017</td>\n",
       "      <td>08/03/2017</td>\n",
       "      <td>tourist hotel/motel</td>\n",
       "      <td>NaN</td>\n",
       "      <td>constr type 3</td>\n",
       "      <td>NaN</td>\n",
       "      <td>Tenderloin</td>\n",
       "      <td>(37.78733980600732, -122.41063199757738)</td>\n",
       "    </tr>\n",
       "    <tr>\n",
       "      <th>2</th>\n",
       "      <td>Av</td>\n",
       "      <td>installation of separating wall</td>\n",
       "      <td>NaN</td>\n",
       "      <td>NaN</td>\n",
       "      <td>retail sales</td>\n",
       "      <td>retail sales</td>\n",
       "      <td>constr type 1</td>\n",
       "      <td>constr type 1</td>\n",
       "      <td>Russian Hill</td>\n",
       "      <td>(37.7946573324287, -122.42232562979227)</td>\n",
       "    </tr>\n",
       "    <tr>\n",
       "      <th>3</th>\n",
       "      <td>Av</td>\n",
       "      <td>repair dryrot &amp; stucco at front of bldg.</td>\n",
       "      <td>07/18/2017</td>\n",
       "      <td>07/18/2017</td>\n",
       "      <td>1 family dwelling</td>\n",
       "      <td>1 family dwelling</td>\n",
       "      <td>wood frame (5)</td>\n",
       "      <td>wood frame (5)</td>\n",
       "      <td>Nob Hill</td>\n",
       "      <td>(37.79595867909168, -122.41557405519474)</td>\n",
       "    </tr>\n",
       "    <tr>\n",
       "      <th>4</th>\n",
       "      <td>St</td>\n",
       "      <td>demolish retail/office/commercial 3-story buil...</td>\n",
       "      <td>12/01/2017</td>\n",
       "      <td>11/20/2017</td>\n",
       "      <td>retail sales</td>\n",
       "      <td>NaN</td>\n",
       "      <td>constr type 3</td>\n",
       "      <td>NaN</td>\n",
       "      <td>Tenderloin</td>\n",
       "      <td>(37.78315261897309, -122.40950883997789)</td>\n",
       "    </tr>\n",
       "  </tbody>\n",
       "</table>\n",
       "</div>"
      ],
      "text/plain": [
       "  Street Suffix                                        Description  \\\n",
       "0            St  ground fl facade: to erect illuminated, electr...   \n",
       "1            St            remove (e) awning and associated signs.   \n",
       "2            Av                    installation of separating wall   \n",
       "3            Av           repair dryrot & stucco at front of bldg.   \n",
       "4            St  demolish retail/office/commercial 3-story buil...   \n",
       "\n",
       "  Issued Date First Construction Document Date         Existing Use  \\\n",
       "0  11/09/2015                       11/09/2015  tourist hotel/motel   \n",
       "1  08/03/2017                       08/03/2017  tourist hotel/motel   \n",
       "2         NaN                              NaN         retail sales   \n",
       "3  07/18/2017                       07/18/2017    1 family dwelling   \n",
       "4  12/01/2017                       11/20/2017         retail sales   \n",
       "\n",
       "        Proposed Use Existing Construction Type Description  \\\n",
       "0                NaN                          constr type 3   \n",
       "1                NaN                          constr type 3   \n",
       "2       retail sales                          constr type 1   \n",
       "3  1 family dwelling                         wood frame (5)   \n",
       "4                NaN                          constr type 3   \n",
       "\n",
       "  Proposed Construction Type Description Neighborhoods - Analysis Boundaries  \\\n",
       "0                                    NaN                          Tenderloin   \n",
       "1                                    NaN                          Tenderloin   \n",
       "2                          constr type 1                        Russian Hill   \n",
       "3                         wood frame (5)                            Nob Hill   \n",
       "4                                    NaN                          Tenderloin   \n",
       "\n",
       "                                    Location  \n",
       "0  (37.785719256680785, -122.40852313194863)  \n",
       "1   (37.78733980600732, -122.41063199757738)  \n",
       "2    (37.7946573324287, -122.42232562979227)  \n",
       "3   (37.79595867909168, -122.41557405519474)  \n",
       "4   (37.78315261897309, -122.40950883997789)  "
      ]
     },
     "execution_count": 14,
     "metadata": {},
     "output_type": "execute_result"
    }
   ],
   "source": [
    "drop_col[cat_missing_col].head()"
   ]
  },
  {
   "cell_type": "code",
   "execution_count": 15,
   "id": "3ecff6ae",
   "metadata": {},
   "outputs": [
    {
     "data": {
      "text/plain": [
       "['Permit Number',\n",
       " 'Permit Type Definition',\n",
       " 'Permit Creation Date',\n",
       " 'Block',\n",
       " 'Lot',\n",
       " 'Street Name',\n",
       " 'Current Status',\n",
       " 'Current Status Date',\n",
       " 'Filed Date']"
      ]
     },
     "execution_count": 15,
     "metadata": {},
     "output_type": "execute_result"
    }
   ],
   "source": [
    "cat_var_notnull=[var for var in cat_var.columns if cat_var[var].isnull().sum()<=0]\n",
    "cat_var_notnull"
   ]
  },
  {
   "cell_type": "code",
   "execution_count": 16,
   "id": "30b546d4",
   "metadata": {},
   "outputs": [
    {
     "data": {
      "text/plain": [
       "['Permit Type', 'Street Number', 'Record ID']"
      ]
     },
     "execution_count": 16,
     "metadata": {},
     "output_type": "execute_result"
    }
   ],
   "source": [
    "num_var_notnull=[var for var in num_var.columns if num_var[var].isnull().sum()<=0]\n",
    "num_var_notnull"
   ]
  },
  {
   "cell_type": "code",
   "execution_count": 17,
   "id": "d77c6525",
   "metadata": {},
   "outputs": [
    {
     "data": {
      "text/plain": [
       "['Number of Existing Stories',\n",
       " 'Number of Proposed Stories',\n",
       " 'Estimated Cost',\n",
       " 'Revised Cost',\n",
       " 'Plansets',\n",
       " 'Existing Construction Type',\n",
       " 'Proposed Construction Type',\n",
       " 'Supervisor District',\n",
       " 'Zipcode']"
      ]
     },
     "execution_count": 17,
     "metadata": {},
     "output_type": "execute_result"
    }
   ],
   "source": [
    "num_missing_col"
   ]
  },
  {
   "cell_type": "code",
   "execution_count": 18,
   "id": "72c638aa",
   "metadata": {},
   "outputs": [
    {
     "data": {
      "text/plain": [
       "8    178844\n",
       "3     14663\n",
       "4      2892\n",
       "2       950\n",
       "6       600\n",
       "7       511\n",
       "1       349\n",
       "5        91\n",
       "Name: Permit Type, dtype: int64"
      ]
     },
     "execution_count": 18,
     "metadata": {},
     "output_type": "execute_result"
    }
   ],
   "source": [
    "drop_col['Permit Type'].value_counts()"
   ]
  },
  {
   "cell_type": "code",
   "execution_count": 19,
   "id": "bd8c4a3e",
   "metadata": {},
   "outputs": [
    {
     "data": {
      "text/plain": [
       "1      2394\n",
       "101    1153\n",
       "100    1143\n",
       "50     1103\n",
       "201    1026\n",
       "Name: Street Number, dtype: int64"
      ]
     },
     "execution_count": 19,
     "metadata": {},
     "output_type": "execute_result"
    }
   ],
   "source": [
    "drop_col['Street Number'].value_counts().head()"
   ]
  },
  {
   "cell_type": "code",
   "execution_count": 20,
   "id": "4dd90bcc",
   "metadata": {},
   "outputs": [
    {
     "data": {
      "text/plain": [
       "1323096395930    1\n",
       "1482389504717    1\n",
       "1347422451402    1\n",
       "1450109158125    1\n",
       "1383685141713    1\n",
       "Name: Record ID, dtype: int64"
      ]
     },
     "execution_count": 20,
     "metadata": {},
     "output_type": "execute_result"
    }
   ],
   "source": [
    "drop_col['Record ID'].value_counts().head()"
   ]
  },
  {
   "cell_type": "markdown",
   "id": "8912baf6",
   "metadata": {},
   "source": [
    "# i have numerical categorical column \"permit type\"\n",
    "## so we wil fill the mean value by using all class of \"permit type\""
   ]
  },
  {
   "cell_type": "code",
   "execution_count": 83,
   "id": "71d50b6b",
   "metadata": {},
   "outputs": [
    {
     "data": {
      "text/plain": [
       "Index(['Number of Existing Stories', 'Number of Proposed Stories',\n",
       "       'Estimated Cost', 'Plansets', 'Existing Construction Type',\n",
       "       'Proposed Construction Type'],\n",
       "      dtype='object')"
      ]
     },
     "execution_count": 83,
     "metadata": {},
     "output_type": "execute_result"
    }
   ],
   "source": [
    "less_five=drop_col[num_missing_col].isnull().mean()*100\n",
    "greater_five_col=less_five[less_five>5].keys()\n",
    "greater_five_col\n",
    "# five_lessnum_col=less_five[less_five>=15]\n",
    "# greater_than_five=five_lessnum_col.keys()\n",
    "# greater_than_five"
   ]
  },
  {
   "cell_type": "markdown",
   "id": "816a0415",
   "metadata": {},
   "source": [
    "## now we will apply the median value"
   ]
  },
  {
   "cell_type": "code",
   "execution_count": 28,
   "id": "7ecb2d30",
   "metadata": {},
   "outputs": [
    {
     "data": {
      "text/plain": [
       "Index(['Permit Type', 'Street Number', 'Number of Existing Stories',\n",
       "       'Number of Proposed Stories', 'Estimated Cost', 'Revised Cost',\n",
       "       'Plansets', 'Existing Construction Type', 'Proposed Construction Type',\n",
       "       'Supervisor District', 'Zipcode', 'Record ID'],\n",
       "      dtype='object')"
      ]
     },
     "execution_count": 28,
     "metadata": {},
     "output_type": "execute_result"
    }
   ],
   "source": [
    "num_var.columns"
   ]
  },
  {
   "cell_type": "code",
   "execution_count": 34,
   "id": "0c4e207c",
   "metadata": {},
   "outputs": [
    {
     "ename": "SyntaxError",
     "evalue": "expression cannot contain assignment, perhaps you meant \"==\"? (<ipython-input-34-be53dc76815b>, line 8)",
     "output_type": "error",
     "traceback": [
      "\u001b[1;36m  File \u001b[1;32m\"<ipython-input-34-be53dc76815b>\"\u001b[1;36m, line \u001b[1;32m8\u001b[0m\n\u001b[1;33m    df_copy.update(num_var[num_var.loc[:,'Permit Type']==class_var][num_variable]=replace(np.nan,num_var[num_var.loc[:,'Permit Type']==class_var][num_variable].mean()))\u001b[0m\n\u001b[1;37m                   ^\u001b[0m\n\u001b[1;31mSyntaxError\u001b[0m\u001b[1;31m:\u001b[0m expression cannot contain assignment, perhaps you meant \"==\"?\n"
     ]
    }
   ],
   "source": [
    "df_copy=data.copy()\n",
    "num_list=['Permit Type', 'Street Number', 'Number of Existing Stories',\n",
    "       'Number of Proposed Stories', 'Estimated Cost', 'Revised Cost',\n",
    "       'Plansets', 'Existing Construction Type', 'Proposed Construction Type',\n",
    "       'Supervisor District', 'Zipcode', 'Record ID']\n",
    "for num_variable in num_list:\n",
    "    for class_var in num_var[num_variable].unique():\n"
   ]
  },
  {
   "cell_type": "code",
   "execution_count": 80,
   "id": "a9cbf83c",
   "metadata": {},
   "outputs": [],
   "source": [
    "data2=data.copy()\n",
    "for miss_col_less_than_five in less_five_col:\n",
    "    for domain in data['Permit Type'].unique():\n",
    "        data2.update(data[data.loc[:,'Permit Type']==domain][miss_col_less_than_five].replace(np.nan,data[data.loc[:,'Permit Type']==domain][miss_col_less_than_five].mean()))\n"
   ]
  },
  {
   "cell_type": "code",
   "execution_count": 81,
   "id": "403810b4",
   "metadata": {},
   "outputs": [
    {
     "data": {
      "text/plain": [
       "Revised Cost           0\n",
       "Supervisor District    0\n",
       "Zipcode                0\n",
       "dtype: int64"
      ]
     },
     "execution_count": 81,
     "metadata": {},
     "output_type": "execute_result"
    }
   ],
   "source": [
    "data2[less_five_col].isnull().sum()"
   ]
  },
  {
   "cell_type": "code",
   "execution_count": 110,
   "id": "561d1b14",
   "metadata": {},
   "outputs": [
    {
     "data": {
      "text/plain": [
       "Index(['Number of Existing Stories', 'Number of Proposed Stories',\n",
       "       'Estimated Cost', 'Plansets', 'Existing Construction Type',\n",
       "       'Proposed Construction Type'],\n",
       "      dtype='object')"
      ]
     },
     "execution_count": 110,
     "metadata": {},
     "output_type": "execute_result"
    }
   ],
   "source": [
    "greater_five_col"
   ]
  },
  {
   "cell_type": "markdown",
   "id": "e9cb7192",
   "metadata": {},
   "source": [
    "## and now we will fill the median other numerical missing columns"
   ]
  },
  {
   "cell_type": "code",
   "execution_count": 137,
   "id": "af53bd38",
   "metadata": {},
   "outputs": [
    {
     "data": {
      "text/plain": [
       "Index(['Unit', 'Number of Existing Stories', 'Number of Proposed Stories',\n",
       "       'Existing Units', 'Proposed Units', 'Existing Construction Type',\n",
       "       'Proposed Construction Type'],\n",
       "      dtype='object')"
      ]
     },
     "execution_count": 137,
     "metadata": {},
     "output_type": "execute_result"
    }
   ],
   "source": [
    "num_null_col=data3.select_dtypes(include=['int64','float64']).isnull().sum()\n",
    "miss_numerical_columns=num_null_col[num_null_col>0].keys()\n",
    "miss_numerical_columns"
   ]
  },
  {
   "cell_type": "code",
   "execution_count": 138,
   "id": "ed512869",
   "metadata": {},
   "outputs": [],
   "source": [
    "data4 = data3.copy()\n",
    "for columns in miss_numerical_columns:\n",
    "    for class_ver in data2['Permit Type'].unique():\n",
    "        data4.update(data3[data3.loc[:,'Permit Type']==class_ver][columns].replace(np.nan,data3[data3.loc[:,'Permit Type']==class_ver][columns].mean()))\n"
   ]
  },
  {
   "cell_type": "code",
   "execution_count": 101,
   "id": "da95a64a",
   "metadata": {},
   "outputs": [],
   "source": [
    "pd.set_option('display.max_columns',None)\n",
    "pd.set_option('display.max_rows',None)"
   ]
  },
  {
   "cell_type": "markdown",
   "id": "384a3a33",
   "metadata": {},
   "source": [
    "# you can now check differences in dataframe\n"
   ]
  },
  {
   "cell_type": "markdown",
   "id": "ee01019f",
   "metadata": {},
   "source": [
    "**untill missing values present there but we has reduced maximum 60% percentage value<br>\n",
    "and in this method we used a single domain property so result is not coming perfect<br>\n",
    "we have to use diffrent domain on a different column<br>\n",
    "<p> our function is working perfectly but you remeber that<br>\n",
    "    untill some missing  valuse are presented here because my function meet  the condition<br>\n",
    "    and function calculate the mean or median value of that columns and after that calculation<br>\n",
    "    function will put the value on these columns but when function have only none value <br>\n",
    "    than what will do calculate the mean and medina etc.. hence no changes there</p>                                                         \n",
    "                                                       \n",
    "                                                         "
   ]
  },
  {
   "cell_type": "code",
   "execution_count": 148,
   "id": "ba2a8151",
   "metadata": {},
   "outputs": [
    {
     "data": {
      "text/plain": [
       "Unit                          85.178984\n",
       "Number of Existing Stories    21.510307\n",
       "Number of Proposed Stories    21.552539\n",
       "Existing Units                25.911513\n",
       "Proposed Units                25.596280\n",
       "Existing Construction Type    21.802916\n",
       "Proposed Construction Type    21.700352\n",
       "dtype: float64"
      ]
     },
     "execution_count": 148,
     "metadata": {},
     "output_type": "execute_result"
    }
   ],
   "source": [
    "data2[miss_numerical_columns].isnull().mean()*100"
   ]
  },
  {
   "cell_type": "code",
   "execution_count": 145,
   "id": "b9417534",
   "metadata": {},
   "outputs": [
    {
     "data": {
      "text/plain": [
       "Unit                          85.178984\n",
       "Number of Existing Stories     0.221217\n",
       "Number of Proposed Stories     2.058321\n",
       "Existing Units                25.911513\n",
       "Proposed Units                25.596280\n",
       "Existing Construction Type     0.221217\n",
       "Proposed Construction Type     2.058321\n",
       "dtype: float64"
      ]
     },
     "execution_count": 145,
     "metadata": {},
     "output_type": "execute_result"
    }
   ],
   "source": [
    "data3[miss_numerical_columns].isnull().mean()*100"
   ]
  },
  {
   "cell_type": "code",
   "execution_count": 144,
   "id": "52929f50",
   "metadata": {},
   "outputs": [
    {
     "data": {
      "text/plain": [
       "Unit                          0.000000\n",
       "Number of Existing Stories    0.221217\n",
       "Number of Proposed Stories    2.058321\n",
       "Existing Units                0.221217\n",
       "Proposed Units                2.058321\n",
       "Existing Construction Type    0.221217\n",
       "Proposed Construction Type    2.058321\n",
       "dtype: float64"
      ]
     },
     "execution_count": 144,
     "metadata": {},
     "output_type": "execute_result"
    }
   ],
   "source": [
    "data4[miss_numerical_columns].isnull().mean()*100"
   ]
  },
  {
   "cell_type": "code",
   "execution_count": 155,
   "id": "907c1a61",
   "metadata": {},
   "outputs": [
    {
     "data": {
      "text/html": [
       "<div>\n",
       "<style scoped>\n",
       "    .dataframe tbody tr th:only-of-type {\n",
       "        vertical-align: middle;\n",
       "    }\n",
       "\n",
       "    .dataframe tbody tr th {\n",
       "        vertical-align: top;\n",
       "    }\n",
       "\n",
       "    .dataframe thead th {\n",
       "        text-align: right;\n",
       "    }\n",
       "</style>\n",
       "<table border=\"1\" class=\"dataframe\">\n",
       "  <thead>\n",
       "    <tr style=\"text-align: right;\">\n",
       "      <th></th>\n",
       "      <th>Permit Number</th>\n",
       "      <th>Permit Type</th>\n",
       "      <th>Permit Type Definition</th>\n",
       "      <th>Permit Creation Date</th>\n",
       "      <th>Block</th>\n",
       "      <th>Lot</th>\n",
       "      <th>Street Number</th>\n",
       "      <th>Street Number Suffix</th>\n",
       "      <th>Street Name</th>\n",
       "      <th>Street Suffix</th>\n",
       "      <th>Unit</th>\n",
       "      <th>Unit Suffix</th>\n",
       "      <th>Description</th>\n",
       "      <th>Current Status</th>\n",
       "      <th>Current Status Date</th>\n",
       "      <th>Filed Date</th>\n",
       "      <th>Issued Date</th>\n",
       "      <th>Completed Date</th>\n",
       "      <th>First Construction Document Date</th>\n",
       "      <th>Structural Notification</th>\n",
       "      <th>Number of Existing Stories</th>\n",
       "      <th>Number of Proposed Stories</th>\n",
       "      <th>Voluntary Soft-Story Retrofit</th>\n",
       "      <th>Fire Only Permit</th>\n",
       "      <th>Permit Expiration Date</th>\n",
       "      <th>Estimated Cost</th>\n",
       "      <th>Revised Cost</th>\n",
       "      <th>Existing Use</th>\n",
       "      <th>Existing Units</th>\n",
       "      <th>Proposed Use</th>\n",
       "      <th>Proposed Units</th>\n",
       "      <th>Plansets</th>\n",
       "      <th>TIDF Compliance</th>\n",
       "      <th>Existing Construction Type</th>\n",
       "      <th>Existing Construction Type Description</th>\n",
       "      <th>Proposed Construction Type</th>\n",
       "      <th>Proposed Construction Type Description</th>\n",
       "      <th>Site Permit</th>\n",
       "      <th>Supervisor District</th>\n",
       "      <th>Neighborhoods - Analysis Boundaries</th>\n",
       "      <th>Zipcode</th>\n",
       "      <th>Location</th>\n",
       "      <th>Record ID</th>\n",
       "    </tr>\n",
       "  </thead>\n",
       "  <tbody>\n",
       "    <tr>\n",
       "      <th>0</th>\n",
       "      <td>201505065519</td>\n",
       "      <td>4</td>\n",
       "      <td>sign - erect</td>\n",
       "      <td>05/06/2015</td>\n",
       "      <td>0326</td>\n",
       "      <td>023</td>\n",
       "      <td>140</td>\n",
       "      <td>NaN</td>\n",
       "      <td>Ellis</td>\n",
       "      <td>St</td>\n",
       "      <td>56.806691</td>\n",
       "      <td>NaN</td>\n",
       "      <td>ground fl facade: to erect illuminated, electr...</td>\n",
       "      <td>expired</td>\n",
       "      <td>12/21/2017</td>\n",
       "      <td>05/06/2015</td>\n",
       "      <td>11/09/2015</td>\n",
       "      <td>NaN</td>\n",
       "      <td>11/09/2015</td>\n",
       "      <td>NaN</td>\n",
       "      <td>6.0</td>\n",
       "      <td>NaN</td>\n",
       "      <td>NaN</td>\n",
       "      <td>NaN</td>\n",
       "      <td>11/03/2016</td>\n",
       "      <td>4000.0</td>\n",
       "      <td>4.000000e+03</td>\n",
       "      <td>tourist hotel/motel</td>\n",
       "      <td>143.000000</td>\n",
       "      <td>NaN</td>\n",
       "      <td>NaN</td>\n",
       "      <td>2.0</td>\n",
       "      <td>NaN</td>\n",
       "      <td>3.0</td>\n",
       "      <td>constr type 3</td>\n",
       "      <td>NaN</td>\n",
       "      <td>NaN</td>\n",
       "      <td>NaN</td>\n",
       "      <td>3.0</td>\n",
       "      <td>Tenderloin</td>\n",
       "      <td>94102.0</td>\n",
       "      <td>(37.785719256680785, -122.40852313194863)</td>\n",
       "      <td>1380611233945</td>\n",
       "    </tr>\n",
       "    <tr>\n",
       "      <th>1</th>\n",
       "      <td>201604195146</td>\n",
       "      <td>4</td>\n",
       "      <td>sign - erect</td>\n",
       "      <td>04/19/2016</td>\n",
       "      <td>0306</td>\n",
       "      <td>007</td>\n",
       "      <td>440</td>\n",
       "      <td>NaN</td>\n",
       "      <td>Geary</td>\n",
       "      <td>St</td>\n",
       "      <td>0.000000</td>\n",
       "      <td>NaN</td>\n",
       "      <td>remove (e) awning and associated signs.</td>\n",
       "      <td>issued</td>\n",
       "      <td>08/03/2017</td>\n",
       "      <td>04/19/2016</td>\n",
       "      <td>08/03/2017</td>\n",
       "      <td>NaN</td>\n",
       "      <td>08/03/2017</td>\n",
       "      <td>NaN</td>\n",
       "      <td>7.0</td>\n",
       "      <td>NaN</td>\n",
       "      <td>NaN</td>\n",
       "      <td>NaN</td>\n",
       "      <td>12/03/2017</td>\n",
       "      <td>1.0</td>\n",
       "      <td>5.000000e+02</td>\n",
       "      <td>tourist hotel/motel</td>\n",
       "      <td>29.212831</td>\n",
       "      <td>NaN</td>\n",
       "      <td>NaN</td>\n",
       "      <td>2.0</td>\n",
       "      <td>NaN</td>\n",
       "      <td>3.0</td>\n",
       "      <td>constr type 3</td>\n",
       "      <td>NaN</td>\n",
       "      <td>NaN</td>\n",
       "      <td>NaN</td>\n",
       "      <td>3.0</td>\n",
       "      <td>Tenderloin</td>\n",
       "      <td>94102.0</td>\n",
       "      <td>(37.78733980600732, -122.41063199757738)</td>\n",
       "      <td>1420164406718</td>\n",
       "    </tr>\n",
       "    <tr>\n",
       "      <th>4</th>\n",
       "      <td>201611283529</td>\n",
       "      <td>6</td>\n",
       "      <td>demolitions</td>\n",
       "      <td>11/28/2016</td>\n",
       "      <td>0342</td>\n",
       "      <td>001</td>\n",
       "      <td>950</td>\n",
       "      <td>NaN</td>\n",
       "      <td>Market</td>\n",
       "      <td>St</td>\n",
       "      <td>0.045455</td>\n",
       "      <td>NaN</td>\n",
       "      <td>demolish retail/office/commercial 3-story buil...</td>\n",
       "      <td>issued</td>\n",
       "      <td>12/01/2017</td>\n",
       "      <td>11/28/2016</td>\n",
       "      <td>12/01/2017</td>\n",
       "      <td>NaN</td>\n",
       "      <td>11/20/2017</td>\n",
       "      <td>NaN</td>\n",
       "      <td>3.0</td>\n",
       "      <td>NaN</td>\n",
       "      <td>NaN</td>\n",
       "      <td>NaN</td>\n",
       "      <td>12/01/2018</td>\n",
       "      <td>100000.0</td>\n",
       "      <td>1.000000e+05</td>\n",
       "      <td>retail sales</td>\n",
       "      <td>1.140741</td>\n",
       "      <td>NaN</td>\n",
       "      <td>NaN</td>\n",
       "      <td>2.0</td>\n",
       "      <td>NaN</td>\n",
       "      <td>3.0</td>\n",
       "      <td>constr type 3</td>\n",
       "      <td>NaN</td>\n",
       "      <td>NaN</td>\n",
       "      <td>NaN</td>\n",
       "      <td>6.0</td>\n",
       "      <td>Tenderloin</td>\n",
       "      <td>94102.0</td>\n",
       "      <td>(37.78315261897309, -122.40950883997789)</td>\n",
       "      <td>144548169992</td>\n",
       "    </tr>\n",
       "    <tr>\n",
       "      <th>55</th>\n",
       "      <td>201710242043</td>\n",
       "      <td>7</td>\n",
       "      <td>wall or painted sign</td>\n",
       "      <td>10/24/2017</td>\n",
       "      <td>8702</td>\n",
       "      <td>611</td>\n",
       "      <td>274</td>\n",
       "      <td>NaN</td>\n",
       "      <td>King</td>\n",
       "      <td>St</td>\n",
       "      <td>88.943396</td>\n",
       "      <td>NaN</td>\n",
       "      <td>re-face (1) existing projecting sign. maher na</td>\n",
       "      <td>filed</td>\n",
       "      <td>10/24/2017</td>\n",
       "      <td>10/24/2017</td>\n",
       "      <td>NaN</td>\n",
       "      <td>NaN</td>\n",
       "      <td>NaN</td>\n",
       "      <td>NaN</td>\n",
       "      <td>6.0</td>\n",
       "      <td>NaN</td>\n",
       "      <td>NaN</td>\n",
       "      <td>NaN</td>\n",
       "      <td>NaN</td>\n",
       "      <td>1000.0</td>\n",
       "      <td>1.825654e+03</td>\n",
       "      <td>NaN</td>\n",
       "      <td>0.000000</td>\n",
       "      <td>NaN</td>\n",
       "      <td>NaN</td>\n",
       "      <td>2.0</td>\n",
       "      <td>NaN</td>\n",
       "      <td>3.0</td>\n",
       "      <td>NaN</td>\n",
       "      <td>NaN</td>\n",
       "      <td>NaN</td>\n",
       "      <td>NaN</td>\n",
       "      <td>6.0</td>\n",
       "      <td>Mission Bay</td>\n",
       "      <td>94107.0</td>\n",
       "      <td>(37.777642220223974, -122.39341813656613)</td>\n",
       "      <td>1484475491468</td>\n",
       "    </tr>\n",
       "    <tr>\n",
       "      <th>83</th>\n",
       "      <td>201712207002</td>\n",
       "      <td>1</td>\n",
       "      <td>new construction</td>\n",
       "      <td>12/20/2017</td>\n",
       "      <td>4991</td>\n",
       "      <td>085</td>\n",
       "      <td>250</td>\n",
       "      <td>NaN</td>\n",
       "      <td>Executive Park</td>\n",
       "      <td>Bl</td>\n",
       "      <td>0.000000</td>\n",
       "      <td>NaN</td>\n",
       "      <td>bldg 7. erect a type i&amp;iii (5) story (3) basem...</td>\n",
       "      <td>filed</td>\n",
       "      <td>12/20/2017</td>\n",
       "      <td>12/20/2017</td>\n",
       "      <td>NaN</td>\n",
       "      <td>NaN</td>\n",
       "      <td>NaN</td>\n",
       "      <td>NaN</td>\n",
       "      <td>NaN</td>\n",
       "      <td>5.0</td>\n",
       "      <td>NaN</td>\n",
       "      <td>NaN</td>\n",
       "      <td>NaN</td>\n",
       "      <td>25000000.0</td>\n",
       "      <td>5.374473e+07</td>\n",
       "      <td>NaN</td>\n",
       "      <td>NaN</td>\n",
       "      <td>apartments</td>\n",
       "      <td>74.0</td>\n",
       "      <td>2.0</td>\n",
       "      <td>NaN</td>\n",
       "      <td>NaN</td>\n",
       "      <td>NaN</td>\n",
       "      <td>1.0</td>\n",
       "      <td>constr type 1</td>\n",
       "      <td>Y</td>\n",
       "      <td>10.0</td>\n",
       "      <td>Bayview Hunters Point</td>\n",
       "      <td>94134.0</td>\n",
       "      <td>(37.710262656811906, -122.39181337034003)</td>\n",
       "      <td>1491353177117</td>\n",
       "    </tr>\n",
       "  </tbody>\n",
       "</table>\n",
       "</div>"
      ],
      "text/plain": [
       "   Permit Number  Permit Type Permit Type Definition Permit Creation Date  \\\n",
       "0   201505065519            4           sign - erect           05/06/2015   \n",
       "1   201604195146            4           sign - erect           04/19/2016   \n",
       "4   201611283529            6            demolitions           11/28/2016   \n",
       "55  201710242043            7   wall or painted sign           10/24/2017   \n",
       "83  201712207002            1       new construction           12/20/2017   \n",
       "\n",
       "   Block  Lot  Street Number Street Number Suffix     Street Name  \\\n",
       "0   0326  023            140                  NaN           Ellis   \n",
       "1   0306  007            440                  NaN           Geary   \n",
       "4   0342  001            950                  NaN          Market   \n",
       "55  8702  611            274                  NaN            King   \n",
       "83  4991  085            250                  NaN  Executive Park   \n",
       "\n",
       "   Street Suffix       Unit Unit Suffix  \\\n",
       "0             St  56.806691         NaN   \n",
       "1             St   0.000000         NaN   \n",
       "4             St   0.045455         NaN   \n",
       "55            St  88.943396         NaN   \n",
       "83            Bl   0.000000         NaN   \n",
       "\n",
       "                                          Description Current Status  \\\n",
       "0   ground fl facade: to erect illuminated, electr...        expired   \n",
       "1             remove (e) awning and associated signs.         issued   \n",
       "4   demolish retail/office/commercial 3-story buil...         issued   \n",
       "55     re-face (1) existing projecting sign. maher na          filed   \n",
       "83  bldg 7. erect a type i&iii (5) story (3) basem...          filed   \n",
       "\n",
       "   Current Status Date  Filed Date Issued Date Completed Date  \\\n",
       "0           12/21/2017  05/06/2015  11/09/2015            NaN   \n",
       "1           08/03/2017  04/19/2016  08/03/2017            NaN   \n",
       "4           12/01/2017  11/28/2016  12/01/2017            NaN   \n",
       "55          10/24/2017  10/24/2017         NaN            NaN   \n",
       "83          12/20/2017  12/20/2017         NaN            NaN   \n",
       "\n",
       "   First Construction Document Date Structural Notification  \\\n",
       "0                        11/09/2015                     NaN   \n",
       "1                        08/03/2017                     NaN   \n",
       "4                        11/20/2017                     NaN   \n",
       "55                              NaN                     NaN   \n",
       "83                              NaN                     NaN   \n",
       "\n",
       "    Number of Existing Stories  Number of Proposed Stories  \\\n",
       "0                          6.0                         NaN   \n",
       "1                          7.0                         NaN   \n",
       "4                          3.0                         NaN   \n",
       "55                         6.0                         NaN   \n",
       "83                         NaN                         5.0   \n",
       "\n",
       "   Voluntary Soft-Story Retrofit Fire Only Permit Permit Expiration Date  \\\n",
       "0                            NaN              NaN             11/03/2016   \n",
       "1                            NaN              NaN             12/03/2017   \n",
       "4                            NaN              NaN             12/01/2018   \n",
       "55                           NaN              NaN                    NaN   \n",
       "83                           NaN              NaN                    NaN   \n",
       "\n",
       "    Estimated Cost  Revised Cost         Existing Use  Existing Units  \\\n",
       "0           4000.0  4.000000e+03  tourist hotel/motel      143.000000   \n",
       "1              1.0  5.000000e+02  tourist hotel/motel       29.212831   \n",
       "4         100000.0  1.000000e+05         retail sales        1.140741   \n",
       "55          1000.0  1.825654e+03                  NaN        0.000000   \n",
       "83      25000000.0  5.374473e+07                  NaN             NaN   \n",
       "\n",
       "   Proposed Use  Proposed Units  Plansets TIDF Compliance  \\\n",
       "0           NaN             NaN       2.0             NaN   \n",
       "1           NaN             NaN       2.0             NaN   \n",
       "4           NaN             NaN       2.0             NaN   \n",
       "55          NaN             NaN       2.0             NaN   \n",
       "83   apartments            74.0       2.0             NaN   \n",
       "\n",
       "    Existing Construction Type Existing Construction Type Description  \\\n",
       "0                          3.0                          constr type 3   \n",
       "1                          3.0                          constr type 3   \n",
       "4                          3.0                          constr type 3   \n",
       "55                         3.0                                    NaN   \n",
       "83                         NaN                                    NaN   \n",
       "\n",
       "    Proposed Construction Type Proposed Construction Type Description  \\\n",
       "0                          NaN                                    NaN   \n",
       "1                          NaN                                    NaN   \n",
       "4                          NaN                                    NaN   \n",
       "55                         NaN                                    NaN   \n",
       "83                         1.0                          constr type 1   \n",
       "\n",
       "   Site Permit  Supervisor District Neighborhoods - Analysis Boundaries  \\\n",
       "0          NaN                  3.0                          Tenderloin   \n",
       "1          NaN                  3.0                          Tenderloin   \n",
       "4          NaN                  6.0                          Tenderloin   \n",
       "55         NaN                  6.0                         Mission Bay   \n",
       "83           Y                 10.0               Bayview Hunters Point   \n",
       "\n",
       "    Zipcode                                   Location      Record ID  \n",
       "0   94102.0  (37.785719256680785, -122.40852313194863)  1380611233945  \n",
       "1   94102.0   (37.78733980600732, -122.41063199757738)  1420164406718  \n",
       "4   94102.0   (37.78315261897309, -122.40950883997789)   144548169992  \n",
       "55  94107.0  (37.777642220223974, -122.39341813656613)  1484475491468  \n",
       "83  94134.0  (37.710262656811906, -122.39181337034003)  1491353177117  "
      ]
     },
     "execution_count": 155,
     "metadata": {},
     "output_type": "execute_result"
    }
   ],
   "source": [
    "data4[data4[miss_numerical_columns].isnull().any(axis=1)].head()"
   ]
  },
  {
   "cell_type": "code",
   "execution_count": 157,
   "id": "122eef19",
   "metadata": {},
   "outputs": [
    {
     "data": {
      "text/plain": [
       "Index(['Permit Type', 'Street Number', 'Unit', 'Number of Existing Stories',\n",
       "       'Number of Proposed Stories', 'Estimated Cost', 'Revised Cost',\n",
       "       'Existing Units', 'Proposed Units', 'Plansets',\n",
       "       'Existing Construction Type', 'Proposed Construction Type',\n",
       "       'Supervisor District', 'Zipcode', 'Record ID'],\n",
       "      dtype='object')"
      ]
     },
     "execution_count": 157,
     "metadata": {},
     "output_type": "execute_result"
    }
   ],
   "source": [
    "nam_var=data4.select_dtypes(include=['int64','float64']).keys()\n",
    "nam_var"
   ]
  },
  {
   "cell_type": "code",
   "execution_count": 160,
   "id": "f5e98d5f",
   "metadata": {},
   "outputs": [
    {
     "data": {
      "text/plain": [
       "Permit Type                      0\n",
       "Street Number                    0\n",
       "Unit                             0\n",
       "Number of Existing Stories     440\n",
       "Number of Proposed Stories    4094\n",
       "Estimated Cost                   0\n",
       "Revised Cost                     0\n",
       "Existing Units                 440\n",
       "Proposed Units                4094\n",
       "Plansets                         0\n",
       "Existing Construction Type     440\n",
       "Proposed Construction Type    4094\n",
       "Supervisor District              0\n",
       "Zipcode                          0\n",
       "Record ID                        0\n",
       "dtype: int64"
      ]
     },
     "execution_count": 160,
     "metadata": {},
     "output_type": "execute_result"
    }
   ],
   "source": [
    "data4[nam_var].isnull().sum()"
   ]
  },
  {
   "cell_type": "code",
   "execution_count": 33,
   "id": "d6c3cb8d",
   "metadata": {},
   "outputs": [
    {
     "name": "stderr",
     "output_type": "stream",
     "text": [
      "c:\\users\\dell\\appdata\\local\\programs\\python\\python39\\lib\\site-packages\\IPython\\core\\interactiveshell.py:3169: DtypeWarning: Columns (23,33) have mixed types.Specify dtype option on import or set low_memory=False.\n",
      "  has_raised = await self.run_ast_nodes(code_ast.body, cell_name,\n"
     ]
    },
    {
     "data": {
      "text/html": [
       "<div>\n",
       "<style scoped>\n",
       "    .dataframe tbody tr th:only-of-type {\n",
       "        vertical-align: middle;\n",
       "    }\n",
       "\n",
       "    .dataframe tbody tr th {\n",
       "        vertical-align: top;\n",
       "    }\n",
       "\n",
       "    .dataframe thead th {\n",
       "        text-align: right;\n",
       "    }\n",
       "</style>\n",
       "<table border=\"1\" class=\"dataframe\">\n",
       "  <thead>\n",
       "    <tr style=\"text-align: right;\">\n",
       "      <th></th>\n",
       "      <th>Unnamed: 0</th>\n",
       "      <th>Permit Number</th>\n",
       "      <th>Permit Type</th>\n",
       "      <th>Permit Type Definition</th>\n",
       "      <th>Permit Creation Date</th>\n",
       "      <th>Block</th>\n",
       "      <th>Lot</th>\n",
       "      <th>Street Number</th>\n",
       "      <th>Street Number Suffix</th>\n",
       "      <th>Street Name</th>\n",
       "      <th>...</th>\n",
       "      <th>Existing Construction Type</th>\n",
       "      <th>Existing Construction Type Description</th>\n",
       "      <th>Proposed Construction Type</th>\n",
       "      <th>Proposed Construction Type Description</th>\n",
       "      <th>Site Permit</th>\n",
       "      <th>Supervisor District</th>\n",
       "      <th>Neighborhoods - Analysis Boundaries</th>\n",
       "      <th>Zipcode</th>\n",
       "      <th>Location</th>\n",
       "      <th>Record ID</th>\n",
       "    </tr>\n",
       "  </thead>\n",
       "  <tbody>\n",
       "    <tr>\n",
       "      <th>0</th>\n",
       "      <td>0</td>\n",
       "      <td>201505065519</td>\n",
       "      <td>4</td>\n",
       "      <td>sign - erect</td>\n",
       "      <td>05/06/2015</td>\n",
       "      <td>0326</td>\n",
       "      <td>023</td>\n",
       "      <td>140</td>\n",
       "      <td>NaN</td>\n",
       "      <td>Ellis</td>\n",
       "      <td>...</td>\n",
       "      <td>3.0</td>\n",
       "      <td>constr type 3</td>\n",
       "      <td>NaN</td>\n",
       "      <td>NaN</td>\n",
       "      <td>NaN</td>\n",
       "      <td>3.0</td>\n",
       "      <td>Tenderloin</td>\n",
       "      <td>94102.0</td>\n",
       "      <td>(37.785719256680785, -122.40852313194863)</td>\n",
       "      <td>1380611233945</td>\n",
       "    </tr>\n",
       "    <tr>\n",
       "      <th>1</th>\n",
       "      <td>1</td>\n",
       "      <td>201604195146</td>\n",
       "      <td>4</td>\n",
       "      <td>sign - erect</td>\n",
       "      <td>04/19/2016</td>\n",
       "      <td>0306</td>\n",
       "      <td>007</td>\n",
       "      <td>440</td>\n",
       "      <td>NaN</td>\n",
       "      <td>Geary</td>\n",
       "      <td>...</td>\n",
       "      <td>3.0</td>\n",
       "      <td>constr type 3</td>\n",
       "      <td>NaN</td>\n",
       "      <td>NaN</td>\n",
       "      <td>NaN</td>\n",
       "      <td>3.0</td>\n",
       "      <td>Tenderloin</td>\n",
       "      <td>94102.0</td>\n",
       "      <td>(37.78733980600732, -122.41063199757738)</td>\n",
       "      <td>1420164406718</td>\n",
       "    </tr>\n",
       "  </tbody>\n",
       "</table>\n",
       "<p>2 rows × 44 columns</p>\n",
       "</div>"
      ],
      "text/plain": [
       "   Unnamed: 0 Permit Number  Permit Type Permit Type Definition  \\\n",
       "0           0  201505065519            4           sign - erect   \n",
       "1           1  201604195146            4           sign - erect   \n",
       "\n",
       "  Permit Creation Date Block  Lot  Street Number Street Number Suffix  \\\n",
       "0           05/06/2015  0326  023            140                  NaN   \n",
       "1           04/19/2016  0306  007            440                  NaN   \n",
       "\n",
       "  Street Name  ... Existing Construction Type  \\\n",
       "0       Ellis  ...                        3.0   \n",
       "1       Geary  ...                        3.0   \n",
       "\n",
       "   Existing Construction Type Description Proposed Construction Type  \\\n",
       "0                           constr type 3                        NaN   \n",
       "1                           constr type 3                        NaN   \n",
       "\n",
       "  Proposed Construction Type Description Site Permit Supervisor District  \\\n",
       "0                                    NaN         NaN                 3.0   \n",
       "1                                    NaN         NaN                 3.0   \n",
       "\n",
       "  Neighborhoods - Analysis Boundaries  Zipcode  \\\n",
       "0                          Tenderloin  94102.0   \n",
       "1                          Tenderloin  94102.0   \n",
       "\n",
       "                                    Location      Record ID  \n",
       "0  (37.785719256680785, -122.40852313194863)  1380611233945  \n",
       "1   (37.78733980600732, -122.41063199757738)  1420164406718  \n",
       "\n",
       "[2 rows x 44 columns]"
      ]
     },
     "execution_count": 33,
     "metadata": {},
     "output_type": "execute_result"
    }
   ],
   "source": [
    "data=pd.read_csv('prectise_data_save.csv')\n",
    "data.head(2)"
   ]
  },
  {
   "cell_type": "code",
   "execution_count": 22,
   "id": "e74a8ddd",
   "metadata": {},
   "outputs": [
    {
     "name": "stderr",
     "output_type": "stream",
     "text": [
      "c:\\users\\dell\\appdata\\local\\programs\\python\\python39\\lib\\site-packages\\seaborn\\distributions.py:2557: FutureWarning: `distplot` is a deprecated function and will be removed in a future version. Please adapt your code to use either `displot` (a figure-level function with similar flexibility) or `kdeplot` (an axes-level function for kernel density plots).\n",
      "  warnings.warn(msg, FutureWarning)\n",
      "c:\\users\\dell\\appdata\\local\\programs\\python\\python39\\lib\\site-packages\\seaborn\\distributions.py:2557: FutureWarning: `distplot` is a deprecated function and will be removed in a future version. Please adapt your code to use either `displot` (a figure-level function with similar flexibility) or `kdeplot` (an axes-level function for kernel density plots).\n",
      "  warnings.warn(msg, FutureWarning)\n"
     ]
    },
    {
     "data": {
      "text/plain": [
       "Text(0.5, 1.0, 'first time fill mean & median value')"
      ]
     },
     "execution_count": 22,
     "metadata": {},
     "output_type": "execute_result"
    },
    {
     "data": {
      "image/png": "[encoded data removed]",
      "text/plain": [
       "<Figure size 720x576 with 1 Axes>"
      ]
     },
     "metadata": {},
     "output_type": "display_data"
    }
   ],
   "source": [
    "sns.set(rc={'figure.figsize':(10,8)})\n",
    "sns.distplot(data1['Number of Existing Stories'],hist=False,label='original',kde_kws={'color':'red','lw':5,'linestyle':'dashed'})\n",
    "sns.distplot(data['Number of Existing Stories'],hist=False,label='mean putted',kde_kws={'color':'black','lw':4,'linestyle':'solid'})\n",
    "plt.legend()\n",
    "plt.title('first time fill mean & median value',fontsize=50,color='r')"
   ]
  },
  {
   "cell_type": "code",
   "execution_count": 23,
   "id": "8ee68a1a",
   "metadata": {},
   "outputs": [
    {
     "data": {
      "text/plain": [
       "Unnamed: 0                    0.000000\n",
       "Permit Type                   0.000000\n",
       "Street Number                 0.000000\n",
       "Unit                          0.000000\n",
       "Number of Existing Stories    0.221217\n",
       "Number of Proposed Stories    2.058321\n",
       "Estimated Cost                0.000000\n",
       "Revised Cost                  0.000000\n",
       "Existing Units                0.221217\n",
       "Proposed Units                2.058321\n",
       "Plansets                      0.000000\n",
       "Existing Construction Type    0.221217\n",
       "Proposed Construction Type    2.058321\n",
       "Supervisor District           0.000000\n",
       "Zipcode                       0.000000\n",
       "Record ID                     0.000000\n",
       "dtype: float64"
      ]
     },
     "execution_count": 23,
     "metadata": {},
     "output_type": "execute_result"
    }
   ],
   "source": [
    "# and now we have just records missing so i am goint to remove these records that are containg missing record\n",
    "num_var=data.select_dtypes(include=['int64','float64'])\n",
    "num_var.isnull().mean()*100"
   ]
  },
  {
   "cell_type": "code",
   "execution_count": 27,
   "id": "b4822152",
   "metadata": {},
   "outputs": [
    {
     "name": "stderr",
     "output_type": "stream",
     "text": [
      "<ipython-input-27-9b0555b46625>:1: SettingWithCopyWarning: \n",
      "A value is trying to be set on a copy of a slice from a DataFrame\n",
      "\n",
      "See the caveats in the documentation: https://pandas.pydata.org/pandas-docs/stable/user_guide/indexing.html#returning-a-view-versus-a-copy\n",
      "  data.select_dtypes(include=['int64','float64'])['Plansets'].dropna(inplace=True)\n"
     ]
    }
   ],
   "source": [
    "data.select_dtypes(include=['int64','float64'])['Plansets'].dropna(inplace=True)\n",
    "# num_free_missing_df=\n"
   ]
  },
  {
   "cell_type": "code",
   "execution_count": 40,
   "id": "0738c4fe",
   "metadata": {},
   "outputs": [],
   "source": [
    "num_var2=num_var.dropna()\n"
   ]
  },
  {
   "cell_type": "markdown",
   "id": "6cd4c9e2",
   "metadata": {},
   "source": [
    "## numerical columns cleaned"
   ]
  },
  {
   "cell_type": "code",
   "execution_count": 43,
   "id": "2406d7b7",
   "metadata": {},
   "outputs": [
    {
     "name": "stdout",
     "output_type": "stream",
     "text": [
      "shape of the cleaned numerical variable := (194457, 16)\n"
     ]
    },
    {
     "data": {
      "text/plain": [
       "Unnamed: 0                    0\n",
       "Permit Type                   0\n",
       "Street Number                 0\n",
       "Unit                          0\n",
       "Number of Existing Stories    0\n",
       "Number of Proposed Stories    0\n",
       "Estimated Cost                0\n",
       "Revised Cost                  0\n",
       "Existing Units                0\n",
       "Proposed Units                0\n",
       "Plansets                      0\n",
       "Existing Construction Type    0\n",
       "Proposed Construction Type    0\n",
       "Supervisor District           0\n",
       "Zipcode                       0\n",
       "Record ID                     0\n",
       "dtype: int64"
      ]
     },
     "execution_count": 43,
     "metadata": {},
     "output_type": "execute_result"
    }
   ],
   "source": [
    "print('shape of the cleaned numerical variable :=',num_var2.shape)\n",
    "num_var2.isnull().sum()"
   ]
  },
  {
   "cell_type": "markdown",
   "id": "45ac4fc0",
   "metadata": {},
   "source": [
    "# categorical data columns missing value imputation"
   ]
  },
  {
   "cell_type": "code",
   "execution_count": 102,
   "id": "4398d2e7",
   "metadata": {},
   "outputs": [
    {
     "data": {
      "text/plain": [
       "Permit Number                          0.000000\n",
       "Permit Type Definition                 0.000000\n",
       "Permit Creation Date                   0.000000\n",
       "Block                                  0.000000\n",
       "Lot                                    0.000000\n",
       "Street Name                            0.000000\n",
       "Street Suffix                          1.391654\n",
       "Description                            0.145802\n",
       "Current Status                         0.000000\n",
       "Current Status Date                    0.000000\n",
       "Filed Date                             0.000000\n",
       "Issued Date                            7.511312\n",
       "First Construction Document Date       7.514329\n",
       "Neighborhoods - Analysis Boundaries    0.867270\n",
       "Location                               0.854701\n",
       "dtype: float64"
      ]
     },
     "execution_count": 102,
     "metadata": {},
     "output_type": "execute_result"
    }
   ],
   "source": [
    "# first we will remove that columns that containin 20% missing value in the dataframe\n",
    "cat_var=data.select_dtypes(include=['O'])\n",
    "null=cat_var.isnull().mean()*100\n",
    "df=cat_var.drop(columns=null[null>20].keys())\n",
    "df.isnull().mean()*100"
   ]
  },
  {
   "cell_type": "code",
   "execution_count": 104,
   "id": "58da81ee",
   "metadata": {},
   "outputs": [],
   "source": [
    "for columns in df.columns:\n",
    "    df[columns].fillna(df[columns].mode()[0],inplace=True)"
   ]
  },
  {
   "cell_type": "code",
   "execution_count": 109,
   "id": "b69236e4",
   "metadata": {},
   "outputs": [
    {
     "name": "stdout",
     "output_type": "stream",
     "text": [
      "(198900, 15)\n",
      "Index(['Permit Number', 'Permit Type Definition', 'Permit Creation Date',\n",
      "       'Block', 'Lot', 'Street Name', 'Street Suffix', 'Description',\n",
      "       'Current Status', 'Current Status Date', 'Filed Date', 'Issued Date',\n",
      "       'First Construction Document Date',\n",
      "       'Neighborhoods - Analysis Boundaries', 'Location'],\n",
      "      dtype='object')\n"
     ]
    },
    {
     "data": {
      "text/html": [
       "<div>\n",
       "<style scoped>\n",
       "    .dataframe tbody tr th:only-of-type {\n",
       "        vertical-align: middle;\n",
       "    }\n",
       "\n",
       "    .dataframe tbody tr th {\n",
       "        vertical-align: top;\n",
       "    }\n",
       "\n",
       "    .dataframe thead th {\n",
       "        text-align: right;\n",
       "    }\n",
       "</style>\n",
       "<table border=\"1\" class=\"dataframe\">\n",
       "  <thead>\n",
       "    <tr style=\"text-align: right;\">\n",
       "      <th></th>\n",
       "      <th>Permit Number</th>\n",
       "      <th>Permit Type Definition</th>\n",
       "      <th>Permit Creation Date</th>\n",
       "      <th>Block</th>\n",
       "      <th>Lot</th>\n",
       "      <th>Street Name</th>\n",
       "      <th>Street Suffix</th>\n",
       "      <th>Description</th>\n",
       "      <th>Current Status</th>\n",
       "      <th>Current Status Date</th>\n",
       "      <th>Filed Date</th>\n",
       "      <th>Issued Date</th>\n",
       "      <th>First Construction Document Date</th>\n",
       "      <th>Neighborhoods - Analysis Boundaries</th>\n",
       "      <th>Location</th>\n",
       "    </tr>\n",
       "  </thead>\n",
       "  <tbody>\n",
       "    <tr>\n",
       "      <th>0</th>\n",
       "      <td>201505065519</td>\n",
       "      <td>sign - erect</td>\n",
       "      <td>05/06/2015</td>\n",
       "      <td>0326</td>\n",
       "      <td>023</td>\n",
       "      <td>Ellis</td>\n",
       "      <td>St</td>\n",
       "      <td>ground fl facade: to erect illuminated, electr...</td>\n",
       "      <td>expired</td>\n",
       "      <td>12/21/2017</td>\n",
       "      <td>05/06/2015</td>\n",
       "      <td>11/09/2015</td>\n",
       "      <td>11/09/2015</td>\n",
       "      <td>Tenderloin</td>\n",
       "      <td>(37.785719256680785, -122.40852313194863)</td>\n",
       "    </tr>\n",
       "    <tr>\n",
       "      <th>1</th>\n",
       "      <td>201604195146</td>\n",
       "      <td>sign - erect</td>\n",
       "      <td>04/19/2016</td>\n",
       "      <td>0306</td>\n",
       "      <td>007</td>\n",
       "      <td>Geary</td>\n",
       "      <td>St</td>\n",
       "      <td>remove (e) awning and associated signs.</td>\n",
       "      <td>issued</td>\n",
       "      <td>08/03/2017</td>\n",
       "      <td>04/19/2016</td>\n",
       "      <td>08/03/2017</td>\n",
       "      <td>08/03/2017</td>\n",
       "      <td>Tenderloin</td>\n",
       "      <td>(37.78733980600732, -122.41063199757738)</td>\n",
       "    </tr>\n",
       "    <tr>\n",
       "      <th>2</th>\n",
       "      <td>201605278609</td>\n",
       "      <td>additions alterations or repairs</td>\n",
       "      <td>05/27/2016</td>\n",
       "      <td>0595</td>\n",
       "      <td>203</td>\n",
       "      <td>Pacific</td>\n",
       "      <td>Av</td>\n",
       "      <td>installation of separating wall</td>\n",
       "      <td>withdrawn</td>\n",
       "      <td>09/26/2017</td>\n",
       "      <td>05/27/2016</td>\n",
       "      <td>06/15/2016</td>\n",
       "      <td>11/07/2016</td>\n",
       "      <td>Russian Hill</td>\n",
       "      <td>(37.7946573324287, -122.42232562979227)</td>\n",
       "    </tr>\n",
       "    <tr>\n",
       "      <th>3</th>\n",
       "      <td>201611072166</td>\n",
       "      <td>otc alterations permit</td>\n",
       "      <td>11/07/2016</td>\n",
       "      <td>0156</td>\n",
       "      <td>011</td>\n",
       "      <td>Pacific</td>\n",
       "      <td>Av</td>\n",
       "      <td>repair dryrot &amp; stucco at front of bldg.</td>\n",
       "      <td>complete</td>\n",
       "      <td>07/24/2017</td>\n",
       "      <td>11/07/2016</td>\n",
       "      <td>07/18/2017</td>\n",
       "      <td>07/18/2017</td>\n",
       "      <td>Nob Hill</td>\n",
       "      <td>(37.79595867909168, -122.41557405519474)</td>\n",
       "    </tr>\n",
       "    <tr>\n",
       "      <th>4</th>\n",
       "      <td>201611283529</td>\n",
       "      <td>demolitions</td>\n",
       "      <td>11/28/2016</td>\n",
       "      <td>0342</td>\n",
       "      <td>001</td>\n",
       "      <td>Market</td>\n",
       "      <td>St</td>\n",
       "      <td>demolish retail/office/commercial 3-story buil...</td>\n",
       "      <td>issued</td>\n",
       "      <td>12/01/2017</td>\n",
       "      <td>11/28/2016</td>\n",
       "      <td>12/01/2017</td>\n",
       "      <td>11/20/2017</td>\n",
       "      <td>Tenderloin</td>\n",
       "      <td>(37.78315261897309, -122.40950883997789)</td>\n",
       "    </tr>\n",
       "    <tr>\n",
       "      <th>...</th>\n",
       "      <td>...</td>\n",
       "      <td>...</td>\n",
       "      <td>...</td>\n",
       "      <td>...</td>\n",
       "      <td>...</td>\n",
       "      <td>...</td>\n",
       "      <td>...</td>\n",
       "      <td>...</td>\n",
       "      <td>...</td>\n",
       "      <td>...</td>\n",
       "      <td>...</td>\n",
       "      <td>...</td>\n",
       "      <td>...</td>\n",
       "      <td>...</td>\n",
       "      <td>...</td>\n",
       "    </tr>\n",
       "    <tr>\n",
       "      <th>198895</th>\n",
       "      <td>M862628</td>\n",
       "      <td>otc alterations permit</td>\n",
       "      <td>12/05/2017</td>\n",
       "      <td>0113</td>\n",
       "      <td>017A</td>\n",
       "      <td>Montgomery</td>\n",
       "      <td>St</td>\n",
       "      <td>street space</td>\n",
       "      <td>issued</td>\n",
       "      <td>12/05/2017</td>\n",
       "      <td>12/05/2017</td>\n",
       "      <td>12/05/2017</td>\n",
       "      <td>12/05/2017</td>\n",
       "      <td>Financial District/South Beach</td>\n",
       "      <td>(37.79226164705184, -122.4034859571375)</td>\n",
       "    </tr>\n",
       "    <tr>\n",
       "      <th>198896</th>\n",
       "      <td>201712055595</td>\n",
       "      <td>otc alterations permit</td>\n",
       "      <td>12/05/2017</td>\n",
       "      <td>0271</td>\n",
       "      <td>014</td>\n",
       "      <td>Bush</td>\n",
       "      <td>St</td>\n",
       "      <td>fire alarm upgrade ref 201704123852</td>\n",
       "      <td>issued</td>\n",
       "      <td>12/06/2017</td>\n",
       "      <td>12/05/2017</td>\n",
       "      <td>12/06/2017</td>\n",
       "      <td>12/06/2017</td>\n",
       "      <td>Financial District/South Beach</td>\n",
       "      <td>(37.79226164705184, -122.4034859571375)</td>\n",
       "    </tr>\n",
       "    <tr>\n",
       "      <th>198897</th>\n",
       "      <td>M863507</td>\n",
       "      <td>otc alterations permit</td>\n",
       "      <td>12/06/2017</td>\n",
       "      <td>4318</td>\n",
       "      <td>019</td>\n",
       "      <td>Indiana</td>\n",
       "      <td>St</td>\n",
       "      <td>street space</td>\n",
       "      <td>issued</td>\n",
       "      <td>12/06/2017</td>\n",
       "      <td>12/06/2017</td>\n",
       "      <td>12/06/2017</td>\n",
       "      <td>12/06/2017</td>\n",
       "      <td>Financial District/South Beach</td>\n",
       "      <td>(37.79226164705184, -122.4034859571375)</td>\n",
       "    </tr>\n",
       "    <tr>\n",
       "      <th>198898</th>\n",
       "      <td>M863747</td>\n",
       "      <td>otc alterations permit</td>\n",
       "      <td>12/06/2017</td>\n",
       "      <td>0298</td>\n",
       "      <td>029</td>\n",
       "      <td>Sutter</td>\n",
       "      <td>St</td>\n",
       "      <td>street space permit</td>\n",
       "      <td>issued</td>\n",
       "      <td>12/06/2017</td>\n",
       "      <td>12/06/2017</td>\n",
       "      <td>12/06/2017</td>\n",
       "      <td>12/06/2017</td>\n",
       "      <td>Financial District/South Beach</td>\n",
       "      <td>(37.79226164705184, -122.4034859571375)</td>\n",
       "    </tr>\n",
       "    <tr>\n",
       "      <th>198899</th>\n",
       "      <td>M864287</td>\n",
       "      <td>otc alterations permit</td>\n",
       "      <td>12/07/2017</td>\n",
       "      <td>0160</td>\n",
       "      <td>006</td>\n",
       "      <td>Pacific</td>\n",
       "      <td>Av</td>\n",
       "      <td>street space permit</td>\n",
       "      <td>issued</td>\n",
       "      <td>12/07/2017</td>\n",
       "      <td>12/07/2017</td>\n",
       "      <td>12/07/2017</td>\n",
       "      <td>12/07/2017</td>\n",
       "      <td>Financial District/South Beach</td>\n",
       "      <td>(37.79226164705184, -122.4034859571375)</td>\n",
       "    </tr>\n",
       "  </tbody>\n",
       "</table>\n",
       "<p>198900 rows × 15 columns</p>\n",
       "</div>"
      ],
      "text/plain": [
       "       Permit Number            Permit Type Definition Permit Creation Date  \\\n",
       "0       201505065519                      sign - erect           05/06/2015   \n",
       "1       201604195146                      sign - erect           04/19/2016   \n",
       "2       201605278609  additions alterations or repairs           05/27/2016   \n",
       "3       201611072166            otc alterations permit           11/07/2016   \n",
       "4       201611283529                       demolitions           11/28/2016   \n",
       "...              ...                               ...                  ...   \n",
       "198895       M862628            otc alterations permit           12/05/2017   \n",
       "198896  201712055595            otc alterations permit           12/05/2017   \n",
       "198897       M863507            otc alterations permit           12/06/2017   \n",
       "198898       M863747            otc alterations permit           12/06/2017   \n",
       "198899       M864287            otc alterations permit           12/07/2017   \n",
       "\n",
       "       Block   Lot Street Name Street Suffix  \\\n",
       "0       0326   023       Ellis            St   \n",
       "1       0306   007       Geary            St   \n",
       "2       0595   203     Pacific            Av   \n",
       "3       0156   011     Pacific            Av   \n",
       "4       0342   001      Market            St   \n",
       "...      ...   ...         ...           ...   \n",
       "198895  0113  017A  Montgomery            St   \n",
       "198896  0271   014        Bush            St   \n",
       "198897  4318   019     Indiana            St   \n",
       "198898  0298   029      Sutter            St   \n",
       "198899  0160   006     Pacific            Av   \n",
       "\n",
       "                                              Description Current Status  \\\n",
       "0       ground fl facade: to erect illuminated, electr...        expired   \n",
       "1                 remove (e) awning and associated signs.         issued   \n",
       "2                         installation of separating wall      withdrawn   \n",
       "3                repair dryrot & stucco at front of bldg.       complete   \n",
       "4       demolish retail/office/commercial 3-story buil...         issued   \n",
       "...                                                   ...            ...   \n",
       "198895                                       street space         issued   \n",
       "198896                fire alarm upgrade ref 201704123852         issued   \n",
       "198897                                       street space         issued   \n",
       "198898                                street space permit         issued   \n",
       "198899                                street space permit         issued   \n",
       "\n",
       "       Current Status Date  Filed Date Issued Date  \\\n",
       "0               12/21/2017  05/06/2015  11/09/2015   \n",
       "1               08/03/2017  04/19/2016  08/03/2017   \n",
       "2               09/26/2017  05/27/2016  06/15/2016   \n",
       "3               07/24/2017  11/07/2016  07/18/2017   \n",
       "4               12/01/2017  11/28/2016  12/01/2017   \n",
       "...                    ...         ...         ...   \n",
       "198895          12/05/2017  12/05/2017  12/05/2017   \n",
       "198896          12/06/2017  12/05/2017  12/06/2017   \n",
       "198897          12/06/2017  12/06/2017  12/06/2017   \n",
       "198898          12/06/2017  12/06/2017  12/06/2017   \n",
       "198899          12/07/2017  12/07/2017  12/07/2017   \n",
       "\n",
       "       First Construction Document Date Neighborhoods - Analysis Boundaries  \\\n",
       "0                            11/09/2015                          Tenderloin   \n",
       "1                            08/03/2017                          Tenderloin   \n",
       "2                            11/07/2016                        Russian Hill   \n",
       "3                            07/18/2017                            Nob Hill   \n",
       "4                            11/20/2017                          Tenderloin   \n",
       "...                                 ...                                 ...   \n",
       "198895                       12/05/2017      Financial District/South Beach   \n",
       "198896                       12/06/2017      Financial District/South Beach   \n",
       "198897                       12/06/2017      Financial District/South Beach   \n",
       "198898                       12/06/2017      Financial District/South Beach   \n",
       "198899                       12/07/2017      Financial District/South Beach   \n",
       "\n",
       "                                         Location  \n",
       "0       (37.785719256680785, -122.40852313194863)  \n",
       "1        (37.78733980600732, -122.41063199757738)  \n",
       "2         (37.7946573324287, -122.42232562979227)  \n",
       "3        (37.79595867909168, -122.41557405519474)  \n",
       "4        (37.78315261897309, -122.40950883997789)  \n",
       "...                                           ...  \n",
       "198895    (37.79226164705184, -122.4034859571375)  \n",
       "198896    (37.79226164705184, -122.4034859571375)  \n",
       "198897    (37.79226164705184, -122.4034859571375)  \n",
       "198898    (37.79226164705184, -122.4034859571375)  \n",
       "198899    (37.79226164705184, -122.4034859571375)  \n",
       "\n",
       "[198900 rows x 15 columns]"
      ]
     },
     "execution_count": 109,
     "metadata": {},
     "output_type": "execute_result"
    }
   ],
   "source": [
    "print(df.shape)\n",
    "print(df.columns)\n",
    "df.isnull().sum()\n",
    "cat=df\n",
    "cat"
   ]
  },
  {
   "cell_type": "code",
   "execution_count": 99,
   "id": "9e41598e",
   "metadata": {},
   "outputs": [
    {
     "data": {
      "text/plain": [
       "Unnamed: 0                    0\n",
       "Permit Type                   0\n",
       "Street Number                 0\n",
       "Unit                          0\n",
       "Number of Existing Stories    0\n",
       "Number of Proposed Stories    0\n",
       "Estimated Cost                0\n",
       "Revised Cost                  0\n",
       "Existing Units                0\n",
       "Proposed Units                0\n",
       "Plansets                      0\n",
       "Existing Construction Type    0\n",
       "Proposed Construction Type    0\n",
       "Supervisor District           0\n",
       "Zipcode                       0\n",
       "Record ID                     0\n",
       "dtype: int64"
      ]
     },
     "execution_count": 99,
     "metadata": {},
     "output_type": "execute_result"
    }
   ],
   "source": [
    "num_var2.isnull().sum()"
   ]
  },
  {
   "cell_type": "code",
   "execution_count": 110,
   "id": "9c49b043",
   "metadata": {},
   "outputs": [
    {
     "name": "stdout",
     "output_type": "stream",
     "text": [
      "shape of categorical cleaned dataset :- (198900, 15)\n",
      "shape of Numerical cleaned dataset :- (194457, 16)\n"
     ]
    }
   ],
   "source": [
    "print('shape of categorical cleaned dataset :-',cat.shape)\n",
    "print('shape of Numerical cleaned dataset :-',num_var2.shape)"
   ]
  },
  {
   "cell_type": "code",
   "execution_count": 147,
   "id": "274b75a2",
   "metadata": {},
   "outputs": [
    {
     "name": "stdout",
     "output_type": "stream",
     "text": [
      "(194457, 15)\n"
     ]
    },
    {
     "data": {
      "text/plain": [
       "Unnamed: 0                    0\n",
       "Permit Type                   0\n",
       "Street Number                 0\n",
       "Unit                          0\n",
       "Number of Existing Stories    0\n",
       "Number of Proposed Stories    0\n",
       "Estimated Cost                0\n",
       "Revised Cost                  0\n",
       "Existing Units                0\n",
       "Proposed Units                0\n",
       "Plansets                      0\n",
       "Existing Construction Type    0\n",
       "Proposed Construction Type    0\n",
       "Supervisor District           0\n",
       "Zipcode                       0\n",
       "dtype: int64"
      ]
     },
     "execution_count": 147,
     "metadata": {},
     "output_type": "execute_result"
    }
   ],
   "source": [
    "print(nume.shape)\n",
    "\n",
    "num=num_var2.iloc[0:194457,0:15]\n",
    "num.isnull().sum()"
   ]
  },
  {
   "cell_type": "code",
   "execution_count": 151,
   "id": "c4638dd7",
   "metadata": {},
   "outputs": [
    {
     "name": "stdout",
     "output_type": "stream",
     "text": [
      "(194457, 15)\n"
     ]
    },
    {
     "data": {
      "text/plain": [
       "Permit Number                          0\n",
       "Permit Type Definition                 0\n",
       "Permit Creation Date                   0\n",
       "Block                                  0\n",
       "Lot                                    0\n",
       "Street Name                            0\n",
       "Street Suffix                          0\n",
       "Description                            0\n",
       "Current Status                         0\n",
       "Current Status Date                    0\n",
       "Filed Date                             0\n",
       "Issued Date                            0\n",
       "First Construction Document Date       0\n",
       "Neighborhoods - Analysis Boundaries    0\n",
       "Location                               0\n",
       "dtype: int64"
      ]
     },
     "execution_count": 151,
     "metadata": {},
     "output_type": "execute_result"
    }
   ],
   "source": [
    "print(cut.shape)\n",
    "cut=df.iloc[0:194457,0:15]\n",
    "cut.isnull().sum()\n",
    "# cut.head()"
   ]
  },
  {
   "cell_type": "markdown",
   "id": "2da344a0",
   "metadata": {},
   "source": [
    "# using SimpleImputer class missing value imputaion"
   ]
  },
  {
   "cell_type": "code",
   "execution_count": 169,
   "id": "99c02cad",
   "metadata": {},
   "outputs": [
    {
     "data": {
      "text/html": [
       "<div>\n",
       "<style scoped>\n",
       "    .dataframe tbody tr th:only-of-type {\n",
       "        vertical-align: middle;\n",
       "    }\n",
       "\n",
       "    .dataframe tbody tr th {\n",
       "        vertical-align: top;\n",
       "    }\n",
       "\n",
       "    .dataframe thead th {\n",
       "        text-align: right;\n",
       "    }\n",
       "</style>\n",
       "<table border=\"1\" class=\"dataframe\">\n",
       "  <thead>\n",
       "    <tr style=\"text-align: right;\">\n",
       "      <th></th>\n",
       "      <th>Permit Number</th>\n",
       "      <th>Permit Type Definition</th>\n",
       "      <th>Permit Creation Date</th>\n",
       "      <th>Block</th>\n",
       "      <th>Lot</th>\n",
       "      <th>Street Number Suffix</th>\n",
       "      <th>Street Name</th>\n",
       "      <th>Street Suffix</th>\n",
       "      <th>Unit Suffix</th>\n",
       "      <th>Description</th>\n",
       "      <th>...</th>\n",
       "      <th>Fire Only Permit</th>\n",
       "      <th>Permit Expiration Date</th>\n",
       "      <th>Existing Use</th>\n",
       "      <th>Proposed Use</th>\n",
       "      <th>TIDF Compliance</th>\n",
       "      <th>Existing Construction Type Description</th>\n",
       "      <th>Proposed Construction Type Description</th>\n",
       "      <th>Site Permit</th>\n",
       "      <th>Neighborhoods - Analysis Boundaries</th>\n",
       "      <th>Location</th>\n",
       "    </tr>\n",
       "  </thead>\n",
       "  <tbody>\n",
       "    <tr>\n",
       "      <th>0</th>\n",
       "      <td>201505065519</td>\n",
       "      <td>sign - erect</td>\n",
       "      <td>05/06/2015</td>\n",
       "      <td>0326</td>\n",
       "      <td>023</td>\n",
       "      <td>NaN</td>\n",
       "      <td>Ellis</td>\n",
       "      <td>St</td>\n",
       "      <td>NaN</td>\n",
       "      <td>ground fl facade: to erect illuminated, electr...</td>\n",
       "      <td>...</td>\n",
       "      <td>NaN</td>\n",
       "      <td>11/03/2016</td>\n",
       "      <td>tourist hotel/motel</td>\n",
       "      <td>NaN</td>\n",
       "      <td>NaN</td>\n",
       "      <td>constr type 3</td>\n",
       "      <td>NaN</td>\n",
       "      <td>NaN</td>\n",
       "      <td>Tenderloin</td>\n",
       "      <td>(37.785719256680785, -122.40852313194863)</td>\n",
       "    </tr>\n",
       "    <tr>\n",
       "      <th>1</th>\n",
       "      <td>201604195146</td>\n",
       "      <td>sign - erect</td>\n",
       "      <td>04/19/2016</td>\n",
       "      <td>0306</td>\n",
       "      <td>007</td>\n",
       "      <td>NaN</td>\n",
       "      <td>Geary</td>\n",
       "      <td>St</td>\n",
       "      <td>NaN</td>\n",
       "      <td>remove (e) awning and associated signs.</td>\n",
       "      <td>...</td>\n",
       "      <td>NaN</td>\n",
       "      <td>12/03/2017</td>\n",
       "      <td>tourist hotel/motel</td>\n",
       "      <td>NaN</td>\n",
       "      <td>NaN</td>\n",
       "      <td>constr type 3</td>\n",
       "      <td>NaN</td>\n",
       "      <td>NaN</td>\n",
       "      <td>Tenderloin</td>\n",
       "      <td>(37.78733980600732, -122.41063199757738)</td>\n",
       "    </tr>\n",
       "    <tr>\n",
       "      <th>2</th>\n",
       "      <td>201605278609</td>\n",
       "      <td>additions alterations or repairs</td>\n",
       "      <td>05/27/2016</td>\n",
       "      <td>0595</td>\n",
       "      <td>203</td>\n",
       "      <td>NaN</td>\n",
       "      <td>Pacific</td>\n",
       "      <td>Av</td>\n",
       "      <td>NaN</td>\n",
       "      <td>installation of separating wall</td>\n",
       "      <td>...</td>\n",
       "      <td>NaN</td>\n",
       "      <td>NaN</td>\n",
       "      <td>retail sales</td>\n",
       "      <td>retail sales</td>\n",
       "      <td>NaN</td>\n",
       "      <td>constr type 1</td>\n",
       "      <td>constr type 1</td>\n",
       "      <td>NaN</td>\n",
       "      <td>Russian Hill</td>\n",
       "      <td>(37.7946573324287, -122.42232562979227)</td>\n",
       "    </tr>\n",
       "    <tr>\n",
       "      <th>3</th>\n",
       "      <td>201611072166</td>\n",
       "      <td>otc alterations permit</td>\n",
       "      <td>11/07/2016</td>\n",
       "      <td>0156</td>\n",
       "      <td>011</td>\n",
       "      <td>NaN</td>\n",
       "      <td>Pacific</td>\n",
       "      <td>Av</td>\n",
       "      <td>NaN</td>\n",
       "      <td>repair dryrot &amp; stucco at front of bldg.</td>\n",
       "      <td>...</td>\n",
       "      <td>NaN</td>\n",
       "      <td>07/13/2018</td>\n",
       "      <td>1 family dwelling</td>\n",
       "      <td>1 family dwelling</td>\n",
       "      <td>NaN</td>\n",
       "      <td>wood frame (5)</td>\n",
       "      <td>wood frame (5)</td>\n",
       "      <td>NaN</td>\n",
       "      <td>Nob Hill</td>\n",
       "      <td>(37.79595867909168, -122.41557405519474)</td>\n",
       "    </tr>\n",
       "    <tr>\n",
       "      <th>4</th>\n",
       "      <td>201611283529</td>\n",
       "      <td>demolitions</td>\n",
       "      <td>11/28/2016</td>\n",
       "      <td>0342</td>\n",
       "      <td>001</td>\n",
       "      <td>NaN</td>\n",
       "      <td>Market</td>\n",
       "      <td>St</td>\n",
       "      <td>NaN</td>\n",
       "      <td>demolish retail/office/commercial 3-story buil...</td>\n",
       "      <td>...</td>\n",
       "      <td>NaN</td>\n",
       "      <td>12/01/2018</td>\n",
       "      <td>retail sales</td>\n",
       "      <td>NaN</td>\n",
       "      <td>NaN</td>\n",
       "      <td>constr type 3</td>\n",
       "      <td>NaN</td>\n",
       "      <td>NaN</td>\n",
       "      <td>Tenderloin</td>\n",
       "      <td>(37.78315261897309, -122.40950883997789)</td>\n",
       "    </tr>\n",
       "  </tbody>\n",
       "</table>\n",
       "<p>5 rows × 28 columns</p>\n",
       "</div>"
      ],
      "text/plain": [
       "  Permit Number            Permit Type Definition Permit Creation Date Block  \\\n",
       "0  201505065519                      sign - erect           05/06/2015  0326   \n",
       "1  201604195146                      sign - erect           04/19/2016  0306   \n",
       "2  201605278609  additions alterations or repairs           05/27/2016  0595   \n",
       "3  201611072166            otc alterations permit           11/07/2016  0156   \n",
       "4  201611283529                       demolitions           11/28/2016  0342   \n",
       "\n",
       "   Lot Street Number Suffix Street Name Street Suffix Unit Suffix  \\\n",
       "0  023                  NaN       Ellis            St         NaN   \n",
       "1  007                  NaN       Geary            St         NaN   \n",
       "2  203                  NaN     Pacific            Av         NaN   \n",
       "3  011                  NaN     Pacific            Av         NaN   \n",
       "4  001                  NaN      Market            St         NaN   \n",
       "\n",
       "                                         Description  ... Fire Only Permit  \\\n",
       "0  ground fl facade: to erect illuminated, electr...  ...              NaN   \n",
       "1            remove (e) awning and associated signs.  ...              NaN   \n",
       "2                    installation of separating wall  ...              NaN   \n",
       "3           repair dryrot & stucco at front of bldg.  ...              NaN   \n",
       "4  demolish retail/office/commercial 3-story buil...  ...              NaN   \n",
       "\n",
       "  Permit Expiration Date         Existing Use       Proposed Use  \\\n",
       "0             11/03/2016  tourist hotel/motel                NaN   \n",
       "1             12/03/2017  tourist hotel/motel                NaN   \n",
       "2                    NaN         retail sales       retail sales   \n",
       "3             07/13/2018    1 family dwelling  1 family dwelling   \n",
       "4             12/01/2018         retail sales                NaN   \n",
       "\n",
       "  TIDF Compliance Existing Construction Type Description  \\\n",
       "0             NaN                          constr type 3   \n",
       "1             NaN                          constr type 3   \n",
       "2             NaN                          constr type 1   \n",
       "3             NaN                         wood frame (5)   \n",
       "4             NaN                          constr type 3   \n",
       "\n",
       "  Proposed Construction Type Description Site Permit  \\\n",
       "0                                    NaN         NaN   \n",
       "1                                    NaN         NaN   \n",
       "2                          constr type 1         NaN   \n",
       "3                         wood frame (5)         NaN   \n",
       "4                                    NaN         NaN   \n",
       "\n",
       "  Neighborhoods - Analysis Boundaries  \\\n",
       "0                          Tenderloin   \n",
       "1                          Tenderloin   \n",
       "2                        Russian Hill   \n",
       "3                            Nob Hill   \n",
       "4                          Tenderloin   \n",
       "\n",
       "                                    Location  \n",
       "0  (37.785719256680785, -122.40852313194863)  \n",
       "1   (37.78733980600732, -122.41063199757738)  \n",
       "2    (37.7946573324287, -122.42232562979227)  \n",
       "3   (37.79595867909168, -122.41557405519474)  \n",
       "4   (37.78315261897309, -122.40950883997789)  \n",
       "\n",
       "[5 rows x 28 columns]"
      ]
     },
     "execution_count": 169,
     "metadata": {},
     "output_type": "execute_result"
    }
   ],
   "source": [
    "cat=data1.select_dtypes(include=['O'])\n",
    "cat.head()"
   ]
  },
  {
   "cell_type": "code",
   "execution_count": 170,
   "id": "01bdf388",
   "metadata": {},
   "outputs": [
    {
     "data": {
      "text/html": [
       "<div>\n",
       "<style scoped>\n",
       "    .dataframe tbody tr th:only-of-type {\n",
       "        vertical-align: middle;\n",
       "    }\n",
       "\n",
       "    .dataframe tbody tr th {\n",
       "        vertical-align: top;\n",
       "    }\n",
       "\n",
       "    .dataframe thead th {\n",
       "        text-align: right;\n",
       "    }\n",
       "</style>\n",
       "<table border=\"1\" class=\"dataframe\">\n",
       "  <thead>\n",
       "    <tr style=\"text-align: right;\">\n",
       "      <th></th>\n",
       "      <th>Permit Type</th>\n",
       "      <th>Street Number</th>\n",
       "      <th>Unit</th>\n",
       "      <th>Number of Existing Stories</th>\n",
       "      <th>Number of Proposed Stories</th>\n",
       "      <th>Estimated Cost</th>\n",
       "      <th>Revised Cost</th>\n",
       "      <th>Existing Units</th>\n",
       "      <th>Proposed Units</th>\n",
       "      <th>Plansets</th>\n",
       "      <th>Existing Construction Type</th>\n",
       "      <th>Proposed Construction Type</th>\n",
       "      <th>Supervisor District</th>\n",
       "      <th>Zipcode</th>\n",
       "      <th>Record ID</th>\n",
       "    </tr>\n",
       "  </thead>\n",
       "  <tbody>\n",
       "    <tr>\n",
       "      <th>0</th>\n",
       "      <td>4</td>\n",
       "      <td>140</td>\n",
       "      <td>NaN</td>\n",
       "      <td>6.0</td>\n",
       "      <td>NaN</td>\n",
       "      <td>4000.0</td>\n",
       "      <td>4000.0</td>\n",
       "      <td>143.0</td>\n",
       "      <td>NaN</td>\n",
       "      <td>2.0</td>\n",
       "      <td>3.0</td>\n",
       "      <td>NaN</td>\n",
       "      <td>3.0</td>\n",
       "      <td>94102.0</td>\n",
       "      <td>1380611233945</td>\n",
       "    </tr>\n",
       "    <tr>\n",
       "      <th>1</th>\n",
       "      <td>4</td>\n",
       "      <td>440</td>\n",
       "      <td>0.0</td>\n",
       "      <td>7.0</td>\n",
       "      <td>NaN</td>\n",
       "      <td>1.0</td>\n",
       "      <td>500.0</td>\n",
       "      <td>NaN</td>\n",
       "      <td>NaN</td>\n",
       "      <td>2.0</td>\n",
       "      <td>3.0</td>\n",
       "      <td>NaN</td>\n",
       "      <td>3.0</td>\n",
       "      <td>94102.0</td>\n",
       "      <td>1420164406718</td>\n",
       "    </tr>\n",
       "    <tr>\n",
       "      <th>2</th>\n",
       "      <td>3</td>\n",
       "      <td>1647</td>\n",
       "      <td>NaN</td>\n",
       "      <td>6.0</td>\n",
       "      <td>6.0</td>\n",
       "      <td>20000.0</td>\n",
       "      <td>NaN</td>\n",
       "      <td>39.0</td>\n",
       "      <td>39.0</td>\n",
       "      <td>2.0</td>\n",
       "      <td>1.0</td>\n",
       "      <td>1.0</td>\n",
       "      <td>3.0</td>\n",
       "      <td>94109.0</td>\n",
       "      <td>1424856504716</td>\n",
       "    </tr>\n",
       "    <tr>\n",
       "      <th>3</th>\n",
       "      <td>8</td>\n",
       "      <td>1230</td>\n",
       "      <td>0.0</td>\n",
       "      <td>2.0</td>\n",
       "      <td>2.0</td>\n",
       "      <td>2000.0</td>\n",
       "      <td>2000.0</td>\n",
       "      <td>1.0</td>\n",
       "      <td>1.0</td>\n",
       "      <td>2.0</td>\n",
       "      <td>5.0</td>\n",
       "      <td>5.0</td>\n",
       "      <td>3.0</td>\n",
       "      <td>94109.0</td>\n",
       "      <td>1443574295566</td>\n",
       "    </tr>\n",
       "    <tr>\n",
       "      <th>4</th>\n",
       "      <td>6</td>\n",
       "      <td>950</td>\n",
       "      <td>NaN</td>\n",
       "      <td>3.0</td>\n",
       "      <td>NaN</td>\n",
       "      <td>100000.0</td>\n",
       "      <td>100000.0</td>\n",
       "      <td>NaN</td>\n",
       "      <td>NaN</td>\n",
       "      <td>2.0</td>\n",
       "      <td>3.0</td>\n",
       "      <td>NaN</td>\n",
       "      <td>6.0</td>\n",
       "      <td>94102.0</td>\n",
       "      <td>144548169992</td>\n",
       "    </tr>\n",
       "  </tbody>\n",
       "</table>\n",
       "</div>"
      ],
      "text/plain": [
       "   Permit Type  Street Number  Unit  Number of Existing Stories  \\\n",
       "0            4            140   NaN                         6.0   \n",
       "1            4            440   0.0                         7.0   \n",
       "2            3           1647   NaN                         6.0   \n",
       "3            8           1230   0.0                         2.0   \n",
       "4            6            950   NaN                         3.0   \n",
       "\n",
       "   Number of Proposed Stories  Estimated Cost  Revised Cost  Existing Units  \\\n",
       "0                         NaN          4000.0        4000.0           143.0   \n",
       "1                         NaN             1.0         500.0             NaN   \n",
       "2                         6.0         20000.0           NaN            39.0   \n",
       "3                         2.0          2000.0        2000.0             1.0   \n",
       "4                         NaN        100000.0      100000.0             NaN   \n",
       "\n",
       "   Proposed Units  Plansets  Existing Construction Type  \\\n",
       "0             NaN       2.0                         3.0   \n",
       "1             NaN       2.0                         3.0   \n",
       "2            39.0       2.0                         1.0   \n",
       "3             1.0       2.0                         5.0   \n",
       "4             NaN       2.0                         3.0   \n",
       "\n",
       "   Proposed Construction Type  Supervisor District  Zipcode      Record ID  \n",
       "0                         NaN                  3.0  94102.0  1380611233945  \n",
       "1                         NaN                  3.0  94102.0  1420164406718  \n",
       "2                         1.0                  3.0  94109.0  1424856504716  \n",
       "3                         5.0                  3.0  94109.0  1443574295566  \n",
       "4                         NaN                  6.0  94102.0   144548169992  "
      ]
     },
     "execution_count": 170,
     "metadata": {},
     "output_type": "execute_result"
    }
   ],
   "source": [
    "num=data1.select_dtypes(include=['int64','float64'])\n",
    "num.head()"
   ]
  },
  {
   "cell_type": "code",
   "execution_count": 173,
   "id": "6f37d624",
   "metadata": {},
   "outputs": [
    {
     "data": {
      "text/plain": [
       "Permit Number                              0.000000\n",
       "Permit Type Definition                     0.000000\n",
       "Permit Creation Date                       0.000000\n",
       "Block                                      0.000000\n",
       "Lot                                        0.000000\n",
       "Street Number Suffix                      98.885872\n",
       "Street Name                                0.000000\n",
       "Street Suffix                              1.391654\n",
       "Unit Suffix                               99.014077\n",
       "Description                                0.145802\n",
       "Current Status                             0.000000\n",
       "Current Status Date                        0.000000\n",
       "Filed Date                                 0.000000\n",
       "Issued Date                                7.511312\n",
       "Completed Date                            51.135747\n",
       "First Construction Document Date           7.514329\n",
       "Structural Notification                   96.519859\n",
       "Voluntary Soft-Story Retrofit             99.982403\n",
       "Fire Only Permit                          90.534439\n",
       "Permit Expiration Date                    26.083459\n",
       "Existing Use                              20.670689\n",
       "Proposed Use                              21.336853\n",
       "TIDF Compliance                           99.998994\n",
       "Existing Construction Type Description    21.802916\n",
       "Proposed Construction Type Description    21.700352\n",
       "Site Permit                               97.305681\n",
       "Neighborhoods - Analysis Boundaries        0.867270\n",
       "Location                                   0.854701\n",
       "dtype: float64"
      ]
     },
     "execution_count": 173,
     "metadata": {},
     "output_type": "execute_result"
    }
   ],
   "source": [
    "cat.isnull().mean()*100"
   ]
  },
  {
   "cell_type": "code",
   "execution_count": 178,
   "id": "1e6e8d81",
   "metadata": {},
   "outputs": [
    {
     "data": {
      "text/plain": [
       "Permit Type                    0.000000\n",
       "Street Number                  0.000000\n",
       "Unit                          85.178984\n",
       "Number of Existing Stories    21.510307\n",
       "Number of Proposed Stories    21.552539\n",
       "Estimated Cost                19.138260\n",
       "Revised Cost                   3.049774\n",
       "Existing Units                25.911513\n",
       "Proposed Units                25.596280\n",
       "Plansets                      18.757667\n",
       "Existing Construction Type    21.802916\n",
       "Proposed Construction Type    21.700352\n",
       "Supervisor District            0.863248\n",
       "Zipcode                        0.862745\n",
       "Record ID                      0.000000\n",
       "dtype: float64"
      ]
     },
     "execution_count": 178,
     "metadata": {},
     "output_type": "execute_result"
    }
   ],
   "source": [
    "null_per=num.isnull().sum()/num.shape[0]*100\n",
    "null_per"
   ]
  },
  {
   "cell_type": "markdown",
   "id": "66cb3f6f",
   "metadata": {},
   "source": [
    "# first we deal with numerical columns"
   ]
  },
  {
   "cell_type": "code",
   "execution_count": 213,
   "id": "b18d571b",
   "metadata": {},
   "outputs": [
    {
     "data": {
      "text/plain": [
       "Permit Type             0.000000\n",
       "Street Number           0.000000\n",
       "Estimated Cost         19.138260\n",
       "Revised Cost            3.049774\n",
       "Plansets               18.757667\n",
       "Supervisor District     0.863248\n",
       "Zipcode                 0.862745\n",
       "Record ID               0.000000\n",
       "dtype: float64"
      ]
     },
     "execution_count": 213,
     "metadata": {},
     "output_type": "execute_result"
    }
   ],
   "source": [
    "num2=num.drop(columns=null_per[null_per>21].keys())\n",
    "num2.isnull().mean()*100"
   ]
  },
  {
   "cell_type": "code",
   "execution_count": 214,
   "id": "2115d440",
   "metadata": {},
   "outputs": [],
   "source": [
    "smplei=SimpleImputer()"
   ]
  },
  {
   "cell_type": "code",
   "execution_count": 215,
   "id": "1a63d0f0",
   "metadata": {},
   "outputs": [
    {
     "data": {
      "text/plain": [
       "SimpleImputer()"
      ]
     },
     "execution_count": 215,
     "metadata": {},
     "output_type": "execute_result"
    }
   ],
   "source": [
    "smplei"
   ]
  },
  {
   "cell_type": "code",
   "execution_count": 216,
   "id": "14f7c984",
   "metadata": {},
   "outputs": [
    {
     "data": {
      "text/plain": [
       "SimpleImputer()"
      ]
     },
     "execution_count": 216,
     "metadata": {},
     "output_type": "execute_result"
    }
   ],
   "source": [
    "smplei.fit(num2)"
   ]
  },
  {
   "cell_type": "code",
   "execution_count": 217,
   "id": "75eb822a",
   "metadata": {},
   "outputs": [
    {
     "data": {
      "text/plain": [
       "array([7.52232278e+00, 1.12172894e+03, 1.68955443e+05, 1.32856186e+05,\n",
       "       1.27465020e+00, 5.53840341e+00, 9.41155006e+04, 1.16204758e+12])"
      ]
     },
     "execution_count": 217,
     "metadata": {},
     "output_type": "execute_result"
    }
   ],
   "source": [
    "smplei.statistics_"
   ]
  },
  {
   "cell_type": "code",
   "execution_count": 218,
   "id": "7269d69b",
   "metadata": {},
   "outputs": [
    {
     "data": {
      "text/plain": [
       "array([[4.00000000e+00, 1.40000000e+02, 4.00000000e+03, ...,\n",
       "        3.00000000e+00, 9.41020000e+04, 1.38061123e+12],\n",
       "       [4.00000000e+00, 4.40000000e+02, 1.00000000e+00, ...,\n",
       "        3.00000000e+00, 9.41020000e+04, 1.42016441e+12],\n",
       "       [3.00000000e+00, 1.64700000e+03, 2.00000000e+04, ...,\n",
       "        3.00000000e+00, 9.41090000e+04, 1.42485650e+12],\n",
       "       ...,\n",
       "       [8.00000000e+00, 1.56800000e+03, 1.68955443e+05, ...,\n",
       "        5.53840341e+00, 9.41155006e+04, 1.48953938e+12],\n",
       "       [8.00000000e+00, 7.95000000e+02, 1.68955443e+05, ...,\n",
       "        5.53840341e+00, 9.41155006e+04, 1.48960823e+12],\n",
       "       [8.00000000e+00, 8.38000000e+02, 1.68955443e+05, ...,\n",
       "        5.53840341e+00, 9.41155006e+04, 1.48979628e+12]])"
      ]
     },
     "execution_count": 218,
     "metadata": {},
     "output_type": "execute_result"
    }
   ],
   "source": [
    "smplei.transform(num2)"
   ]
  },
  {
   "cell_type": "code",
   "execution_count": 219,
   "id": "d5497cbf",
   "metadata": {},
   "outputs": [
    {
     "data": {
      "text/plain": [
       "Index(['Permit Type', 'Street Number', 'Estimated Cost', 'Revised Cost',\n",
       "       'Plansets', 'Supervisor District', 'Zipcode', 'Record ID'],\n",
       "      dtype='object')"
      ]
     },
     "execution_count": 219,
     "metadata": {},
     "output_type": "execute_result"
    }
   ],
   "source": [
    "columns_name=num2.keys()\n",
    "columns_name"
   ]
  },
  {
   "cell_type": "code",
   "execution_count": 220,
   "id": "718ae1e8",
   "metadata": {},
   "outputs": [],
   "source": [
    "num2[columns_name]=smplei.transform(num2)"
   ]
  },
  {
   "cell_type": "code",
   "execution_count": 221,
   "id": "0ab287b9",
   "metadata": {},
   "outputs": [
    {
     "data": {
      "text/plain": [
       "Permit Type            0\n",
       "Street Number          0\n",
       "Estimated Cost         0\n",
       "Revised Cost           0\n",
       "Plansets               0\n",
       "Supervisor District    0\n",
       "Zipcode                0\n",
       "Record ID              0\n",
       "dtype: int64"
      ]
     },
     "execution_count": 221,
     "metadata": {},
     "output_type": "execute_result"
    }
   ],
   "source": [
    "num2[columns_name].isnull().sum()"
   ]
  },
  {
   "cell_type": "markdown",
   "id": "e41561d5",
   "metadata": {},
   "source": [
    "# deal with a categorical column"
   ]
  },
  {
   "cell_type": "code",
   "execution_count": 195,
   "id": "9ddac6f5",
   "metadata": {},
   "outputs": [
    {
     "name": "stdout",
     "output_type": "stream",
     "text": [
      "(194457, 16)\n"
     ]
    },
    {
     "data": {
      "text/html": [
       "<div>\n",
       "<style scoped>\n",
       "    .dataframe tbody tr th:only-of-type {\n",
       "        vertical-align: middle;\n",
       "    }\n",
       "\n",
       "    .dataframe tbody tr th {\n",
       "        vertical-align: top;\n",
       "    }\n",
       "\n",
       "    .dataframe thead th {\n",
       "        text-align: right;\n",
       "    }\n",
       "</style>\n",
       "<table border=\"1\" class=\"dataframe\">\n",
       "  <thead>\n",
       "    <tr style=\"text-align: right;\">\n",
       "      <th></th>\n",
       "      <th>Permit Number</th>\n",
       "      <th>Permit Type Definition</th>\n",
       "      <th>Permit Creation Date</th>\n",
       "      <th>Block</th>\n",
       "      <th>Lot</th>\n",
       "      <th>Street Name</th>\n",
       "      <th>Street Suffix</th>\n",
       "      <th>Description</th>\n",
       "      <th>Current Status</th>\n",
       "      <th>Current Status Date</th>\n",
       "      <th>Filed Date</th>\n",
       "      <th>Issued Date</th>\n",
       "      <th>First Construction Document Date</th>\n",
       "      <th>Neighborhoods - Analysis Boundaries</th>\n",
       "      <th>Location</th>\n",
       "      <th>Unit</th>\n",
       "    </tr>\n",
       "  </thead>\n",
       "  <tbody>\n",
       "    <tr>\n",
       "      <th>0</th>\n",
       "      <td>201505065519</td>\n",
       "      <td>sign - erect</td>\n",
       "      <td>05/06/2015</td>\n",
       "      <td>0326</td>\n",
       "      <td>023</td>\n",
       "      <td>Ellis</td>\n",
       "      <td>St</td>\n",
       "      <td>ground fl facade: to erect illuminated, electr...</td>\n",
       "      <td>expired</td>\n",
       "      <td>12/21/2017</td>\n",
       "      <td>05/06/2015</td>\n",
       "      <td>11/09/2015</td>\n",
       "      <td>11/09/2015</td>\n",
       "      <td>Tenderloin</td>\n",
       "      <td>(37.785719256680785, -122.40852313194863)</td>\n",
       "      <td>NaN</td>\n",
       "    </tr>\n",
       "    <tr>\n",
       "      <th>1</th>\n",
       "      <td>201604195146</td>\n",
       "      <td>sign - erect</td>\n",
       "      <td>04/19/2016</td>\n",
       "      <td>0306</td>\n",
       "      <td>007</td>\n",
       "      <td>Geary</td>\n",
       "      <td>St</td>\n",
       "      <td>remove (e) awning and associated signs.</td>\n",
       "      <td>issued</td>\n",
       "      <td>08/03/2017</td>\n",
       "      <td>04/19/2016</td>\n",
       "      <td>08/03/2017</td>\n",
       "      <td>08/03/2017</td>\n",
       "      <td>Tenderloin</td>\n",
       "      <td>(37.78733980600732, -122.41063199757738)</td>\n",
       "      <td>NaN</td>\n",
       "    </tr>\n",
       "  </tbody>\n",
       "</table>\n",
       "</div>"
      ],
      "text/plain": [
       "  Permit Number Permit Type Definition Permit Creation Date Block  Lot  \\\n",
       "0  201505065519           sign - erect           05/06/2015  0326  023   \n",
       "1  201604195146           sign - erect           04/19/2016  0306  007   \n",
       "\n",
       "  Street Name Street Suffix  \\\n",
       "0       Ellis            St   \n",
       "1       Geary            St   \n",
       "\n",
       "                                         Description Current Status  \\\n",
       "0  ground fl facade: to erect illuminated, electr...        expired   \n",
       "1            remove (e) awning and associated signs.         issued   \n",
       "\n",
       "  Current Status Date  Filed Date Issued Date  \\\n",
       "0          12/21/2017  05/06/2015  11/09/2015   \n",
       "1          08/03/2017  04/19/2016  08/03/2017   \n",
       "\n",
       "  First Construction Document Date Neighborhoods - Analysis Boundaries  \\\n",
       "0                       11/09/2015                          Tenderloin   \n",
       "1                       08/03/2017                          Tenderloin   \n",
       "\n",
       "                                    Location  Unit  \n",
       "0  (37.785719256680785, -122.40852313194863)   NaN  \n",
       "1   (37.78733980600732, -122.41063199757738)   NaN  "
      ]
     },
     "execution_count": 195,
     "metadata": {},
     "output_type": "execute_result"
    }
   ],
   "source": [
    "print(cut.shape)\n",
    "cut.head(2)"
   ]
  },
  {
   "cell_type": "code",
   "execution_count": 200,
   "id": "ad4b6fb5",
   "metadata": {},
   "outputs": [
    {
     "data": {
      "text/plain": [
       "Permit Number                           0.000000\n",
       "Permit Type Definition                  0.000000\n",
       "Permit Creation Date                    0.000000\n",
       "Block                                   0.000000\n",
       "Lot                                     0.000000\n",
       "Street Name                             0.000000\n",
       "Street Suffix                           1.391654\n",
       "Description                             0.145802\n",
       "Current Status                          0.000000\n",
       "Current Status Date                     0.000000\n",
       "Filed Date                              0.000000\n",
       "Issued Date                             7.511312\n",
       "First Construction Document Date        7.514329\n",
       "Existing Use                           20.670689\n",
       "Neighborhoods - Analysis Boundaries     0.867270\n",
       "Location                                0.854701\n",
       "dtype: float64"
      ]
     },
     "execution_count": 200,
     "metadata": {},
     "output_type": "execute_result"
    }
   ],
   "source": [
    "cat_null=cat.isnull().mean()*100\n",
    "cat2=cat.drop(columns=cat_null[cat_null>21].keys())\n",
    "cat2.isnull().mean()*100"
   ]
  },
  {
   "cell_type": "code",
   "execution_count": 201,
   "id": "55326aeb",
   "metadata": {},
   "outputs": [],
   "source": [
    "obj2=SimpleImputer(strategy='most_frequent')"
   ]
  },
  {
   "cell_type": "code",
   "execution_count": 207,
   "id": "159f448a",
   "metadata": {},
   "outputs": [],
   "source": [
    "values=obj2.fit_transform(cat2)"
   ]
  },
  {
   "cell_type": "code",
   "execution_count": 208,
   "id": "6a7cdc79",
   "metadata": {},
   "outputs": [
    {
     "data": {
      "text/plain": [
       "(198900, 16)"
      ]
     },
     "execution_count": 208,
     "metadata": {},
     "output_type": "execute_result"
    }
   ],
   "source": [
    "values.shape"
   ]
  },
  {
   "cell_type": "code",
   "execution_count": 205,
   "id": "af201fe1",
   "metadata": {},
   "outputs": [
    {
     "data": {
      "text/plain": [
       "Index(['Permit Number', 'Permit Type Definition', 'Permit Creation Date',\n",
       "       'Block', 'Lot', 'Street Name', 'Street Suffix', 'Description',\n",
       "       'Current Status', 'Current Status Date', 'Filed Date', 'Issued Date',\n",
       "       'First Construction Document Date', 'Existing Use',\n",
       "       'Neighborhoods - Analysis Boundaries', 'Location'],\n",
       "      dtype='object')"
      ]
     },
     "execution_count": 205,
     "metadata": {},
     "output_type": "execute_result"
    }
   ],
   "source": [
    "col_name=cat2.keys()\n",
    "col_name"
   ]
  },
  {
   "cell_type": "code",
   "execution_count": 210,
   "id": "6807b3a5",
   "metadata": {},
   "outputs": [],
   "source": [
    "cat2[col_name]=obj2.fit_transform(cat2)"
   ]
  },
  {
   "cell_type": "code",
   "execution_count": 211,
   "id": "9f6117cd",
   "metadata": {},
   "outputs": [
    {
     "data": {
      "text/plain": [
       "Permit Number                          0\n",
       "Permit Type Definition                 0\n",
       "Permit Creation Date                   0\n",
       "Block                                  0\n",
       "Lot                                    0\n",
       "Street Name                            0\n",
       "Street Suffix                          0\n",
       "Description                            0\n",
       "Current Status                         0\n",
       "Current Status Date                    0\n",
       "Filed Date                             0\n",
       "Issued Date                            0\n",
       "First Construction Document Date       0\n",
       "Existing Use                           0\n",
       "Neighborhoods - Analysis Boundaries    0\n",
       "Location                               0\n",
       "dtype: int64"
      ]
     },
     "execution_count": 211,
     "metadata": {},
     "output_type": "execute_result"
    }
   ],
   "source": [
    "cat2.isnull().sum()"
   ]
  },
  {
   "cell_type": "code",
   "execution_count": 222,
   "id": "4a65fc07",
   "metadata": {},
   "outputs": [
    {
     "data": {
      "text/plain": [
       "Permit Type            0\n",
       "Street Number          0\n",
       "Estimated Cost         0\n",
       "Revised Cost           0\n",
       "Plansets               0\n",
       "Supervisor District    0\n",
       "Zipcode                0\n",
       "Record ID              0\n",
       "dtype: int64"
      ]
     },
     "execution_count": 222,
     "metadata": {},
     "output_type": "execute_result"
    }
   ],
   "source": [
    "num2.isnull().sum()"
   ]
  },
  {
   "cell_type": "code",
   "execution_count": 223,
   "id": "092aaab5",
   "metadata": {},
   "outputs": [
    {
     "name": "stdout",
     "output_type": "stream",
     "text": [
      "shape of the numerical variable:- (198900, 8)\n",
      "shape of the categorical variable:- (198900, 16)\n"
     ]
    }
   ],
   "source": [
    "print('shape of the numerical variable:-',num2.shape)\n",
    "print('shape of the categorical variable:-',cat2.shape)"
   ]
  },
  {
   "cell_type": "code",
   "execution_count": 224,
   "id": "af4bc201",
   "metadata": {},
   "outputs": [
    {
     "data": {
      "text/html": [
       "<div>\n",
       "<style scoped>\n",
       "    .dataframe tbody tr th:only-of-type {\n",
       "        vertical-align: middle;\n",
       "    }\n",
       "\n",
       "    .dataframe tbody tr th {\n",
       "        vertical-align: top;\n",
       "    }\n",
       "\n",
       "    .dataframe thead th {\n",
       "        text-align: right;\n",
       "    }\n",
       "</style>\n",
       "<table border=\"1\" class=\"dataframe\">\n",
       "  <thead>\n",
       "    <tr style=\"text-align: right;\">\n",
       "      <th></th>\n",
       "      <th>Permit Type</th>\n",
       "      <th>Street Number</th>\n",
       "      <th>Estimated Cost</th>\n",
       "      <th>Revised Cost</th>\n",
       "      <th>Plansets</th>\n",
       "      <th>Supervisor District</th>\n",
       "      <th>Zipcode</th>\n",
       "      <th>Record ID</th>\n",
       "      <th>Permit Number</th>\n",
       "      <th>Permit Type Definition</th>\n",
       "      <th>...</th>\n",
       "      <th>Street Suffix</th>\n",
       "      <th>Description</th>\n",
       "      <th>Current Status</th>\n",
       "      <th>Current Status Date</th>\n",
       "      <th>Filed Date</th>\n",
       "      <th>Issued Date</th>\n",
       "      <th>First Construction Document Date</th>\n",
       "      <th>Existing Use</th>\n",
       "      <th>Neighborhoods - Analysis Boundaries</th>\n",
       "      <th>Location</th>\n",
       "    </tr>\n",
       "  </thead>\n",
       "  <tbody>\n",
       "    <tr>\n",
       "      <th>0</th>\n",
       "      <td>4.0</td>\n",
       "      <td>140.0</td>\n",
       "      <td>4000.000000</td>\n",
       "      <td>4000.000000</td>\n",
       "      <td>2.00000</td>\n",
       "      <td>3.000000</td>\n",
       "      <td>94102.000000</td>\n",
       "      <td>1.380611e+12</td>\n",
       "      <td>201505065519</td>\n",
       "      <td>sign - erect</td>\n",
       "      <td>...</td>\n",
       "      <td>St</td>\n",
       "      <td>ground fl facade: to erect illuminated, electr...</td>\n",
       "      <td>expired</td>\n",
       "      <td>12/21/2017</td>\n",
       "      <td>05/06/2015</td>\n",
       "      <td>11/09/2015</td>\n",
       "      <td>11/09/2015</td>\n",
       "      <td>tourist hotel/motel</td>\n",
       "      <td>Tenderloin</td>\n",
       "      <td>(37.785719256680785, -122.40852313194863)</td>\n",
       "    </tr>\n",
       "    <tr>\n",
       "      <th>1</th>\n",
       "      <td>4.0</td>\n",
       "      <td>440.0</td>\n",
       "      <td>1.000000</td>\n",
       "      <td>500.000000</td>\n",
       "      <td>2.00000</td>\n",
       "      <td>3.000000</td>\n",
       "      <td>94102.000000</td>\n",
       "      <td>1.420164e+12</td>\n",
       "      <td>201604195146</td>\n",
       "      <td>sign - erect</td>\n",
       "      <td>...</td>\n",
       "      <td>St</td>\n",
       "      <td>remove (e) awning and associated signs.</td>\n",
       "      <td>issued</td>\n",
       "      <td>08/03/2017</td>\n",
       "      <td>04/19/2016</td>\n",
       "      <td>08/03/2017</td>\n",
       "      <td>08/03/2017</td>\n",
       "      <td>tourist hotel/motel</td>\n",
       "      <td>Tenderloin</td>\n",
       "      <td>(37.78733980600732, -122.41063199757738)</td>\n",
       "    </tr>\n",
       "    <tr>\n",
       "      <th>2</th>\n",
       "      <td>3.0</td>\n",
       "      <td>1647.0</td>\n",
       "      <td>20000.000000</td>\n",
       "      <td>132856.186492</td>\n",
       "      <td>2.00000</td>\n",
       "      <td>3.000000</td>\n",
       "      <td>94109.000000</td>\n",
       "      <td>1.424857e+12</td>\n",
       "      <td>201605278609</td>\n",
       "      <td>additions alterations or repairs</td>\n",
       "      <td>...</td>\n",
       "      <td>Av</td>\n",
       "      <td>installation of separating wall</td>\n",
       "      <td>withdrawn</td>\n",
       "      <td>09/26/2017</td>\n",
       "      <td>05/27/2016</td>\n",
       "      <td>06/15/2016</td>\n",
       "      <td>11/07/2016</td>\n",
       "      <td>retail sales</td>\n",
       "      <td>Russian Hill</td>\n",
       "      <td>(37.7946573324287, -122.42232562979227)</td>\n",
       "    </tr>\n",
       "    <tr>\n",
       "      <th>3</th>\n",
       "      <td>8.0</td>\n",
       "      <td>1230.0</td>\n",
       "      <td>2000.000000</td>\n",
       "      <td>2000.000000</td>\n",
       "      <td>2.00000</td>\n",
       "      <td>3.000000</td>\n",
       "      <td>94109.000000</td>\n",
       "      <td>1.443574e+12</td>\n",
       "      <td>201611072166</td>\n",
       "      <td>otc alterations permit</td>\n",
       "      <td>...</td>\n",
       "      <td>Av</td>\n",
       "      <td>repair dryrot &amp; stucco at front of bldg.</td>\n",
       "      <td>complete</td>\n",
       "      <td>07/24/2017</td>\n",
       "      <td>11/07/2016</td>\n",
       "      <td>07/18/2017</td>\n",
       "      <td>07/18/2017</td>\n",
       "      <td>1 family dwelling</td>\n",
       "      <td>Nob Hill</td>\n",
       "      <td>(37.79595867909168, -122.41557405519474)</td>\n",
       "    </tr>\n",
       "    <tr>\n",
       "      <th>4</th>\n",
       "      <td>6.0</td>\n",
       "      <td>950.0</td>\n",
       "      <td>100000.000000</td>\n",
       "      <td>100000.000000</td>\n",
       "      <td>2.00000</td>\n",
       "      <td>6.000000</td>\n",
       "      <td>94102.000000</td>\n",
       "      <td>1.445482e+11</td>\n",
       "      <td>201611283529</td>\n",
       "      <td>demolitions</td>\n",
       "      <td>...</td>\n",
       "      <td>St</td>\n",
       "      <td>demolish retail/office/commercial 3-story buil...</td>\n",
       "      <td>issued</td>\n",
       "      <td>12/01/2017</td>\n",
       "      <td>11/28/2016</td>\n",
       "      <td>12/01/2017</td>\n",
       "      <td>11/20/2017</td>\n",
       "      <td>retail sales</td>\n",
       "      <td>Tenderloin</td>\n",
       "      <td>(37.78315261897309, -122.40950883997789)</td>\n",
       "    </tr>\n",
       "    <tr>\n",
       "      <th>...</th>\n",
       "      <td>...</td>\n",
       "      <td>...</td>\n",
       "      <td>...</td>\n",
       "      <td>...</td>\n",
       "      <td>...</td>\n",
       "      <td>...</td>\n",
       "      <td>...</td>\n",
       "      <td>...</td>\n",
       "      <td>...</td>\n",
       "      <td>...</td>\n",
       "      <td>...</td>\n",
       "      <td>...</td>\n",
       "      <td>...</td>\n",
       "      <td>...</td>\n",
       "      <td>...</td>\n",
       "      <td>...</td>\n",
       "      <td>...</td>\n",
       "      <td>...</td>\n",
       "      <td>...</td>\n",
       "      <td>...</td>\n",
       "      <td>...</td>\n",
       "    </tr>\n",
       "    <tr>\n",
       "      <th>198895</th>\n",
       "      <td>8.0</td>\n",
       "      <td>1228.0</td>\n",
       "      <td>168955.443297</td>\n",
       "      <td>1.000000</td>\n",
       "      <td>1.27465</td>\n",
       "      <td>5.538403</td>\n",
       "      <td>94115.500558</td>\n",
       "      <td>1.489337e+12</td>\n",
       "      <td>M862628</td>\n",
       "      <td>otc alterations permit</td>\n",
       "      <td>...</td>\n",
       "      <td>St</td>\n",
       "      <td>street space</td>\n",
       "      <td>issued</td>\n",
       "      <td>12/05/2017</td>\n",
       "      <td>12/05/2017</td>\n",
       "      <td>12/05/2017</td>\n",
       "      <td>12/05/2017</td>\n",
       "      <td>1 family dwelling</td>\n",
       "      <td>Financial District/South Beach</td>\n",
       "      <td>(37.79226164705184, -122.4034859571375)</td>\n",
       "    </tr>\n",
       "    <tr>\n",
       "      <th>198896</th>\n",
       "      <td>8.0</td>\n",
       "      <td>580.0</td>\n",
       "      <td>5000.000000</td>\n",
       "      <td>5000.000000</td>\n",
       "      <td>2.00000</td>\n",
       "      <td>5.538403</td>\n",
       "      <td>94115.500558</td>\n",
       "      <td>1.489462e+12</td>\n",
       "      <td>201712055595</td>\n",
       "      <td>otc alterations permit</td>\n",
       "      <td>...</td>\n",
       "      <td>St</td>\n",
       "      <td>fire alarm upgrade ref 201704123852</td>\n",
       "      <td>issued</td>\n",
       "      <td>12/06/2017</td>\n",
       "      <td>12/05/2017</td>\n",
       "      <td>12/06/2017</td>\n",
       "      <td>12/06/2017</td>\n",
       "      <td>apartments</td>\n",
       "      <td>Financial District/South Beach</td>\n",
       "      <td>(37.79226164705184, -122.4034859571375)</td>\n",
       "    </tr>\n",
       "    <tr>\n",
       "      <th>198897</th>\n",
       "      <td>8.0</td>\n",
       "      <td>1568.0</td>\n",
       "      <td>168955.443297</td>\n",
       "      <td>1.000000</td>\n",
       "      <td>1.27465</td>\n",
       "      <td>5.538403</td>\n",
       "      <td>94115.500558</td>\n",
       "      <td>1.489539e+12</td>\n",
       "      <td>M863507</td>\n",
       "      <td>otc alterations permit</td>\n",
       "      <td>...</td>\n",
       "      <td>St</td>\n",
       "      <td>street space</td>\n",
       "      <td>issued</td>\n",
       "      <td>12/06/2017</td>\n",
       "      <td>12/06/2017</td>\n",
       "      <td>12/06/2017</td>\n",
       "      <td>12/06/2017</td>\n",
       "      <td>1 family dwelling</td>\n",
       "      <td>Financial District/South Beach</td>\n",
       "      <td>(37.79226164705184, -122.4034859571375)</td>\n",
       "    </tr>\n",
       "    <tr>\n",
       "      <th>198898</th>\n",
       "      <td>8.0</td>\n",
       "      <td>795.0</td>\n",
       "      <td>168955.443297</td>\n",
       "      <td>1.000000</td>\n",
       "      <td>1.27465</td>\n",
       "      <td>5.538403</td>\n",
       "      <td>94115.500558</td>\n",
       "      <td>1.489608e+12</td>\n",
       "      <td>M863747</td>\n",
       "      <td>otc alterations permit</td>\n",
       "      <td>...</td>\n",
       "      <td>St</td>\n",
       "      <td>street space permit</td>\n",
       "      <td>issued</td>\n",
       "      <td>12/06/2017</td>\n",
       "      <td>12/06/2017</td>\n",
       "      <td>12/06/2017</td>\n",
       "      <td>12/06/2017</td>\n",
       "      <td>1 family dwelling</td>\n",
       "      <td>Financial District/South Beach</td>\n",
       "      <td>(37.79226164705184, -122.4034859571375)</td>\n",
       "    </tr>\n",
       "    <tr>\n",
       "      <th>198899</th>\n",
       "      <td>8.0</td>\n",
       "      <td>838.0</td>\n",
       "      <td>168955.443297</td>\n",
       "      <td>1.000000</td>\n",
       "      <td>1.27465</td>\n",
       "      <td>5.538403</td>\n",
       "      <td>94115.500558</td>\n",
       "      <td>1.489796e+12</td>\n",
       "      <td>M864287</td>\n",
       "      <td>otc alterations permit</td>\n",
       "      <td>...</td>\n",
       "      <td>Av</td>\n",
       "      <td>street space permit</td>\n",
       "      <td>issued</td>\n",
       "      <td>12/07/2017</td>\n",
       "      <td>12/07/2017</td>\n",
       "      <td>12/07/2017</td>\n",
       "      <td>12/07/2017</td>\n",
       "      <td>1 family dwelling</td>\n",
       "      <td>Financial District/South Beach</td>\n",
       "      <td>(37.79226164705184, -122.4034859571375)</td>\n",
       "    </tr>\n",
       "  </tbody>\n",
       "</table>\n",
       "<p>198900 rows × 24 columns</p>\n",
       "</div>"
      ],
      "text/plain": [
       "        Permit Type  Street Number  Estimated Cost   Revised Cost  Plansets  \\\n",
       "0               4.0          140.0     4000.000000    4000.000000   2.00000   \n",
       "1               4.0          440.0        1.000000     500.000000   2.00000   \n",
       "2               3.0         1647.0    20000.000000  132856.186492   2.00000   \n",
       "3               8.0         1230.0     2000.000000    2000.000000   2.00000   \n",
       "4               6.0          950.0   100000.000000  100000.000000   2.00000   \n",
       "...             ...            ...             ...            ...       ...   \n",
       "198895          8.0         1228.0   168955.443297       1.000000   1.27465   \n",
       "198896          8.0          580.0     5000.000000    5000.000000   2.00000   \n",
       "198897          8.0         1568.0   168955.443297       1.000000   1.27465   \n",
       "198898          8.0          795.0   168955.443297       1.000000   1.27465   \n",
       "198899          8.0          838.0   168955.443297       1.000000   1.27465   \n",
       "\n",
       "        Supervisor District       Zipcode     Record ID Permit Number  \\\n",
       "0                  3.000000  94102.000000  1.380611e+12  201505065519   \n",
       "1                  3.000000  94102.000000  1.420164e+12  201604195146   \n",
       "2                  3.000000  94109.000000  1.424857e+12  201605278609   \n",
       "3                  3.000000  94109.000000  1.443574e+12  201611072166   \n",
       "4                  6.000000  94102.000000  1.445482e+11  201611283529   \n",
       "...                     ...           ...           ...           ...   \n",
       "198895             5.538403  94115.500558  1.489337e+12       M862628   \n",
       "198896             5.538403  94115.500558  1.489462e+12  201712055595   \n",
       "198897             5.538403  94115.500558  1.489539e+12       M863507   \n",
       "198898             5.538403  94115.500558  1.489608e+12       M863747   \n",
       "198899             5.538403  94115.500558  1.489796e+12       M864287   \n",
       "\n",
       "                  Permit Type Definition  ... Street Suffix  \\\n",
       "0                           sign - erect  ...            St   \n",
       "1                           sign - erect  ...            St   \n",
       "2       additions alterations or repairs  ...            Av   \n",
       "3                 otc alterations permit  ...            Av   \n",
       "4                            demolitions  ...            St   \n",
       "...                                  ...  ...           ...   \n",
       "198895            otc alterations permit  ...            St   \n",
       "198896            otc alterations permit  ...            St   \n",
       "198897            otc alterations permit  ...            St   \n",
       "198898            otc alterations permit  ...            St   \n",
       "198899            otc alterations permit  ...            Av   \n",
       "\n",
       "                                              Description Current Status  \\\n",
       "0       ground fl facade: to erect illuminated, electr...        expired   \n",
       "1                 remove (e) awning and associated signs.         issued   \n",
       "2                         installation of separating wall      withdrawn   \n",
       "3                repair dryrot & stucco at front of bldg.       complete   \n",
       "4       demolish retail/office/commercial 3-story buil...         issued   \n",
       "...                                                   ...            ...   \n",
       "198895                                       street space         issued   \n",
       "198896                fire alarm upgrade ref 201704123852         issued   \n",
       "198897                                       street space         issued   \n",
       "198898                                street space permit         issued   \n",
       "198899                                street space permit         issued   \n",
       "\n",
       "       Current Status Date  Filed Date Issued Date  \\\n",
       "0               12/21/2017  05/06/2015  11/09/2015   \n",
       "1               08/03/2017  04/19/2016  08/03/2017   \n",
       "2               09/26/2017  05/27/2016  06/15/2016   \n",
       "3               07/24/2017  11/07/2016  07/18/2017   \n",
       "4               12/01/2017  11/28/2016  12/01/2017   \n",
       "...                    ...         ...         ...   \n",
       "198895          12/05/2017  12/05/2017  12/05/2017   \n",
       "198896          12/06/2017  12/05/2017  12/06/2017   \n",
       "198897          12/06/2017  12/06/2017  12/06/2017   \n",
       "198898          12/06/2017  12/06/2017  12/06/2017   \n",
       "198899          12/07/2017  12/07/2017  12/07/2017   \n",
       "\n",
       "       First Construction Document Date         Existing Use  \\\n",
       "0                            11/09/2015  tourist hotel/motel   \n",
       "1                            08/03/2017  tourist hotel/motel   \n",
       "2                            11/07/2016         retail sales   \n",
       "3                            07/18/2017    1 family dwelling   \n",
       "4                            11/20/2017         retail sales   \n",
       "...                                 ...                  ...   \n",
       "198895                       12/05/2017    1 family dwelling   \n",
       "198896                       12/06/2017           apartments   \n",
       "198897                       12/06/2017    1 family dwelling   \n",
       "198898                       12/06/2017    1 family dwelling   \n",
       "198899                       12/07/2017    1 family dwelling   \n",
       "\n",
       "       Neighborhoods - Analysis Boundaries  \\\n",
       "0                               Tenderloin   \n",
       "1                               Tenderloin   \n",
       "2                             Russian Hill   \n",
       "3                                 Nob Hill   \n",
       "4                               Tenderloin   \n",
       "...                                    ...   \n",
       "198895      Financial District/South Beach   \n",
       "198896      Financial District/South Beach   \n",
       "198897      Financial District/South Beach   \n",
       "198898      Financial District/South Beach   \n",
       "198899      Financial District/South Beach   \n",
       "\n",
       "                                         Location  \n",
       "0       (37.785719256680785, -122.40852313194863)  \n",
       "1        (37.78733980600732, -122.41063199757738)  \n",
       "2         (37.7946573324287, -122.42232562979227)  \n",
       "3        (37.79595867909168, -122.41557405519474)  \n",
       "4        (37.78315261897309, -122.40950883997789)  \n",
       "...                                           ...  \n",
       "198895    (37.79226164705184, -122.4034859571375)  \n",
       "198896    (37.79226164705184, -122.4034859571375)  \n",
       "198897    (37.79226164705184, -122.4034859571375)  \n",
       "198898    (37.79226164705184, -122.4034859571375)  \n",
       "198899    (37.79226164705184, -122.4034859571375)  \n",
       "\n",
       "[198900 rows x 24 columns]"
      ]
     },
     "execution_count": 224,
     "metadata": {},
     "output_type": "execute_result"
    }
   ],
   "source": [
    "clean_df=pd.concat([num2,cat2],axis=1)\n",
    "clean_df"
   ]
  },
  {
   "cell_type": "code",
   "execution_count": 226,
   "id": "e37d2774",
   "metadata": {},
   "outputs": [
    {
     "data": {
      "text/plain": [
       "Permit Type                            0\n",
       "Street Number                          0\n",
       "Estimated Cost                         0\n",
       "Revised Cost                           0\n",
       "Plansets                               0\n",
       "Supervisor District                    0\n",
       "Zipcode                                0\n",
       "Record ID                              0\n",
       "Permit Number                          0\n",
       "Permit Type Definition                 0\n",
       "Permit Creation Date                   0\n",
       "Block                                  0\n",
       "Lot                                    0\n",
       "Street Name                            0\n",
       "Street Suffix                          0\n",
       "Description                            0\n",
       "Current Status                         0\n",
       "Current Status Date                    0\n",
       "Filed Date                             0\n",
       "Issued Date                            0\n",
       "First Construction Document Date       0\n",
       "Existing Use                           0\n",
       "Neighborhoods - Analysis Boundaries    0\n",
       "Location                               0\n",
       "dtype: int64"
      ]
     },
     "execution_count": 226,
     "metadata": {},
     "output_type": "execute_result"
    }
   ],
   "source": [
    "clean_df.isnull().sum()"
   ]
  },
  {
   "cell_type": "code",
   "execution_count": 227,
   "id": "64afad3a",
   "metadata": {},
   "outputs": [
    {
     "data": {
      "text/html": [
       "<div>\n",
       "<style scoped>\n",
       "    .dataframe tbody tr th:only-of-type {\n",
       "        vertical-align: middle;\n",
       "    }\n",
       "\n",
       "    .dataframe tbody tr th {\n",
       "        vertical-align: top;\n",
       "    }\n",
       "\n",
       "    .dataframe thead th {\n",
       "        text-align: right;\n",
       "    }\n",
       "</style>\n",
       "<table border=\"1\" class=\"dataframe\">\n",
       "  <thead>\n",
       "    <tr style=\"text-align: right;\">\n",
       "      <th></th>\n",
       "      <th>Permit Type</th>\n",
       "      <th>Street Number</th>\n",
       "      <th>Estimated Cost</th>\n",
       "      <th>Revised Cost</th>\n",
       "      <th>Plansets</th>\n",
       "      <th>Supervisor District</th>\n",
       "      <th>Zipcode</th>\n",
       "      <th>Record ID</th>\n",
       "      <th>Permit Number</th>\n",
       "      <th>Permit Type Definition</th>\n",
       "      <th>...</th>\n",
       "      <th>Street Suffix</th>\n",
       "      <th>Description</th>\n",
       "      <th>Current Status</th>\n",
       "      <th>Current Status Date</th>\n",
       "      <th>Filed Date</th>\n",
       "      <th>Issued Date</th>\n",
       "      <th>First Construction Document Date</th>\n",
       "      <th>Existing Use</th>\n",
       "      <th>Neighborhoods - Analysis Boundaries</th>\n",
       "      <th>Location</th>\n",
       "    </tr>\n",
       "  </thead>\n",
       "  <tbody>\n",
       "    <tr>\n",
       "      <th>0</th>\n",
       "      <td>4.0</td>\n",
       "      <td>140.0</td>\n",
       "      <td>4000.0</td>\n",
       "      <td>4000.000000</td>\n",
       "      <td>2.0</td>\n",
       "      <td>3.0</td>\n",
       "      <td>94102.0</td>\n",
       "      <td>1.380611e+12</td>\n",
       "      <td>201505065519</td>\n",
       "      <td>sign - erect</td>\n",
       "      <td>...</td>\n",
       "      <td>St</td>\n",
       "      <td>ground fl facade: to erect illuminated, electr...</td>\n",
       "      <td>expired</td>\n",
       "      <td>12/21/2017</td>\n",
       "      <td>05/06/2015</td>\n",
       "      <td>11/09/2015</td>\n",
       "      <td>11/09/2015</td>\n",
       "      <td>tourist hotel/motel</td>\n",
       "      <td>Tenderloin</td>\n",
       "      <td>(37.785719256680785, -122.40852313194863)</td>\n",
       "    </tr>\n",
       "    <tr>\n",
       "      <th>1</th>\n",
       "      <td>4.0</td>\n",
       "      <td>440.0</td>\n",
       "      <td>1.0</td>\n",
       "      <td>500.000000</td>\n",
       "      <td>2.0</td>\n",
       "      <td>3.0</td>\n",
       "      <td>94102.0</td>\n",
       "      <td>1.420164e+12</td>\n",
       "      <td>201604195146</td>\n",
       "      <td>sign - erect</td>\n",
       "      <td>...</td>\n",
       "      <td>St</td>\n",
       "      <td>remove (e) awning and associated signs.</td>\n",
       "      <td>issued</td>\n",
       "      <td>08/03/2017</td>\n",
       "      <td>04/19/2016</td>\n",
       "      <td>08/03/2017</td>\n",
       "      <td>08/03/2017</td>\n",
       "      <td>tourist hotel/motel</td>\n",
       "      <td>Tenderloin</td>\n",
       "      <td>(37.78733980600732, -122.41063199757738)</td>\n",
       "    </tr>\n",
       "    <tr>\n",
       "      <th>2</th>\n",
       "      <td>3.0</td>\n",
       "      <td>1647.0</td>\n",
       "      <td>20000.0</td>\n",
       "      <td>132856.186492</td>\n",
       "      <td>2.0</td>\n",
       "      <td>3.0</td>\n",
       "      <td>94109.0</td>\n",
       "      <td>1.424857e+12</td>\n",
       "      <td>201605278609</td>\n",
       "      <td>additions alterations or repairs</td>\n",
       "      <td>...</td>\n",
       "      <td>Av</td>\n",
       "      <td>installation of separating wall</td>\n",
       "      <td>withdrawn</td>\n",
       "      <td>09/26/2017</td>\n",
       "      <td>05/27/2016</td>\n",
       "      <td>06/15/2016</td>\n",
       "      <td>11/07/2016</td>\n",
       "      <td>retail sales</td>\n",
       "      <td>Russian Hill</td>\n",
       "      <td>(37.7946573324287, -122.42232562979227)</td>\n",
       "    </tr>\n",
       "    <tr>\n",
       "      <th>3</th>\n",
       "      <td>8.0</td>\n",
       "      <td>1230.0</td>\n",
       "      <td>2000.0</td>\n",
       "      <td>2000.000000</td>\n",
       "      <td>2.0</td>\n",
       "      <td>3.0</td>\n",
       "      <td>94109.0</td>\n",
       "      <td>1.443574e+12</td>\n",
       "      <td>201611072166</td>\n",
       "      <td>otc alterations permit</td>\n",
       "      <td>...</td>\n",
       "      <td>Av</td>\n",
       "      <td>repair dryrot &amp; stucco at front of bldg.</td>\n",
       "      <td>complete</td>\n",
       "      <td>07/24/2017</td>\n",
       "      <td>11/07/2016</td>\n",
       "      <td>07/18/2017</td>\n",
       "      <td>07/18/2017</td>\n",
       "      <td>1 family dwelling</td>\n",
       "      <td>Nob Hill</td>\n",
       "      <td>(37.79595867909168, -122.41557405519474)</td>\n",
       "    </tr>\n",
       "    <tr>\n",
       "      <th>4</th>\n",
       "      <td>6.0</td>\n",
       "      <td>950.0</td>\n",
       "      <td>100000.0</td>\n",
       "      <td>100000.000000</td>\n",
       "      <td>2.0</td>\n",
       "      <td>6.0</td>\n",
       "      <td>94102.0</td>\n",
       "      <td>1.445482e+11</td>\n",
       "      <td>201611283529</td>\n",
       "      <td>demolitions</td>\n",
       "      <td>...</td>\n",
       "      <td>St</td>\n",
       "      <td>demolish retail/office/commercial 3-story buil...</td>\n",
       "      <td>issued</td>\n",
       "      <td>12/01/2017</td>\n",
       "      <td>11/28/2016</td>\n",
       "      <td>12/01/2017</td>\n",
       "      <td>11/20/2017</td>\n",
       "      <td>retail sales</td>\n",
       "      <td>Tenderloin</td>\n",
       "      <td>(37.78315261897309, -122.40950883997789)</td>\n",
       "    </tr>\n",
       "  </tbody>\n",
       "</table>\n",
       "<p>5 rows × 24 columns</p>\n",
       "</div>"
      ],
      "text/plain": [
       "   Permit Type  Street Number  Estimated Cost   Revised Cost  Plansets  \\\n",
       "0          4.0          140.0          4000.0    4000.000000       2.0   \n",
       "1          4.0          440.0             1.0     500.000000       2.0   \n",
       "2          3.0         1647.0         20000.0  132856.186492       2.0   \n",
       "3          8.0         1230.0          2000.0    2000.000000       2.0   \n",
       "4          6.0          950.0        100000.0  100000.000000       2.0   \n",
       "\n",
       "   Supervisor District  Zipcode     Record ID Permit Number  \\\n",
       "0                  3.0  94102.0  1.380611e+12  201505065519   \n",
       "1                  3.0  94102.0  1.420164e+12  201604195146   \n",
       "2                  3.0  94109.0  1.424857e+12  201605278609   \n",
       "3                  3.0  94109.0  1.443574e+12  201611072166   \n",
       "4                  6.0  94102.0  1.445482e+11  201611283529   \n",
       "\n",
       "             Permit Type Definition  ... Street Suffix  \\\n",
       "0                      sign - erect  ...            St   \n",
       "1                      sign - erect  ...            St   \n",
       "2  additions alterations or repairs  ...            Av   \n",
       "3            otc alterations permit  ...            Av   \n",
       "4                       demolitions  ...            St   \n",
       "\n",
       "                                         Description Current Status  \\\n",
       "0  ground fl facade: to erect illuminated, electr...        expired   \n",
       "1            remove (e) awning and associated signs.         issued   \n",
       "2                    installation of separating wall      withdrawn   \n",
       "3           repair dryrot & stucco at front of bldg.       complete   \n",
       "4  demolish retail/office/commercial 3-story buil...         issued   \n",
       "\n",
       "  Current Status Date  Filed Date Issued Date  \\\n",
       "0          12/21/2017  05/06/2015  11/09/2015   \n",
       "1          08/03/2017  04/19/2016  08/03/2017   \n",
       "2          09/26/2017  05/27/2016  06/15/2016   \n",
       "3          07/24/2017  11/07/2016  07/18/2017   \n",
       "4          12/01/2017  11/28/2016  12/01/2017   \n",
       "\n",
       "  First Construction Document Date         Existing Use  \\\n",
       "0                       11/09/2015  tourist hotel/motel   \n",
       "1                       08/03/2017  tourist hotel/motel   \n",
       "2                       11/07/2016         retail sales   \n",
       "3                       07/18/2017    1 family dwelling   \n",
       "4                       11/20/2017         retail sales   \n",
       "\n",
       "  Neighborhoods - Analysis Boundaries  \\\n",
       "0                          Tenderloin   \n",
       "1                          Tenderloin   \n",
       "2                        Russian Hill   \n",
       "3                            Nob Hill   \n",
       "4                          Tenderloin   \n",
       "\n",
       "                                    Location  \n",
       "0  (37.785719256680785, -122.40852313194863)  \n",
       "1   (37.78733980600732, -122.41063199757738)  \n",
       "2    (37.7946573324287, -122.42232562979227)  \n",
       "3   (37.79595867909168, -122.41557405519474)  \n",
       "4   (37.78315261897309, -122.40950883997789)  \n",
       "\n",
       "[5 rows x 24 columns]"
      ]
     },
     "execution_count": 227,
     "metadata": {},
     "output_type": "execute_result"
    }
   ],
   "source": [
    "clean_df.head()"
   ]
  },
  {
   "cell_type": "code",
   "execution_count": 236,
   "id": "a7f5f488",
   "metadata": {},
   "outputs": [
    {
     "name": "stderr",
     "output_type": "stream",
     "text": [
      "c:\\users\\dell\\appdata\\local\\programs\\python\\python39\\lib\\site-packages\\seaborn\\distributions.py:2557: FutureWarning: `distplot` is a deprecated function and will be removed in a future version. Please adapt your code to use either `displot` (a figure-level function with similar flexibility) or `histplot` (an axes-level function for histograms).\n",
      "  warnings.warn(msg, FutureWarning)\n",
      "c:\\users\\dell\\appdata\\local\\programs\\python\\python39\\lib\\site-packages\\seaborn\\distributions.py:2557: FutureWarning: `distplot` is a deprecated function and will be removed in a future version. Please adapt your code to use either `displot` (a figure-level function with similar flexibility) or `histplot` (an axes-level function for histograms).\n",
      "  warnings.warn(msg, FutureWarning)\n"
     ]
    },
    {
     "data": {
      "text/plain": [
       "<matplotlib.legend.Legend at 0x29a232f6160>"
      ]
     },
     "execution_count": 236,
     "metadata": {},
     "output_type": "execute_result"
    },
    {
     "data": {
      "image/png": "[encoded data removed]",
      "text/plain": [
       "<Figure size 720x576 with 1 Axes>"
      ]
     },
     "metadata": {},
     "output_type": "display_data"
    }
   ],
   "source": [
    "sns.distplot(data1['Revised Cost'],kde_kws={\"lw\":10},label='main_dataset')\n",
    "sns.distplot(clean_df['Revised Cost'],kde_kws={\"lw\":4},label='cleaned_dataset')\n",
    "plt.legend()"
   ]
  },
  {
   "cell_type": "code",
   "execution_count": 233,
   "id": "6722e56e",
   "metadata": {},
   "outputs": [
    {
     "data": {
      "text/plain": [
       "(8513, 43)"
      ]
     },
     "execution_count": 233,
     "metadata": {},
     "output_type": "execute_result"
    }
   ],
   "source": [
    "data1[data1['Revised Cost']==0].shape"
   ]
  },
  {
   "cell_type": "code",
   "execution_count": 234,
   "id": "ed188d30",
   "metadata": {},
   "outputs": [
    {
     "data": {
      "text/plain": [
       "1.0          47228\n",
       "0.0           8513\n",
       "10000.0       5474\n",
       "5000.0        5453\n",
       "20000.0       4696\n",
       "             ...  \n",
       "1570800.0        1\n",
       "239337.0         1\n",
       "6627.0           1\n",
       "7744.0           1\n",
       "6996.0           1\n",
       "Name: Revised Cost, Length: 12629, dtype: int64"
      ]
     },
     "execution_count": 234,
     "metadata": {},
     "output_type": "execute_result"
    }
   ],
   "source": [
    "data1['Revised Cost'].value_counts()"
   ]
  },
  {
   "cell_type": "markdown",
   "id": "e2e44709",
   "metadata": {},
   "source": [
    "# next method start"
   ]
  },
  {
   "cell_type": "code",
   "execution_count": 2,
   "id": "40bb8ecd",
   "metadata": {},
   "outputs": [
    {
     "name": "stderr",
     "output_type": "stream",
     "text": [
      "c:\\users\\dell\\appdata\\local\\programs\\python\\python39\\lib\\site-packages\\IPython\\core\\interactiveshell.py:3169: DtypeWarning: Columns (22,32) have mixed types.Specify dtype option on import or set low_memory=False.\n",
      "  has_raised = await self.run_ast_nodes(code_ast.body, cell_name,\n"
     ]
    },
    {
     "data": {
      "text/html": [
       "<div>\n",
       "<style scoped>\n",
       "    .dataframe tbody tr th:only-of-type {\n",
       "        vertical-align: middle;\n",
       "    }\n",
       "\n",
       "    .dataframe tbody tr th {\n",
       "        vertical-align: top;\n",
       "    }\n",
       "\n",
       "    .dataframe thead th {\n",
       "        text-align: right;\n",
       "    }\n",
       "</style>\n",
       "<table border=\"1\" class=\"dataframe\">\n",
       "  <thead>\n",
       "    <tr style=\"text-align: right;\">\n",
       "      <th></th>\n",
       "      <th>Permit Number</th>\n",
       "      <th>Permit Type</th>\n",
       "      <th>Permit Type Definition</th>\n",
       "      <th>Permit Creation Date</th>\n",
       "      <th>Block</th>\n",
       "      <th>Lot</th>\n",
       "      <th>Street Number</th>\n",
       "      <th>Street Number Suffix</th>\n",
       "      <th>Street Name</th>\n",
       "      <th>Street Suffix</th>\n",
       "      <th>...</th>\n",
       "      <th>Existing Construction Type</th>\n",
       "      <th>Existing Construction Type Description</th>\n",
       "      <th>Proposed Construction Type</th>\n",
       "      <th>Proposed Construction Type Description</th>\n",
       "      <th>Site Permit</th>\n",
       "      <th>Supervisor District</th>\n",
       "      <th>Neighborhoods - Analysis Boundaries</th>\n",
       "      <th>Zipcode</th>\n",
       "      <th>Location</th>\n",
       "      <th>Record ID</th>\n",
       "    </tr>\n",
       "  </thead>\n",
       "  <tbody>\n",
       "    <tr>\n",
       "      <th>0</th>\n",
       "      <td>201505065519</td>\n",
       "      <td>4</td>\n",
       "      <td>sign - erect</td>\n",
       "      <td>05/06/2015</td>\n",
       "      <td>0326</td>\n",
       "      <td>023</td>\n",
       "      <td>140</td>\n",
       "      <td>NaN</td>\n",
       "      <td>Ellis</td>\n",
       "      <td>St</td>\n",
       "      <td>...</td>\n",
       "      <td>3.0</td>\n",
       "      <td>constr type 3</td>\n",
       "      <td>NaN</td>\n",
       "      <td>NaN</td>\n",
       "      <td>NaN</td>\n",
       "      <td>3.0</td>\n",
       "      <td>Tenderloin</td>\n",
       "      <td>94102.0</td>\n",
       "      <td>(37.785719256680785, -122.40852313194863)</td>\n",
       "      <td>1380611233945</td>\n",
       "    </tr>\n",
       "    <tr>\n",
       "      <th>1</th>\n",
       "      <td>201604195146</td>\n",
       "      <td>4</td>\n",
       "      <td>sign - erect</td>\n",
       "      <td>04/19/2016</td>\n",
       "      <td>0306</td>\n",
       "      <td>007</td>\n",
       "      <td>440</td>\n",
       "      <td>NaN</td>\n",
       "      <td>Geary</td>\n",
       "      <td>St</td>\n",
       "      <td>...</td>\n",
       "      <td>3.0</td>\n",
       "      <td>constr type 3</td>\n",
       "      <td>NaN</td>\n",
       "      <td>NaN</td>\n",
       "      <td>NaN</td>\n",
       "      <td>3.0</td>\n",
       "      <td>Tenderloin</td>\n",
       "      <td>94102.0</td>\n",
       "      <td>(37.78733980600732, -122.41063199757738)</td>\n",
       "      <td>1420164406718</td>\n",
       "    </tr>\n",
       "  </tbody>\n",
       "</table>\n",
       "<p>2 rows × 43 columns</p>\n",
       "</div>"
      ],
      "text/plain": [
       "  Permit Number  Permit Type Permit Type Definition Permit Creation Date  \\\n",
       "0  201505065519            4           sign - erect           05/06/2015   \n",
       "1  201604195146            4           sign - erect           04/19/2016   \n",
       "\n",
       "  Block  Lot  Street Number Street Number Suffix Street Name Street Suffix  \\\n",
       "0  0326  023            140                  NaN       Ellis            St   \n",
       "1  0306  007            440                  NaN       Geary            St   \n",
       "\n",
       "   ...  Existing Construction Type Existing Construction Type Description  \\\n",
       "0  ...                         3.0                          constr type 3   \n",
       "1  ...                         3.0                          constr type 3   \n",
       "\n",
       "  Proposed Construction Type Proposed Construction Type Description  \\\n",
       "0                        NaN                                    NaN   \n",
       "1                        NaN                                    NaN   \n",
       "\n",
       "  Site Permit Supervisor District Neighborhoods - Analysis Boundaries  \\\n",
       "0         NaN                 3.0                          Tenderloin   \n",
       "1         NaN                 3.0                          Tenderloin   \n",
       "\n",
       "   Zipcode                                   Location      Record ID  \n",
       "0  94102.0  (37.785719256680785, -122.40852313194863)  1380611233945  \n",
       "1  94102.0   (37.78733980600732, -122.41063199757738)  1420164406718  \n",
       "\n",
       "[2 rows x 43 columns]"
      ]
     },
     "execution_count": 2,
     "metadata": {},
     "output_type": "execute_result"
    }
   ],
   "source": [
    "data1=pd.read_csv('Building_Permits.csv')\n",
    "data1.head(2)"
   ]
  },
  {
   "cell_type": "code",
   "execution_count": 12,
   "id": "79c7107e",
   "metadata": {},
   "outputs": [
    {
     "data": {
      "text/plain": [
       "(198900, 28)"
      ]
     },
     "execution_count": 12,
     "metadata": {},
     "output_type": "execute_result"
    }
   ],
   "source": [
    "cadt_var=data1.select_dtypes(include=['O'])\n",
    "cadt_var.shape"
   ]
  },
  {
   "cell_type": "code",
   "execution_count": 13,
   "id": "2f186449",
   "metadata": {},
   "outputs": [
    {
     "data": {
      "text/plain": [
       "(198900, 16)"
      ]
     },
     "execution_count": 13,
     "metadata": {},
     "output_type": "execute_result"
    }
   ],
   "source": [
    "cat_var=data1.select_dtypes(include=['O'])\n",
    "cat=cat_var.isnull().sum()/cat_var.shape[0]*100\n",
    "drop_col=cat_var.drop(columns=cat[cat>21].keys())\n",
    "drop_col.shape"
   ]
  },
  {
   "cell_type": "code",
   "execution_count": 15,
   "id": "a3deabba",
   "metadata": {},
   "outputs": [
    {
     "data": {
      "text/plain": [
       "(198900, 8)"
      ]
     },
     "execution_count": 15,
     "metadata": {},
     "output_type": "execute_result"
    }
   ],
   "source": [
    "num_var=data1.select_dtypes(include=['int64','float64'])\n",
    "num=num_var.isnull().sum()/cat_var.shape[0]*100\n",
    "drop_col_num=num_var.drop(columns=num[num>21].keys())\n",
    "drop_col_num.shape"
   ]
  },
  {
   "cell_type": "code",
   "execution_count": 17,
   "id": "d0111df5",
   "metadata": {},
   "outputs": [
    {
     "data": {
      "text/html": [
       "<div>\n",
       "<style scoped>\n",
       "    .dataframe tbody tr th:only-of-type {\n",
       "        vertical-align: middle;\n",
       "    }\n",
       "\n",
       "    .dataframe tbody tr th {\n",
       "        vertical-align: top;\n",
       "    }\n",
       "\n",
       "    .dataframe thead th {\n",
       "        text-align: right;\n",
       "    }\n",
       "</style>\n",
       "<table border=\"1\" class=\"dataframe\">\n",
       "  <thead>\n",
       "    <tr style=\"text-align: right;\">\n",
       "      <th></th>\n",
       "      <th>Permit Number</th>\n",
       "      <th>Permit Type Definition</th>\n",
       "      <th>Permit Creation Date</th>\n",
       "      <th>Block</th>\n",
       "      <th>Lot</th>\n",
       "      <th>Street Name</th>\n",
       "      <th>Street Suffix</th>\n",
       "      <th>Description</th>\n",
       "      <th>Current Status</th>\n",
       "      <th>Current Status Date</th>\n",
       "      <th>Filed Date</th>\n",
       "      <th>Issued Date</th>\n",
       "      <th>First Construction Document Date</th>\n",
       "      <th>Existing Use</th>\n",
       "      <th>Neighborhoods - Analysis Boundaries</th>\n",
       "      <th>Location</th>\n",
       "    </tr>\n",
       "  </thead>\n",
       "  <tbody>\n",
       "    <tr>\n",
       "      <th>0</th>\n",
       "      <td>201505065519</td>\n",
       "      <td>sign - erect</td>\n",
       "      <td>05/06/2015</td>\n",
       "      <td>0326</td>\n",
       "      <td>023</td>\n",
       "      <td>Ellis</td>\n",
       "      <td>St</td>\n",
       "      <td>ground fl facade: to erect illuminated, electr...</td>\n",
       "      <td>expired</td>\n",
       "      <td>12/21/2017</td>\n",
       "      <td>05/06/2015</td>\n",
       "      <td>11/09/2015</td>\n",
       "      <td>11/09/2015</td>\n",
       "      <td>tourist hotel/motel</td>\n",
       "      <td>Tenderloin</td>\n",
       "      <td>(37.785719256680785, -122.40852313194863)</td>\n",
       "    </tr>\n",
       "    <tr>\n",
       "      <th>1</th>\n",
       "      <td>201604195146</td>\n",
       "      <td>sign - erect</td>\n",
       "      <td>04/19/2016</td>\n",
       "      <td>0306</td>\n",
       "      <td>007</td>\n",
       "      <td>Geary</td>\n",
       "      <td>St</td>\n",
       "      <td>remove (e) awning and associated signs.</td>\n",
       "      <td>issued</td>\n",
       "      <td>08/03/2017</td>\n",
       "      <td>04/19/2016</td>\n",
       "      <td>08/03/2017</td>\n",
       "      <td>08/03/2017</td>\n",
       "      <td>tourist hotel/motel</td>\n",
       "      <td>Tenderloin</td>\n",
       "      <td>(37.78733980600732, -122.41063199757738)</td>\n",
       "    </tr>\n",
       "  </tbody>\n",
       "</table>\n",
       "</div>"
      ],
      "text/plain": [
       "  Permit Number Permit Type Definition Permit Creation Date Block  Lot  \\\n",
       "0  201505065519           sign - erect           05/06/2015  0326  023   \n",
       "1  201604195146           sign - erect           04/19/2016  0306  007   \n",
       "\n",
       "  Street Name Street Suffix  \\\n",
       "0       Ellis            St   \n",
       "1       Geary            St   \n",
       "\n",
       "                                         Description Current Status  \\\n",
       "0  ground fl facade: to erect illuminated, electr...        expired   \n",
       "1            remove (e) awning and associated signs.         issued   \n",
       "\n",
       "  Current Status Date  Filed Date Issued Date  \\\n",
       "0          12/21/2017  05/06/2015  11/09/2015   \n",
       "1          08/03/2017  04/19/2016  08/03/2017   \n",
       "\n",
       "  First Construction Document Date         Existing Use  \\\n",
       "0                       11/09/2015  tourist hotel/motel   \n",
       "1                       08/03/2017  tourist hotel/motel   \n",
       "\n",
       "  Neighborhoods - Analysis Boundaries  \\\n",
       "0                          Tenderloin   \n",
       "1                          Tenderloin   \n",
       "\n",
       "                                    Location  \n",
       "0  (37.785719256680785, -122.40852313194863)  \n",
       "1   (37.78733980600732, -122.41063199757738)  "
      ]
     },
     "execution_count": 17,
     "metadata": {},
     "output_type": "execute_result"
    }
   ],
   "source": [
    "drop_col.head(2)"
   ]
  },
  {
   "cell_type": "code",
   "execution_count": 18,
   "id": "b2bad482",
   "metadata": {},
   "outputs": [
    {
     "data": {
      "text/html": [
       "<div>\n",
       "<style scoped>\n",
       "    .dataframe tbody tr th:only-of-type {\n",
       "        vertical-align: middle;\n",
       "    }\n",
       "\n",
       "    .dataframe tbody tr th {\n",
       "        vertical-align: top;\n",
       "    }\n",
       "\n",
       "    .dataframe thead th {\n",
       "        text-align: right;\n",
       "    }\n",
       "</style>\n",
       "<table border=\"1\" class=\"dataframe\">\n",
       "  <thead>\n",
       "    <tr style=\"text-align: right;\">\n",
       "      <th></th>\n",
       "      <th>Permit Type</th>\n",
       "      <th>Street Number</th>\n",
       "      <th>Estimated Cost</th>\n",
       "      <th>Revised Cost</th>\n",
       "      <th>Plansets</th>\n",
       "      <th>Supervisor District</th>\n",
       "      <th>Zipcode</th>\n",
       "      <th>Record ID</th>\n",
       "    </tr>\n",
       "  </thead>\n",
       "  <tbody>\n",
       "    <tr>\n",
       "      <th>0</th>\n",
       "      <td>4</td>\n",
       "      <td>140</td>\n",
       "      <td>4000.0</td>\n",
       "      <td>4000.0</td>\n",
       "      <td>2.0</td>\n",
       "      <td>3.0</td>\n",
       "      <td>94102.0</td>\n",
       "      <td>1380611233945</td>\n",
       "    </tr>\n",
       "    <tr>\n",
       "      <th>1</th>\n",
       "      <td>4</td>\n",
       "      <td>440</td>\n",
       "      <td>1.0</td>\n",
       "      <td>500.0</td>\n",
       "      <td>2.0</td>\n",
       "      <td>3.0</td>\n",
       "      <td>94102.0</td>\n",
       "      <td>1420164406718</td>\n",
       "    </tr>\n",
       "    <tr>\n",
       "      <th>2</th>\n",
       "      <td>3</td>\n",
       "      <td>1647</td>\n",
       "      <td>20000.0</td>\n",
       "      <td>NaN</td>\n",
       "      <td>2.0</td>\n",
       "      <td>3.0</td>\n",
       "      <td>94109.0</td>\n",
       "      <td>1424856504716</td>\n",
       "    </tr>\n",
       "  </tbody>\n",
       "</table>\n",
       "</div>"
      ],
      "text/plain": [
       "   Permit Type  Street Number  Estimated Cost  Revised Cost  Plansets  \\\n",
       "0            4            140          4000.0        4000.0       2.0   \n",
       "1            4            440             1.0         500.0       2.0   \n",
       "2            3           1647         20000.0           NaN       2.0   \n",
       "\n",
       "   Supervisor District  Zipcode      Record ID  \n",
       "0                  3.0  94102.0  1380611233945  \n",
       "1                  3.0  94102.0  1420164406718  \n",
       "2                  3.0  94109.0  1424856504716  "
      ]
     },
     "execution_count": 18,
     "metadata": {},
     "output_type": "execute_result"
    }
   ],
   "source": [
    "drop_col_num.head(3)"
   ]
  },
  {
   "cell_type": "code",
   "execution_count": 25,
   "id": "dd281ae0",
   "metadata": {},
   "outputs": [
    {
     "data": {
      "text/plain": [
       "Permit Number                           0.000000\n",
       "Permit Type Definition                  0.000000\n",
       "Permit Creation Date                    0.000000\n",
       "Block                                   0.000000\n",
       "Lot                                     0.000000\n",
       "Street Name                             0.000000\n",
       "Street Suffix                           1.391654\n",
       "Description                             0.145802\n",
       "Current Status                          0.000000\n",
       "Current Status Date                     0.000000\n",
       "Filed Date                              0.000000\n",
       "Issued Date                             7.511312\n",
       "First Construction Document Date        7.514329\n",
       "Existing Use                           20.670689\n",
       "Neighborhoods - Analysis Boundaries     0.867270\n",
       "Location                                0.854701\n",
       "dtype: float64"
      ]
     },
     "execution_count": 25,
     "metadata": {},
     "output_type": "execute_result"
    }
   ],
   "source": [
    "drop_col.isnull().sum()/drop_col.shape[0]*100"
   ]
  },
  {
   "cell_type": "code",
   "execution_count": 24,
   "id": "2f41c8da",
   "metadata": {},
   "outputs": [
    {
     "data": {
      "text/plain": [
       "Permit Type             0.000000\n",
       "Street Number           0.000000\n",
       "Estimated Cost         19.138260\n",
       "Revised Cost            3.049774\n",
       "Plansets               18.757667\n",
       "Supervisor District     0.863248\n",
       "Zipcode                 0.862745\n",
       "Record ID               0.000000\n",
       "dtype: float64"
      ]
     },
     "execution_count": 24,
     "metadata": {},
     "output_type": "execute_result"
    }
   ],
   "source": [
    "drop_col_num.isnull().mean()*100"
   ]
  },
  {
   "cell_type": "code",
   "execution_count": 40,
   "id": "57f15770",
   "metadata": {},
   "outputs": [],
   "source": [
    "cat_name=[]\n",
    "for i in drop_col.keys():\n",
    "    cat_name.append(i)\n",
    "# cat_name\n",
    "cat_name2_mode=['Permit Number',\n",
    " 'Permit Type Definition',\n",
    " 'Permit Creation Date',\n",
    " 'Block',\n",
    " 'Lot',\n",
    " 'Street Name',\n",
    " 'Street Suffix',\n",
    " 'Description',\n",
    " 'Current Status',\n",
    " 'Current Status Date',\n",
    " 'Filed Date',\n",
    " 'Issued Date',\n",
    " 'First Construction Document Date','Neighborhoods - Analysis Boundaries',\n",
    " 'Location']\n"
   ]
  },
  {
   "cell_type": "code",
   "execution_count": 34,
   "id": "1eaa0551",
   "metadata": {},
   "outputs": [
    {
     "data": {
      "text/plain": [
       "['Existing Use']"
      ]
     },
     "execution_count": 34,
     "metadata": {},
     "output_type": "execute_result"
    }
   ],
   "source": [
    "cat_constant=[var for var in cat_name if var=='Existing Use']\n",
    "cat_constant"
   ]
  },
  {
   "cell_type": "code",
   "execution_count": 31,
   "id": "960c13e7",
   "metadata": {},
   "outputs": [
    {
     "name": "stdout",
     "output_type": "stream",
     "text": [
      "['Estimated Cost', 'Plansets']\n",
      "['Permit Type', 'Street Number', 'Revised Cost', 'Supervisor District', 'Zipcode', 'Record ID']\n"
     ]
    }
   ],
   "source": [
    "num_median_name=[]\n",
    "num_mean_name=[]\n",
    "for i,var in enumerate(drop_col_num.keys()):\n",
    "    if i ==2 :\n",
    "        num_median_name.append(var)\n",
    "    elif i==4:\n",
    "        num_median_name.append(var)\n",
    "    else:\n",
    "        num_mean_name.append(var)\n",
    "print(num_median_name)\n",
    "print(num_mean_name)"
   ]
  },
  {
   "cell_type": "code",
   "execution_count": 42,
   "id": "48ee7596",
   "metadata": {},
   "outputs": [
    {
     "name": "stdout",
     "output_type": "stream",
     "text": [
      "['Permit Type', 'Street Number', 'Revised Cost', 'Supervisor District', 'Zipcode', 'Record ID']\n",
      "\n",
      "['Estimated Cost', 'Plansets']\n",
      "\n",
      "['Permit Number', 'Permit Type Definition', 'Permit Creation Date', 'Block', 'Lot', 'Street Name', 'Street Suffix', 'Description', 'Current Status', 'Current Status Date', 'Filed Date', 'Issued Date', 'First Construction Document Date', 'Neighborhoods - Analysis Boundaries', 'Location']\n",
      "\n",
      "['Existing Use']\n"
     ]
    }
   ],
   "source": [
    "print(num_mean_name)\n",
    "print()\n",
    "print(num_median_name)\n",
    "print()\n",
    "print(cat_name2_mode)\n",
    "print()\n",
    "print(cat_constant)"
   ]
  },
  {
   "cell_type": "markdown",
   "id": "648e54da",
   "metadata": {},
   "source": [
    "# pipeline create"
   ]
  },
  {
   "cell_type": "code",
   "execution_count": 96,
   "id": "bbc9ed24",
   "metadata": {},
   "outputs": [],
   "source": [
    "num_mean_name_imputer=Pipeline(steps=[('imputer',SimpleImputer(strategy='mean'))])\n",
    "num_median_name_imputer=Pipeline(steps=[('imputer',SimpleImputer(strategy='median'))])\n",
    "cat_name2_mode_imputer=Pipeline(steps=[('imputer',SimpleImputer(strategy='most_frequent'))])\n",
    "cat_constant_imputer=Pipeline(steps=[('imputer',SimpleImputer(strategy='constant',fill_value='missing'))])\n"
   ]
  },
  {
   "cell_type": "code",
   "execution_count": 97,
   "id": "05a5056d",
   "metadata": {},
   "outputs": [],
   "source": [
    "obj=ColumnTransformer(transformers=[('mean_imputer',num_mean_name_imputer,num_mean_name),\n",
    "                                   ('median_imputer',num_median_name_imputer,num_median_name),\n",
    "                                   ('mode_imputer',cat_name2_mode_imputer,cat_name2_mode),\n",
    "                                   ('constant_imputer',cat_constant_imputer,cat_constant)])"
   ]
  },
  {
   "cell_type": "code",
   "execution_count": 98,
   "id": "a3017aa5",
   "metadata": {},
   "outputs": [
    {
     "data": {
      "text/plain": [
       "<bound method ColumnTransformer.transform of ColumnTransformer(transformers=[('mean_imputer',\n",
       "                                 Pipeline(steps=[('imputer', SimpleImputer())]),\n",
       "                                 ['Permit Type', 'Street Number',\n",
       "                                  'Revised Cost', 'Supervisor District',\n",
       "                                  'Zipcode', 'Record ID']),\n",
       "                                ('median_imputer',\n",
       "                                 Pipeline(steps=[('imputer',\n",
       "                                                  SimpleImputer(strategy='median'))]),\n",
       "                                 ['Estimated Cost', 'Plansets']),\n",
       "                                ('mode_imputer',\n",
       "                                 Pipeline(steps=[('imputer',\n",
       "                                                  SimpleImputer(s...\n",
       "                                 ['Permit Number', 'Permit Type Definition',\n",
       "                                  'Permit Creation Date', 'Block', 'Lot',\n",
       "                                  'Street Name', 'Street Suffix', 'Description',\n",
       "                                  'Current Status', 'Current Status Date',\n",
       "                                  'Filed Date', 'Issued Date',\n",
       "                                  'First Construction Document Date',\n",
       "                                  'Neighborhoods - Analysis Boundaries',\n",
       "                                  'Location']),\n",
       "                                ('constant_imputer',\n",
       "                                 Pipeline(steps=[('imputer',\n",
       "                                                  SimpleImputer(fill_value='missing',\n",
       "                                                                strategy='constant'))]),\n",
       "                                 ['Existing Use'])])>"
      ]
     },
     "execution_count": 98,
     "metadata": {},
     "output_type": "execute_result"
    }
   ],
   "source": [
    "obj.transform"
   ]
  },
  {
   "cell_type": "code",
   "execution_count": 99,
   "id": "f7bc59ad",
   "metadata": {},
   "outputs": [
    {
     "data": {
      "text/plain": [
       "ColumnTransformer(transformers=[('mean_imputer',\n",
       "                                 Pipeline(steps=[('imputer', SimpleImputer())]),\n",
       "                                 ['Permit Type', 'Street Number',\n",
       "                                  'Revised Cost', 'Supervisor District',\n",
       "                                  'Zipcode', 'Record ID']),\n",
       "                                ('median_imputer',\n",
       "                                 Pipeline(steps=[('imputer',\n",
       "                                                  SimpleImputer(strategy='median'))]),\n",
       "                                 ['Estimated Cost', 'Plansets']),\n",
       "                                ('mode_imputer',\n",
       "                                 Pipeline(steps=[('imputer',\n",
       "                                                  SimpleImputer(s...\n",
       "                                 ['Permit Number', 'Permit Type Definition',\n",
       "                                  'Permit Creation Date', 'Block', 'Lot',\n",
       "                                  'Street Name', 'Street Suffix', 'Description',\n",
       "                                  'Current Status', 'Current Status Date',\n",
       "                                  'Filed Date', 'Issued Date',\n",
       "                                  'First Construction Document Date',\n",
       "                                  'Neighborhoods - Analysis Boundaries',\n",
       "                                  'Location']),\n",
       "                                ('constant_imputer',\n",
       "                                 Pipeline(steps=[('imputer',\n",
       "                                                  SimpleImputer(fill_value='missing',\n",
       "                                                                strategy='constant'))]),\n",
       "                                 ['Existing Use'])])"
      ]
     },
     "execution_count": 99,
     "metadata": {},
     "output_type": "execute_result"
    }
   ],
   "source": [
    "obj.fit(data1)"
   ]
  },
  {
   "cell_type": "code",
   "execution_count": 100,
   "id": "60e1abea",
   "metadata": {},
   "outputs": [
    {
     "data": {
      "text/plain": [
       "array([1.1e+04, 2.0e+00])"
      ]
     },
     "execution_count": 100,
     "metadata": {},
     "output_type": "execute_result"
    }
   ],
   "source": [
    "obj.named_transformers_['median_imputer'].named_steps['imputer'].statistics_"
   ]
  },
  {
   "cell_type": "code",
   "execution_count": 101,
   "id": "7de5d746",
   "metadata": {},
   "outputs": [
    {
     "data": {
      "text/plain": [
       "array([7.52232278e+00, 1.12172894e+03, 1.32856186e+05, 5.53840341e+00,\n",
       "       9.41155006e+04, 1.16204758e+12])"
      ]
     },
     "execution_count": 101,
     "metadata": {},
     "output_type": "execute_result"
    }
   ],
   "source": [
    "obj.named_transformers_['mean_imputer'].named_steps['imputer'].statistics_"
   ]
  },
  {
   "cell_type": "code",
   "execution_count": 102,
   "id": "9153cfe7",
   "metadata": {},
   "outputs": [
    {
     "data": {
      "text/plain": [
       "array(['201602179765', 'otc alterations permit', '09/15/2017', '3708',\n",
       "       '001', 'Market', 'St', 'street space', 'complete', '09/15/2017',\n",
       "       '09/15/2017', '06/15/2016', '11/07/2016',\n",
       "       'Financial District/South Beach',\n",
       "       '(37.79226164705184, -122.4034859571375)'], dtype=object)"
      ]
     },
     "execution_count": 102,
     "metadata": {},
     "output_type": "execute_result"
    }
   ],
   "source": [
    "obj.named_transformers_['mode_imputer'].named_steps['imputer'].statistics_"
   ]
  },
  {
   "cell_type": "code",
   "execution_count": 103,
   "id": "ab5399ca",
   "metadata": {},
   "outputs": [
    {
     "data": {
      "text/plain": [
       "array(['missing'], dtype=object)"
      ]
     },
     "execution_count": 103,
     "metadata": {},
     "output_type": "execute_result"
    }
   ],
   "source": [
    "obj.named_transformers_['constant_imputer'].named_steps['imputer'].statistics_"
   ]
  },
  {
   "cell_type": "code",
   "execution_count": 104,
   "id": "00543445",
   "metadata": {},
   "outputs": [
    {
     "data": {
      "text/plain": [
       "array([[4.0, 140.0, 4000.0, ..., 'Tenderloin',\n",
       "        '(37.785719256680785, -122.40852313194863)',\n",
       "        'tourist hotel/motel'],\n",
       "       [4.0, 440.0, 500.0, ..., 'Tenderloin',\n",
       "        '(37.78733980600732, -122.41063199757738)',\n",
       "        'tourist hotel/motel'],\n",
       "       [3.0, 1647.0, 132856.1864917494, ..., 'Russian Hill',\n",
       "        '(37.7946573324287, -122.42232562979227)', 'retail sales'],\n",
       "       ...,\n",
       "       [8.0, 1568.0, 1.0, ..., 'Financial District/South Beach',\n",
       "        '(37.79226164705184, -122.4034859571375)', 'missing'],\n",
       "       [8.0, 795.0, 1.0, ..., 'Financial District/South Beach',\n",
       "        '(37.79226164705184, -122.4034859571375)', 'missing'],\n",
       "       [8.0, 838.0, 1.0, ..., 'Financial District/South Beach',\n",
       "        '(37.79226164705184, -122.4034859571375)', 'missing']],\n",
       "      dtype=object)"
      ]
     },
     "execution_count": 104,
     "metadata": {},
     "output_type": "execute_result"
    }
   ],
   "source": [
    "cleand_data_in_ndarray_fmt=obj.transform(data1)      #this is my value that are calculted\n",
    "cleand_data_in_ndarray_fmt"
   ]
  },
  {
   "cell_type": "code",
   "execution_count": 105,
   "id": "f670852b",
   "metadata": {},
   "outputs": [
    {
     "data": {
      "text/plain": [
       "<bound method ColumnTransformer.transform of ColumnTransformer(transformers=[('mean_imputer',\n",
       "                                 Pipeline(steps=[('imputer', SimpleImputer())]),\n",
       "                                 ['Permit Type', 'Street Number',\n",
       "                                  'Revised Cost', 'Supervisor District',\n",
       "                                  'Zipcode', 'Record ID']),\n",
       "                                ('median_imputer',\n",
       "                                 Pipeline(steps=[('imputer',\n",
       "                                                  SimpleImputer(strategy='median'))]),\n",
       "                                 ['Estimated Cost', 'Plansets']),\n",
       "                                ('mode_imputer',\n",
       "                                 Pipeline(steps=[('imputer',\n",
       "                                                  SimpleImputer(s...\n",
       "                                 ['Permit Number', 'Permit Type Definition',\n",
       "                                  'Permit Creation Date', 'Block', 'Lot',\n",
       "                                  'Street Name', 'Street Suffix', 'Description',\n",
       "                                  'Current Status', 'Current Status Date',\n",
       "                                  'Filed Date', 'Issued Date',\n",
       "                                  'First Construction Document Date',\n",
       "                                  'Neighborhoods - Analysis Boundaries',\n",
       "                                  'Location']),\n",
       "                                ('constant_imputer',\n",
       "                                 Pipeline(steps=[('imputer',\n",
       "                                                  SimpleImputer(fill_value='missing',\n",
       "                                                                strategy='constant'))]),\n",
       "                                 ['Existing Use'])])>"
      ]
     },
     "execution_count": 105,
     "metadata": {},
     "output_type": "execute_result"
    }
   ],
   "source": [
    "obj.transform"
   ]
  },
  {
   "cell_type": "code",
   "execution_count": 106,
   "id": "167a4637",
   "metadata": {},
   "outputs": [
    {
     "data": {
      "text/html": [
       "<div>\n",
       "<style scoped>\n",
       "    .dataframe tbody tr th:only-of-type {\n",
       "        vertical-align: middle;\n",
       "    }\n",
       "\n",
       "    .dataframe tbody tr th {\n",
       "        vertical-align: top;\n",
       "    }\n",
       "\n",
       "    .dataframe thead th {\n",
       "        text-align: right;\n",
       "    }\n",
       "</style>\n",
       "<table border=\"1\" class=\"dataframe\">\n",
       "  <thead>\n",
       "    <tr style=\"text-align: right;\">\n",
       "      <th></th>\n",
       "      <th>Permit Type</th>\n",
       "      <th>Street Number</th>\n",
       "      <th>Revised Cost</th>\n",
       "      <th>Supervisor District</th>\n",
       "      <th>Zipcode</th>\n",
       "      <th>Record ID</th>\n",
       "      <th>Estimated Cost</th>\n",
       "      <th>Plansets</th>\n",
       "      <th>Permit Number</th>\n",
       "      <th>Permit Type Definition</th>\n",
       "      <th>...</th>\n",
       "      <th>Street Suffix</th>\n",
       "      <th>Description</th>\n",
       "      <th>Current Status</th>\n",
       "      <th>Current Status Date</th>\n",
       "      <th>Filed Date</th>\n",
       "      <th>Issued Date</th>\n",
       "      <th>First Construction Document Date</th>\n",
       "      <th>Neighborhoods - Analysis Boundaries</th>\n",
       "      <th>Location</th>\n",
       "      <th>Existing Use</th>\n",
       "    </tr>\n",
       "  </thead>\n",
       "  <tbody>\n",
       "    <tr>\n",
       "      <th>0</th>\n",
       "      <td>4.0</td>\n",
       "      <td>140.0</td>\n",
       "      <td>4000.0</td>\n",
       "      <td>3.0</td>\n",
       "      <td>94102.0</td>\n",
       "      <td>1380611233945.0</td>\n",
       "      <td>4000.0</td>\n",
       "      <td>2.0</td>\n",
       "      <td>201505065519</td>\n",
       "      <td>sign - erect</td>\n",
       "      <td>...</td>\n",
       "      <td>St</td>\n",
       "      <td>ground fl facade: to erect illuminated, electr...</td>\n",
       "      <td>expired</td>\n",
       "      <td>12/21/2017</td>\n",
       "      <td>05/06/2015</td>\n",
       "      <td>11/09/2015</td>\n",
       "      <td>11/09/2015</td>\n",
       "      <td>Tenderloin</td>\n",
       "      <td>(37.785719256680785, -122.40852313194863)</td>\n",
       "      <td>tourist hotel/motel</td>\n",
       "    </tr>\n",
       "    <tr>\n",
       "      <th>1</th>\n",
       "      <td>4.0</td>\n",
       "      <td>440.0</td>\n",
       "      <td>500.0</td>\n",
       "      <td>3.0</td>\n",
       "      <td>94102.0</td>\n",
       "      <td>1420164406718.0</td>\n",
       "      <td>1.0</td>\n",
       "      <td>2.0</td>\n",
       "      <td>201604195146</td>\n",
       "      <td>sign - erect</td>\n",
       "      <td>...</td>\n",
       "      <td>St</td>\n",
       "      <td>remove (e) awning and associated signs.</td>\n",
       "      <td>issued</td>\n",
       "      <td>08/03/2017</td>\n",
       "      <td>04/19/2016</td>\n",
       "      <td>08/03/2017</td>\n",
       "      <td>08/03/2017</td>\n",
       "      <td>Tenderloin</td>\n",
       "      <td>(37.78733980600732, -122.41063199757738)</td>\n",
       "      <td>tourist hotel/motel</td>\n",
       "    </tr>\n",
       "    <tr>\n",
       "      <th>2</th>\n",
       "      <td>3.0</td>\n",
       "      <td>1647.0</td>\n",
       "      <td>132856.186492</td>\n",
       "      <td>3.0</td>\n",
       "      <td>94109.0</td>\n",
       "      <td>1424856504716.0</td>\n",
       "      <td>20000.0</td>\n",
       "      <td>2.0</td>\n",
       "      <td>201605278609</td>\n",
       "      <td>additions alterations or repairs</td>\n",
       "      <td>...</td>\n",
       "      <td>Av</td>\n",
       "      <td>installation of separating wall</td>\n",
       "      <td>withdrawn</td>\n",
       "      <td>09/26/2017</td>\n",
       "      <td>05/27/2016</td>\n",
       "      <td>06/15/2016</td>\n",
       "      <td>11/07/2016</td>\n",
       "      <td>Russian Hill</td>\n",
       "      <td>(37.7946573324287, -122.42232562979227)</td>\n",
       "      <td>retail sales</td>\n",
       "    </tr>\n",
       "    <tr>\n",
       "      <th>3</th>\n",
       "      <td>8.0</td>\n",
       "      <td>1230.0</td>\n",
       "      <td>2000.0</td>\n",
       "      <td>3.0</td>\n",
       "      <td>94109.0</td>\n",
       "      <td>1443574295566.0</td>\n",
       "      <td>2000.0</td>\n",
       "      <td>2.0</td>\n",
       "      <td>201611072166</td>\n",
       "      <td>otc alterations permit</td>\n",
       "      <td>...</td>\n",
       "      <td>Av</td>\n",
       "      <td>repair dryrot &amp; stucco at front of bldg.</td>\n",
       "      <td>complete</td>\n",
       "      <td>07/24/2017</td>\n",
       "      <td>11/07/2016</td>\n",
       "      <td>07/18/2017</td>\n",
       "      <td>07/18/2017</td>\n",
       "      <td>Nob Hill</td>\n",
       "      <td>(37.79595867909168, -122.41557405519474)</td>\n",
       "      <td>1 family dwelling</td>\n",
       "    </tr>\n",
       "    <tr>\n",
       "      <th>4</th>\n",
       "      <td>6.0</td>\n",
       "      <td>950.0</td>\n",
       "      <td>100000.0</td>\n",
       "      <td>6.0</td>\n",
       "      <td>94102.0</td>\n",
       "      <td>144548169992.0</td>\n",
       "      <td>100000.0</td>\n",
       "      <td>2.0</td>\n",
       "      <td>201611283529</td>\n",
       "      <td>demolitions</td>\n",
       "      <td>...</td>\n",
       "      <td>St</td>\n",
       "      <td>demolish retail/office/commercial 3-story buil...</td>\n",
       "      <td>issued</td>\n",
       "      <td>12/01/2017</td>\n",
       "      <td>11/28/2016</td>\n",
       "      <td>12/01/2017</td>\n",
       "      <td>11/20/2017</td>\n",
       "      <td>Tenderloin</td>\n",
       "      <td>(37.78315261897309, -122.40950883997789)</td>\n",
       "      <td>retail sales</td>\n",
       "    </tr>\n",
       "  </tbody>\n",
       "</table>\n",
       "<p>5 rows × 24 columns</p>\n",
       "</div>"
      ],
      "text/plain": [
       "  Permit Type Street Number   Revised Cost Supervisor District  Zipcode  \\\n",
       "0         4.0         140.0         4000.0                 3.0  94102.0   \n",
       "1         4.0         440.0          500.0                 3.0  94102.0   \n",
       "2         3.0        1647.0  132856.186492                 3.0  94109.0   \n",
       "3         8.0        1230.0         2000.0                 3.0  94109.0   \n",
       "4         6.0         950.0       100000.0                 6.0  94102.0   \n",
       "\n",
       "         Record ID Estimated Cost Plansets Permit Number  \\\n",
       "0  1380611233945.0         4000.0      2.0  201505065519   \n",
       "1  1420164406718.0            1.0      2.0  201604195146   \n",
       "2  1424856504716.0        20000.0      2.0  201605278609   \n",
       "3  1443574295566.0         2000.0      2.0  201611072166   \n",
       "4   144548169992.0       100000.0      2.0  201611283529   \n",
       "\n",
       "             Permit Type Definition  ... Street Suffix  \\\n",
       "0                      sign - erect  ...            St   \n",
       "1                      sign - erect  ...            St   \n",
       "2  additions alterations or repairs  ...            Av   \n",
       "3            otc alterations permit  ...            Av   \n",
       "4                       demolitions  ...            St   \n",
       "\n",
       "                                         Description Current Status  \\\n",
       "0  ground fl facade: to erect illuminated, electr...        expired   \n",
       "1            remove (e) awning and associated signs.         issued   \n",
       "2                    installation of separating wall      withdrawn   \n",
       "3           repair dryrot & stucco at front of bldg.       complete   \n",
       "4  demolish retail/office/commercial 3-story buil...         issued   \n",
       "\n",
       "  Current Status Date  Filed Date Issued Date  \\\n",
       "0          12/21/2017  05/06/2015  11/09/2015   \n",
       "1          08/03/2017  04/19/2016  08/03/2017   \n",
       "2          09/26/2017  05/27/2016  06/15/2016   \n",
       "3          07/24/2017  11/07/2016  07/18/2017   \n",
       "4          12/01/2017  11/28/2016  12/01/2017   \n",
       "\n",
       "  First Construction Document Date Neighborhoods - Analysis Boundaries  \\\n",
       "0                       11/09/2015                          Tenderloin   \n",
       "1                       08/03/2017                          Tenderloin   \n",
       "2                       11/07/2016                        Russian Hill   \n",
       "3                       07/18/2017                            Nob Hill   \n",
       "4                       11/20/2017                          Tenderloin   \n",
       "\n",
       "                                    Location         Existing Use  \n",
       "0  (37.785719256680785, -122.40852313194863)  tourist hotel/motel  \n",
       "1   (37.78733980600732, -122.41063199757738)  tourist hotel/motel  \n",
       "2    (37.7946573324287, -122.42232562979227)         retail sales  \n",
       "3   (37.79595867909168, -122.41557405519474)    1 family dwelling  \n",
       "4   (37.78315261897309, -122.40950883997789)         retail sales  \n",
       "\n",
       "[5 rows x 24 columns]"
      ]
     },
     "execution_count": 106,
     "metadata": {},
     "output_type": "execute_result"
    }
   ],
   "source": [
    "cleaned_data=pd.DataFrame(cleand_data_in_ndarray_fmt,columns=num_mean_name+num_median_name+cat_name2_mode+cat_constant)\n",
    "cleaned_data.head()"
   ]
  },
  {
   "cell_type": "markdown",
   "id": "7b7f8a9e",
   "metadata": {},
   "source": [
    "## remebered here remainder is by defulat 'drop' so some columns has been droped"
   ]
  },
  {
   "cell_type": "code",
   "execution_count": 66,
   "id": "a5e3dec3",
   "metadata": {},
   "outputs": [
    {
     "name": "stdout",
     "output_type": "stream",
     "text": [
      "shape of our original dataset :- (198900, 43)\n",
      "shape of our clean dataset :- (198900, 24)\n",
      "missing value in my dataset :- 0\n"
     ]
    }
   ],
   "source": [
    "print('shape of our original dataset :-',data1.shape)\n",
    "print('shape of our clean dataset :-',cleaned_data.shape)\n",
    "print('missing value in my dataset :-',cleaned_data.isnull().sum().sum())"
   ]
  },
  {
   "cell_type": "markdown",
   "id": "2b50cc1b",
   "metadata": {},
   "source": [
    "## and now we will again follow all instruction in remainder \"passthrough\""
   ]
  },
  {
   "cell_type": "code",
   "execution_count": 77,
   "id": "b7ffb109",
   "metadata": {},
   "outputs": [],
   "source": [
    "num_mean_name_imputer=Pipeline(steps=[('imputer',SimpleImputer(strategy='mean'))])\n",
    "num_median_name_imputer=Pipeline(steps=[('imputer',SimpleImputer(strategy='median'))])\n",
    "cat_name2_mode_imputer=Pipeline(steps=[('imputer',SimpleImputer(strategy='most_frequent'))])\n",
    "cat_constant_imputer=Pipeline(steps=[('imputer',SimpleImputer(strategy='constant',fill_value='missing'))])"
   ]
  },
  {
   "cell_type": "code",
   "execution_count": 78,
   "id": "2a560d62",
   "metadata": {},
   "outputs": [],
   "source": [
    "obj=ColumnTransformer(transformers=[('mean_imputer',num_mean_name_imputer,num_mean_name),\n",
    "                                   ('median_imputer',num_median_name_imputer,num_median_name),\n",
    "                                   ('mode_imputer',cat_name2_mode_imputer,cat_name2_mode),\n",
    "                                   ('constant_imputer',cat_constant_imputer,cat_constant)],remainder='passthrough')"
   ]
  },
  {
   "cell_type": "code",
   "execution_count": 79,
   "id": "ee2fe784",
   "metadata": {},
   "outputs": [
    {
     "data": {
      "text/plain": [
       "ColumnTransformer(remainder='passthrough',\n",
       "                  transformers=[('mean_imputer',\n",
       "                                 Pipeline(steps=[('imputer', SimpleImputer())]),\n",
       "                                 ['Permit Type', 'Street Number',\n",
       "                                  'Revised Cost', 'Supervisor District',\n",
       "                                  'Zipcode', 'Record ID']),\n",
       "                                ('median_imputer',\n",
       "                                 Pipeline(steps=[('imputer',\n",
       "                                                  SimpleImputer(strategy='median'))]),\n",
       "                                 ['Estimated Cost', 'Plansets']),\n",
       "                                ('mode_imputer',\n",
       "                                 Pipeline(steps=[('...\n",
       "                                 ['Permit Number', 'Permit Type Definition',\n",
       "                                  'Permit Creation Date', 'Block', 'Lot',\n",
       "                                  'Street Name', 'Street Suffix', 'Description',\n",
       "                                  'Current Status', 'Current Status Date',\n",
       "                                  'Filed Date', 'Issued Date',\n",
       "                                  'First Construction Document Date',\n",
       "                                  'Neighborhoods - Analysis Boundaries',\n",
       "                                  'Location']),\n",
       "                                ('constant_imputer',\n",
       "                                 Pipeline(steps=[('imputer',\n",
       "                                                  SimpleImputer(fill_value='missing',\n",
       "                                                                strategy='constant'))]),\n",
       "                                 ['Existing Use'])])"
      ]
     },
     "execution_count": 79,
     "metadata": {},
     "output_type": "execute_result"
    }
   ],
   "source": [
    "obj.fit(data1)"
   ]
  },
  {
   "cell_type": "code",
   "execution_count": 80,
   "id": "f53bbc9c",
   "metadata": {},
   "outputs": [
    {
     "data": {
      "text/plain": [
       "<bound method ColumnTransformer.transform of ColumnTransformer(remainder='passthrough',\n",
       "                  transformers=[('mean_imputer',\n",
       "                                 Pipeline(steps=[('imputer', SimpleImputer())]),\n",
       "                                 ['Permit Type', 'Street Number',\n",
       "                                  'Revised Cost', 'Supervisor District',\n",
       "                                  'Zipcode', 'Record ID']),\n",
       "                                ('median_imputer',\n",
       "                                 Pipeline(steps=[('imputer',\n",
       "                                                  SimpleImputer(strategy='median'))]),\n",
       "                                 ['Estimated Cost', 'Plansets']),\n",
       "                                ('mode_imputer',\n",
       "                                 Pipeline(steps=[('...\n",
       "                                 ['Permit Number', 'Permit Type Definition',\n",
       "                                  'Permit Creation Date', 'Block', 'Lot',\n",
       "                                  'Street Name', 'Street Suffix', 'Description',\n",
       "                                  'Current Status', 'Current Status Date',\n",
       "                                  'Filed Date', 'Issued Date',\n",
       "                                  'First Construction Document Date',\n",
       "                                  'Neighborhoods - Analysis Boundaries',\n",
       "                                  'Location']),\n",
       "                                ('constant_imputer',\n",
       "                                 Pipeline(steps=[('imputer',\n",
       "                                                  SimpleImputer(fill_value='missing',\n",
       "                                                                strategy='constant'))]),\n",
       "                                 ['Existing Use'])])>"
      ]
     },
     "execution_count": 80,
     "metadata": {},
     "output_type": "execute_result"
    }
   ],
   "source": [
    "obj.transform"
   ]
  },
  {
   "cell_type": "code",
   "execution_count": 115,
   "id": "9c76ca84",
   "metadata": {},
   "outputs": [
    {
     "data": {
      "text/plain": [
       "array([[4.0, 140.0, 4000.0, ..., 'Tenderloin',\n",
       "        '(37.785719256680785, -122.40852313194863)',\n",
       "        'tourist hotel/motel'],\n",
       "       [4.0, 440.0, 500.0, ..., 'Tenderloin',\n",
       "        '(37.78733980600732, -122.41063199757738)',\n",
       "        'tourist hotel/motel'],\n",
       "       [3.0, 1647.0, 132856.1864917494, ..., 'Russian Hill',\n",
       "        '(37.7946573324287, -122.42232562979227)', 'retail sales'],\n",
       "       ...,\n",
       "       [8.0, 1568.0, 1.0, ..., 'Financial District/South Beach',\n",
       "        '(37.79226164705184, -122.4034859571375)', 'missing'],\n",
       "       [8.0, 795.0, 1.0, ..., 'Financial District/South Beach',\n",
       "        '(37.79226164705184, -122.4034859571375)', 'missing'],\n",
       "       [8.0, 838.0, 1.0, ..., 'Financial District/South Beach',\n",
       "        '(37.79226164705184, -122.4034859571375)', 'missing']],\n",
       "      dtype=object)"
      ]
     },
     "execution_count": 115,
     "metadata": {},
     "output_type": "execute_result"
    }
   ],
   "source": [
    "valuess=obj.transform(data1)\n",
    "valuess"
   ]
  },
  {
   "cell_type": "code",
   "execution_count": 121,
   "id": "74f007f6",
   "metadata": {},
   "outputs": [
    {
     "name": "stdout",
     "output_type": "stream",
     "text": [
      "shape of our cleaned dataset with reminder passthrough :- (198900, 24)\n",
      "\n",
      "these are all my names that cleaned in this process :-\n",
      "\n",
      "Index(['Permit Number', 'Permit Type', 'Permit Type Definition',\n",
      "       'Permit Creation Date', 'Block', 'Lot', 'Street Number', 'Street Name',\n",
      "       'Street Suffix', 'Description', 'Current Status', 'Current Status Date',\n",
      "       'Filed Date', 'Issued Date', 'First Construction Document Date',\n",
      "       'Estimated Cost', 'Revised Cost', 'Existing Use', 'Plansets',\n",
      "       'Supervisor District', 'Neighborhoods - Analysis Boundaries', 'Zipcode',\n",
      "       'Location', 'Record ID'],\n",
      "      dtype='object')\n"
     ]
    }
   ],
   "source": [
    "print('shape of our cleaned dataset with reminder passthrough :-',valuess.shape)\n",
    "nl=data1.isnull().sum()/data1.shape[0]*100\n",
    "nam=nl[nl<21].keys()\n",
    "print()\n",
    "print('these are all my names that cleaned in this process :-')\n",
    "print()\n",
    "print(nam)"
   ]
  },
  {
   "cell_type": "code",
   "execution_count": 139,
   "id": "28e59f0e",
   "metadata": {},
   "outputs": [],
   "source": [
    "data1[nam]=valuess"
   ]
  },
  {
   "cell_type": "markdown",
   "id": "d3b0d9e7",
   "metadata": {},
   "source": [
    "# i did it i am very happy "
   ]
  },
  {
   "cell_type": "code",
   "execution_count": 149,
   "id": "fbfa7aca",
   "metadata": {},
   "outputs": [
    {
     "data": {
      "text/plain": [
       "0"
      ]
     },
     "execution_count": 149,
     "metadata": {},
     "output_type": "execute_result"
    }
   ],
   "source": [
    "data1[nam].isnull().sum().sum()"
   ]
  },
  {
   "cell_type": "code",
   "execution_count": 150,
   "id": "75ff8fb9",
   "metadata": {},
   "outputs": [
    {
     "data": {
      "text/plain": [
       "0"
      ]
     },
     "execution_count": 150,
     "metadata": {},
     "output_type": "execute_result"
    }
   ],
   "source": [
    "# here i am removing all that columns that contains maximum 21% missing value\n",
    "# i has to againg doing becouse we did,nt use the inplace \n",
    "clean=data1.dropna(axis=1)\n",
    "clean.isnull().sum().sum()"
   ]
  },
  {
   "cell_type": "code",
   "execution_count": 151,
   "id": "915cee57",
   "metadata": {},
   "outputs": [
    {
     "data": {
      "text/plain": [
       "(198900, 24)"
      ]
     },
     "execution_count": 151,
     "metadata": {},
     "output_type": "execute_result"
    }
   ],
   "source": [
    "clean.shape"
   ]
  },
  {
   "cell_type": "code",
   "execution_count": 152,
   "id": "c667f039",
   "metadata": {},
   "outputs": [
    {
     "data": {
      "text/plain": [
       "Permit Number                          0\n",
       "Permit Type                            0\n",
       "Permit Type Definition                 0\n",
       "Permit Creation Date                   0\n",
       "Block                                  0\n",
       "Lot                                    0\n",
       "Street Number                          0\n",
       "Street Name                            0\n",
       "Street Suffix                          0\n",
       "Description                            0\n",
       "Current Status                         0\n",
       "Current Status Date                    0\n",
       "Filed Date                             0\n",
       "Issued Date                            0\n",
       "First Construction Document Date       0\n",
       "Estimated Cost                         0\n",
       "Revised Cost                           0\n",
       "Existing Use                           0\n",
       "Plansets                               0\n",
       "Supervisor District                    0\n",
       "Neighborhoods - Analysis Boundaries    0\n",
       "Zipcode                                0\n",
       "Location                               0\n",
       "Record ID                              0\n",
       "dtype: int64"
      ]
     },
     "execution_count": 152,
     "metadata": {},
     "output_type": "execute_result"
    }
   ],
   "source": [
    "clean.isnull().sum()"
   ]
  },
  {
   "cell_type": "code",
   "execution_count": null,
   "id": "21251131",
   "metadata": {},
   "outputs": [],
   "source": []
  },
  {
   "cell_type": "code",
   "execution_count": null,
   "id": "925c8e7b",
   "metadata": {},
   "outputs": [],
   "source": []
  },
  {
   "cell_type": "markdown",
   "id": "857c239b",
   "metadata": {},
   "source": [
    "## process finshed"
   ]
  },
  {
   "cell_type": "code",
   "execution_count": null,
   "id": "d82e3d85",
   "metadata": {},
   "outputs": [],
   "source": [
    "# prectise esercise becaouse i am confuse\n"
   ]
  },
  {
   "cell_type": "code",
   "execution_count": 123,
   "id": "cd174d57",
   "metadata": {},
   "outputs": [
    {
     "data": {
      "text/html": [
       "<div>\n",
       "<style scoped>\n",
       "    .dataframe tbody tr th:only-of-type {\n",
       "        vertical-align: middle;\n",
       "    }\n",
       "\n",
       "    .dataframe tbody tr th {\n",
       "        vertical-align: top;\n",
       "    }\n",
       "\n",
       "    .dataframe thead th {\n",
       "        text-align: right;\n",
       "    }\n",
       "</style>\n",
       "<table border=\"1\" class=\"dataframe\">\n",
       "  <thead>\n",
       "    <tr style=\"text-align: right;\">\n",
       "      <th></th>\n",
       "      <th>col1</th>\n",
       "      <th>col2</th>\n",
       "      <th>col3</th>\n",
       "      <th>col4</th>\n",
       "      <th>col5</th>\n",
       "    </tr>\n",
       "  </thead>\n",
       "  <tbody>\n",
       "    <tr>\n",
       "      <th>0</th>\n",
       "      <td>1</td>\n",
       "      <td>2</td>\n",
       "      <td>3</td>\n",
       "      <td>4</td>\n",
       "      <td>5</td>\n",
       "    </tr>\n",
       "    <tr>\n",
       "      <th>1</th>\n",
       "      <td>6</td>\n",
       "      <td>7</td>\n",
       "      <td>8</td>\n",
       "      <td>9</td>\n",
       "      <td>10</td>\n",
       "    </tr>\n",
       "    <tr>\n",
       "      <th>2</th>\n",
       "      <td>11</td>\n",
       "      <td>12</td>\n",
       "      <td>13</td>\n",
       "      <td>14</td>\n",
       "      <td>15</td>\n",
       "    </tr>\n",
       "    <tr>\n",
       "      <th>3</th>\n",
       "      <td>16</td>\n",
       "      <td>17</td>\n",
       "      <td>18</td>\n",
       "      <td>19</td>\n",
       "      <td>20</td>\n",
       "    </tr>\n",
       "    <tr>\n",
       "      <th>4</th>\n",
       "      <td>21</td>\n",
       "      <td>22</td>\n",
       "      <td>23</td>\n",
       "      <td>24</td>\n",
       "      <td>25</td>\n",
       "    </tr>\n",
       "  </tbody>\n",
       "</table>\n",
       "</div>"
      ],
      "text/plain": [
       "   col1  col2  col3  col4  col5\n",
       "0     1     2     3     4     5\n",
       "1     6     7     8     9    10\n",
       "2    11    12    13    14    15\n",
       "3    16    17    18    19    20\n",
       "4    21    22    23    24    25"
      ]
     },
     "execution_count": 123,
     "metadata": {},
     "output_type": "execute_result"
    }
   ],
   "source": [
    "rahul=pd.DataFrame(np.arange(1,51).reshape(10,5),columns=['col'+str(i) for i in range(1,6) ])\n",
    "rahul.head()"
   ]
  },
  {
   "cell_type": "code",
   "execution_count": 127,
   "id": "fba58aea",
   "metadata": {},
   "outputs": [
    {
     "data": {
      "text/plain": [
       "0     10\n",
       "1     11\n",
       "2     12\n",
       "3     13\n",
       "4     14\n",
       "5     15\n",
       "6     16\n",
       "7     17\n",
       "8     18\n",
       "9     19\n",
       "10    20\n",
       "dtype: int64"
      ]
     },
     "execution_count": 127,
     "metadata": {},
     "output_type": "execute_result"
    }
   ],
   "source": [
    "t=pd.Series([i for i in range(10,21)])\n",
    "t"
   ]
  },
  {
   "cell_type": "code",
   "execution_count": 131,
   "id": "08727617",
   "metadata": {},
   "outputs": [
    {
     "data": {
      "text/plain": [
       "0    21\n",
       "1    22\n",
       "2    23\n",
       "3    24\n",
       "4    25\n",
       "5    26\n",
       "6    27\n",
       "7    28\n",
       "8    29\n",
       "9    30\n",
       "dtype: int64"
      ]
     },
     "execution_count": 131,
     "metadata": {},
     "output_type": "execute_result"
    }
   ],
   "source": [
    "u=pd.Series([i for i in range(21,31)])\n",
    "u"
   ]
  },
  {
   "cell_type": "code",
   "execution_count": 134,
   "id": "f4d7208e",
   "metadata": {},
   "outputs": [
    {
     "name": "stderr",
     "output_type": "stream",
     "text": [
      "c:\\users\\dell\\appdata\\local\\programs\\python\\python39\\lib\\site-packages\\numpy\\core\\_asarray.py:102: VisibleDeprecationWarning: Creating an ndarray from ragged nested sequences (which is a list-or-tuple of lists-or-tuples-or ndarrays with different lengths or shapes) is deprecated. If you meant to do this, you must specify 'dtype=object' when creating the ndarray.\n",
      "  return array(a, dtype, copy=False, order=order)\n"
     ]
    }
   ],
   "source": [
    "rahul[['col1','col2']]=t,u"
   ]
  },
  {
   "cell_type": "code",
   "execution_count": 135,
   "id": "96c4f39c",
   "metadata": {},
   "outputs": [
    {
     "data": {
      "text/html": [
       "<div>\n",
       "<style scoped>\n",
       "    .dataframe tbody tr th:only-of-type {\n",
       "        vertical-align: middle;\n",
       "    }\n",
       "\n",
       "    .dataframe tbody tr th {\n",
       "        vertical-align: top;\n",
       "    }\n",
       "\n",
       "    .dataframe thead th {\n",
       "        text-align: right;\n",
       "    }\n",
       "</style>\n",
       "<table border=\"1\" class=\"dataframe\">\n",
       "  <thead>\n",
       "    <tr style=\"text-align: right;\">\n",
       "      <th></th>\n",
       "      <th>col1</th>\n",
       "      <th>col2</th>\n",
       "    </tr>\n",
       "  </thead>\n",
       "  <tbody>\n",
       "    <tr>\n",
       "      <th>0</th>\n",
       "      <td>10</td>\n",
       "      <td>21</td>\n",
       "    </tr>\n",
       "    <tr>\n",
       "      <th>1</th>\n",
       "      <td>11</td>\n",
       "      <td>22</td>\n",
       "    </tr>\n",
       "    <tr>\n",
       "      <th>2</th>\n",
       "      <td>12</td>\n",
       "      <td>23</td>\n",
       "    </tr>\n",
       "    <tr>\n",
       "      <th>3</th>\n",
       "      <td>13</td>\n",
       "      <td>24</td>\n",
       "    </tr>\n",
       "    <tr>\n",
       "      <th>4</th>\n",
       "      <td>14</td>\n",
       "      <td>25</td>\n",
       "    </tr>\n",
       "    <tr>\n",
       "      <th>5</th>\n",
       "      <td>15</td>\n",
       "      <td>26</td>\n",
       "    </tr>\n",
       "    <tr>\n",
       "      <th>6</th>\n",
       "      <td>16</td>\n",
       "      <td>27</td>\n",
       "    </tr>\n",
       "    <tr>\n",
       "      <th>7</th>\n",
       "      <td>17</td>\n",
       "      <td>28</td>\n",
       "    </tr>\n",
       "    <tr>\n",
       "      <th>8</th>\n",
       "      <td>18</td>\n",
       "      <td>29</td>\n",
       "    </tr>\n",
       "    <tr>\n",
       "      <th>9</th>\n",
       "      <td>19</td>\n",
       "      <td>30</td>\n",
       "    </tr>\n",
       "  </tbody>\n",
       "</table>\n",
       "</div>"
      ],
      "text/plain": [
       "   col1  col2\n",
       "0    10    21\n",
       "1    11    22\n",
       "2    12    23\n",
       "3    13    24\n",
       "4    14    25\n",
       "5    15    26\n",
       "6    16    27\n",
       "7    17    28\n",
       "8    18    29\n",
       "9    19    30"
      ]
     },
     "execution_count": 135,
     "metadata": {},
     "output_type": "execute_result"
    }
   ],
   "source": [
    "rahul[['col1','col2']]"
   ]
  }
 ],
 "metadata": {
  "kernelspec": {
   "display_name": "Python 3",
   "language": "python",
   "name": "python3"
  },
  "language_info": {
   "codemirror_mode": {
    "name": "ipython",
    "version": 3
   },
   "file_extension": ".py",
   "mimetype": "text/x-python",
   "name": "python",
   "nbconvert_exporter": "python",
   "pygments_lexer": "ipython3",
   "version": "3.9.2"
  }
 },
 "nbformat": 4,
 "nbformat_minor": 5
}
